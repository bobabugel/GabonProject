{
 "cells": [
  {
   "cell_type": "markdown",
   "metadata": {
    "scrolled": true
   },
   "source": [
    "#geopandas "
   ]
  },
  {
   "cell_type": "markdown",
   "metadata": {},
   "source": [
    "#https://lvis.gsfc.nasa.gov/workshop/LVIS_QGIS_Tutorial_Gabon.pdf"
   ]
  },
  {
   "cell_type": "code",
   "execution_count": 35,
   "metadata": {},
   "outputs": [],
   "source": [
    "import matplotlib.pyplot \n",
    "import numpy as np\n",
    "import pylab\n",
    "import pandas as pd\n",
    "import h5py\n",
    "import geopandas as gpd\n",
    "from shapely.geometry import *\n",
    "from geopandas.geoseries import *"
   ]
  },
  {
   "cell_type": "markdown",
   "metadata": {},
   "source": [
    "Bring all the data data in "
   ]
  },
  {
   "cell_type": "code",
   "execution_count": 36,
   "metadata": {},
   "outputs": [],
   "source": [
    "# Geopandas "
   ]
  },
  {
   "cell_type": "code",
   "execution_count": 37,
   "metadata": {},
   "outputs": [],
   "source": [
    "Trees_RH = gpd.read_file(r'D:\\Gabon_Lidar\\DATA\\shp\\Trees_Closest.shp')"
   ]
  },
  {
   "cell_type": "code",
   "execution_count": 38,
   "metadata": {},
   "outputs": [],
   "source": [
    "#Changing CRS \n",
    "Trees_RH_4326= Trees_RH.to_crs(epsg=4326)"
   ]
  },
  {
   "cell_type": "code",
   "execution_count": 39,
   "metadata": {},
   "outputs": [
    {
     "data": {
      "text/plain": [
       "Index(['Join_Count', 'D_LVIS', 'TARGET_FID', 'plot', 'subplot', 'tree_date',\n",
       "       'family', 'species', 'wsg', 'tree', 'stem', 'epsg', 'x', 'y', 'status',\n",
       "       'allom_key', 'a_stem', 'h_t', 'h_t_mod', 'd_stem', 'd_stem_val', 'd_ht',\n",
       "       'm_agb', 'POINT_X', 'POINT_Y', 'LFID', 'SHOTNUMBER', 'TIME', 'GLON',\n",
       "       'GLAT', 'ZG', 'HLON', 'HLAT', 'ZH', 'TLON', 'TLAT', 'ZT', 'RH10',\n",
       "       'RH15', 'RH20', 'RH25', 'RH30', 'RH35', 'RH40', 'RH45', 'RH50', 'RH55',\n",
       "       'RH60', 'RH65', 'RH70', 'RH75', 'RH80', 'RH85', 'RH90', 'RH95', 'RH96',\n",
       "       'RH97', 'RH98', 'RH99', 'RH100', 'AZIMUTH', 'INCIDENTAN', 'RANGE',\n",
       "       'COMPLEXITY', 'CHANNEL_L1', 'CHANNEL_ZG', 'CHANNEL_RH', 'POINT_X_1',\n",
       "       'POINT_Y_1', 'geometry'],\n",
       "      dtype='object')"
      ]
     },
     "execution_count": 39,
     "metadata": {},
     "output_type": "execute_result"
    }
   ],
   "source": [
    "Trees_RH.columns"
   ]
  },
  {
   "cell_type": "code",
   "execution_count": 40,
   "metadata": {
    "scrolled": true
   },
   "outputs": [
    {
     "data": {
      "text/html": [
       "<div>\n",
       "<style scoped>\n",
       "    .dataframe tbody tr th:only-of-type {\n",
       "        vertical-align: middle;\n",
       "    }\n",
       "\n",
       "    .dataframe tbody tr th {\n",
       "        vertical-align: top;\n",
       "    }\n",
       "\n",
       "    .dataframe thead th {\n",
       "        text-align: right;\n",
       "    }\n",
       "</style>\n",
       "<table border=\"1\" class=\"dataframe\">\n",
       "  <thead>\n",
       "    <tr style=\"text-align: right;\">\n",
       "      <th></th>\n",
       "      <th>Join_Count</th>\n",
       "      <th>D_LVIS</th>\n",
       "      <th>TARGET_FID</th>\n",
       "      <th>plot</th>\n",
       "      <th>subplot</th>\n",
       "      <th>tree_date</th>\n",
       "      <th>family</th>\n",
       "      <th>species</th>\n",
       "      <th>wsg</th>\n",
       "      <th>tree</th>\n",
       "      <th>...</th>\n",
       "      <th>AZIMUTH</th>\n",
       "      <th>INCIDENTAN</th>\n",
       "      <th>RANGE</th>\n",
       "      <th>COMPLEXITY</th>\n",
       "      <th>CHANNEL_L1</th>\n",
       "      <th>CHANNEL_ZG</th>\n",
       "      <th>CHANNEL_RH</th>\n",
       "      <th>POINT_X_1</th>\n",
       "      <th>POINT_Y_1</th>\n",
       "      <th>geometry</th>\n",
       "    </tr>\n",
       "  </thead>\n",
       "  <tbody>\n",
       "    <tr>\n",
       "      <th>0</th>\n",
       "      <td>1</td>\n",
       "      <td>6.424267</td>\n",
       "      <td>1</td>\n",
       "      <td>NASA01</td>\n",
       "      <td>1</td>\n",
       "      <td>2016-02-03</td>\n",
       "      <td>Euphorbiaceae</td>\n",
       "      <td>Macaranga sp.</td>\n",
       "      <td>0.381789</td>\n",
       "      <td>6501</td>\n",
       "      <td>...</td>\n",
       "      <td>3.37</td>\n",
       "      <td>4.183</td>\n",
       "      <td>7703.11</td>\n",
       "      <td>-999</td>\n",
       "      <td>1</td>\n",
       "      <td>1</td>\n",
       "      <td>1</td>\n",
       "      <td>9.32195</td>\n",
       "      <td>0.554779</td>\n",
       "      <td>POINT (535829.680 61322.481)</td>\n",
       "    </tr>\n",
       "    <tr>\n",
       "      <th>1</th>\n",
       "      <td>1</td>\n",
       "      <td>7.669181</td>\n",
       "      <td>2</td>\n",
       "      <td>NASA01</td>\n",
       "      <td>1</td>\n",
       "      <td>2016-02-03</td>\n",
       "      <td>Euphorbiaceae</td>\n",
       "      <td>Macaranga sp.</td>\n",
       "      <td>0.381789</td>\n",
       "      <td>6502</td>\n",
       "      <td>...</td>\n",
       "      <td>3.37</td>\n",
       "      <td>4.183</td>\n",
       "      <td>7703.11</td>\n",
       "      <td>-999</td>\n",
       "      <td>1</td>\n",
       "      <td>1</td>\n",
       "      <td>1</td>\n",
       "      <td>9.32195</td>\n",
       "      <td>0.554779</td>\n",
       "      <td>POINT (535827.853 61327.054)</td>\n",
       "    </tr>\n",
       "    <tr>\n",
       "      <th>2</th>\n",
       "      <td>1</td>\n",
       "      <td>9.654939</td>\n",
       "      <td>3</td>\n",
       "      <td>NASA01</td>\n",
       "      <td>1</td>\n",
       "      <td>2016-02-03</td>\n",
       "      <td>Euphorbiaceae</td>\n",
       "      <td>Macaranga sp.</td>\n",
       "      <td>0.381789</td>\n",
       "      <td>6503</td>\n",
       "      <td>...</td>\n",
       "      <td>3.37</td>\n",
       "      <td>4.183</td>\n",
       "      <td>7703.11</td>\n",
       "      <td>-999</td>\n",
       "      <td>1</td>\n",
       "      <td>1</td>\n",
       "      <td>1</td>\n",
       "      <td>9.32195</td>\n",
       "      <td>0.554779</td>\n",
       "      <td>POINT (535829.889 61327.977)</td>\n",
       "    </tr>\n",
       "  </tbody>\n",
       "</table>\n",
       "<p>3 rows × 70 columns</p>\n",
       "</div>"
      ],
      "text/plain": [
       "   Join_Count    D_LVIS  TARGET_FID    plot  subplot   tree_date  \\\n",
       "0           1  6.424267           1  NASA01        1  2016-02-03   \n",
       "1           1  7.669181           2  NASA01        1  2016-02-03   \n",
       "2           1  9.654939           3  NASA01        1  2016-02-03   \n",
       "\n",
       "          family        species       wsg  tree  ...  AZIMUTH  INCIDENTAN  \\\n",
       "0  Euphorbiaceae  Macaranga sp.  0.381789  6501  ...     3.37       4.183   \n",
       "1  Euphorbiaceae  Macaranga sp.  0.381789  6502  ...     3.37       4.183   \n",
       "2  Euphorbiaceae  Macaranga sp.  0.381789  6503  ...     3.37       4.183   \n",
       "\n",
       "     RANGE  COMPLEXITY  CHANNEL_L1  CHANNEL_ZG  CHANNEL_RH  POINT_X_1  \\\n",
       "0  7703.11        -999           1           1           1    9.32195   \n",
       "1  7703.11        -999           1           1           1    9.32195   \n",
       "2  7703.11        -999           1           1           1    9.32195   \n",
       "\n",
       "   POINT_Y_1                      geometry  \n",
       "0   0.554779  POINT (535829.680 61322.481)  \n",
       "1   0.554779  POINT (535827.853 61327.054)  \n",
       "2   0.554779  POINT (535829.889 61327.977)  \n",
       "\n",
       "[3 rows x 70 columns]"
      ]
     },
     "execution_count": 40,
     "metadata": {},
     "output_type": "execute_result"
    }
   ],
   "source": [
    "Trees_RH.head(3)"
   ]
  },
  {
   "cell_type": "markdown",
   "metadata": {},
   "source": [
    "##### Finding AGB"
   ]
  },
  {
   "cell_type": "markdown",
   "metadata": {},
   "source": [
    "Aboveground Biomass(AGB) is the amount of living matter above the ground. The foumulat bellow is from \"Comparison of Small- and Large-Footprint Lidar Characterization of Tropical Forest Aboveground Structure and Biomass: A Case Study From Central Gabon (Silva, et al. 2018)\" in it they use AGB (kg) = 0.0673 × (ρ × dbh2 × ht)0.976 they which is Chave formula (Chave , et al. 2015)"
   ]
  },
  {
   "cell_type": "markdown",
   "metadata": {},
   "source": [
    "AGB (kg) = 0.0673 × (ρ × dbh^2 × ht)^0.976"
   ]
  },
  {
   "cell_type": "markdown",
   "metadata": {},
   "source": [
    "were dbh is in cm, ht is in m, and ρ is the wood density in g·cm−3.\n",
    "The total AGB at plot level was then obtained by summing\n",
    "individual stem biomass estimates and converting it to Mg·ha−1.\n"
   ]
  },
  {
   "cell_type": "markdown",
   "metadata": {},
   "source": [
    "Returning to out formula we need the find the ρ which is densentity. The can be found using the "
   ]
  },
  {
   "cell_type": "markdown",
   "metadata": {},
   "source": [
    "AGB (kg) = 0.0673 × (ρ × dbh^2 × ht)^0.976\n",
    "\n",
    "were dbh is in cm, ht is in m, and ρ is the wood density in g·cm−3. The total AGB at plot level was then obtained by summing individual stem biomass estimates and converting it to Mg·ha−1."
   ]
  },
  {
   "cell_type": "markdown",
   "metadata": {},
   "source": [
    "The wood density came from the following two papers "
   ]
  },
  {
   "cell_type": "markdown",
   "metadata": {},
   "source": [
    "\n",
    "[1] J. Chave, D. A. Coomes, S. Jansen, S. L. Lewis, N. G. Swenson,\n",
    "and A. E. Zanne, “Towards a worldwide wood economics spectrum,”\n",
    "Ecol. Lett., vol. 12, no. 4, pp. 351–366, 2009. [Online]. Available:\n",
    "https://doi.org/10.1111/j.1461-0248.2009.01285.x\n",
    "[42] A. E. Zanne et al., Data from: Towards a Worldwide Wood Economics Spectrum, Dryad Digital Repository, 2009. [Online]. Available:\n",
    "https://doi.org/10.5061/dryad.234"
   ]
  },
  {
   "cell_type": "markdown",
   "metadata": {},
   "source": [
    "This is bringing in the would density database for the ρ"
   ]
  },
  {
   "cell_type": "markdown",
   "metadata": {},
   "source": [
    "The would Density in data set is wsg field and it comes from the data set listed above "
   ]
  },
  {
   "cell_type": "markdown",
   "metadata": {},
   "source": [
    "I will be going foward with 0.228 because that is the median value "
   ]
  },
  {
   "cell_type": "markdown",
   "metadata": {},
   "source": [
    "AGB (kg) = 0.0673 × (0.228 × dbh^2 × ht)^0.976\n"
   ]
  },
  {
   "cell_type": "markdown",
   "metadata": {},
   "source": [
    "the next step is to find the hieght. to find the Height I will be using the LVIS for in read that is found next to the "
   ]
  },
  {
   "cell_type": "code",
   "execution_count": 41,
   "metadata": {},
   "outputs": [],
   "source": [
    "#LVISshot = LVIS[(LVIS.LFID == 1657455174)]"
   ]
  },
  {
   "cell_type": "code",
   "execution_count": null,
   "metadata": {},
   "outputs": [],
   "source": []
  },
  {
   "cell_type": "code",
   "execution_count": 42,
   "metadata": {},
   "outputs": [],
   "source": [
    "Trees_RH['RA_AGB_RHh_t_mod'] = (0.0673*((Trees_RH.wsg)*(Trees_RH.a_stem)*(Trees_RH.h_t_mod)**0.976))"
   ]
  },
  {
   "cell_type": "code",
   "execution_count": 43,
   "metadata": {},
   "outputs": [
    {
     "data": {
      "text/plain": [
       "<bound method NDFrame.head of       Join_Count     D_LVIS  TARGET_FID    plot  subplot   tree_date  \\\n",
       "0              1   6.424267           1  NASA01        1  2016-02-03   \n",
       "1              1   7.669181           2  NASA01        1  2016-02-03   \n",
       "2              1   9.654939           3  NASA01        1  2016-02-03   \n",
       "3              1  10.448032           4  NASA01        1  2016-02-03   \n",
       "4              1   7.489962           5  NASA01        1  2016-02-03   \n",
       "...          ...        ...         ...     ...      ...         ...   \n",
       "6627           1   4.794827        6628  NASA23       14  2016-02-21   \n",
       "6628           1   4.721321        6629  NASA23       14  2016-02-21   \n",
       "6629           1   3.696850        6630  NASA23       14  2016-02-21   \n",
       "6630           1   0.323598        6631  NASA23       14  2016-02-21   \n",
       "6631           1   3.057894        6632  NASA23       14  2016-02-21   \n",
       "\n",
       "               family                species       wsg  tree  ...  INCIDENTAN  \\\n",
       "0       Euphorbiaceae          Macaranga sp.  0.381789  6501  ...       4.183   \n",
       "1       Euphorbiaceae          Macaranga sp.  0.381789  6502  ...       4.183   \n",
       "2       Euphorbiaceae          Macaranga sp.  0.381789  6503  ...       4.183   \n",
       "3       Euphorbiaceae          Macaranga sp.  0.381789  6504  ...       4.183   \n",
       "4       Euphorbiaceae          Macaranga sp.  0.381789  6505  ...       4.183   \n",
       "...               ...                    ...       ...   ...  ...         ...   \n",
       "6627               NA                     NA  0.534143  3903  ...       3.352   \n",
       "6628               NA                     NA  0.534143  3904  ...       3.348   \n",
       "6629    Myristicaceae  Pycnanthus angolensis  0.408900  3905  ...       3.348   \n",
       "6630  Melastomataceae     Dichaetanthera sp.  0.609414  3906  ...       3.352   \n",
       "6631               NA                     NA  0.534143  3907  ...       3.348   \n",
       "\n",
       "        RANGE  COMPLEXITY  CHANNEL_L1  CHANNEL_ZG  CHANNEL_RH  POINT_X_1  \\\n",
       "0     7703.11        -999           1           1           1   9.321950   \n",
       "1     7703.11        -999           1           1           1   9.321950   \n",
       "2     7703.11        -999           1           1           1   9.321950   \n",
       "3     7703.11        -999           1           1           1   9.321950   \n",
       "4     7703.11        -999           1           1           1   9.321950   \n",
       "...       ...         ...         ...         ...         ...        ...   \n",
       "6627  7719.81        -999           1           1           1   9.316560   \n",
       "6628  7719.21        -999           1           1           1   9.316476   \n",
       "6629  7719.21        -999           1           1           1   9.316476   \n",
       "6630  7719.81        -999           1           1           1   9.316560   \n",
       "6631  7719.21        -999           1           1           1   9.316476   \n",
       "\n",
       "      POINT_Y_1                      geometry  RA_AGB_RHh_t_mod  \n",
       "0      0.554779  POINT (535829.680 61322.481)          0.003277  \n",
       "1      0.554779  POINT (535827.853 61327.054)          0.002234  \n",
       "2      0.554779  POINT (535829.889 61327.977)          0.002636  \n",
       "3      0.554779  POINT (535829.928 61328.976)          0.003558  \n",
       "4      0.554779  POINT (535828.814 61326.016)          0.002636  \n",
       "...         ...                           ...               ...  \n",
       "6627   0.545585  POINT (535219.803 60301.826)          0.211827  \n",
       "6628   0.545584  POINT (535218.832 60302.614)          0.230236  \n",
       "6629   0.545584  POINT (535217.843 60302.901)          0.008269  \n",
       "6630   0.545585  POINT (535223.895 60304.172)          0.004601  \n",
       "6631   0.545584  POINT (535211.404 60304.648)          0.058601  \n",
       "\n",
       "[6632 rows x 71 columns]>"
      ]
     },
     "execution_count": 43,
     "metadata": {},
     "output_type": "execute_result"
    }
   ],
   "source": [
    "Trees_RH.head"
   ]
  },
  {
   "cell_type": "markdown",
   "metadata": {},
   "source": [
    "AGB (kg) = 0.0673 × (ρ × dbh^2 × ht)^0.976"
   ]
  },
  {
   "cell_type": "markdown",
   "metadata": {},
   "source": [
    "RH100"
   ]
  },
  {
   "cell_type": "code",
   "execution_count": 44,
   "metadata": {},
   "outputs": [],
   "source": [
    "Trees_RH['RA_AGB_RHh_RH100'] = (0.0673*((Trees_RH.wsg)*(Trees_RH.a_stem)*(Trees_RH.RH100)**0.976))"
   ]
  },
  {
   "cell_type": "markdown",
   "metadata": {},
   "source": [
    "RH75"
   ]
  },
  {
   "cell_type": "code",
   "execution_count": 45,
   "metadata": {},
   "outputs": [],
   "source": [
    "Trees_RH['RA_AGB_RH75'] = (0.0673*((Trees_RH.wsg)*(Trees_RH.a_stem)*(Trees_RH.RH75)**0.976))"
   ]
  },
  {
   "cell_type": "markdown",
   "metadata": {},
   "source": [
    "RH50"
   ]
  },
  {
   "cell_type": "code",
   "execution_count": 46,
   "metadata": {},
   "outputs": [],
   "source": [
    "Trees_RH['RA_AGB_RH50'] = (0.0673*((Trees_RH.wsg)*(Trees_RH.a_stem)*(Trees_RH.RH50)**0.976))"
   ]
  },
  {
   "cell_type": "markdown",
   "metadata": {},
   "source": [
    "RH25"
   ]
  },
  {
   "cell_type": "code",
   "execution_count": 47,
   "metadata": {},
   "outputs": [],
   "source": [
    "Trees_RH['RA_AGB_RH125'] = (0.0673*((Trees_RH.wsg)*(Trees_RH.a_stem)*(Trees_RH.RH25)**0.976))"
   ]
  },
  {
   "cell_type": "code",
   "execution_count": 48,
   "metadata": {},
   "outputs": [
    {
     "data": {
      "text/html": [
       "<div>\n",
       "<style scoped>\n",
       "    .dataframe tbody tr th:only-of-type {\n",
       "        vertical-align: middle;\n",
       "    }\n",
       "\n",
       "    .dataframe tbody tr th {\n",
       "        vertical-align: top;\n",
       "    }\n",
       "\n",
       "    .dataframe thead th {\n",
       "        text-align: right;\n",
       "    }\n",
       "</style>\n",
       "<table border=\"1\" class=\"dataframe\">\n",
       "  <thead>\n",
       "    <tr style=\"text-align: right;\">\n",
       "      <th></th>\n",
       "      <th>Join_Count</th>\n",
       "      <th>D_LVIS</th>\n",
       "      <th>TARGET_FID</th>\n",
       "      <th>plot</th>\n",
       "      <th>subplot</th>\n",
       "      <th>tree_date</th>\n",
       "      <th>family</th>\n",
       "      <th>species</th>\n",
       "      <th>wsg</th>\n",
       "      <th>tree</th>\n",
       "      <th>...</th>\n",
       "      <th>CHANNEL_ZG</th>\n",
       "      <th>CHANNEL_RH</th>\n",
       "      <th>POINT_X_1</th>\n",
       "      <th>POINT_Y_1</th>\n",
       "      <th>geometry</th>\n",
       "      <th>RA_AGB_RHh_t_mod</th>\n",
       "      <th>RA_AGB_RHh_RH100</th>\n",
       "      <th>RA_AGB_RH75</th>\n",
       "      <th>RA_AGB_RH50</th>\n",
       "      <th>RA_AGB_RH125</th>\n",
       "    </tr>\n",
       "  </thead>\n",
       "  <tbody>\n",
       "    <tr>\n",
       "      <th>0</th>\n",
       "      <td>1</td>\n",
       "      <td>6.424267</td>\n",
       "      <td>1</td>\n",
       "      <td>NASA01</td>\n",
       "      <td>1</td>\n",
       "      <td>2016-02-03</td>\n",
       "      <td>Euphorbiaceae</td>\n",
       "      <td>Macaranga sp.</td>\n",
       "      <td>0.381789</td>\n",
       "      <td>6501</td>\n",
       "      <td>...</td>\n",
       "      <td>1</td>\n",
       "      <td>1</td>\n",
       "      <td>9.321950</td>\n",
       "      <td>0.554779</td>\n",
       "      <td>POINT (535829.680 61322.481)</td>\n",
       "      <td>0.003277</td>\n",
       "      <td>0.003906</td>\n",
       "      <td>0.002116</td>\n",
       "      <td>0.001458</td>\n",
       "      <td>0.000628</td>\n",
       "    </tr>\n",
       "    <tr>\n",
       "      <th>1</th>\n",
       "      <td>1</td>\n",
       "      <td>7.669181</td>\n",
       "      <td>2</td>\n",
       "      <td>NASA01</td>\n",
       "      <td>1</td>\n",
       "      <td>2016-02-03</td>\n",
       "      <td>Euphorbiaceae</td>\n",
       "      <td>Macaranga sp.</td>\n",
       "      <td>0.381789</td>\n",
       "      <td>6502</td>\n",
       "      <td>...</td>\n",
       "      <td>1</td>\n",
       "      <td>1</td>\n",
       "      <td>9.321950</td>\n",
       "      <td>0.554779</td>\n",
       "      <td>POINT (535827.853 61327.054)</td>\n",
       "      <td>0.002234</td>\n",
       "      <td>0.002870</td>\n",
       "      <td>0.001555</td>\n",
       "      <td>0.001071</td>\n",
       "      <td>0.000461</td>\n",
       "    </tr>\n",
       "    <tr>\n",
       "      <th>2</th>\n",
       "      <td>1</td>\n",
       "      <td>9.654939</td>\n",
       "      <td>3</td>\n",
       "      <td>NASA01</td>\n",
       "      <td>1</td>\n",
       "      <td>2016-02-03</td>\n",
       "      <td>Euphorbiaceae</td>\n",
       "      <td>Macaranga sp.</td>\n",
       "      <td>0.381789</td>\n",
       "      <td>6503</td>\n",
       "      <td>...</td>\n",
       "      <td>1</td>\n",
       "      <td>1</td>\n",
       "      <td>9.321950</td>\n",
       "      <td>0.554779</td>\n",
       "      <td>POINT (535829.889 61327.977)</td>\n",
       "      <td>0.002636</td>\n",
       "      <td>0.003278</td>\n",
       "      <td>0.001776</td>\n",
       "      <td>0.001223</td>\n",
       "      <td>0.000527</td>\n",
       "    </tr>\n",
       "    <tr>\n",
       "      <th>3</th>\n",
       "      <td>1</td>\n",
       "      <td>10.448032</td>\n",
       "      <td>4</td>\n",
       "      <td>NASA01</td>\n",
       "      <td>1</td>\n",
       "      <td>2016-02-03</td>\n",
       "      <td>Euphorbiaceae</td>\n",
       "      <td>Macaranga sp.</td>\n",
       "      <td>0.381789</td>\n",
       "      <td>6504</td>\n",
       "      <td>...</td>\n",
       "      <td>1</td>\n",
       "      <td>1</td>\n",
       "      <td>9.321950</td>\n",
       "      <td>0.554779</td>\n",
       "      <td>POINT (535829.928 61328.976)</td>\n",
       "      <td>0.003558</td>\n",
       "      <td>0.004173</td>\n",
       "      <td>0.002261</td>\n",
       "      <td>0.001557</td>\n",
       "      <td>0.000671</td>\n",
       "    </tr>\n",
       "    <tr>\n",
       "      <th>4</th>\n",
       "      <td>1</td>\n",
       "      <td>7.489962</td>\n",
       "      <td>5</td>\n",
       "      <td>NASA01</td>\n",
       "      <td>1</td>\n",
       "      <td>2016-02-03</td>\n",
       "      <td>Euphorbiaceae</td>\n",
       "      <td>Macaranga sp.</td>\n",
       "      <td>0.381789</td>\n",
       "      <td>6505</td>\n",
       "      <td>...</td>\n",
       "      <td>1</td>\n",
       "      <td>1</td>\n",
       "      <td>9.321950</td>\n",
       "      <td>0.554779</td>\n",
       "      <td>POINT (535828.814 61326.016)</td>\n",
       "      <td>0.002636</td>\n",
       "      <td>0.003278</td>\n",
       "      <td>0.001776</td>\n",
       "      <td>0.001223</td>\n",
       "      <td>0.000527</td>\n",
       "    </tr>\n",
       "    <tr>\n",
       "      <th>...</th>\n",
       "      <td>...</td>\n",
       "      <td>...</td>\n",
       "      <td>...</td>\n",
       "      <td>...</td>\n",
       "      <td>...</td>\n",
       "      <td>...</td>\n",
       "      <td>...</td>\n",
       "      <td>...</td>\n",
       "      <td>...</td>\n",
       "      <td>...</td>\n",
       "      <td>...</td>\n",
       "      <td>...</td>\n",
       "      <td>...</td>\n",
       "      <td>...</td>\n",
       "      <td>...</td>\n",
       "      <td>...</td>\n",
       "      <td>...</td>\n",
       "      <td>...</td>\n",
       "      <td>...</td>\n",
       "      <td>...</td>\n",
       "      <td>...</td>\n",
       "    </tr>\n",
       "    <tr>\n",
       "      <th>6627</th>\n",
       "      <td>1</td>\n",
       "      <td>4.794827</td>\n",
       "      <td>6628</td>\n",
       "      <td>NASA23</td>\n",
       "      <td>14</td>\n",
       "      <td>2016-02-21</td>\n",
       "      <td>NA</td>\n",
       "      <td>NA</td>\n",
       "      <td>0.534143</td>\n",
       "      <td>3903</td>\n",
       "      <td>...</td>\n",
       "      <td>1</td>\n",
       "      <td>1</td>\n",
       "      <td>9.316560</td>\n",
       "      <td>0.545585</td>\n",
       "      <td>POINT (535219.803 60301.826)</td>\n",
       "      <td>0.211827</td>\n",
       "      <td>0.060565</td>\n",
       "      <td>0.007218</td>\n",
       "      <td>NaN</td>\n",
       "      <td>NaN</td>\n",
       "    </tr>\n",
       "    <tr>\n",
       "      <th>6628</th>\n",
       "      <td>1</td>\n",
       "      <td>4.721321</td>\n",
       "      <td>6629</td>\n",
       "      <td>NASA23</td>\n",
       "      <td>14</td>\n",
       "      <td>2016-02-21</td>\n",
       "      <td>NA</td>\n",
       "      <td>NA</td>\n",
       "      <td>0.534143</td>\n",
       "      <td>3904</td>\n",
       "      <td>...</td>\n",
       "      <td>1</td>\n",
       "      <td>1</td>\n",
       "      <td>9.316476</td>\n",
       "      <td>0.545584</td>\n",
       "      <td>POINT (535218.832 60302.614)</td>\n",
       "      <td>0.230236</td>\n",
       "      <td>0.063456</td>\n",
       "      <td>0.007718</td>\n",
       "      <td>NaN</td>\n",
       "      <td>NaN</td>\n",
       "    </tr>\n",
       "    <tr>\n",
       "      <th>6629</th>\n",
       "      <td>1</td>\n",
       "      <td>3.696850</td>\n",
       "      <td>6630</td>\n",
       "      <td>NASA23</td>\n",
       "      <td>14</td>\n",
       "      <td>2016-02-21</td>\n",
       "      <td>Myristicaceae</td>\n",
       "      <td>Pycnanthus angolensis</td>\n",
       "      <td>0.408900</td>\n",
       "      <td>3905</td>\n",
       "      <td>...</td>\n",
       "      <td>1</td>\n",
       "      <td>1</td>\n",
       "      <td>9.316476</td>\n",
       "      <td>0.545584</td>\n",
       "      <td>POINT (535217.843 60302.901)</td>\n",
       "      <td>0.008269</td>\n",
       "      <td>0.004133</td>\n",
       "      <td>0.000503</td>\n",
       "      <td>NaN</td>\n",
       "      <td>NaN</td>\n",
       "    </tr>\n",
       "    <tr>\n",
       "      <th>6630</th>\n",
       "      <td>1</td>\n",
       "      <td>0.323598</td>\n",
       "      <td>6631</td>\n",
       "      <td>NASA23</td>\n",
       "      <td>14</td>\n",
       "      <td>2016-02-21</td>\n",
       "      <td>Melastomataceae</td>\n",
       "      <td>Dichaetanthera sp.</td>\n",
       "      <td>0.609414</td>\n",
       "      <td>3906</td>\n",
       "      <td>...</td>\n",
       "      <td>1</td>\n",
       "      <td>1</td>\n",
       "      <td>9.316560</td>\n",
       "      <td>0.545585</td>\n",
       "      <td>POINT (535223.895 60304.172)</td>\n",
       "      <td>0.004601</td>\n",
       "      <td>0.002844</td>\n",
       "      <td>0.000339</td>\n",
       "      <td>NaN</td>\n",
       "      <td>NaN</td>\n",
       "    </tr>\n",
       "    <tr>\n",
       "      <th>6631</th>\n",
       "      <td>1</td>\n",
       "      <td>3.057894</td>\n",
       "      <td>6632</td>\n",
       "      <td>NASA23</td>\n",
       "      <td>14</td>\n",
       "      <td>2016-02-21</td>\n",
       "      <td>NA</td>\n",
       "      <td>NA</td>\n",
       "      <td>0.534143</td>\n",
       "      <td>3907</td>\n",
       "      <td>...</td>\n",
       "      <td>1</td>\n",
       "      <td>1</td>\n",
       "      <td>9.316476</td>\n",
       "      <td>0.545584</td>\n",
       "      <td>POINT (535211.404 60304.648)</td>\n",
       "      <td>0.058601</td>\n",
       "      <td>0.021080</td>\n",
       "      <td>0.002564</td>\n",
       "      <td>NaN</td>\n",
       "      <td>NaN</td>\n",
       "    </tr>\n",
       "  </tbody>\n",
       "</table>\n",
       "<p>6632 rows × 75 columns</p>\n",
       "</div>"
      ],
      "text/plain": [
       "      Join_Count     D_LVIS  TARGET_FID    plot  subplot   tree_date  \\\n",
       "0              1   6.424267           1  NASA01        1  2016-02-03   \n",
       "1              1   7.669181           2  NASA01        1  2016-02-03   \n",
       "2              1   9.654939           3  NASA01        1  2016-02-03   \n",
       "3              1  10.448032           4  NASA01        1  2016-02-03   \n",
       "4              1   7.489962           5  NASA01        1  2016-02-03   \n",
       "...          ...        ...         ...     ...      ...         ...   \n",
       "6627           1   4.794827        6628  NASA23       14  2016-02-21   \n",
       "6628           1   4.721321        6629  NASA23       14  2016-02-21   \n",
       "6629           1   3.696850        6630  NASA23       14  2016-02-21   \n",
       "6630           1   0.323598        6631  NASA23       14  2016-02-21   \n",
       "6631           1   3.057894        6632  NASA23       14  2016-02-21   \n",
       "\n",
       "               family                species       wsg  tree  ...  CHANNEL_ZG  \\\n",
       "0       Euphorbiaceae          Macaranga sp.  0.381789  6501  ...           1   \n",
       "1       Euphorbiaceae          Macaranga sp.  0.381789  6502  ...           1   \n",
       "2       Euphorbiaceae          Macaranga sp.  0.381789  6503  ...           1   \n",
       "3       Euphorbiaceae          Macaranga sp.  0.381789  6504  ...           1   \n",
       "4       Euphorbiaceae          Macaranga sp.  0.381789  6505  ...           1   \n",
       "...               ...                    ...       ...   ...  ...         ...   \n",
       "6627               NA                     NA  0.534143  3903  ...           1   \n",
       "6628               NA                     NA  0.534143  3904  ...           1   \n",
       "6629    Myristicaceae  Pycnanthus angolensis  0.408900  3905  ...           1   \n",
       "6630  Melastomataceae     Dichaetanthera sp.  0.609414  3906  ...           1   \n",
       "6631               NA                     NA  0.534143  3907  ...           1   \n",
       "\n",
       "      CHANNEL_RH  POINT_X_1  POINT_Y_1                      geometry  \\\n",
       "0              1   9.321950   0.554779  POINT (535829.680 61322.481)   \n",
       "1              1   9.321950   0.554779  POINT (535827.853 61327.054)   \n",
       "2              1   9.321950   0.554779  POINT (535829.889 61327.977)   \n",
       "3              1   9.321950   0.554779  POINT (535829.928 61328.976)   \n",
       "4              1   9.321950   0.554779  POINT (535828.814 61326.016)   \n",
       "...          ...        ...        ...                           ...   \n",
       "6627           1   9.316560   0.545585  POINT (535219.803 60301.826)   \n",
       "6628           1   9.316476   0.545584  POINT (535218.832 60302.614)   \n",
       "6629           1   9.316476   0.545584  POINT (535217.843 60302.901)   \n",
       "6630           1   9.316560   0.545585  POINT (535223.895 60304.172)   \n",
       "6631           1   9.316476   0.545584  POINT (535211.404 60304.648)   \n",
       "\n",
       "      RA_AGB_RHh_t_mod  RA_AGB_RHh_RH100  RA_AGB_RH75  RA_AGB_RH50  \\\n",
       "0             0.003277          0.003906     0.002116     0.001458   \n",
       "1             0.002234          0.002870     0.001555     0.001071   \n",
       "2             0.002636          0.003278     0.001776     0.001223   \n",
       "3             0.003558          0.004173     0.002261     0.001557   \n",
       "4             0.002636          0.003278     0.001776     0.001223   \n",
       "...                ...               ...          ...          ...   \n",
       "6627          0.211827          0.060565     0.007218          NaN   \n",
       "6628          0.230236          0.063456     0.007718          NaN   \n",
       "6629          0.008269          0.004133     0.000503          NaN   \n",
       "6630          0.004601          0.002844     0.000339          NaN   \n",
       "6631          0.058601          0.021080     0.002564          NaN   \n",
       "\n",
       "      RA_AGB_RH125  \n",
       "0         0.000628  \n",
       "1         0.000461  \n",
       "2         0.000527  \n",
       "3         0.000671  \n",
       "4         0.000527  \n",
       "...            ...  \n",
       "6627           NaN  \n",
       "6628           NaN  \n",
       "6629           NaN  \n",
       "6630           NaN  \n",
       "6631           NaN  \n",
       "\n",
       "[6632 rows x 75 columns]"
      ]
     },
     "execution_count": 48,
     "metadata": {},
     "output_type": "execute_result"
    }
   ],
   "source": [
    "Trees_RH"
   ]
  },
  {
   "cell_type": "code",
   "execution_count": null,
   "metadata": {},
   "outputs": [],
   "source": []
  },
  {
   "cell_type": "markdown",
   "metadata": {},
   "source": [
    "#matplotlib.pyplot.scatter(LVIS_in_subplots13_22.GLON,LVIS_in_subplots13_22.ZG,color='r') \n",
    "matplotlib.pyplot.scatter(LVIS_in_subplots13_22.GLON,LVIS_in_subplots13_22.RH25,color='orange') \n",
    "matplotlib.pyplot.scatter(LVIS_in_subplots13_22.GLON,LVIS_in_subplots13_22.RH50,color='y')\n",
    "matplotlib.pyplot.scatter(LVIS_in_subplots13_22.GLON,LVIS_in_subplots13_22.RH75,color='g')\n",
    "#matplotlib.pyplot.scatter(LVIS_in_subplots13_22.GLON,LVIS_in_subplots13_22.ZT,color='b')\n",
    "matplotlib.pyplot.show()"
   ]
  },
  {
   "cell_type": "code",
   "execution_count": null,
   "metadata": {},
   "outputs": [],
   "source": []
  },
  {
   "cell_type": "code",
   "execution_count": null,
   "metadata": {},
   "outputs": [],
   "source": []
  },
  {
   "cell_type": "code",
   "execution_count": null,
   "metadata": {},
   "outputs": [],
   "source": []
  },
  {
   "cell_type": "markdown",
   "metadata": {},
   "source": [
    "AGB (kg) = 0.0673 × (ρ × dbh^2 × ht)^0.976"
   ]
  },
  {
   "cell_type": "code",
   "execution_count": 49,
   "metadata": {},
   "outputs": [],
   "source": [
    "#https://automating-gis-processes.github.io/2017/lessons/L3/nearest-neighbour.html"
   ]
  },
  {
   "cell_type": "code",
   "execution_count": 50,
   "metadata": {},
   "outputs": [],
   "source": [
    "#Trees_in_subplots13_22csv = Trees_in_subplots13_22.to_csv(r'D:\\Gabon_Lidar\\DATA\\pandas_csv\\Trees_in_subplots13_22.csv')"
   ]
  },
  {
   "cell_type": "code",
   "execution_count": 51,
   "metadata": {},
   "outputs": [],
   "source": [
    "#LVIS_in_subplots13_22csv = LVIS_in_subplots13_22.to_csv(r'D:\\Gabon_Lidar\\DATA\\pandas_csv\\LVIS_in_subplots13_22.csv')"
   ]
  },
  {
   "cell_type": "code",
   "execution_count": 52,
   "metadata": {},
   "outputs": [],
   "source": [
    "#Trees_in_subplots13_22 = pd.read_csv (r'D:\\Gabon_Lidar\\DATA\\pandas_csv\\Trees_in_subplots13_22.csv')"
   ]
  },
  {
   "cell_type": "code",
   "execution_count": 53,
   "metadata": {},
   "outputs": [],
   "source": [
    "#LVIS_in_subplots13_22 = pd.read_csv (r'D:\\Gabon_Lidar\\DATA\\pandas_csv\\LVIS_in_subplots13_22.csv')"
   ]
  },
  {
   "cell_type": "code",
   "execution_count": 54,
   "metadata": {},
   "outputs": [
    {
     "data": {
      "text/html": [
       "<div>\n",
       "<style scoped>\n",
       "    .dataframe tbody tr th:only-of-type {\n",
       "        vertical-align: middle;\n",
       "    }\n",
       "\n",
       "    .dataframe tbody tr th {\n",
       "        vertical-align: top;\n",
       "    }\n",
       "\n",
       "    .dataframe thead th {\n",
       "        text-align: right;\n",
       "    }\n",
       "</style>\n",
       "<table border=\"1\" class=\"dataframe\">\n",
       "  <thead>\n",
       "    <tr style=\"text-align: right;\">\n",
       "      <th></th>\n",
       "      <th>Unnamed: 0</th>\n",
       "      <th>plot_1</th>\n",
       "      <th>subplot_1</th>\n",
       "      <th>tree_date</th>\n",
       "      <th>family</th>\n",
       "      <th>species</th>\n",
       "      <th>wsg</th>\n",
       "      <th>tree</th>\n",
       "      <th>stem</th>\n",
       "      <th>epsg</th>\n",
       "      <th>...</th>\n",
       "      <th>agbd_ha</th>\n",
       "      <th>agbd_ha_lo</th>\n",
       "      <th>agbd_ha_up</th>\n",
       "      <th>sn</th>\n",
       "      <th>snd_ha</th>\n",
       "      <th>sba</th>\n",
       "      <th>sba_ha</th>\n",
       "      <th>swsg_ba</th>\n",
       "      <th>h_t_max</th>\n",
       "      <th>geometry</th>\n",
       "    </tr>\n",
       "  </thead>\n",
       "  <tbody>\n",
       "    <tr>\n",
       "      <th>0</th>\n",
       "      <td>0</td>\n",
       "      <td>NASA13</td>\n",
       "      <td>6</td>\n",
       "      <td>2016-02-04</td>\n",
       "      <td>Euphorbiaceae</td>\n",
       "      <td>Anthostema aubryanum</td>\n",
       "      <td>0.330000</td>\n",
       "      <td>5153</td>\n",
       "      <td>1</td>\n",
       "      <td>32632</td>\n",
       "      <td>...</td>\n",
       "      <td>165.41</td>\n",
       "      <td>132.91</td>\n",
       "      <td>205.12</td>\n",
       "      <td>270</td>\n",
       "      <td>1080</td>\n",
       "      <td>5.44</td>\n",
       "      <td>21.76</td>\n",
       "      <td>0.51</td>\n",
       "      <td>33.89</td>\n",
       "      <td>POINT (9.357294529431815 0.5768071904896547)</td>\n",
       "    </tr>\n",
       "    <tr>\n",
       "      <th>1</th>\n",
       "      <td>1</td>\n",
       "      <td>NASA13</td>\n",
       "      <td>7</td>\n",
       "      <td>2016-02-04</td>\n",
       "      <td>Fabaceae</td>\n",
       "      <td>Millettia sp.</td>\n",
       "      <td>0.696722</td>\n",
       "      <td>100927</td>\n",
       "      <td>1</td>\n",
       "      <td>32632</td>\n",
       "      <td>...</td>\n",
       "      <td>165.41</td>\n",
       "      <td>132.91</td>\n",
       "      <td>205.12</td>\n",
       "      <td>270</td>\n",
       "      <td>1080</td>\n",
       "      <td>5.44</td>\n",
       "      <td>21.76</td>\n",
       "      <td>0.51</td>\n",
       "      <td>33.89</td>\n",
       "      <td>POINT (9.357296548023385 0.5766215152611616)</td>\n",
       "    </tr>\n",
       "    <tr>\n",
       "      <th>2</th>\n",
       "      <td>2</td>\n",
       "      <td>NASA13</td>\n",
       "      <td>7</td>\n",
       "      <td>2016-02-04</td>\n",
       "      <td>Fabaceae</td>\n",
       "      <td>Millettia sp.</td>\n",
       "      <td>0.696722</td>\n",
       "      <td>100928</td>\n",
       "      <td>1</td>\n",
       "      <td>32632</td>\n",
       "      <td>...</td>\n",
       "      <td>165.41</td>\n",
       "      <td>132.91</td>\n",
       "      <td>205.12</td>\n",
       "      <td>270</td>\n",
       "      <td>1080</td>\n",
       "      <td>5.44</td>\n",
       "      <td>21.76</td>\n",
       "      <td>0.51</td>\n",
       "      <td>33.89</td>\n",
       "      <td>POINT (9.357296548023385 0.5766215152611616)</td>\n",
       "    </tr>\n",
       "    <tr>\n",
       "      <th>3</th>\n",
       "      <td>3</td>\n",
       "      <td>NASA13</td>\n",
       "      <td>8</td>\n",
       "      <td>2016-02-04</td>\n",
       "      <td>Euphorbiaceae</td>\n",
       "      <td>Crotonogyne sp.</td>\n",
       "      <td>0.543103</td>\n",
       "      <td>100945</td>\n",
       "      <td>1</td>\n",
       "      <td>32632</td>\n",
       "      <td>...</td>\n",
       "      <td>165.41</td>\n",
       "      <td>132.91</td>\n",
       "      <td>205.12</td>\n",
       "      <td>270</td>\n",
       "      <td>1080</td>\n",
       "      <td>5.44</td>\n",
       "      <td>21.76</td>\n",
       "      <td>0.51</td>\n",
       "      <td>33.89</td>\n",
       "      <td>POINT (9.357293152482423 0.5765311084359217)</td>\n",
       "    </tr>\n",
       "    <tr>\n",
       "      <th>4</th>\n",
       "      <td>4</td>\n",
       "      <td>NASA13</td>\n",
       "      <td>8</td>\n",
       "      <td>2016-02-04</td>\n",
       "      <td>Myristicaceae</td>\n",
       "      <td>Staudtia kamerunensis</td>\n",
       "      <td>0.796529</td>\n",
       "      <td>5186</td>\n",
       "      <td>1</td>\n",
       "      <td>32632</td>\n",
       "      <td>...</td>\n",
       "      <td>165.41</td>\n",
       "      <td>132.91</td>\n",
       "      <td>205.12</td>\n",
       "      <td>270</td>\n",
       "      <td>1080</td>\n",
       "      <td>5.44</td>\n",
       "      <td>21.76</td>\n",
       "      <td>0.51</td>\n",
       "      <td>33.89</td>\n",
       "      <td>POINT (9.357293152482423 0.5765311084359217)</td>\n",
       "    </tr>\n",
       "    <tr>\n",
       "      <th>...</th>\n",
       "      <td>...</td>\n",
       "      <td>...</td>\n",
       "      <td>...</td>\n",
       "      <td>...</td>\n",
       "      <td>...</td>\n",
       "      <td>...</td>\n",
       "      <td>...</td>\n",
       "      <td>...</td>\n",
       "      <td>...</td>\n",
       "      <td>...</td>\n",
       "      <td>...</td>\n",
       "      <td>...</td>\n",
       "      <td>...</td>\n",
       "      <td>...</td>\n",
       "      <td>...</td>\n",
       "      <td>...</td>\n",
       "      <td>...</td>\n",
       "      <td>...</td>\n",
       "      <td>...</td>\n",
       "      <td>...</td>\n",
       "      <td>...</td>\n",
       "    </tr>\n",
       "    <tr>\n",
       "      <th>259</th>\n",
       "      <td>259</td>\n",
       "      <td>NASA13</td>\n",
       "      <td>16</td>\n",
       "      <td>2016-02-04</td>\n",
       "      <td>Burseraceae</td>\n",
       "      <td>Aucoumea klaineana</td>\n",
       "      <td>0.377852</td>\n",
       "      <td>101285</td>\n",
       "      <td>1</td>\n",
       "      <td>32632</td>\n",
       "      <td>...</td>\n",
       "      <td>165.41</td>\n",
       "      <td>132.91</td>\n",
       "      <td>205.12</td>\n",
       "      <td>270</td>\n",
       "      <td>1080</td>\n",
       "      <td>5.44</td>\n",
       "      <td>21.76</td>\n",
       "      <td>0.51</td>\n",
       "      <td>33.89</td>\n",
       "      <td>POINT (9.357544609700618 0.5765215360659021)</td>\n",
       "    </tr>\n",
       "    <tr>\n",
       "      <th>260</th>\n",
       "      <td>260</td>\n",
       "      <td>NASA13</td>\n",
       "      <td>16</td>\n",
       "      <td>2016-02-04</td>\n",
       "      <td>Burseraceae</td>\n",
       "      <td>Aucoumea klaineana</td>\n",
       "      <td>0.377852</td>\n",
       "      <td>101286</td>\n",
       "      <td>1</td>\n",
       "      <td>32632</td>\n",
       "      <td>...</td>\n",
       "      <td>165.41</td>\n",
       "      <td>132.91</td>\n",
       "      <td>205.12</td>\n",
       "      <td>270</td>\n",
       "      <td>1080</td>\n",
       "      <td>5.44</td>\n",
       "      <td>21.76</td>\n",
       "      <td>0.51</td>\n",
       "      <td>33.89</td>\n",
       "      <td>POINT (9.357518006941985 0.5765316026764638)</td>\n",
       "    </tr>\n",
       "    <tr>\n",
       "      <th>261</th>\n",
       "      <td>261</td>\n",
       "      <td>NASA13</td>\n",
       "      <td>16</td>\n",
       "      <td>2016-02-04</td>\n",
       "      <td>Burseraceae</td>\n",
       "      <td>Aucoumea klaineana</td>\n",
       "      <td>0.377852</td>\n",
       "      <td>101287</td>\n",
       "      <td>1</td>\n",
       "      <td>32632</td>\n",
       "      <td>...</td>\n",
       "      <td>165.41</td>\n",
       "      <td>132.91</td>\n",
       "      <td>205.12</td>\n",
       "      <td>270</td>\n",
       "      <td>1080</td>\n",
       "      <td>5.44</td>\n",
       "      <td>21.76</td>\n",
       "      <td>0.51</td>\n",
       "      <td>33.89</td>\n",
       "      <td>POINT (9.357532157207384 0.5765491713030634)</td>\n",
       "    </tr>\n",
       "    <tr>\n",
       "      <th>262</th>\n",
       "      <td>262</td>\n",
       "      <td>NASA13</td>\n",
       "      <td>16</td>\n",
       "      <td>2016-02-04</td>\n",
       "      <td>Burseraceae</td>\n",
       "      <td>Aucoumea klaineana</td>\n",
       "      <td>0.377852</td>\n",
       "      <td>101288</td>\n",
       "      <td>1</td>\n",
       "      <td>32632</td>\n",
       "      <td>...</td>\n",
       "      <td>165.41</td>\n",
       "      <td>132.91</td>\n",
       "      <td>205.12</td>\n",
       "      <td>270</td>\n",
       "      <td>1080</td>\n",
       "      <td>5.44</td>\n",
       "      <td>21.76</td>\n",
       "      <td>0.51</td>\n",
       "      <td>33.89</td>\n",
       "      <td>POINT (9.35753249658209 0.5765582120758153)</td>\n",
       "    </tr>\n",
       "    <tr>\n",
       "      <th>263</th>\n",
       "      <td>263</td>\n",
       "      <td>NASA13</td>\n",
       "      <td>16</td>\n",
       "      <td>2016-02-04</td>\n",
       "      <td>Burseraceae</td>\n",
       "      <td>Aucoumea klaineana</td>\n",
       "      <td>0.377852</td>\n",
       "      <td>101289</td>\n",
       "      <td>1</td>\n",
       "      <td>32632</td>\n",
       "      <td>...</td>\n",
       "      <td>165.41</td>\n",
       "      <td>132.91</td>\n",
       "      <td>205.12</td>\n",
       "      <td>270</td>\n",
       "      <td>1080</td>\n",
       "      <td>5.44</td>\n",
       "      <td>21.76</td>\n",
       "      <td>0.51</td>\n",
       "      <td>33.89</td>\n",
       "      <td>POINT (9.357527666402429 0.5765493416729233)</td>\n",
       "    </tr>\n",
       "  </tbody>\n",
       "</table>\n",
       "<p>264 rows × 57 columns</p>\n",
       "</div>"
      ],
      "text/plain": [
       "     Unnamed: 0  plot_1  subplot_1   tree_date         family  \\\n",
       "0             0  NASA13          6  2016-02-04  Euphorbiaceae   \n",
       "1             1  NASA13          7  2016-02-04       Fabaceae   \n",
       "2             2  NASA13          7  2016-02-04       Fabaceae   \n",
       "3             3  NASA13          8  2016-02-04  Euphorbiaceae   \n",
       "4             4  NASA13          8  2016-02-04  Myristicaceae   \n",
       "..          ...     ...        ...         ...            ...   \n",
       "259         259  NASA13         16  2016-02-04    Burseraceae   \n",
       "260         260  NASA13         16  2016-02-04    Burseraceae   \n",
       "261         261  NASA13         16  2016-02-04    Burseraceae   \n",
       "262         262  NASA13         16  2016-02-04    Burseraceae   \n",
       "263         263  NASA13         16  2016-02-04    Burseraceae   \n",
       "\n",
       "                   species       wsg    tree  stem   epsg  ...  agbd_ha  \\\n",
       "0     Anthostema aubryanum  0.330000    5153     1  32632  ...   165.41   \n",
       "1            Millettia sp.  0.696722  100927     1  32632  ...   165.41   \n",
       "2            Millettia sp.  0.696722  100928     1  32632  ...   165.41   \n",
       "3          Crotonogyne sp.  0.543103  100945     1  32632  ...   165.41   \n",
       "4    Staudtia kamerunensis  0.796529    5186     1  32632  ...   165.41   \n",
       "..                     ...       ...     ...   ...    ...  ...      ...   \n",
       "259     Aucoumea klaineana  0.377852  101285     1  32632  ...   165.41   \n",
       "260     Aucoumea klaineana  0.377852  101286     1  32632  ...   165.41   \n",
       "261     Aucoumea klaineana  0.377852  101287     1  32632  ...   165.41   \n",
       "262     Aucoumea klaineana  0.377852  101288     1  32632  ...   165.41   \n",
       "263     Aucoumea klaineana  0.377852  101289     1  32632  ...   165.41   \n",
       "\n",
       "     agbd_ha_lo  agbd_ha_up   sn  snd_ha   sba  sba_ha  swsg_ba  h_t_max  \\\n",
       "0        132.91      205.12  270    1080  5.44   21.76     0.51    33.89   \n",
       "1        132.91      205.12  270    1080  5.44   21.76     0.51    33.89   \n",
       "2        132.91      205.12  270    1080  5.44   21.76     0.51    33.89   \n",
       "3        132.91      205.12  270    1080  5.44   21.76     0.51    33.89   \n",
       "4        132.91      205.12  270    1080  5.44   21.76     0.51    33.89   \n",
       "..          ...         ...  ...     ...   ...     ...      ...      ...   \n",
       "259      132.91      205.12  270    1080  5.44   21.76     0.51    33.89   \n",
       "260      132.91      205.12  270    1080  5.44   21.76     0.51    33.89   \n",
       "261      132.91      205.12  270    1080  5.44   21.76     0.51    33.89   \n",
       "262      132.91      205.12  270    1080  5.44   21.76     0.51    33.89   \n",
       "263      132.91      205.12  270    1080  5.44   21.76     0.51    33.89   \n",
       "\n",
       "                                         geometry  \n",
       "0    POINT (9.357294529431815 0.5768071904896547)  \n",
       "1    POINT (9.357296548023385 0.5766215152611616)  \n",
       "2    POINT (9.357296548023385 0.5766215152611616)  \n",
       "3    POINT (9.357293152482423 0.5765311084359217)  \n",
       "4    POINT (9.357293152482423 0.5765311084359217)  \n",
       "..                                            ...  \n",
       "259  POINT (9.357544609700618 0.5765215360659021)  \n",
       "260  POINT (9.357518006941985 0.5765316026764638)  \n",
       "261  POINT (9.357532157207384 0.5765491713030634)  \n",
       "262   POINT (9.35753249658209 0.5765582120758153)  \n",
       "263  POINT (9.357527666402429 0.5765493416729233)  \n",
       "\n",
       "[264 rows x 57 columns]"
      ]
     },
     "execution_count": 54,
     "metadata": {},
     "output_type": "execute_result"
    }
   ],
   "source": [
    "Trees_in_subplots13_22"
   ]
  },
  {
   "cell_type": "code",
   "execution_count": 55,
   "metadata": {},
   "outputs": [
    {
     "data": {
      "text/html": [
       "<div>\n",
       "<style scoped>\n",
       "    .dataframe tbody tr th:only-of-type {\n",
       "        vertical-align: middle;\n",
       "    }\n",
       "\n",
       "    .dataframe tbody tr th {\n",
       "        vertical-align: top;\n",
       "    }\n",
       "\n",
       "    .dataframe thead th {\n",
       "        text-align: right;\n",
       "    }\n",
       "</style>\n",
       "<table border=\"1\" class=\"dataframe\">\n",
       "  <thead>\n",
       "    <tr style=\"text-align: right;\">\n",
       "      <th></th>\n",
       "      <th>Unnamed: 0</th>\n",
       "      <th>LFID</th>\n",
       "      <th>SHOTNUMBER</th>\n",
       "      <th>TIME</th>\n",
       "      <th>GLON</th>\n",
       "      <th>GLAT</th>\n",
       "      <th>ZG</th>\n",
       "      <th>HLON</th>\n",
       "      <th>HLAT</th>\n",
       "      <th>ZH</th>\n",
       "      <th>...</th>\n",
       "      <th>agbd_ha</th>\n",
       "      <th>agbd_ha_lo</th>\n",
       "      <th>agbd_ha_up</th>\n",
       "      <th>sn</th>\n",
       "      <th>snd_ha</th>\n",
       "      <th>sba</th>\n",
       "      <th>sba_ha</th>\n",
       "      <th>swsg_ba</th>\n",
       "      <th>h_t_max</th>\n",
       "      <th>geometry</th>\n",
       "    </tr>\n",
       "  </thead>\n",
       "  <tbody>\n",
       "    <tr>\n",
       "      <th>0</th>\n",
       "      <td>0</td>\n",
       "      <td>1.657455e+09</td>\n",
       "      <td>9420783.0</td>\n",
       "      <td>45738.170</td>\n",
       "      <td>9.357683</td>\n",
       "      <td>0.576376</td>\n",
       "      <td>26.65</td>\n",
       "      <td>-999.0</td>\n",
       "      <td>-999.0</td>\n",
       "      <td>-999.0</td>\n",
       "      <td>...</td>\n",
       "      <td>165.41</td>\n",
       "      <td>132.91</td>\n",
       "      <td>205.12</td>\n",
       "      <td>270.0</td>\n",
       "      <td>1080.0</td>\n",
       "      <td>5.44</td>\n",
       "      <td>21.76</td>\n",
       "      <td>0.51</td>\n",
       "      <td>33.89</td>\n",
       "      <td>POINT (9.357683000000065 0.5763760000000389)</td>\n",
       "    </tr>\n",
       "    <tr>\n",
       "      <th>1</th>\n",
       "      <td>1</td>\n",
       "      <td>1.657455e+09</td>\n",
       "      <td>9420784.0</td>\n",
       "      <td>45738.171</td>\n",
       "      <td>9.357687</td>\n",
       "      <td>0.576470</td>\n",
       "      <td>26.85</td>\n",
       "      <td>-999.0</td>\n",
       "      <td>-999.0</td>\n",
       "      <td>-999.0</td>\n",
       "      <td>...</td>\n",
       "      <td>165.41</td>\n",
       "      <td>132.91</td>\n",
       "      <td>205.12</td>\n",
       "      <td>270.0</td>\n",
       "      <td>1080.0</td>\n",
       "      <td>5.44</td>\n",
       "      <td>21.76</td>\n",
       "      <td>0.51</td>\n",
       "      <td>33.89</td>\n",
       "      <td>POINT (9.357687000000055 0.5764700000000289)</td>\n",
       "    </tr>\n",
       "    <tr>\n",
       "      <th>2</th>\n",
       "      <td>2</td>\n",
       "      <td>1.657455e+09</td>\n",
       "      <td>9420785.0</td>\n",
       "      <td>45738.172</td>\n",
       "      <td>9.357690</td>\n",
       "      <td>0.576564</td>\n",
       "      <td>26.90</td>\n",
       "      <td>-999.0</td>\n",
       "      <td>-999.0</td>\n",
       "      <td>-999.0</td>\n",
       "      <td>...</td>\n",
       "      <td>165.41</td>\n",
       "      <td>132.91</td>\n",
       "      <td>205.12</td>\n",
       "      <td>270.0</td>\n",
       "      <td>1080.0</td>\n",
       "      <td>5.44</td>\n",
       "      <td>21.76</td>\n",
       "      <td>0.51</td>\n",
       "      <td>33.89</td>\n",
       "      <td>POINT (9.357690000000048 0.5765640000000758)</td>\n",
       "    </tr>\n",
       "    <tr>\n",
       "      <th>3</th>\n",
       "      <td>3</td>\n",
       "      <td>1.657455e+09</td>\n",
       "      <td>9420786.0</td>\n",
       "      <td>45738.173</td>\n",
       "      <td>9.357693</td>\n",
       "      <td>0.576658</td>\n",
       "      <td>26.61</td>\n",
       "      <td>-999.0</td>\n",
       "      <td>-999.0</td>\n",
       "      <td>-999.0</td>\n",
       "      <td>...</td>\n",
       "      <td>165.41</td>\n",
       "      <td>132.91</td>\n",
       "      <td>205.12</td>\n",
       "      <td>270.0</td>\n",
       "      <td>1080.0</td>\n",
       "      <td>5.44</td>\n",
       "      <td>21.76</td>\n",
       "      <td>0.51</td>\n",
       "      <td>33.89</td>\n",
       "      <td>POINT (9.35769300000004 0.5766580000000658)</td>\n",
       "    </tr>\n",
       "    <tr>\n",
       "      <th>4</th>\n",
       "      <td>4</td>\n",
       "      <td>1.657455e+09</td>\n",
       "      <td>9420787.0</td>\n",
       "      <td>45738.174</td>\n",
       "      <td>9.357697</td>\n",
       "      <td>0.576752</td>\n",
       "      <td>27.30</td>\n",
       "      <td>-999.0</td>\n",
       "      <td>-999.0</td>\n",
       "      <td>-999.0</td>\n",
       "      <td>...</td>\n",
       "      <td>165.41</td>\n",
       "      <td>132.91</td>\n",
       "      <td>205.12</td>\n",
       "      <td>270.0</td>\n",
       "      <td>1080.0</td>\n",
       "      <td>5.44</td>\n",
       "      <td>21.76</td>\n",
       "      <td>0.51</td>\n",
       "      <td>33.89</td>\n",
       "      <td>POINT (9.35769700000003 0.5767520000000559)</td>\n",
       "    </tr>\n",
       "    <tr>\n",
       "      <th>...</th>\n",
       "      <td>...</td>\n",
       "      <td>...</td>\n",
       "      <td>...</td>\n",
       "      <td>...</td>\n",
       "      <td>...</td>\n",
       "      <td>...</td>\n",
       "      <td>...</td>\n",
       "      <td>...</td>\n",
       "      <td>...</td>\n",
       "      <td>...</td>\n",
       "      <td>...</td>\n",
       "      <td>...</td>\n",
       "      <td>...</td>\n",
       "      <td>...</td>\n",
       "      <td>...</td>\n",
       "      <td>...</td>\n",
       "      <td>...</td>\n",
       "      <td>...</td>\n",
       "      <td>...</td>\n",
       "      <td>...</td>\n",
       "      <td>...</td>\n",
       "    </tr>\n",
       "    <tr>\n",
       "      <th>823</th>\n",
       "      <td>823</td>\n",
       "      <td>1.657455e+09</td>\n",
       "      <td>9911421.0</td>\n",
       "      <td>46228.812</td>\n",
       "      <td>9.330292</td>\n",
       "      <td>0.546591</td>\n",
       "      <td>25.30</td>\n",
       "      <td>-999.0</td>\n",
       "      <td>-999.0</td>\n",
       "      <td>-999.0</td>\n",
       "      <td>...</td>\n",
       "      <td>NaN</td>\n",
       "      <td>NaN</td>\n",
       "      <td>NaN</td>\n",
       "      <td>NaN</td>\n",
       "      <td>NaN</td>\n",
       "      <td>NaN</td>\n",
       "      <td>NaN</td>\n",
       "      <td>NaN</td>\n",
       "      <td>NaN</td>\n",
       "      <td>POINT (9.330292000000043 0.5465910000000349)</td>\n",
       "    </tr>\n",
       "    <tr>\n",
       "      <th>824</th>\n",
       "      <td>824</td>\n",
       "      <td>1.657455e+09</td>\n",
       "      <td>9911422.0</td>\n",
       "      <td>46228.813</td>\n",
       "      <td>9.330293</td>\n",
       "      <td>0.546496</td>\n",
       "      <td>24.39</td>\n",
       "      <td>-999.0</td>\n",
       "      <td>-999.0</td>\n",
       "      <td>-999.0</td>\n",
       "      <td>...</td>\n",
       "      <td>NaN</td>\n",
       "      <td>NaN</td>\n",
       "      <td>NaN</td>\n",
       "      <td>NaN</td>\n",
       "      <td>NaN</td>\n",
       "      <td>NaN</td>\n",
       "      <td>NaN</td>\n",
       "      <td>NaN</td>\n",
       "      <td>NaN</td>\n",
       "      <td>POINT (9.33029300000004 0.5464960000000474)</td>\n",
       "    </tr>\n",
       "    <tr>\n",
       "      <th>825</th>\n",
       "      <td>825</td>\n",
       "      <td>1.657455e+09</td>\n",
       "      <td>9911424.0</td>\n",
       "      <td>46228.815</td>\n",
       "      <td>9.330295</td>\n",
       "      <td>0.546308</td>\n",
       "      <td>26.94</td>\n",
       "      <td>-999.0</td>\n",
       "      <td>-999.0</td>\n",
       "      <td>-999.0</td>\n",
       "      <td>...</td>\n",
       "      <td>NaN</td>\n",
       "      <td>NaN</td>\n",
       "      <td>NaN</td>\n",
       "      <td>NaN</td>\n",
       "      <td>NaN</td>\n",
       "      <td>NaN</td>\n",
       "      <td>NaN</td>\n",
       "      <td>NaN</td>\n",
       "      <td>NaN</td>\n",
       "      <td>POINT (9.330295000000035 0.5463080000000673)</td>\n",
       "    </tr>\n",
       "    <tr>\n",
       "      <th>826</th>\n",
       "      <td>826</td>\n",
       "      <td>1.657455e+09</td>\n",
       "      <td>9911425.0</td>\n",
       "      <td>46228.816</td>\n",
       "      <td>9.330296</td>\n",
       "      <td>0.546213</td>\n",
       "      <td>24.59</td>\n",
       "      <td>-999.0</td>\n",
       "      <td>-999.0</td>\n",
       "      <td>-999.0</td>\n",
       "      <td>...</td>\n",
       "      <td>NaN</td>\n",
       "      <td>NaN</td>\n",
       "      <td>NaN</td>\n",
       "      <td>NaN</td>\n",
       "      <td>NaN</td>\n",
       "      <td>NaN</td>\n",
       "      <td>NaN</td>\n",
       "      <td>NaN</td>\n",
       "      <td>NaN</td>\n",
       "      <td>POINT (9.330296000000033 0.5462130000000229)</td>\n",
       "    </tr>\n",
       "    <tr>\n",
       "      <th>827</th>\n",
       "      <td>827</td>\n",
       "      <td>1.657455e+09</td>\n",
       "      <td>9911426.0</td>\n",
       "      <td>46228.817</td>\n",
       "      <td>9.330297</td>\n",
       "      <td>0.546119</td>\n",
       "      <td>25.45</td>\n",
       "      <td>-999.0</td>\n",
       "      <td>-999.0</td>\n",
       "      <td>-999.0</td>\n",
       "      <td>...</td>\n",
       "      <td>NaN</td>\n",
       "      <td>NaN</td>\n",
       "      <td>NaN</td>\n",
       "      <td>NaN</td>\n",
       "      <td>NaN</td>\n",
       "      <td>NaN</td>\n",
       "      <td>NaN</td>\n",
       "      <td>NaN</td>\n",
       "      <td>NaN</td>\n",
       "      <td>POINT (9.33029700000003 0.5461190000000329)</td>\n",
       "    </tr>\n",
       "  </tbody>\n",
       "</table>\n",
       "<p>828 rows × 79 columns</p>\n",
       "</div>"
      ],
      "text/plain": [
       "     Unnamed: 0          LFID  SHOTNUMBER       TIME      GLON      GLAT  \\\n",
       "0             0  1.657455e+09   9420783.0  45738.170  9.357683  0.576376   \n",
       "1             1  1.657455e+09   9420784.0  45738.171  9.357687  0.576470   \n",
       "2             2  1.657455e+09   9420785.0  45738.172  9.357690  0.576564   \n",
       "3             3  1.657455e+09   9420786.0  45738.173  9.357693  0.576658   \n",
       "4             4  1.657455e+09   9420787.0  45738.174  9.357697  0.576752   \n",
       "..          ...           ...         ...        ...       ...       ...   \n",
       "823         823  1.657455e+09   9911421.0  46228.812  9.330292  0.546591   \n",
       "824         824  1.657455e+09   9911422.0  46228.813  9.330293  0.546496   \n",
       "825         825  1.657455e+09   9911424.0  46228.815  9.330295  0.546308   \n",
       "826         826  1.657455e+09   9911425.0  46228.816  9.330296  0.546213   \n",
       "827         827  1.657455e+09   9911426.0  46228.817  9.330297  0.546119   \n",
       "\n",
       "        ZG   HLON   HLAT     ZH  ...  agbd_ha  agbd_ha_lo  agbd_ha_up     sn  \\\n",
       "0    26.65 -999.0 -999.0 -999.0  ...   165.41      132.91      205.12  270.0   \n",
       "1    26.85 -999.0 -999.0 -999.0  ...   165.41      132.91      205.12  270.0   \n",
       "2    26.90 -999.0 -999.0 -999.0  ...   165.41      132.91      205.12  270.0   \n",
       "3    26.61 -999.0 -999.0 -999.0  ...   165.41      132.91      205.12  270.0   \n",
       "4    27.30 -999.0 -999.0 -999.0  ...   165.41      132.91      205.12  270.0   \n",
       "..     ...    ...    ...    ...  ...      ...         ...         ...    ...   \n",
       "823  25.30 -999.0 -999.0 -999.0  ...      NaN         NaN         NaN    NaN   \n",
       "824  24.39 -999.0 -999.0 -999.0  ...      NaN         NaN         NaN    NaN   \n",
       "825  26.94 -999.0 -999.0 -999.0  ...      NaN         NaN         NaN    NaN   \n",
       "826  24.59 -999.0 -999.0 -999.0  ...      NaN         NaN         NaN    NaN   \n",
       "827  25.45 -999.0 -999.0 -999.0  ...      NaN         NaN         NaN    NaN   \n",
       "\n",
       "     snd_ha   sba  sba_ha  swsg_ba  h_t_max  \\\n",
       "0    1080.0  5.44   21.76     0.51    33.89   \n",
       "1    1080.0  5.44   21.76     0.51    33.89   \n",
       "2    1080.0  5.44   21.76     0.51    33.89   \n",
       "3    1080.0  5.44   21.76     0.51    33.89   \n",
       "4    1080.0  5.44   21.76     0.51    33.89   \n",
       "..      ...   ...     ...      ...      ...   \n",
       "823     NaN   NaN     NaN      NaN      NaN   \n",
       "824     NaN   NaN     NaN      NaN      NaN   \n",
       "825     NaN   NaN     NaN      NaN      NaN   \n",
       "826     NaN   NaN     NaN      NaN      NaN   \n",
       "827     NaN   NaN     NaN      NaN      NaN   \n",
       "\n",
       "                                         geometry  \n",
       "0    POINT (9.357683000000065 0.5763760000000389)  \n",
       "1    POINT (9.357687000000055 0.5764700000000289)  \n",
       "2    POINT (9.357690000000048 0.5765640000000758)  \n",
       "3     POINT (9.35769300000004 0.5766580000000658)  \n",
       "4     POINT (9.35769700000003 0.5767520000000559)  \n",
       "..                                            ...  \n",
       "823  POINT (9.330292000000043 0.5465910000000349)  \n",
       "824   POINT (9.33029300000004 0.5464960000000474)  \n",
       "825  POINT (9.330295000000035 0.5463080000000673)  \n",
       "826  POINT (9.330296000000033 0.5462130000000229)  \n",
       "827   POINT (9.33029700000003 0.5461190000000329)  \n",
       "\n",
       "[828 rows x 79 columns]"
      ]
     },
     "execution_count": 55,
     "metadata": {},
     "output_type": "execute_result"
    }
   ],
   "source": [
    "LVIS_in_subplots13_22"
   ]
  },
  {
   "cell_type": "code",
   "execution_count": 56,
   "metadata": {},
   "outputs": [],
   "source": [
    "#https://www.listendata.com/2019/07/how-to-filter-pandas-dataframe.html#:~:text=%20Filter%20pandas%20dataframe%20by%20column%20value%20,same%20output.%20It%27s%20just%20a%20different...%20More%20"
   ]
  },
  {
   "cell_type": "code",
   "execution_count": 63,
   "metadata": {},
   "outputs": [
    {
     "data": {
      "text/plain": [
       "Index(['Join_Count', 'D_LVIS', 'TARGET_FID', 'plot', 'subplot', 'tree_date',\n",
       "       'family', 'species', 'wsg', 'tree', 'stem', 'epsg', 'x', 'y', 'status',\n",
       "       'allom_key', 'a_stem', 'h_t', 'h_t_mod', 'd_stem', 'd_stem_val', 'd_ht',\n",
       "       'm_agb', 'POINT_X', 'POINT_Y', 'LFID', 'SHOTNUMBER', 'TIME', 'GLON',\n",
       "       'GLAT', 'ZG', 'HLON', 'HLAT', 'ZH', 'TLON', 'TLAT', 'ZT', 'RH10',\n",
       "       'RH15', 'RH20', 'RH25', 'RH30', 'RH35', 'RH40', 'RH45', 'RH50', 'RH55',\n",
       "       'RH60', 'RH65', 'RH70', 'RH75', 'RH80', 'RH85', 'RH90', 'RH95', 'RH96',\n",
       "       'RH97', 'RH98', 'RH99', 'RH100', 'AZIMUTH', 'INCIDENTAN', 'RANGE',\n",
       "       'COMPLEXITY', 'CHANNEL_L1', 'CHANNEL_ZG', 'CHANNEL_RH', 'POINT_X_1',\n",
       "       'POINT_Y_1', 'geometry', 'RA_AGB_RHh_t_mod', 'RA_AGB_RHh_RH100',\n",
       "       'RA_AGB_RH75', 'RA_AGB_RH50', 'RA_AGB_RH125'],\n",
       "      dtype='object')"
      ]
     },
     "execution_count": 63,
     "metadata": {},
     "output_type": "execute_result"
    }
   ],
   "source": [
    "Trees_RH.columns"
   ]
  },
  {
   "cell_type": "code",
   "execution_count": null,
   "metadata": {},
   "outputs": [],
   "source": [
    "#TreesRH13_22.columns"
   ]
  },
  {
   "cell_type": "code",
   "execution_count": 64,
   "metadata": {},
   "outputs": [
    {
     "data": {
      "image/png": "[encoded data removed]",
      "text/plain": [
       "<Figure size 432x288 with 1 Axes>"
      ]
     },
     "metadata": {
      "needs_background": "light"
     },
     "output_type": "display_data"
    }
   ],
   "source": [
    "#matplotlib.pyplot.scatter(Trees_RH.m_agb,Trees_RH.ZG,color='r') \n",
    "matplotlib.pyplot.scatter(Trees_RH.m_agb,Trees_RH.RH25,color='orange') \n",
    "matplotlib.pyplot.scatter(Trees_RH.m_agb,Trees_RH.RH50,color='y')\n",
    "matplotlib.pyplot.scatter(Trees_RH.m_agb,Trees_RH.RH75,color='g')\n",
    "matplotlib.pyplot.scatter(Trees_RH.m_agb,Trees_RH.RH100,color='b')\n",
    "matplotlib.pyplot.show()"
   ]
  },
  {
   "cell_type": "code",
   "execution_count": 65,
   "metadata": {},
   "outputs": [
    {
     "data": {
      "text/plain": [
       "<matplotlib.collections.PathCollection at 0x2602681b310>"
      ]
     },
     "execution_count": 65,
     "metadata": {},
     "output_type": "execute_result"
    },
    {
     "data": {
      "image/png": "[encoded data removed]",
      "text/plain": [
       "<Figure size 432x288 with 1 Axes>"
      ]
     },
     "metadata": {
      "needs_background": "light"
     },
     "output_type": "display_data"
    }
   ],
   "source": [
    "matplotlib.pyplot.scatter(Trees_RH.m_agb,Trees_RH.RH25,color='orange') "
   ]
  },
  {
   "cell_type": "code",
   "execution_count": 66,
   "metadata": {},
   "outputs": [
    {
     "data": {
      "text/plain": [
       "<matplotlib.collections.PathCollection at 0x26026822940>"
      ]
     },
     "execution_count": 66,
     "metadata": {},
     "output_type": "execute_result"
    },
    {
     "data": {
      "image/png": "[encoded data removed]",
      "text/plain": [
       "<Figure size 432x288 with 1 Axes>"
      ]
     },
     "metadata": {
      "needs_background": "light"
     },
     "output_type": "display_data"
    }
   ],
   "source": [
    "matplotlib.pyplot.scatter(Trees_RH.m_agb,Trees_RH.RH50,color='y')"
   ]
  },
  {
   "cell_type": "code",
   "execution_count": 67,
   "metadata": {},
   "outputs": [
    {
     "data": {
      "text/plain": [
       "<matplotlib.collections.PathCollection at 0x2602688f4c0>"
      ]
     },
     "execution_count": 67,
     "metadata": {},
     "output_type": "execute_result"
    },
    {
     "data": {
      "image/png": "[encoded data removed]",
      "text/plain": [
       "<Figure size 432x288 with 1 Axes>"
      ]
     },
     "metadata": {
      "needs_background": "light"
     },
     "output_type": "display_data"
    }
   ],
   "source": [
    "matplotlib.pyplot.scatter(Trees_RH.m_agb,Trees_RH.RH75,color='g')"
   ]
  },
  {
   "cell_type": "code",
   "execution_count": 68,
   "metadata": {},
   "outputs": [
    {
     "data": {
      "text/plain": [
       "<matplotlib.collections.PathCollection at 0x260268c8130>"
      ]
     },
     "execution_count": 68,
     "metadata": {},
     "output_type": "execute_result"
    },
    {
     "data": {
      "image/png": "[encoded data removed]",
      "text/plain": [
       "<Figure size 432x288 with 1 Axes>"
      ]
     },
     "metadata": {
      "needs_background": "light"
     },
     "output_type": "display_data"
    }
   ],
   "source": [
    "matplotlib.pyplot.scatter(Trees_RH.m_agb,Trees_RH.RH100,color='b')"
   ]
  },
  {
   "cell_type": "code",
   "execution_count": null,
   "metadata": {},
   "outputs": [],
   "source": [
    "#This is look at Plot13"
   ]
  },
  {
   "cell_type": "code",
   "execution_count": 69,
   "metadata": {},
   "outputs": [],
   "source": [
    "Trees_RH13 = Trees_RH[(Trees_RH['plot'] == 'NASA13')]"
   ]
  },
  {
   "cell_type": "code",
   "execution_count": 70,
   "metadata": {},
   "outputs": [
    {
     "data": {
      "image/png": "[encoded data removed]",
      "text/plain": [
       "<Figure size 432x288 with 1 Axes>"
      ]
     },
     "metadata": {
      "needs_background": "light"
     },
     "output_type": "display_data"
    }
   ],
   "source": [
    "#matplotlib.pyplot.scatter(Trees_RH.m_agb,Trees_RH.ZG,color='r') \n",
    "matplotlib.pyplot.scatter(Trees_RH13.m_agb,Trees_RH13.RH25,color='orange') \n",
    "matplotlib.pyplot.scatter(Trees_RH13.m_agb,Trees_RH13.RH50,color='y')\n",
    "matplotlib.pyplot.scatter(Trees_RH13.m_agb,Trees_RH13.RH75,color='g')\n",
    "matplotlib.pyplot.scatter(Trees_RH13.m_agb,Trees_RH13.RH100,color='b')\n",
    "matplotlib.pyplot.show()"
   ]
  },
  {
   "cell_type": "code",
   "execution_count": 71,
   "metadata": {},
   "outputs": [
    {
     "data": {
      "text/plain": [
       "<matplotlib.collections.PathCollection at 0x26026790d00>"
      ]
     },
     "execution_count": 71,
     "metadata": {},
     "output_type": "execute_result"
    },
    {
     "data": {
      "image/png": "[encoded data removed]",
      "text/plain": [
       "<Figure size 432x288 with 1 Axes>"
      ]
     },
     "metadata": {
      "needs_background": "light"
     },
     "output_type": "display_data"
    }
   ],
   "source": [
    "matplotlib.pyplot.scatter(Trees_RH13.m_agb,Trees_RH13.RH25,color='orange')"
   ]
  },
  {
   "cell_type": "code",
   "execution_count": 72,
   "metadata": {},
   "outputs": [
    {
     "data": {
      "text/plain": [
       "<matplotlib.collections.PathCollection at 0x260284aa4f0>"
      ]
     },
     "execution_count": 72,
     "metadata": {},
     "output_type": "execute_result"
    },
    {
     "data": {
      "image/png": "[encoded data removed]",
      "text/plain": [
       "<Figure size 432x288 with 1 Axes>"
      ]
     },
     "metadata": {
      "needs_background": "light"
     },
     "output_type": "display_data"
    }
   ],
   "source": []
  },
  {
   "cell_type": "code",
   "execution_count": null,
   "metadata": {},
   "outputs": [],
   "source": []
  }
 ],
 "metadata": {
  "kernelspec": {
   "display_name": "Python 3",
   "language": "python",
   "name": "python3"
  },
  "language_info": {
   "codemirror_mode": {
    "name": "ipython",
    "version": 3
   },
   "file_extension": ".py",
   "mimetype": "text/x-python",
   "name": "python",
   "nbconvert_exporter": "python",
   "pygments_lexer": "ipython3",
   "version": "3.8.5"
  }
 },
 "nbformat": 4,
 "nbformat_minor": 4
}
