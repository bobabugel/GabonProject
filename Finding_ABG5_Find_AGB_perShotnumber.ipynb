{
 "cells": [
  {
   "cell_type": "markdown",
   "metadata": {
    "scrolled": true
   },
   "source": [
    "#geopandas "
   ]
  },
  {
   "cell_type": "code",
   "execution_count": null,
   "metadata": {},
   "outputs": [],
   "source": []
  },
  {
   "cell_type": "markdown",
   "metadata": {},
   "source": [
    "#https://lvis.gsfc.nasa.gov/workshop/LVIS_QGIS_Tutorial_Gabon.pdf"
   ]
  },
  {
   "cell_type": "code",
   "execution_count": 1,
   "metadata": {},
   "outputs": [],
   "source": [
    "import matplotlib.pyplot \n",
    "import numpy as np\n",
    "import pylab\n",
    "import pandas as pd\n",
    "import h5py\n",
    "import geopandas as gpd\n",
    "from shapely.geometry import *\n",
    "from geopandas.geoseries import *"
   ]
  },
  {
   "cell_type": "markdown",
   "metadata": {},
   "source": [
    "Bring all the data data in "
   ]
  },
  {
   "cell_type": "code",
   "execution_count": 2,
   "metadata": {},
   "outputs": [],
   "source": [
    "# Geopandas "
   ]
  },
  {
   "cell_type": "code",
   "execution_count": 3,
   "metadata": {},
   "outputs": [
    {
     "name": "stderr",
     "output_type": "stream",
     "text": [
      "C:\\Users\\17183\\anaconda3\\envs\\Geopandas_h5pytest\\lib\\site-packages\\geopandas\\array.py:166: ShapelyDeprecationWarning: The array interface is deprecated and will no longer work in Shapely 2.0. Convert the '.coords' to a numpy array instead.\n",
      "  return GeometryArray(vectorized.from_shapely(data), crs=crs)\n"
     ]
    }
   ],
   "source": [
    "Shot_RH = gpd.read_file(r'D:\\Gabon_Lidar\\DATA\\shp\\Shot_Sum_AGB_RH.shp')"
   ]
  },
  {
   "cell_type": "code",
   "execution_count": 4,
   "metadata": {},
   "outputs": [],
   "source": [
    "#Changing CRS \n",
    "Shot_RH_4326= Shot_RH.to_crs(epsg=4326)"
   ]
  },
  {
   "cell_type": "code",
   "execution_count": 5,
   "metadata": {},
   "outputs": [
    {
     "data": {
      "text/plain": [
       "Index(['SHOTNUMBER', 'MAX_SHOTNU', 'SUM_m_agb', 'MAX_TIME', 'MAX_GLON',\n",
       "       'MAX_GLAT', 'MAX_ZG', 'MAX_HLON', 'MAX_HLAT', 'MAX_ZH', 'MAX_TLON',\n",
       "       'MAX_TLAT', 'MAX_ZT', 'MAX_RH10', 'MAX_RH15', 'MAX_RH20', 'MAX_RH25',\n",
       "       'MAX_RH30', 'MAX_RH35', 'MAX_RH40', 'MAX_RH45', 'MAX_RH50', 'MAX_RH55',\n",
       "       'MAX_RH60', 'MAX_RH65', 'MAX_RH70', 'MAX_RH75', 'MAX_RH80', 'MAX_RH85',\n",
       "       'MAX_RH90', 'MAX_RH95', 'MAX_RH96', 'MAX_RH97', 'MAX_RH98', 'MAX_RH99',\n",
       "       'MAX_RH100', 'MAX_AZIMUT', 'MAX_INCIDE', 'MAX_RANGE', 'MAX_COMPLE',\n",
       "       'MAX_CHANNE', 'MAX_CHAN_1', 'MAX_CHAN_2', 'MAX_POINT_', 'MAX_POINT1',\n",
       "       'geometry'],\n",
       "      dtype='object')"
      ]
     },
     "execution_count": 5,
     "metadata": {},
     "output_type": "execute_result"
    }
   ],
   "source": [
    "Shot_RH.columns"
   ]
  },
  {
   "cell_type": "code",
   "execution_count": 6,
   "metadata": {
    "scrolled": true
   },
   "outputs": [
    {
     "data": {
      "text/html": [
       "<div>\n",
       "<style scoped>\n",
       "    .dataframe tbody tr th:only-of-type {\n",
       "        vertical-align: middle;\n",
       "    }\n",
       "\n",
       "    .dataframe tbody tr th {\n",
       "        vertical-align: top;\n",
       "    }\n",
       "\n",
       "    .dataframe thead th {\n",
       "        text-align: right;\n",
       "    }\n",
       "</style>\n",
       "<table border=\"1\" class=\"dataframe\">\n",
       "  <thead>\n",
       "    <tr style=\"text-align: right;\">\n",
       "      <th></th>\n",
       "      <th>SHOTNUMBER</th>\n",
       "      <th>MAX_SHOTNU</th>\n",
       "      <th>SUM_m_agb</th>\n",
       "      <th>MAX_TIME</th>\n",
       "      <th>MAX_GLON</th>\n",
       "      <th>MAX_GLAT</th>\n",
       "      <th>MAX_ZG</th>\n",
       "      <th>MAX_HLON</th>\n",
       "      <th>MAX_HLAT</th>\n",
       "      <th>MAX_ZH</th>\n",
       "      <th>...</th>\n",
       "      <th>MAX_AZIMUT</th>\n",
       "      <th>MAX_INCIDE</th>\n",
       "      <th>MAX_RANGE</th>\n",
       "      <th>MAX_COMPLE</th>\n",
       "      <th>MAX_CHANNE</th>\n",
       "      <th>MAX_CHAN_1</th>\n",
       "      <th>MAX_CHAN_2</th>\n",
       "      <th>MAX_POINT_</th>\n",
       "      <th>MAX_POINT1</th>\n",
       "      <th>geometry</th>\n",
       "    </tr>\n",
       "  </thead>\n",
       "  <tbody>\n",
       "    <tr>\n",
       "      <th>0</th>\n",
       "      <td>9361768</td>\n",
       "      <td>9361768</td>\n",
       "      <td>494.90</td>\n",
       "      <td>45679.155</td>\n",
       "      <td>9.422531</td>\n",
       "      <td>0.582776</td>\n",
       "      <td>20.96</td>\n",
       "      <td>-999</td>\n",
       "      <td>-999</td>\n",
       "      <td>-999</td>\n",
       "      <td>...</td>\n",
       "      <td>351.15</td>\n",
       "      <td>2.877</td>\n",
       "      <td>7713.77</td>\n",
       "      <td>-999</td>\n",
       "      <td>1</td>\n",
       "      <td>1</td>\n",
       "      <td>1</td>\n",
       "      <td>9.422531</td>\n",
       "      <td>0.582776</td>\n",
       "      <td>MULTIPOINT (547007.784 64418.388, 547007.821 6...</td>\n",
       "    </tr>\n",
       "    <tr>\n",
       "      <th>1</th>\n",
       "      <td>9361769</td>\n",
       "      <td>9361769</td>\n",
       "      <td>2857.33</td>\n",
       "      <td>45679.156</td>\n",
       "      <td>9.422529</td>\n",
       "      <td>0.582682</td>\n",
       "      <td>19.35</td>\n",
       "      <td>-999</td>\n",
       "      <td>-999</td>\n",
       "      <td>-999</td>\n",
       "      <td>...</td>\n",
       "      <td>350.90</td>\n",
       "      <td>2.800</td>\n",
       "      <td>7716.76</td>\n",
       "      <td>-999</td>\n",
       "      <td>1</td>\n",
       "      <td>1</td>\n",
       "      <td>1</td>\n",
       "      <td>9.422529</td>\n",
       "      <td>0.582682</td>\n",
       "      <td>MULTIPOINT (547003.851 64393.517, 547004.879 6...</td>\n",
       "    </tr>\n",
       "    <tr>\n",
       "      <th>2</th>\n",
       "      <td>9361773</td>\n",
       "      <td>9361773</td>\n",
       "      <td>1241.81</td>\n",
       "      <td>45679.160</td>\n",
       "      <td>9.422520</td>\n",
       "      <td>0.582305</td>\n",
       "      <td>13.10</td>\n",
       "      <td>-999</td>\n",
       "      <td>-999</td>\n",
       "      <td>-999</td>\n",
       "      <td>...</td>\n",
       "      <td>349.68</td>\n",
       "      <td>2.494</td>\n",
       "      <td>7722.14</td>\n",
       "      <td>-999</td>\n",
       "      <td>1</td>\n",
       "      <td>1</td>\n",
       "      <td>1</td>\n",
       "      <td>9.422520</td>\n",
       "      <td>0.582305</td>\n",
       "      <td>MULTIPOINT (547014.572 64359.092, 547015.721 6...</td>\n",
       "    </tr>\n",
       "  </tbody>\n",
       "</table>\n",
       "<p>3 rows × 46 columns</p>\n",
       "</div>"
      ],
      "text/plain": [
       "   SHOTNUMBER  MAX_SHOTNU  SUM_m_agb   MAX_TIME  MAX_GLON  MAX_GLAT  MAX_ZG  \\\n",
       "0     9361768     9361768     494.90  45679.155  9.422531  0.582776   20.96   \n",
       "1     9361769     9361769    2857.33  45679.156  9.422529  0.582682   19.35   \n",
       "2     9361773     9361773    1241.81  45679.160  9.422520  0.582305   13.10   \n",
       "\n",
       "   MAX_HLON  MAX_HLAT  MAX_ZH  ...  MAX_AZIMUT  MAX_INCIDE  MAX_RANGE  \\\n",
       "0      -999      -999    -999  ...      351.15       2.877    7713.77   \n",
       "1      -999      -999    -999  ...      350.90       2.800    7716.76   \n",
       "2      -999      -999    -999  ...      349.68       2.494    7722.14   \n",
       "\n",
       "   MAX_COMPLE  MAX_CHANNE  MAX_CHAN_1  MAX_CHAN_2  MAX_POINT_  MAX_POINT1  \\\n",
       "0        -999           1           1           1    9.422531    0.582776   \n",
       "1        -999           1           1           1    9.422529    0.582682   \n",
       "2        -999           1           1           1    9.422520    0.582305   \n",
       "\n",
       "                                            geometry  \n",
       "0  MULTIPOINT (547007.784 64418.388, 547007.821 6...  \n",
       "1  MULTIPOINT (547003.851 64393.517, 547004.879 6...  \n",
       "2  MULTIPOINT (547014.572 64359.092, 547015.721 6...  \n",
       "\n",
       "[3 rows x 46 columns]"
      ]
     },
     "execution_count": 6,
     "metadata": {},
     "output_type": "execute_result"
    }
   ],
   "source": [
    "Shot_RH.head(3)"
   ]
  },
  {
   "cell_type": "markdown",
   "metadata": {},
   "source": [
    "##### Finding AGB"
   ]
  },
  {
   "cell_type": "markdown",
   "metadata": {},
   "source": [
    "Aboveground Biomass(AGB) is the amount of living matter above the ground. The foumulat bellow is from \"Comparison of Small- and Large-Footprint Lidar Characterization of Tropical Forest Aboveground Structure and Biomass: A Case Study From Central Gabon (Silva, et al. 2018)\" in it they use AGB (kg) = 0.0673 × (ρ × dbh2 × ht)0.976 they which is Chave formula (Chave , et al. 2015)"
   ]
  },
  {
   "cell_type": "markdown",
   "metadata": {},
   "source": [
    "AGB (kg) = 0.0673 × (ρ × dbh^2 × ht)^0.976"
   ]
  },
  {
   "cell_type": "markdown",
   "metadata": {},
   "source": [
    "were dbh is in cm, ht is in m, and ρ is the wood density in g·cm−3.\n",
    "The total AGB at plot level was then obtained by summing\n",
    "individual stem biomass estimates and converting it to Mg·ha−1.\n"
   ]
  },
  {
   "cell_type": "markdown",
   "metadata": {},
   "source": [
    "Returning to out formula we need the find the ρ which is densentity. The can be found using the "
   ]
  },
  {
   "cell_type": "markdown",
   "metadata": {},
   "source": [
    "AGB (kg) = 0.0673 × (ρ × dbh^2 × ht)^0.976\n",
    "\n",
    "were dbh is in cm, ht is in m, and ρ is the wood density in g·cm−3. The total AGB at plot level was then obtained by summing individual stem biomass estimates and converting it to Mg·ha−1."
   ]
  },
  {
   "cell_type": "markdown",
   "metadata": {},
   "source": [
    "The wood density came from the following two papers "
   ]
  },
  {
   "cell_type": "markdown",
   "metadata": {},
   "source": [
    "\n",
    "[1] J. Chave, D. A. Coomes, S. Jansen, S. L. Lewis, N. G. Swenson,\n",
    "and A. E. Zanne, “Towards a worldwide wood economics spectrum,”\n",
    "Ecol. Lett., vol. 12, no. 4, pp. 351–366, 2009. [Online]. Available:\n",
    "https://doi.org/10.1111/j.1461-0248.2009.01285.x\n",
    "[42] A. E. Zanne et al., Data from: Towards a Worldwide Wood Economics Spectrum, Dryad Digital Repository, 2009. [Online]. Available:\n",
    "https://doi.org/10.5061/dryad.234"
   ]
  },
  {
   "cell_type": "markdown",
   "metadata": {},
   "source": [
    "This is bringing in the would density database for the ρ"
   ]
  },
  {
   "cell_type": "markdown",
   "metadata": {},
   "source": [
    "The would Density in data set is wsg field and it comes from the data set listed above "
   ]
  },
  {
   "cell_type": "markdown",
   "metadata": {},
   "source": [
    "I will be going foward with 0.228 because that is the median value "
   ]
  },
  {
   "cell_type": "markdown",
   "metadata": {},
   "source": [
    "AGB (kg) = 0.0673 × (0.228 × dbh^2 × ht)^0.976\n"
   ]
  },
  {
   "cell_type": "markdown",
   "metadata": {},
   "source": [
    "the next step is to find the hieght. to find the Height I will be using the LVIS for in read that is found next to the "
   ]
  },
  {
   "cell_type": "code",
   "execution_count": 7,
   "metadata": {},
   "outputs": [],
   "source": [
    "#LVISshot = LVIS[(LVIS.LFID == 1657455174)]"
   ]
  },
  {
   "cell_type": "code",
   "execution_count": 8,
   "metadata": {},
   "outputs": [
    {
     "data": {
      "text/html": [
       "<div>\n",
       "<style scoped>\n",
       "    .dataframe tbody tr th:only-of-type {\n",
       "        vertical-align: middle;\n",
       "    }\n",
       "\n",
       "    .dataframe tbody tr th {\n",
       "        vertical-align: top;\n",
       "    }\n",
       "\n",
       "    .dataframe thead th {\n",
       "        text-align: right;\n",
       "    }\n",
       "</style>\n",
       "<table border=\"1\" class=\"dataframe\">\n",
       "  <thead>\n",
       "    <tr style=\"text-align: right;\">\n",
       "      <th></th>\n",
       "      <th>SHOTNUMBER</th>\n",
       "      <th>MAX_SHOTNU</th>\n",
       "      <th>SUM_m_agb</th>\n",
       "      <th>MAX_TIME</th>\n",
       "      <th>MAX_GLON</th>\n",
       "      <th>MAX_GLAT</th>\n",
       "      <th>MAX_ZG</th>\n",
       "      <th>MAX_HLON</th>\n",
       "      <th>MAX_HLAT</th>\n",
       "      <th>MAX_ZH</th>\n",
       "      <th>...</th>\n",
       "      <th>MAX_AZIMUT</th>\n",
       "      <th>MAX_INCIDE</th>\n",
       "      <th>MAX_RANGE</th>\n",
       "      <th>MAX_COMPLE</th>\n",
       "      <th>MAX_CHANNE</th>\n",
       "      <th>MAX_CHAN_1</th>\n",
       "      <th>MAX_CHAN_2</th>\n",
       "      <th>MAX_POINT_</th>\n",
       "      <th>MAX_POINT1</th>\n",
       "      <th>geometry</th>\n",
       "    </tr>\n",
       "  </thead>\n",
       "  <tbody>\n",
       "    <tr>\n",
       "      <th>0</th>\n",
       "      <td>9361768</td>\n",
       "      <td>9361768</td>\n",
       "      <td>494.90</td>\n",
       "      <td>45679.155</td>\n",
       "      <td>9.422531</td>\n",
       "      <td>0.582776</td>\n",
       "      <td>20.96</td>\n",
       "      <td>-999</td>\n",
       "      <td>-999</td>\n",
       "      <td>-999</td>\n",
       "      <td>...</td>\n",
       "      <td>351.15</td>\n",
       "      <td>2.877</td>\n",
       "      <td>7713.77</td>\n",
       "      <td>-999</td>\n",
       "      <td>1</td>\n",
       "      <td>1</td>\n",
       "      <td>1</td>\n",
       "      <td>9.422531</td>\n",
       "      <td>0.582776</td>\n",
       "      <td>MULTIPOINT (547007.784 64418.388, 547007.821 6...</td>\n",
       "    </tr>\n",
       "    <tr>\n",
       "      <th>1</th>\n",
       "      <td>9361769</td>\n",
       "      <td>9361769</td>\n",
       "      <td>2857.33</td>\n",
       "      <td>45679.156</td>\n",
       "      <td>9.422529</td>\n",
       "      <td>0.582682</td>\n",
       "      <td>19.35</td>\n",
       "      <td>-999</td>\n",
       "      <td>-999</td>\n",
       "      <td>-999</td>\n",
       "      <td>...</td>\n",
       "      <td>350.90</td>\n",
       "      <td>2.800</td>\n",
       "      <td>7716.76</td>\n",
       "      <td>-999</td>\n",
       "      <td>1</td>\n",
       "      <td>1</td>\n",
       "      <td>1</td>\n",
       "      <td>9.422529</td>\n",
       "      <td>0.582682</td>\n",
       "      <td>MULTIPOINT (547003.851 64393.517, 547004.879 6...</td>\n",
       "    </tr>\n",
       "    <tr>\n",
       "      <th>2</th>\n",
       "      <td>9361773</td>\n",
       "      <td>9361773</td>\n",
       "      <td>1241.81</td>\n",
       "      <td>45679.160</td>\n",
       "      <td>9.422520</td>\n",
       "      <td>0.582305</td>\n",
       "      <td>13.10</td>\n",
       "      <td>-999</td>\n",
       "      <td>-999</td>\n",
       "      <td>-999</td>\n",
       "      <td>...</td>\n",
       "      <td>349.68</td>\n",
       "      <td>2.494</td>\n",
       "      <td>7722.14</td>\n",
       "      <td>-999</td>\n",
       "      <td>1</td>\n",
       "      <td>1</td>\n",
       "      <td>1</td>\n",
       "      <td>9.422520</td>\n",
       "      <td>0.582305</td>\n",
       "      <td>MULTIPOINT (547014.572 64359.092, 547015.721 6...</td>\n",
       "    </tr>\n",
       "    <tr>\n",
       "      <th>3</th>\n",
       "      <td>9361774</td>\n",
       "      <td>9361774</td>\n",
       "      <td>1016.30</td>\n",
       "      <td>45679.161</td>\n",
       "      <td>9.422518</td>\n",
       "      <td>0.582210</td>\n",
       "      <td>12.93</td>\n",
       "      <td>-999</td>\n",
       "      <td>-999</td>\n",
       "      <td>-999</td>\n",
       "      <td>...</td>\n",
       "      <td>349.32</td>\n",
       "      <td>2.418</td>\n",
       "      <td>7720.93</td>\n",
       "      <td>-999</td>\n",
       "      <td>1</td>\n",
       "      <td>1</td>\n",
       "      <td>1</td>\n",
       "      <td>9.422518</td>\n",
       "      <td>0.582210</td>\n",
       "      <td>MULTIPOINT (547010.463 64356.244, 547011.425 6...</td>\n",
       "    </tr>\n",
       "    <tr>\n",
       "      <th>4</th>\n",
       "      <td>9361775</td>\n",
       "      <td>9361775</td>\n",
       "      <td>95.51</td>\n",
       "      <td>45679.162</td>\n",
       "      <td>9.422515</td>\n",
       "      <td>0.582116</td>\n",
       "      <td>12.76</td>\n",
       "      <td>-999</td>\n",
       "      <td>-999</td>\n",
       "      <td>-999</td>\n",
       "      <td>...</td>\n",
       "      <td>348.94</td>\n",
       "      <td>2.342</td>\n",
       "      <td>7721.53</td>\n",
       "      <td>-999</td>\n",
       "      <td>2</td>\n",
       "      <td>2</td>\n",
       "      <td>1</td>\n",
       "      <td>9.422515</td>\n",
       "      <td>0.582116</td>\n",
       "      <td>MULTIPOINT (547008.053 64345.327)</td>\n",
       "    </tr>\n",
       "    <tr>\n",
       "      <th>...</th>\n",
       "      <td>...</td>\n",
       "      <td>...</td>\n",
       "      <td>...</td>\n",
       "      <td>...</td>\n",
       "      <td>...</td>\n",
       "      <td>...</td>\n",
       "      <td>...</td>\n",
       "      <td>...</td>\n",
       "      <td>...</td>\n",
       "      <td>...</td>\n",
       "      <td>...</td>\n",
       "      <td>...</td>\n",
       "      <td>...</td>\n",
       "      <td>...</td>\n",
       "      <td>...</td>\n",
       "      <td>...</td>\n",
       "      <td>...</td>\n",
       "      <td>...</td>\n",
       "      <td>...</td>\n",
       "      <td>...</td>\n",
       "      <td>...</td>\n",
       "    </tr>\n",
       "    <tr>\n",
       "      <th>638</th>\n",
       "      <td>11689984</td>\n",
       "      <td>11689984</td>\n",
       "      <td>38.51</td>\n",
       "      <td>48007.387</td>\n",
       "      <td>9.422303</td>\n",
       "      <td>0.617157</td>\n",
       "      <td>17.01</td>\n",
       "      <td>-999</td>\n",
       "      <td>-999</td>\n",
       "      <td>-999</td>\n",
       "      <td>...</td>\n",
       "      <td>188.60</td>\n",
       "      <td>2.377</td>\n",
       "      <td>7706.54</td>\n",
       "      <td>-999</td>\n",
       "      <td>1</td>\n",
       "      <td>1</td>\n",
       "      <td>1</td>\n",
       "      <td>9.422303</td>\n",
       "      <td>0.617157</td>\n",
       "      <td>MULTIPOINT (546986.937 68219.360)</td>\n",
       "    </tr>\n",
       "    <tr>\n",
       "      <th>639</th>\n",
       "      <td>11690158</td>\n",
       "      <td>11690158</td>\n",
       "      <td>18.06</td>\n",
       "      <td>48007.561</td>\n",
       "      <td>9.422156</td>\n",
       "      <td>0.617224</td>\n",
       "      <td>17.05</td>\n",
       "      <td>-999</td>\n",
       "      <td>-999</td>\n",
       "      <td>-999</td>\n",
       "      <td>...</td>\n",
       "      <td>187.90</td>\n",
       "      <td>2.317</td>\n",
       "      <td>7705.34</td>\n",
       "      <td>-999</td>\n",
       "      <td>1</td>\n",
       "      <td>1</td>\n",
       "      <td>1</td>\n",
       "      <td>9.422156</td>\n",
       "      <td>0.617224</td>\n",
       "      <td>MULTIPOINT (546975.945 68219.769)</td>\n",
       "    </tr>\n",
       "    <tr>\n",
       "      <th>640</th>\n",
       "      <td>11690162</td>\n",
       "      <td>11690162</td>\n",
       "      <td>311.37</td>\n",
       "      <td>48007.565</td>\n",
       "      <td>9.422153</td>\n",
       "      <td>0.616846</td>\n",
       "      <td>17.30</td>\n",
       "      <td>-999</td>\n",
       "      <td>-999</td>\n",
       "      <td>-999</td>\n",
       "      <td>...</td>\n",
       "      <td>186.95</td>\n",
       "      <td>2.625</td>\n",
       "      <td>7707.16</td>\n",
       "      <td>-999</td>\n",
       "      <td>1</td>\n",
       "      <td>1</td>\n",
       "      <td>1</td>\n",
       "      <td>9.422153</td>\n",
       "      <td>0.616846</td>\n",
       "      <td>MULTIPOINT (546972.094 68170.128, 546982.031 6...</td>\n",
       "    </tr>\n",
       "    <tr>\n",
       "      <th>641</th>\n",
       "      <td>11690205</td>\n",
       "      <td>11690205</td>\n",
       "      <td>635.25</td>\n",
       "      <td>48007.608</td>\n",
       "      <td>9.422062</td>\n",
       "      <td>0.616841</td>\n",
       "      <td>17.33</td>\n",
       "      <td>-999</td>\n",
       "      <td>-999</td>\n",
       "      <td>-999</td>\n",
       "      <td>...</td>\n",
       "      <td>187.71</td>\n",
       "      <td>2.633</td>\n",
       "      <td>7705.96</td>\n",
       "      <td>-999</td>\n",
       "      <td>1</td>\n",
       "      <td>1</td>\n",
       "      <td>1</td>\n",
       "      <td>9.422062</td>\n",
       "      <td>0.616841</td>\n",
       "      <td>MULTIPOINT (546961.378 68164.523, 546961.974 6...</td>\n",
       "    </tr>\n",
       "    <tr>\n",
       "      <th>642</th>\n",
       "      <td>11690206</td>\n",
       "      <td>11690206</td>\n",
       "      <td>148.91</td>\n",
       "      <td>48007.609</td>\n",
       "      <td>9.422062</td>\n",
       "      <td>0.616935</td>\n",
       "      <td>17.27</td>\n",
       "      <td>-999</td>\n",
       "      <td>-999</td>\n",
       "      <td>-999</td>\n",
       "      <td>...</td>\n",
       "      <td>187.93</td>\n",
       "      <td>2.557</td>\n",
       "      <td>7707.15</td>\n",
       "      <td>-999</td>\n",
       "      <td>1</td>\n",
       "      <td>1</td>\n",
       "      <td>1</td>\n",
       "      <td>9.422062</td>\n",
       "      <td>0.616935</td>\n",
       "      <td>MULTIPOINT (546962.569 68196.501, 546963.483 6...</td>\n",
       "    </tr>\n",
       "  </tbody>\n",
       "</table>\n",
       "<p>643 rows × 46 columns</p>\n",
       "</div>"
      ],
      "text/plain": [
       "     SHOTNUMBER  MAX_SHOTNU  SUM_m_agb   MAX_TIME  MAX_GLON  MAX_GLAT  MAX_ZG  \\\n",
       "0       9361768     9361768     494.90  45679.155  9.422531  0.582776   20.96   \n",
       "1       9361769     9361769    2857.33  45679.156  9.422529  0.582682   19.35   \n",
       "2       9361773     9361773    1241.81  45679.160  9.422520  0.582305   13.10   \n",
       "3       9361774     9361774    1016.30  45679.161  9.422518  0.582210   12.93   \n",
       "4       9361775     9361775      95.51  45679.162  9.422515  0.582116   12.76   \n",
       "..          ...         ...        ...        ...       ...       ...     ...   \n",
       "638    11689984    11689984      38.51  48007.387  9.422303  0.617157   17.01   \n",
       "639    11690158    11690158      18.06  48007.561  9.422156  0.617224   17.05   \n",
       "640    11690162    11690162     311.37  48007.565  9.422153  0.616846   17.30   \n",
       "641    11690205    11690205     635.25  48007.608  9.422062  0.616841   17.33   \n",
       "642    11690206    11690206     148.91  48007.609  9.422062  0.616935   17.27   \n",
       "\n",
       "     MAX_HLON  MAX_HLAT  MAX_ZH  ...  MAX_AZIMUT  MAX_INCIDE  MAX_RANGE  \\\n",
       "0        -999      -999    -999  ...      351.15       2.877    7713.77   \n",
       "1        -999      -999    -999  ...      350.90       2.800    7716.76   \n",
       "2        -999      -999    -999  ...      349.68       2.494    7722.14   \n",
       "3        -999      -999    -999  ...      349.32       2.418    7720.93   \n",
       "4        -999      -999    -999  ...      348.94       2.342    7721.53   \n",
       "..        ...       ...     ...  ...         ...         ...        ...   \n",
       "638      -999      -999    -999  ...      188.60       2.377    7706.54   \n",
       "639      -999      -999    -999  ...      187.90       2.317    7705.34   \n",
       "640      -999      -999    -999  ...      186.95       2.625    7707.16   \n",
       "641      -999      -999    -999  ...      187.71       2.633    7705.96   \n",
       "642      -999      -999    -999  ...      187.93       2.557    7707.15   \n",
       "\n",
       "     MAX_COMPLE  MAX_CHANNE  MAX_CHAN_1  MAX_CHAN_2  MAX_POINT_  MAX_POINT1  \\\n",
       "0          -999           1           1           1    9.422531    0.582776   \n",
       "1          -999           1           1           1    9.422529    0.582682   \n",
       "2          -999           1           1           1    9.422520    0.582305   \n",
       "3          -999           1           1           1    9.422518    0.582210   \n",
       "4          -999           2           2           1    9.422515    0.582116   \n",
       "..          ...         ...         ...         ...         ...         ...   \n",
       "638        -999           1           1           1    9.422303    0.617157   \n",
       "639        -999           1           1           1    9.422156    0.617224   \n",
       "640        -999           1           1           1    9.422153    0.616846   \n",
       "641        -999           1           1           1    9.422062    0.616841   \n",
       "642        -999           1           1           1    9.422062    0.616935   \n",
       "\n",
       "                                              geometry  \n",
       "0    MULTIPOINT (547007.784 64418.388, 547007.821 6...  \n",
       "1    MULTIPOINT (547003.851 64393.517, 547004.879 6...  \n",
       "2    MULTIPOINT (547014.572 64359.092, 547015.721 6...  \n",
       "3    MULTIPOINT (547010.463 64356.244, 547011.425 6...  \n",
       "4                    MULTIPOINT (547008.053 64345.327)  \n",
       "..                                                 ...  \n",
       "638                  MULTIPOINT (546986.937 68219.360)  \n",
       "639                  MULTIPOINT (546975.945 68219.769)  \n",
       "640  MULTIPOINT (546972.094 68170.128, 546982.031 6...  \n",
       "641  MULTIPOINT (546961.378 68164.523, 546961.974 6...  \n",
       "642  MULTIPOINT (546962.569 68196.501, 546963.483 6...  \n",
       "\n",
       "[643 rows x 46 columns]"
      ]
     },
     "execution_count": 8,
     "metadata": {},
     "output_type": "execute_result"
    }
   ],
   "source": [
    "Shot_RH"
   ]
  },
  {
   "cell_type": "markdown",
   "metadata": {},
   "source": [
    "#matplotlib.pyplot.scatter(LVIS_in_subplots13_22.GLON,LVIS_in_subplots13_22.ZG,color='r') \n",
    "matplotlib.pyplot.scatter(LVIS_in_subplots13_22.GLON,LVIS_in_subplots13_22.RH25,color='orange') \n",
    "matplotlib.pyplot.scatter(LVIS_in_subplots13_22.GLON,LVIS_in_subplots13_22.RH50,color='y')\n",
    "matplotlib.pyplot.scatter(LVIS_in_subplots13_22.GLON,LVIS_in_subplots13_22.RH75,color='g')\n",
    "#matplotlib.pyplot.scatter(LVIS_in_subplots13_22.GLON,LVIS_in_subplots13_22.ZT,color='b')\n",
    "matplotlib.pyplot.show()"
   ]
  },
  {
   "cell_type": "markdown",
   "metadata": {},
   "source": [
    "AGB (kg) = 0.0673 × (ρ × dbh^2 × ht)^0.976"
   ]
  },
  {
   "cell_type": "code",
   "execution_count": 9,
   "metadata": {},
   "outputs": [],
   "source": [
    "#https://automating-gis-processes.github.io/2017/lessons/L3/nearest-neighbour.html"
   ]
  },
  {
   "cell_type": "code",
   "execution_count": 10,
   "metadata": {},
   "outputs": [],
   "source": [
    "#Trees_in_subplots13_22csv = Trees_in_subplots13_22.to_csv(r'D:\\Gabon_Lidar\\DATA\\pandas_csv\\Trees_in_subplots13_22.csv')"
   ]
  },
  {
   "cell_type": "code",
   "execution_count": 11,
   "metadata": {},
   "outputs": [],
   "source": [
    "#LVIS_in_subplots13_22csv = LVIS_in_subplots13_22.to_csv(r'D:\\Gabon_Lidar\\DATA\\pandas_csv\\LVIS_in_subplots13_22.csv')"
   ]
  },
  {
   "cell_type": "code",
   "execution_count": 12,
   "metadata": {},
   "outputs": [],
   "source": [
    "#Trees_in_subplots13_22 = pd.read_csv (r'D:\\Gabon_Lidar\\DATA\\pandas_csv\\Trees_in_subplots13_22.csv')"
   ]
  },
  {
   "cell_type": "code",
   "execution_count": 13,
   "metadata": {},
   "outputs": [],
   "source": [
    "#LVIS_in_subplots13_22 = pd.read_csv (r'D:\\Gabon_Lidar\\DATA\\pandas_csv\\LVIS_in_subplots13_22.csv')"
   ]
  },
  {
   "cell_type": "code",
   "execution_count": 14,
   "metadata": {},
   "outputs": [],
   "source": [
    "#https://www.listendata.com/2019/07/how-to-filter-pandas-dataframe.html#:~:text=%20Filter%20pandas%20dataframe%20by%20column%20value%20,same%20output.%20It%27s%20just%20a%20different...%20More%20"
   ]
  },
  {
   "cell_type": "code",
   "execution_count": 15,
   "metadata": {},
   "outputs": [
    {
     "data": {
      "text/plain": [
       "Index(['SHOTNUMBER', 'MAX_SHOTNU', 'SUM_m_agb', 'MAX_TIME', 'MAX_GLON',\n",
       "       'MAX_GLAT', 'MAX_ZG', 'MAX_HLON', 'MAX_HLAT', 'MAX_ZH', 'MAX_TLON',\n",
       "       'MAX_TLAT', 'MAX_ZT', 'MAX_RH10', 'MAX_RH15', 'MAX_RH20', 'MAX_RH25',\n",
       "       'MAX_RH30', 'MAX_RH35', 'MAX_RH40', 'MAX_RH45', 'MAX_RH50', 'MAX_RH55',\n",
       "       'MAX_RH60', 'MAX_RH65', 'MAX_RH70', 'MAX_RH75', 'MAX_RH80', 'MAX_RH85',\n",
       "       'MAX_RH90', 'MAX_RH95', 'MAX_RH96', 'MAX_RH97', 'MAX_RH98', 'MAX_RH99',\n",
       "       'MAX_RH100', 'MAX_AZIMUT', 'MAX_INCIDE', 'MAX_RANGE', 'MAX_COMPLE',\n",
       "       'MAX_CHANNE', 'MAX_CHAN_1', 'MAX_CHAN_2', 'MAX_POINT_', 'MAX_POINT1',\n",
       "       'geometry'],\n",
       "      dtype='object')"
      ]
     },
     "execution_count": 15,
     "metadata": {},
     "output_type": "execute_result"
    }
   ],
   "source": [
    "Shot_RH.columns"
   ]
  },
  {
   "cell_type": "code",
   "execution_count": 16,
   "metadata": {},
   "outputs": [],
   "source": [
    "#TreesRH13_22.columns"
   ]
  },
  {
   "cell_type": "code",
   "execution_count": 17,
   "metadata": {},
   "outputs": [
    {
     "data": {
      "image/png": "[encoded data removed]",
      "text/plain": [
       "<Figure size 432x288 with 1 Axes>"
      ]
     },
     "metadata": {
      "needs_background": "light"
     },
     "output_type": "display_data"
    }
   ],
   "source": [
    "#matplotlib.pyplot.scatter(Trees_RH.m_agb,Trees_RH.ZG,color='r') \n",
    "matplotlib.pyplot.scatter(Shot_RH.SUM_m_agb,Shot_RH.MAX_RH25,color='orange') \n",
    "matplotlib.pyplot.scatter(Shot_RH.SUM_m_agb,Shot_RH.MAX_RH50,color='y')\n",
    "matplotlib.pyplot.scatter(Shot_RH.SUM_m_agb,Shot_RH.MAX_RH75,color='g')\n",
    "matplotlib.pyplot.scatter(Shot_RH.SUM_m_agb,Shot_RH.MAX_RH100,color='b')\n",
    "matplotlib.pyplot.show()"
   ]
  },
  {
   "cell_type": "code",
   "execution_count": 18,
   "metadata": {},
   "outputs": [
    {
     "data": {
      "text/plain": [
       "<matplotlib.collections.PathCollection at 0x207c9454370>"
      ]
     },
     "execution_count": 18,
     "metadata": {},
     "output_type": "execute_result"
    },
    {
     "data": {
      "image/png": "[encoded data removed]",
      "text/plain": [
       "<Figure size 432x288 with 1 Axes>"
      ]
     },
     "metadata": {
      "needs_background": "light"
     },
     "output_type": "display_data"
    }
   ],
   "source": [
    "matplotlib.pyplot.scatter(Shot_RH.SUM_m_agb,Shot_RH.MAX_RH25,color='orange') "
   ]
  },
  {
   "cell_type": "code",
   "execution_count": 19,
   "metadata": {},
   "outputs": [
    {
     "data": {
      "text/plain": [
       "<matplotlib.collections.PathCollection at 0x207c984b190>"
      ]
     },
     "execution_count": 19,
     "metadata": {},
     "output_type": "execute_result"
    },
    {
     "data": {
      "image/png": "[encoded data removed]",
      "text/plain": [
       "<Figure size 432x288 with 1 Axes>"
      ]
     },
     "metadata": {
      "needs_background": "light"
     },
     "output_type": "display_data"
    }
   ],
   "source": [
    "matplotlib.pyplot.scatter(Shot_RH.SUM_m_agb,Shot_RH.MAX_RH50,color='y')"
   ]
  },
  {
   "cell_type": "code",
   "execution_count": 20,
   "metadata": {},
   "outputs": [
    {
     "data": {
      "text/plain": [
       "<matplotlib.collections.PathCollection at 0x207c987e400>"
      ]
     },
     "execution_count": 20,
     "metadata": {},
     "output_type": "execute_result"
    },
    {
     "data": {
      "image/png": "[encoded data removed]",
      "text/plain": [
       "<Figure size 432x288 with 1 Axes>"
      ]
     },
     "metadata": {
      "needs_background": "light"
     },
     "output_type": "display_data"
    }
   ],
   "source": [
    "matplotlib.pyplot.scatter(Shot_RH.SUM_m_agb,Shot_RH.MAX_RH75,color='g')"
   ]
  },
  {
   "cell_type": "code",
   "execution_count": 21,
   "metadata": {},
   "outputs": [
    {
     "data": {
      "text/plain": [
       "<matplotlib.collections.PathCollection at 0x207c98b2580>"
      ]
     },
     "execution_count": 21,
     "metadata": {},
     "output_type": "execute_result"
    },
    {
     "data": {
      "image/png": "[encoded data removed]",
      "text/plain": [
       "<Figure size 432x288 with 1 Axes>"
      ]
     },
     "metadata": {
      "needs_background": "light"
     },
     "output_type": "display_data"
    }
   ],
   "source": [
    "matplotlib.pyplot.scatter(Shot_RH.SUM_m_agb,Shot_RH.MAX_RH100,color='b')"
   ]
  },
  {
   "cell_type": "code",
   "execution_count": null,
   "metadata": {},
   "outputs": [],
   "source": []
  },
  {
   "cell_type": "code",
   "execution_count": null,
   "metadata": {},
   "outputs": [],
   "source": []
  },
  {
   "cell_type": "code",
   "execution_count": null,
   "metadata": {},
   "outputs": [],
   "source": []
  },
  {
   "cell_type": "code",
   "execution_count": null,
   "metadata": {},
   "outputs": [],
   "source": []
  }
 ],
 "metadata": {
  "kernelspec": {
   "display_name": "Python 3",
   "language": "python",
   "name": "python3"
  },
  "language_info": {
   "codemirror_mode": {
    "name": "ipython",
    "version": 3
   },
   "file_extension": ".py",
   "mimetype": "text/x-python",
   "name": "python",
   "nbconvert_exporter": "python",
   "pygments_lexer": "ipython3",
   "version": "3.8.5"
  }
 },
 "nbformat": 4,
 "nbformat_minor": 4
}
