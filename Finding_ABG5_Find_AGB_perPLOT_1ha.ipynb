{
 "cells": [
  {
   "cell_type": "markdown",
   "metadata": {
    "scrolled": true
   },
   "source": [
    "#geopandas "
   ]
  },
  {
   "cell_type": "markdown",
   "metadata": {},
   "source": [
    "## Goals "
   ]
  },
  {
   "cell_type": "markdown",
   "metadata": {},
   "source": [
    "The goal of this is to compare Above ground biomass(abg) and the RH Values from LVIS.Then for they are grouped by plot to get the data at the plot level. The ABG data come tree measurement. Then RH come from the LVIS L1 product. The is join in GIS use a spatail Join. Then they are join with the plot level data. After they are joined they are grouped Plot. The ABG is Summed if there are multiple trees. Each of the RH values are average by plot. This provieds a sum of agb and avg RH value per plot. "
   ]
  },
  {
   "cell_type": "markdown",
   "metadata": {},
   "source": [
    "#https://lvis.gsfc.nasa.gov/workshop/LVIS_QGIS_Tutorial_Gabon.pdf"
   ]
  },
  {
   "cell_type": "code",
   "execution_count": 2,
   "metadata": {},
   "outputs": [],
   "source": [
    "import matplotlib.pyplot \n",
    "import numpy as np\n",
    "import pylab\n",
    "import pandas as pd\n",
    "import h5py\n",
    "import geopandas as gpd\n",
    "from shapely.geometry import *\n",
    "from geopandas.geoseries import *"
   ]
  },
  {
   "cell_type": "markdown",
   "metadata": {},
   "source": [
    "Bring all the data data in "
   ]
  },
  {
   "cell_type": "code",
   "execution_count": 3,
   "metadata": {},
   "outputs": [],
   "source": [
    "# Geopandas "
   ]
  },
  {
   "cell_type": "code",
   "execution_count": 4,
   "metadata": {},
   "outputs": [],
   "source": [
    "PLOT_RH = pd.read_csv(r'D:\\Gabon_Lidar\\DATA\\pandas_csv\\PLOT_AGB_RH.csv')"
   ]
  },
  {
   "cell_type": "code",
   "execution_count": 4,
   "metadata": {},
   "outputs": [],
   "source": []
  },
  {
   "cell_type": "code",
   "execution_count": 5,
   "metadata": {},
   "outputs": [
    {
     "data": {
      "text/plain": [
       "Index(['Plots', 'Sum_ABG', 'RH10', 'RH15', 'RH20', 'RH25', 'RH30', 'RH35',\n",
       "       'RH40', 'RH50', 'RH45', 'RH55', 'RH60', 'RH65', 'RH70', 'RH75', 'RH80',\n",
       "       'RH85', 'RH90', 'RH95', 'RH96', 'RH97', 'RH98', 'RH99', 'RH100'],\n",
       "      dtype='object')"
      ]
     },
     "execution_count": 5,
     "metadata": {},
     "output_type": "execute_result"
    }
   ],
   "source": [
    "PLOT_RH.columns"
   ]
  },
  {
   "cell_type": "code",
   "execution_count": 6,
   "metadata": {
    "scrolled": true
   },
   "outputs": [
    {
     "data": {
      "text/html": [
       "<div>\n",
       "<style scoped>\n",
       "    .dataframe tbody tr th:only-of-type {\n",
       "        vertical-align: middle;\n",
       "    }\n",
       "\n",
       "    .dataframe tbody tr th {\n",
       "        vertical-align: top;\n",
       "    }\n",
       "\n",
       "    .dataframe thead th {\n",
       "        text-align: right;\n",
       "    }\n",
       "</style>\n",
       "<table border=\"1\" class=\"dataframe\">\n",
       "  <thead>\n",
       "    <tr style=\"text-align: right;\">\n",
       "      <th></th>\n",
       "      <th>Plots</th>\n",
       "      <th>Sum_ABG</th>\n",
       "      <th>RH10</th>\n",
       "      <th>RH15</th>\n",
       "      <th>RH20</th>\n",
       "      <th>RH25</th>\n",
       "      <th>RH30</th>\n",
       "      <th>RH35</th>\n",
       "      <th>RH40</th>\n",
       "      <th>RH50</th>\n",
       "      <th>...</th>\n",
       "      <th>RH75</th>\n",
       "      <th>RH80</th>\n",
       "      <th>RH85</th>\n",
       "      <th>RH90</th>\n",
       "      <th>RH95</th>\n",
       "      <th>RH96</th>\n",
       "      <th>RH97</th>\n",
       "      <th>RH98</th>\n",
       "      <th>RH99</th>\n",
       "      <th>RH100</th>\n",
       "    </tr>\n",
       "  </thead>\n",
       "  <tbody>\n",
       "    <tr>\n",
       "      <th>0</th>\n",
       "      <td>NASA01</td>\n",
       "      <td>25829.30</td>\n",
       "      <td>-1.481036</td>\n",
       "      <td>-0.975139</td>\n",
       "      <td>-0.555020</td>\n",
       "      <td>-0.151235</td>\n",
       "      <td>0.260478</td>\n",
       "      <td>0.672390</td>\n",
       "      <td>1.123386</td>\n",
       "      <td>2.135259</td>\n",
       "      <td>...</td>\n",
       "      <td>4.354502</td>\n",
       "      <td>4.784143</td>\n",
       "      <td>5.311753</td>\n",
       "      <td>6.075020</td>\n",
       "      <td>7.224502</td>\n",
       "      <td>7.658765</td>\n",
       "      <td>8.130876</td>\n",
       "      <td>8.680080</td>\n",
       "      <td>9.506056</td>\n",
       "      <td>11.085976</td>\n",
       "    </tr>\n",
       "    <tr>\n",
       "      <th>1</th>\n",
       "      <td>NASA02</td>\n",
       "      <td>250855.90</td>\n",
       "      <td>3.800773</td>\n",
       "      <td>5.754303</td>\n",
       "      <td>7.300672</td>\n",
       "      <td>8.691412</td>\n",
       "      <td>10.054050</td>\n",
       "      <td>11.470118</td>\n",
       "      <td>12.945597</td>\n",
       "      <td>15.500269</td>\n",
       "      <td>...</td>\n",
       "      <td>21.952034</td>\n",
       "      <td>23.267008</td>\n",
       "      <td>24.647798</td>\n",
       "      <td>26.203983</td>\n",
       "      <td>28.348924</td>\n",
       "      <td>28.959933</td>\n",
       "      <td>29.775479</td>\n",
       "      <td>31.393815</td>\n",
       "      <td>32.674908</td>\n",
       "      <td>34.572353</td>\n",
       "    </tr>\n",
       "    <tr>\n",
       "      <th>2</th>\n",
       "      <td>NASA03</td>\n",
       "      <td>48809.14</td>\n",
       "      <td>1.111806</td>\n",
       "      <td>2.540870</td>\n",
       "      <td>3.685485</td>\n",
       "      <td>4.636321</td>\n",
       "      <td>5.482341</td>\n",
       "      <td>6.220836</td>\n",
       "      <td>6.883746</td>\n",
       "      <td>8.173043</td>\n",
       "      <td>...</td>\n",
       "      <td>11.808294</td>\n",
       "      <td>12.808963</td>\n",
       "      <td>13.849632</td>\n",
       "      <td>15.095853</td>\n",
       "      <td>17.135585</td>\n",
       "      <td>17.597960</td>\n",
       "      <td>18.131472</td>\n",
       "      <td>18.779365</td>\n",
       "      <td>19.696488</td>\n",
       "      <td>21.572375</td>\n",
       "    </tr>\n",
       "  </tbody>\n",
       "</table>\n",
       "<p>3 rows × 25 columns</p>\n",
       "</div>"
      ],
      "text/plain": [
       "    Plots    Sum_ABG      RH10      RH15      RH20      RH25       RH30  \\\n",
       "0  NASA01   25829.30 -1.481036 -0.975139 -0.555020 -0.151235   0.260478   \n",
       "1  NASA02  250855.90  3.800773  5.754303  7.300672  8.691412  10.054050   \n",
       "2  NASA03   48809.14  1.111806  2.540870  3.685485  4.636321   5.482341   \n",
       "\n",
       "        RH35       RH40       RH50  ...       RH75       RH80       RH85  \\\n",
       "0   0.672390   1.123386   2.135259  ...   4.354502   4.784143   5.311753   \n",
       "1  11.470118  12.945597  15.500269  ...  21.952034  23.267008  24.647798   \n",
       "2   6.220836   6.883746   8.173043  ...  11.808294  12.808963  13.849632   \n",
       "\n",
       "        RH90       RH95       RH96       RH97       RH98       RH99      RH100  \n",
       "0   6.075020   7.224502   7.658765   8.130876   8.680080   9.506056  11.085976  \n",
       "1  26.203983  28.348924  28.959933  29.775479  31.393815  32.674908  34.572353  \n",
       "2  15.095853  17.135585  17.597960  18.131472  18.779365  19.696488  21.572375  \n",
       "\n",
       "[3 rows x 25 columns]"
      ]
     },
     "execution_count": 6,
     "metadata": {},
     "output_type": "execute_result"
    }
   ],
   "source": [
    "PLOT_RH.head(3)"
   ]
  },
  {
   "cell_type": "markdown",
   "metadata": {},
   "source": [
    "##### Finding AGB"
   ]
  },
  {
   "cell_type": "markdown",
   "metadata": {},
   "source": [
    "Aboveground Biomass(AGB) is the amount of living matter above the ground. The foumulat bellow is from \"Comparison of Small- and Large-Footprint Lidar Characterization of Tropical Forest Aboveground Structure and Biomass: A Case Study From Central Gabon (Silva, et al. 2018)\" in it they use AGB (kg) = 0.0673 × (ρ × dbh2 × ht)0.976 they which is Chave formula (Chave , et al. 2015)"
   ]
  },
  {
   "cell_type": "markdown",
   "metadata": {},
   "source": [
    "AGB (kg) = 0.0673 × (ρ × dbh^2 × ht)^0.976"
   ]
  },
  {
   "cell_type": "markdown",
   "metadata": {},
   "source": [
    "were dbh is in cm, ht is in m, and ρ is the wood density in g·cm−3.\n",
    "The total AGB at plot level was then obtained by summing\n",
    "individual stem biomass estimates and converting it to Mg·ha−1.\n"
   ]
  },
  {
   "cell_type": "markdown",
   "metadata": {},
   "source": [
    "Returning to out formula we need the find the ρ which is densentity. The can be found using the "
   ]
  },
  {
   "cell_type": "markdown",
   "metadata": {},
   "source": [
    "AGB (kg) = 0.0673 × (ρ × dbh^2 × ht)^0.976\n",
    "\n",
    "were dbh is in cm, ht is in m, and ρ is the wood density in g·cm−3. The total AGB at plot level was then obtained by summing individual stem biomass estimates and converting it to Mg·ha−1."
   ]
  },
  {
   "cell_type": "markdown",
   "metadata": {},
   "source": [
    "The wood density came from the following two papers "
   ]
  },
  {
   "cell_type": "markdown",
   "metadata": {},
   "source": [
    "\n",
    "[1] J. Chave, D. A. Coomes, S. Jansen, S. L. Lewis, N. G. Swenson,\n",
    "and A. E. Zanne, “Towards a worldwide wood economics spectrum,”\n",
    "Ecol. Lett., vol. 12, no. 4, pp. 351–366, 2009. [Online]. Available:\n",
    "https://doi.org/10.1111/j.1461-0248.2009.01285.x\n",
    "[42] A. E. Zanne et al., Data from: Towards a Worldwide Wood Economics Spectrum, Dryad Digital Repository, 2009. [Online]. Available:\n",
    "https://doi.org/10.5061/dryad.234"
   ]
  },
  {
   "cell_type": "markdown",
   "metadata": {},
   "source": [
    "This is bringing in the would density database for the ρ"
   ]
  },
  {
   "cell_type": "markdown",
   "metadata": {},
   "source": [
    "The would Density in data set is wsg field and it comes from the data set listed above "
   ]
  },
  {
   "cell_type": "markdown",
   "metadata": {},
   "source": [
    "I will be going foward with 0.228 because that is the median value "
   ]
  },
  {
   "cell_type": "markdown",
   "metadata": {},
   "source": [
    "AGB (kg) = 0.0673 × (0.228 × dbh^2 × ht)^0.976\n"
   ]
  },
  {
   "cell_type": "markdown",
   "metadata": {},
   "source": [
    "the next step is to find the hieght. to find the Height I will be using the LVIS for in read that is found next to the "
   ]
  },
  {
   "cell_type": "code",
   "execution_count": 7,
   "metadata": {},
   "outputs": [],
   "source": [
    "#LVISshot = LVIS[(LVIS.LFID == 1657455174)]"
   ]
  },
  {
   "cell_type": "code",
   "execution_count": 7,
   "metadata": {},
   "outputs": [
    {
     "data": {
      "text/html": [
       "<div>\n",
       "<style scoped>\n",
       "    .dataframe tbody tr th:only-of-type {\n",
       "        vertical-align: middle;\n",
       "    }\n",
       "\n",
       "    .dataframe tbody tr th {\n",
       "        vertical-align: top;\n",
       "    }\n",
       "\n",
       "    .dataframe thead th {\n",
       "        text-align: right;\n",
       "    }\n",
       "</style>\n",
       "<table border=\"1\" class=\"dataframe\">\n",
       "  <thead>\n",
       "    <tr style=\"text-align: right;\">\n",
       "      <th></th>\n",
       "      <th>Plots</th>\n",
       "      <th>Sum_ABG</th>\n",
       "      <th>RH10</th>\n",
       "      <th>RH15</th>\n",
       "      <th>RH20</th>\n",
       "      <th>RH25</th>\n",
       "      <th>RH30</th>\n",
       "      <th>RH35</th>\n",
       "      <th>RH40</th>\n",
       "      <th>RH50</th>\n",
       "      <th>...</th>\n",
       "      <th>RH75</th>\n",
       "      <th>RH80</th>\n",
       "      <th>RH85</th>\n",
       "      <th>RH90</th>\n",
       "      <th>RH95</th>\n",
       "      <th>RH96</th>\n",
       "      <th>RH97</th>\n",
       "      <th>RH98</th>\n",
       "      <th>RH99</th>\n",
       "      <th>RH100</th>\n",
       "    </tr>\n",
       "  </thead>\n",
       "  <tbody>\n",
       "    <tr>\n",
       "      <th>0</th>\n",
       "      <td>NASA01</td>\n",
       "      <td>25829.30</td>\n",
       "      <td>-1.481036</td>\n",
       "      <td>-0.975139</td>\n",
       "      <td>-0.555020</td>\n",
       "      <td>-0.151235</td>\n",
       "      <td>0.260478</td>\n",
       "      <td>0.672390</td>\n",
       "      <td>1.123386</td>\n",
       "      <td>2.135259</td>\n",
       "      <td>...</td>\n",
       "      <td>4.354502</td>\n",
       "      <td>4.784143</td>\n",
       "      <td>5.311753</td>\n",
       "      <td>6.075020</td>\n",
       "      <td>7.224502</td>\n",
       "      <td>7.658765</td>\n",
       "      <td>8.130876</td>\n",
       "      <td>8.680080</td>\n",
       "      <td>9.506056</td>\n",
       "      <td>11.085976</td>\n",
       "    </tr>\n",
       "    <tr>\n",
       "      <th>1</th>\n",
       "      <td>NASA02</td>\n",
       "      <td>250855.90</td>\n",
       "      <td>3.800773</td>\n",
       "      <td>5.754303</td>\n",
       "      <td>7.300672</td>\n",
       "      <td>8.691412</td>\n",
       "      <td>10.054050</td>\n",
       "      <td>11.470118</td>\n",
       "      <td>12.945597</td>\n",
       "      <td>15.500269</td>\n",
       "      <td>...</td>\n",
       "      <td>21.952034</td>\n",
       "      <td>23.267008</td>\n",
       "      <td>24.647798</td>\n",
       "      <td>26.203983</td>\n",
       "      <td>28.348924</td>\n",
       "      <td>28.959933</td>\n",
       "      <td>29.775479</td>\n",
       "      <td>31.393815</td>\n",
       "      <td>32.674908</td>\n",
       "      <td>34.572353</td>\n",
       "    </tr>\n",
       "    <tr>\n",
       "      <th>2</th>\n",
       "      <td>NASA03</td>\n",
       "      <td>48809.14</td>\n",
       "      <td>1.111806</td>\n",
       "      <td>2.540870</td>\n",
       "      <td>3.685485</td>\n",
       "      <td>4.636321</td>\n",
       "      <td>5.482341</td>\n",
       "      <td>6.220836</td>\n",
       "      <td>6.883746</td>\n",
       "      <td>8.173043</td>\n",
       "      <td>...</td>\n",
       "      <td>11.808294</td>\n",
       "      <td>12.808963</td>\n",
       "      <td>13.849632</td>\n",
       "      <td>15.095853</td>\n",
       "      <td>17.135585</td>\n",
       "      <td>17.597960</td>\n",
       "      <td>18.131472</td>\n",
       "      <td>18.779365</td>\n",
       "      <td>19.696488</td>\n",
       "      <td>21.572375</td>\n",
       "    </tr>\n",
       "    <tr>\n",
       "      <th>3</th>\n",
       "      <td>NASA05</td>\n",
       "      <td>86479.60</td>\n",
       "      <td>0.602757</td>\n",
       "      <td>2.505952</td>\n",
       "      <td>4.814508</td>\n",
       "      <td>6.160438</td>\n",
       "      <td>7.080591</td>\n",
       "      <td>7.856696</td>\n",
       "      <td>8.706105</td>\n",
       "      <td>12.275383</td>\n",
       "      <td>...</td>\n",
       "      <td>17.844223</td>\n",
       "      <td>19.880306</td>\n",
       "      <td>21.857549</td>\n",
       "      <td>23.489015</td>\n",
       "      <td>25.830306</td>\n",
       "      <td>26.819300</td>\n",
       "      <td>28.159278</td>\n",
       "      <td>30.190153</td>\n",
       "      <td>31.949300</td>\n",
       "      <td>35.220744</td>\n",
       "    </tr>\n",
       "    <tr>\n",
       "      <th>4</th>\n",
       "      <td>NASA09</td>\n",
       "      <td>3439.58</td>\n",
       "      <td>-2.720100</td>\n",
       "      <td>-2.163700</td>\n",
       "      <td>-1.722400</td>\n",
       "      <td>-1.347700</td>\n",
       "      <td>-1.004600</td>\n",
       "      <td>-0.692700</td>\n",
       "      <td>-0.387100</td>\n",
       "      <td>0.199300</td>\n",
       "      <td>...</td>\n",
       "      <td>1.910700</td>\n",
       "      <td>2.390200</td>\n",
       "      <td>2.932400</td>\n",
       "      <td>3.672600</td>\n",
       "      <td>4.912400</td>\n",
       "      <td>5.312800</td>\n",
       "      <td>5.775300</td>\n",
       "      <td>6.374300</td>\n",
       "      <td>7.355900</td>\n",
       "      <td>9.256100</td>\n",
       "    </tr>\n",
       "    <tr>\n",
       "      <th>5</th>\n",
       "      <td>NASA10</td>\n",
       "      <td>99361.95</td>\n",
       "      <td>-0.914382</td>\n",
       "      <td>0.971573</td>\n",
       "      <td>4.594382</td>\n",
       "      <td>6.155056</td>\n",
       "      <td>6.906742</td>\n",
       "      <td>7.564831</td>\n",
       "      <td>8.191798</td>\n",
       "      <td>9.217416</td>\n",
       "      <td>...</td>\n",
       "      <td>11.985730</td>\n",
       "      <td>12.761011</td>\n",
       "      <td>13.632360</td>\n",
       "      <td>14.501236</td>\n",
       "      <td>15.622921</td>\n",
       "      <td>15.948989</td>\n",
       "      <td>16.421798</td>\n",
       "      <td>17.465056</td>\n",
       "      <td>19.799438</td>\n",
       "      <td>23.186292</td>\n",
       "    </tr>\n",
       "    <tr>\n",
       "      <th>6</th>\n",
       "      <td>NASA11</td>\n",
       "      <td>31446.68</td>\n",
       "      <td>0.670000</td>\n",
       "      <td>5.380000</td>\n",
       "      <td>15.400000</td>\n",
       "      <td>19.440000</td>\n",
       "      <td>21.080000</td>\n",
       "      <td>22.580000</td>\n",
       "      <td>23.850000</td>\n",
       "      <td>25.870000</td>\n",
       "      <td>...</td>\n",
       "      <td>28.930000</td>\n",
       "      <td>29.460000</td>\n",
       "      <td>29.980000</td>\n",
       "      <td>30.650000</td>\n",
       "      <td>31.480000</td>\n",
       "      <td>31.700000</td>\n",
       "      <td>32.080000</td>\n",
       "      <td>32.520000</td>\n",
       "      <td>33.270000</td>\n",
       "      <td>34.920000</td>\n",
       "    </tr>\n",
       "    <tr>\n",
       "      <th>7</th>\n",
       "      <td>NASA13</td>\n",
       "      <td>230908.10</td>\n",
       "      <td>3.459978</td>\n",
       "      <td>5.506422</td>\n",
       "      <td>7.280689</td>\n",
       "      <td>8.701641</td>\n",
       "      <td>9.884978</td>\n",
       "      <td>11.111958</td>\n",
       "      <td>12.339365</td>\n",
       "      <td>14.602604</td>\n",
       "      <td>...</td>\n",
       "      <td>19.790361</td>\n",
       "      <td>21.272549</td>\n",
       "      <td>22.432035</td>\n",
       "      <td>23.666608</td>\n",
       "      <td>25.455120</td>\n",
       "      <td>25.998611</td>\n",
       "      <td>26.657319</td>\n",
       "      <td>27.450492</td>\n",
       "      <td>28.737724</td>\n",
       "      <td>31.037746</td>\n",
       "    </tr>\n",
       "    <tr>\n",
       "      <th>8</th>\n",
       "      <td>NASA14</td>\n",
       "      <td>147391.68</td>\n",
       "      <td>4.067199</td>\n",
       "      <td>5.920956</td>\n",
       "      <td>7.259077</td>\n",
       "      <td>8.357512</td>\n",
       "      <td>9.251532</td>\n",
       "      <td>10.064942</td>\n",
       "      <td>10.824036</td>\n",
       "      <td>12.222900</td>\n",
       "      <td>...</td>\n",
       "      <td>15.496112</td>\n",
       "      <td>16.292735</td>\n",
       "      <td>17.205799</td>\n",
       "      <td>18.267199</td>\n",
       "      <td>19.683377</td>\n",
       "      <td>20.102801</td>\n",
       "      <td>20.643855</td>\n",
       "      <td>21.324975</td>\n",
       "      <td>22.359984</td>\n",
       "      <td>24.200016</td>\n",
       "    </tr>\n",
       "    <tr>\n",
       "      <th>9</th>\n",
       "      <td>NASA19</td>\n",
       "      <td>5237.80</td>\n",
       "      <td>-1.484802</td>\n",
       "      <td>-1.109356</td>\n",
       "      <td>-0.822772</td>\n",
       "      <td>-0.564901</td>\n",
       "      <td>-0.318465</td>\n",
       "      <td>-0.092475</td>\n",
       "      <td>0.167970</td>\n",
       "      <td>0.799406</td>\n",
       "      <td>...</td>\n",
       "      <td>3.136584</td>\n",
       "      <td>3.713168</td>\n",
       "      <td>4.475495</td>\n",
       "      <td>5.439455</td>\n",
       "      <td>6.969901</td>\n",
       "      <td>7.348911</td>\n",
       "      <td>7.818267</td>\n",
       "      <td>8.396634</td>\n",
       "      <td>9.180347</td>\n",
       "      <td>10.730545</td>\n",
       "    </tr>\n",
       "    <tr>\n",
       "      <th>10</th>\n",
       "      <td>NASA20</td>\n",
       "      <td>73406.08</td>\n",
       "      <td>-1.155397</td>\n",
       "      <td>-0.173953</td>\n",
       "      <td>0.683863</td>\n",
       "      <td>1.431769</td>\n",
       "      <td>2.200523</td>\n",
       "      <td>2.993971</td>\n",
       "      <td>3.902202</td>\n",
       "      <td>5.826751</td>\n",
       "      <td>...</td>\n",
       "      <td>11.590903</td>\n",
       "      <td>12.996968</td>\n",
       "      <td>14.399874</td>\n",
       "      <td>15.913773</td>\n",
       "      <td>18.425181</td>\n",
       "      <td>19.373466</td>\n",
       "      <td>20.388231</td>\n",
       "      <td>21.482473</td>\n",
       "      <td>22.909729</td>\n",
       "      <td>25.249783</td>\n",
       "    </tr>\n",
       "    <tr>\n",
       "      <th>11</th>\n",
       "      <td>NASA21</td>\n",
       "      <td>3107.52</td>\n",
       "      <td>-1.876348</td>\n",
       "      <td>-1.455130</td>\n",
       "      <td>-1.160957</td>\n",
       "      <td>-0.907391</td>\n",
       "      <td>-0.667739</td>\n",
       "      <td>-0.466000</td>\n",
       "      <td>-0.265913</td>\n",
       "      <td>0.148870</td>\n",
       "      <td>...</td>\n",
       "      <td>1.406783</td>\n",
       "      <td>1.812870</td>\n",
       "      <td>2.305913</td>\n",
       "      <td>2.981217</td>\n",
       "      <td>4.013913</td>\n",
       "      <td>4.321739</td>\n",
       "      <td>4.673391</td>\n",
       "      <td>5.094783</td>\n",
       "      <td>5.598435</td>\n",
       "      <td>6.392870</td>\n",
       "    </tr>\n",
       "    <tr>\n",
       "      <th>12</th>\n",
       "      <td>NASA21A</td>\n",
       "      <td>129807.85</td>\n",
       "      <td>2.675841</td>\n",
       "      <td>4.764143</td>\n",
       "      <td>6.554003</td>\n",
       "      <td>7.882664</td>\n",
       "      <td>9.175857</td>\n",
       "      <td>10.177243</td>\n",
       "      <td>11.135779</td>\n",
       "      <td>12.896199</td>\n",
       "      <td>...</td>\n",
       "      <td>16.914206</td>\n",
       "      <td>17.689486</td>\n",
       "      <td>18.524984</td>\n",
       "      <td>19.433458</td>\n",
       "      <td>20.845732</td>\n",
       "      <td>21.212570</td>\n",
       "      <td>21.670794</td>\n",
       "      <td>22.290981</td>\n",
       "      <td>23.160514</td>\n",
       "      <td>24.775997</td>\n",
       "    </tr>\n",
       "    <tr>\n",
       "      <th>13</th>\n",
       "      <td>NASA22</td>\n",
       "      <td>268291.92</td>\n",
       "      <td>6.676435</td>\n",
       "      <td>8.829677</td>\n",
       "      <td>10.550907</td>\n",
       "      <td>11.816447</td>\n",
       "      <td>12.913689</td>\n",
       "      <td>13.873354</td>\n",
       "      <td>14.792149</td>\n",
       "      <td>16.306646</td>\n",
       "      <td>...</td>\n",
       "      <td>19.854894</td>\n",
       "      <td>20.619267</td>\n",
       "      <td>21.472857</td>\n",
       "      <td>22.495702</td>\n",
       "      <td>23.997578</td>\n",
       "      <td>24.381677</td>\n",
       "      <td>24.802795</td>\n",
       "      <td>25.327466</td>\n",
       "      <td>26.049764</td>\n",
       "      <td>27.603466</td>\n",
       "    </tr>\n",
       "    <tr>\n",
       "      <th>14</th>\n",
       "      <td>NASA23</td>\n",
       "      <td>119419.19</td>\n",
       "      <td>3.176247</td>\n",
       "      <td>4.948426</td>\n",
       "      <td>6.364455</td>\n",
       "      <td>7.707361</td>\n",
       "      <td>9.048547</td>\n",
       "      <td>10.379637</td>\n",
       "      <td>11.567240</td>\n",
       "      <td>13.712760</td>\n",
       "      <td>...</td>\n",
       "      <td>19.698717</td>\n",
       "      <td>20.957821</td>\n",
       "      <td>22.253874</td>\n",
       "      <td>23.702107</td>\n",
       "      <td>25.610872</td>\n",
       "      <td>26.085835</td>\n",
       "      <td>26.605472</td>\n",
       "      <td>27.238935</td>\n",
       "      <td>28.123923</td>\n",
       "      <td>30.113850</td>\n",
       "    </tr>\n",
       "  </tbody>\n",
       "</table>\n",
       "<p>15 rows × 25 columns</p>\n",
       "</div>"
      ],
      "text/plain": [
       "      Plots    Sum_ABG      RH10      RH15       RH20       RH25       RH30  \\\n",
       "0    NASA01   25829.30 -1.481036 -0.975139  -0.555020  -0.151235   0.260478   \n",
       "1    NASA02  250855.90  3.800773  5.754303   7.300672   8.691412  10.054050   \n",
       "2    NASA03   48809.14  1.111806  2.540870   3.685485   4.636321   5.482341   \n",
       "3    NASA05   86479.60  0.602757  2.505952   4.814508   6.160438   7.080591   \n",
       "4    NASA09    3439.58 -2.720100 -2.163700  -1.722400  -1.347700  -1.004600   \n",
       "5    NASA10   99361.95 -0.914382  0.971573   4.594382   6.155056   6.906742   \n",
       "6    NASA11   31446.68  0.670000  5.380000  15.400000  19.440000  21.080000   \n",
       "7    NASA13  230908.10  3.459978  5.506422   7.280689   8.701641   9.884978   \n",
       "8    NASA14  147391.68  4.067199  5.920956   7.259077   8.357512   9.251532   \n",
       "9    NASA19    5237.80 -1.484802 -1.109356  -0.822772  -0.564901  -0.318465   \n",
       "10   NASA20   73406.08 -1.155397 -0.173953   0.683863   1.431769   2.200523   \n",
       "11   NASA21    3107.52 -1.876348 -1.455130  -1.160957  -0.907391  -0.667739   \n",
       "12  NASA21A  129807.85  2.675841  4.764143   6.554003   7.882664   9.175857   \n",
       "13   NASA22  268291.92  6.676435  8.829677  10.550907  11.816447  12.913689   \n",
       "14   NASA23  119419.19  3.176247  4.948426   6.364455   7.707361   9.048547   \n",
       "\n",
       "         RH35       RH40       RH50  ...       RH75       RH80       RH85  \\\n",
       "0    0.672390   1.123386   2.135259  ...   4.354502   4.784143   5.311753   \n",
       "1   11.470118  12.945597  15.500269  ...  21.952034  23.267008  24.647798   \n",
       "2    6.220836   6.883746   8.173043  ...  11.808294  12.808963  13.849632   \n",
       "3    7.856696   8.706105  12.275383  ...  17.844223  19.880306  21.857549   \n",
       "4   -0.692700  -0.387100   0.199300  ...   1.910700   2.390200   2.932400   \n",
       "5    7.564831   8.191798   9.217416  ...  11.985730  12.761011  13.632360   \n",
       "6   22.580000  23.850000  25.870000  ...  28.930000  29.460000  29.980000   \n",
       "7   11.111958  12.339365  14.602604  ...  19.790361  21.272549  22.432035   \n",
       "8   10.064942  10.824036  12.222900  ...  15.496112  16.292735  17.205799   \n",
       "9   -0.092475   0.167970   0.799406  ...   3.136584   3.713168   4.475495   \n",
       "10   2.993971   3.902202   5.826751  ...  11.590903  12.996968  14.399874   \n",
       "11  -0.466000  -0.265913   0.148870  ...   1.406783   1.812870   2.305913   \n",
       "12  10.177243  11.135779  12.896199  ...  16.914206  17.689486  18.524984   \n",
       "13  13.873354  14.792149  16.306646  ...  19.854894  20.619267  21.472857   \n",
       "14  10.379637  11.567240  13.712760  ...  19.698717  20.957821  22.253874   \n",
       "\n",
       "         RH90       RH95       RH96       RH97       RH98       RH99  \\\n",
       "0    6.075020   7.224502   7.658765   8.130876   8.680080   9.506056   \n",
       "1   26.203983  28.348924  28.959933  29.775479  31.393815  32.674908   \n",
       "2   15.095853  17.135585  17.597960  18.131472  18.779365  19.696488   \n",
       "3   23.489015  25.830306  26.819300  28.159278  30.190153  31.949300   \n",
       "4    3.672600   4.912400   5.312800   5.775300   6.374300   7.355900   \n",
       "5   14.501236  15.622921  15.948989  16.421798  17.465056  19.799438   \n",
       "6   30.650000  31.480000  31.700000  32.080000  32.520000  33.270000   \n",
       "7   23.666608  25.455120  25.998611  26.657319  27.450492  28.737724   \n",
       "8   18.267199  19.683377  20.102801  20.643855  21.324975  22.359984   \n",
       "9    5.439455   6.969901   7.348911   7.818267   8.396634   9.180347   \n",
       "10  15.913773  18.425181  19.373466  20.388231  21.482473  22.909729   \n",
       "11   2.981217   4.013913   4.321739   4.673391   5.094783   5.598435   \n",
       "12  19.433458  20.845732  21.212570  21.670794  22.290981  23.160514   \n",
       "13  22.495702  23.997578  24.381677  24.802795  25.327466  26.049764   \n",
       "14  23.702107  25.610872  26.085835  26.605472  27.238935  28.123923   \n",
       "\n",
       "        RH100  \n",
       "0   11.085976  \n",
       "1   34.572353  \n",
       "2   21.572375  \n",
       "3   35.220744  \n",
       "4    9.256100  \n",
       "5   23.186292  \n",
       "6   34.920000  \n",
       "7   31.037746  \n",
       "8   24.200016  \n",
       "9   10.730545  \n",
       "10  25.249783  \n",
       "11   6.392870  \n",
       "12  24.775997  \n",
       "13  27.603466  \n",
       "14  30.113850  \n",
       "\n",
       "[15 rows x 25 columns]"
      ]
     },
     "execution_count": 7,
     "metadata": {},
     "output_type": "execute_result"
    }
   ],
   "source": [
    "PLOT_RH"
   ]
  },
  {
   "cell_type": "markdown",
   "metadata": {},
   "source": [
    "#matplotlib.pyplot.scatter(LVIS_in_subplots13_22.GLON,LVIS_in_subplots13_22.ZG,color='r') \n",
    "matplotlib.pyplot.scatter(LVIS_in_subplots13_22.GLON,LVIS_in_subplots13_22.RH25,color='orange') \n",
    "matplotlib.pyplot.scatter(LVIS_in_subplots13_22.GLON,LVIS_in_subplots13_22.RH50,color='y')\n",
    "matplotlib.pyplot.scatter(LVIS_in_subplots13_22.GLON,LVIS_in_subplots13_22.RH75,color='g')\n",
    "#matplotlib.pyplot.scatter(LVIS_in_subplots13_22.GLON,LVIS_in_subplots13_22.ZT,color='b')\n",
    "matplotlib.pyplot.show()"
   ]
  },
  {
   "cell_type": "markdown",
   "metadata": {},
   "source": [
    "AGB (kg) = 0.0673 × (ρ × dbh^2 × ht)^0.976"
   ]
  },
  {
   "cell_type": "code",
   "execution_count": 9,
   "metadata": {},
   "outputs": [],
   "source": [
    "#https://automating-gis-processes.github.io/2017/lessons/L3/nearest-neighbour.html"
   ]
  },
  {
   "cell_type": "code",
   "execution_count": 10,
   "metadata": {},
   "outputs": [],
   "source": [
    "#Trees_in_subplots13_22csv = Trees_in_subplots13_22.to_csv(r'D:\\Gabon_Lidar\\DATA\\pandas_csv\\Trees_in_subplots13_22.csv')"
   ]
  },
  {
   "cell_type": "code",
   "execution_count": 11,
   "metadata": {},
   "outputs": [],
   "source": [
    "#LVIS_in_subplots13_22csv = LVIS_in_subplots13_22.to_csv(r'D:\\Gabon_Lidar\\DATA\\pandas_csv\\LVIS_in_subplots13_22.csv')"
   ]
  },
  {
   "cell_type": "code",
   "execution_count": 12,
   "metadata": {},
   "outputs": [],
   "source": [
    "#Trees_in_subplots13_22 = pd.read_csv (r'D:\\Gabon_Lidar\\DATA\\pandas_csv\\Trees_in_subplots13_22.csv')"
   ]
  },
  {
   "cell_type": "code",
   "execution_count": 13,
   "metadata": {},
   "outputs": [],
   "source": [
    "#LVIS_in_subplots13_22 = pd.read_csv (r'D:\\Gabon_Lidar\\DATA\\pandas_csv\\LVIS_in_subplots13_22.csv')"
   ]
  },
  {
   "cell_type": "code",
   "execution_count": 14,
   "metadata": {},
   "outputs": [],
   "source": [
    "#https://www.listendata.com/2019/07/how-to-filter-pandas-dataframe.html#:~:text=%20Filter%20pandas%20dataframe%20by%20column%20value%20,same%20output.%20It%27s%20just%20a%20different...%20More%20"
   ]
  },
  {
   "cell_type": "code",
   "execution_count": 8,
   "metadata": {},
   "outputs": [
    {
     "data": {
      "text/plain": [
       "Index(['Plots', 'Sum_ABG', 'RH10', 'RH15', 'RH20', 'RH25', 'RH30', 'RH35',\n",
       "       'RH40', 'RH50', 'RH45', 'RH55', 'RH60', 'RH65', 'RH70', 'RH75', 'RH80',\n",
       "       'RH85', 'RH90', 'RH95', 'RH96', 'RH97', 'RH98', 'RH99', 'RH100'],\n",
       "      dtype='object')"
      ]
     },
     "execution_count": 8,
     "metadata": {},
     "output_type": "execute_result"
    }
   ],
   "source": [
    "PLOT_RH.columns"
   ]
  },
  {
   "cell_type": "code",
   "execution_count": 16,
   "metadata": {},
   "outputs": [],
   "source": [
    "#TreesRH13_22.columns"
   ]
  },
  {
   "cell_type": "code",
   "execution_count": 9,
   "metadata": {},
   "outputs": [
    {
     "data": {
      "image/png": "[encoded data removed]",
      "text/plain": [
       "<Figure size 432x288 with 1 Axes>"
      ]
     },
     "metadata": {
      "needs_background": "light"
     },
     "output_type": "display_data"
    }
   ],
   "source": [
    "#matplotlib.pyplot.scatter(Trees_RH.m_agb,Trees_RH.ZG,color='r') \n",
    "matplotlib.pyplot.scatter(PLOT_RH.Sum_ABG,PLOT_RH.RH25,color='orange') \n",
    "matplotlib.pyplot.scatter(PLOT_RH.Sum_ABG,PLOT_RH.RH50,color='y')\n",
    "matplotlib.pyplot.scatter(PLOT_RH.Sum_ABG,PLOT_RH.RH75,color='g')\n",
    "matplotlib.pyplot.scatter(PLOT_RH.Sum_ABG,PLOT_RH.RH100,color='b')\n",
    "matplotlib.pyplot.show()"
   ]
  },
  {
   "cell_type": "code",
   "execution_count": 10,
   "metadata": {},
   "outputs": [
    {
     "data": {
      "text/plain": [
       "<matplotlib.collections.PathCollection at 0x1790a74c880>"
      ]
     },
     "execution_count": 10,
     "metadata": {},
     "output_type": "execute_result"
    },
    {
     "data": {
      "image/png": "[encoded data removed]",
      "text/plain": [
       "<Figure size 432x288 with 1 Axes>"
      ]
     },
     "metadata": {
      "needs_background": "light"
     },
     "output_type": "display_data"
    }
   ],
   "source": [
    "matplotlib.pyplot.scatter(PLOT_RH.Sum_ABG,PLOT_RH.RH25,color='orange') "
   ]
  },
  {
   "cell_type": "code",
   "execution_count": 11,
   "metadata": {},
   "outputs": [
    {
     "data": {
      "text/plain": [
       "<matplotlib.collections.PathCollection at 0x1790a7ad3a0>"
      ]
     },
     "execution_count": 11,
     "metadata": {},
     "output_type": "execute_result"
    },
    {
     "data": {
      "image/png": "[encoded data removed]",
      "text/plain": [
       "<Figure size 432x288 with 1 Axes>"
      ]
     },
     "metadata": {
      "needs_background": "light"
     },
     "output_type": "display_data"
    }
   ],
   "source": [
    "matplotlib.pyplot.scatter(PLOT_RH.Sum_ABG,PLOT_RH.RH50,color='y')"
   ]
  },
  {
   "cell_type": "code",
   "execution_count": 12,
   "metadata": {},
   "outputs": [
    {
     "data": {
      "text/plain": [
       "<matplotlib.collections.PathCollection at 0x1790a7da2b0>"
      ]
     },
     "execution_count": 12,
     "metadata": {},
     "output_type": "execute_result"
    },
    {
     "data": {
      "image/png": "[encoded data removed]",
      "text/plain": [
       "<Figure size 432x288 with 1 Axes>"
      ]
     },
     "metadata": {
      "needs_background": "light"
     },
     "output_type": "display_data"
    }
   ],
   "source": [
    "matplotlib.pyplot.scatter(PLOT_RH.Sum_ABG,PLOT_RH.RH75,color='g')"
   ]
  },
  {
   "cell_type": "code",
   "execution_count": 13,
   "metadata": {},
   "outputs": [
    {
     "data": {
      "text/plain": [
       "<matplotlib.collections.PathCollection at 0x1790a7f23d0>"
      ]
     },
     "execution_count": 13,
     "metadata": {},
     "output_type": "execute_result"
    },
    {
     "data": {
      "image/png": "[encoded data removed]",
      "text/plain": [
       "<Figure size 432x288 with 1 Axes>"
      ]
     },
     "metadata": {
      "needs_background": "light"
     },
     "output_type": "display_data"
    }
   ],
   "source": [
    "matplotlib.pyplot.scatter(PLOT_RH.Sum_ABG,PLOT_RH.RH100,color='b')"
   ]
  },
  {
   "cell_type": "code",
   "execution_count": null,
   "metadata": {},
   "outputs": [],
   "source": []
  },
  {
   "cell_type": "code",
   "execution_count": null,
   "metadata": {},
   "outputs": [],
   "source": []
  },
  {
   "cell_type": "code",
   "execution_count": null,
   "metadata": {},
   "outputs": [],
   "source": []
  },
  {
   "cell_type": "code",
   "execution_count": null,
   "metadata": {},
   "outputs": [],
   "source": []
  }
 ],
 "metadata": {
  "kernelspec": {
   "display_name": "Python 3",
   "language": "python",
   "name": "python3"
  },
  "language_info": {
   "codemirror_mode": {
    "name": "ipython",
    "version": 3
   },
   "file_extension": ".py",
   "mimetype": "text/x-python",
   "name": "python",
   "nbconvert_exporter": "python",
   "pygments_lexer": "ipython3",
   "version": "3.8.5"
  }
 },
 "nbformat": 4,
 "nbformat_minor": 4
}
