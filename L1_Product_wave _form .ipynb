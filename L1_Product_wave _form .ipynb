{
 "cells": [
  {
   "cell_type": "code",
   "execution_count": null,
   "metadata": {},
   "outputs": [],
   "source": [
    ";get height profiles for the waveforms\n",
    "x = indgen(432)\n",
    "lvisP.dz = (lgw.z0-lgw.z431)/431\n",
    "for i = 0L,numshots-1 do begin\n",
    "        lvisP(i).z0 = x(*)*(-lvisP(i).dz) + lgw(i).z0 - lge(i).zg   ;height above ground\n",
    "End\n",
    "\n",
    ";get waveforms\n",
    "for i = 0L,numshots-1 do begin\n",
    "        lvisP(i).wave0 = lgw(i).wave - lgw(i).sigmean\n",
    "End"
   ]
  },
  {
   "cell_type": "code",
   "execution_count": 1,
   "metadata": {},
   "outputs": [],
   "source": [
    "#Import Lib"
   ]
  },
  {
   "cell_type": "code",
   "execution_count": 2,
   "metadata": {},
   "outputs": [],
   "source": [
    "import matplotlib.pyplot as plt\n",
    "import numpy as np\n",
    "import pylab\n",
    "import pandas as pd\n",
    "import h5py\n",
    "import geopandas as gpd\n",
    "from shapely.geometry import *\n",
    "from geopandas.geoseries import *\n",
    "import sys"
   ]
  },
  {
   "cell_type": "code",
   "execution_count": 3,
   "metadata": {},
   "outputs": [],
   "source": [
    "#Import L2 Product "
   ]
  },
  {
   "cell_type": "code",
   "execution_count": 4,
   "metadata": {},
   "outputs": [],
   "source": [
    "#L1_045612 = h5py.File(r'D:\\Gabon_Lidar\\DATA\\level1\\5000000734313-1\\138349060\\LVIS1B_Gabon2016_0308_R1808_045612.h5','r')\n",
    "L2_045612 =(r'D:\\Gabon_Lidar\\DATA\\LEVEL2_0308\\LVIS2B_Gabon2016_0308_R1808_045612.txt')"
   ]
  },
  {
   "cell_type": "code",
   "execution_count": 5,
   "metadata": {},
   "outputs": [],
   "source": [
    "#Import L1 Product "
   ]
  },
  {
   "cell_type": "code",
   "execution_count": 6,
   "metadata": {},
   "outputs": [],
   "source": [
    "lvis = h5py.File(r'D:\\Gabon_Lidar\\DATA\\LEVEL1_0308\\LVIS1B_Gabon2016_0308_R1808_045612.h5','r')\n",
    "#get wave index from shotnumber and test if exists\n",
    "all_shotnums = np.array(lvis['SHOTNUMBER'])\n",
    "wave_idx = ''\n",
    "Zmax = ''\n",
    "wfrange = 1024\n",
    "wfsize = 1023\n"
   ]
  },
  {
   "cell_type": "code",
   "execution_count": 7,
   "metadata": {},
   "outputs": [],
   "source": [
    "#Bring in Shot of intrest "
   ]
  },
  {
   "cell_type": "code",
   "execution_count": 8,
   "metadata": {},
   "outputs": [],
   "source": [
    "#This looks Good \n",
    "myshotnum = int(9361769)"
   ]
  },
  {
   "cell_type": "code",
   "execution_count": 9,
   "metadata": {},
   "outputs": [],
   "source": [
    "#Looking for my shot in the array \n",
    "wave_idx = np.where(all_shotnums==myshotnum)[0][0]"
   ]
  },
  {
   "cell_type": "code",
   "execution_count": 10,
   "metadata": {},
   "outputs": [
    {
     "name": "stdout",
     "output_type": "stream",
     "text": [
      "49961\n"
     ]
    }
   ],
   "source": [
    "print(wave_idx)"
   ]
  },
  {
   "cell_type": "code",
   "execution_count": 11,
   "metadata": {},
   "outputs": [],
   "source": [
    "#extract the single waveform and elevation attributes Z0 and Z1023;\n",
    "waveform = lvis['RXWAVE'][wave_idx]"
   ]
  },
  {
   "cell_type": "code",
   "execution_count": 12,
   "metadata": {},
   "outputs": [],
   "source": [
    "Z0 = int(lvis['Z0'][wave_idx])"
   ]
  },
  {
   "cell_type": "code",
   "execution_count": 13,
   "metadata": {},
   "outputs": [],
   "source": [
    "Z1023 = int(lvis['Z1023'][wave_idx])"
   ]
  },
  {
   "cell_type": "code",
   "execution_count": 14,
   "metadata": {},
   "outputs": [],
   "source": [
    "x = Z0 - Z1023"
   ]
  },
  {
   "cell_type": "code",
   "execution_count": null,
   "metadata": {},
   "outputs": [],
   "source": []
  },
  {
   "cell_type": "code",
   "execution_count": 15,
   "metadata": {},
   "outputs": [],
   "source": [
    "L2 =pd.read_csv(r'D:\\Gabon_Lidar\\DATA\\LEVEL2_0308\\csv\\LVIS2_Gabon2016_0308_R1808_045612.csv')"
   ]
  },
  {
   "cell_type": "code",
   "execution_count": 16,
   "metadata": {},
   "outputs": [],
   "source": [
    "L2 = L2[(L2['SHOTNUMBER'] == myshotnum)]"
   ]
  },
  {
   "cell_type": "code",
   "execution_count": 17,
   "metadata": {},
   "outputs": [],
   "source": [
    "#find the elevation difference from Z0 to Z1023 and divide into 1023 equal intervals\n",
    "zstretch = np.add(Z1023,np.multiply(range(wfrange,0,-1),((Z0-Z1023)/int(wfsize))))"
   ]
  },
  {
   "cell_type": "code",
   "execution_count": 18,
   "metadata": {},
   "outputs": [
    {
     "data": {
      "text/html": [
       "<div>\n",
       "<style scoped>\n",
       "    .dataframe tbody tr th:only-of-type {\n",
       "        vertical-align: middle;\n",
       "    }\n",
       "\n",
       "    .dataframe tbody tr th {\n",
       "        vertical-align: top;\n",
       "    }\n",
       "\n",
       "    .dataframe thead th {\n",
       "        text-align: right;\n",
       "    }\n",
       "</style>\n",
       "<table border=\"1\" class=\"dataframe\">\n",
       "  <thead>\n",
       "    <tr style=\"text-align: right;\">\n",
       "      <th></th>\n",
       "      <th>LFID</th>\n",
       "      <th>SHOTNUMBER</th>\n",
       "      <th>TIME</th>\n",
       "      <th>GLON</th>\n",
       "      <th>GLAT</th>\n",
       "      <th>ZG</th>\n",
       "      <th>HLON</th>\n",
       "      <th>HLAT</th>\n",
       "      <th>ZH</th>\n",
       "      <th>TLON</th>\n",
       "      <th>...</th>\n",
       "      <th>RH98</th>\n",
       "      <th>RH99</th>\n",
       "      <th>RH100</th>\n",
       "      <th>AZIMUTH</th>\n",
       "      <th>INCIDENTANGLE</th>\n",
       "      <th>RANGE</th>\n",
       "      <th>COMPLEXITY</th>\n",
       "      <th>CHANNEL_L1B</th>\n",
       "      <th>CHANNEL_ZG</th>\n",
       "      <th>CHANNEL_RH</th>\n",
       "    </tr>\n",
       "  </thead>\n",
       "  <tbody>\n",
       "    <tr>\n",
       "      <th>49961</th>\n",
       "      <td>1657455140</td>\n",
       "      <td>9361769</td>\n",
       "      <td>45679.156</td>\n",
       "      <td>9.422529</td>\n",
       "      <td>0.582682</td>\n",
       "      <td>19.35</td>\n",
       "      <td>-999</td>\n",
       "      <td>-999</td>\n",
       "      <td>-999</td>\n",
       "      <td>9.422531</td>\n",
       "      <td>...</td>\n",
       "      <td>15.43</td>\n",
       "      <td>16.62</td>\n",
       "      <td>19.24</td>\n",
       "      <td>350.9</td>\n",
       "      <td>2.8</td>\n",
       "      <td>7716.76</td>\n",
       "      <td>-999</td>\n",
       "      <td>1</td>\n",
       "      <td>1</td>\n",
       "      <td>1</td>\n",
       "    </tr>\n",
       "  </tbody>\n",
       "</table>\n",
       "<p>1 rows × 42 columns</p>\n",
       "</div>"
      ],
      "text/plain": [
       "             LFID  SHOTNUMBER       TIME      GLON      GLAT     ZG  HLON  \\\n",
       "49961  1657455140     9361769  45679.156  9.422529  0.582682  19.35  -999   \n",
       "\n",
       "       HLAT   ZH      TLON  ...   RH98   RH99  RH100  AZIMUTH  INCIDENTANGLE  \\\n",
       "49961  -999 -999  9.422531  ...  15.43  16.62  19.24    350.9            2.8   \n",
       "\n",
       "         RANGE  COMPLEXITY  CHANNEL_L1B  CHANNEL_ZG  CHANNEL_RH  \n",
       "49961  7716.76        -999            1           1           1  \n",
       "\n",
       "[1 rows x 42 columns]"
      ]
     },
     "execution_count": 18,
     "metadata": {},
     "output_type": "execute_result"
    }
   ],
   "source": [
    "L2"
   ]
  },
  {
   "cell_type": "code",
   "execution_count": 19,
   "metadata": {},
   "outputs": [],
   "source": [
    "ZG = float(L2['ZG'])"
   ]
  },
  {
   "cell_type": "code",
   "execution_count": 20,
   "metadata": {},
   "outputs": [
    {
     "data": {
      "text/plain": [
       "19.35"
      ]
     },
     "execution_count": 20,
     "metadata": {},
     "output_type": "execute_result"
    }
   ],
   "source": [
    "ZG"
   ]
  },
  {
   "cell_type": "code",
   "execution_count": 21,
   "metadata": {},
   "outputs": [],
   "source": [
    "ZT = float(L2['ZT'])"
   ]
  },
  {
   "cell_type": "code",
   "execution_count": 22,
   "metadata": {},
   "outputs": [
    {
     "data": {
      "text/plain": [
       "38.59"
      ]
     },
     "execution_count": 22,
     "metadata": {},
     "output_type": "execute_result"
    }
   ],
   "source": [
    "ZT"
   ]
  },
  {
   "cell_type": "code",
   "execution_count": 23,
   "metadata": {},
   "outputs": [],
   "source": [
    "RH25 = float(L2['RH25']+L2['ZG'])"
   ]
  },
  {
   "cell_type": "code",
   "execution_count": 24,
   "metadata": {},
   "outputs": [
    {
     "data": {
      "text/plain": [
       "26.39"
      ]
     },
     "execution_count": 24,
     "metadata": {},
     "output_type": "execute_result"
    }
   ],
   "source": [
    "RH25"
   ]
  },
  {
   "cell_type": "code",
   "execution_count": 25,
   "metadata": {},
   "outputs": [],
   "source": [
    "RH50 = float(L2['RH50']+L2['ZG'])"
   ]
  },
  {
   "cell_type": "code",
   "execution_count": 26,
   "metadata": {},
   "outputs": [
    {
     "data": {
      "text/plain": [
       "28.86"
      ]
     },
     "execution_count": 26,
     "metadata": {},
     "output_type": "execute_result"
    }
   ],
   "source": [
    "RH50"
   ]
  },
  {
   "cell_type": "code",
   "execution_count": 27,
   "metadata": {},
   "outputs": [],
   "source": [
    "RH75 = float(L2['RH75']+L2['ZG'])"
   ]
  },
  {
   "cell_type": "code",
   "execution_count": 28,
   "metadata": {},
   "outputs": [
    {
     "data": {
      "text/plain": [
       "30.810000000000002"
      ]
     },
     "execution_count": 28,
     "metadata": {},
     "output_type": "execute_result"
    }
   ],
   "source": [
    "RH75"
   ]
  },
  {
   "cell_type": "code",
   "execution_count": 29,
   "metadata": {},
   "outputs": [],
   "source": [
    "RH10 = float(L2['RH10']+L2['ZG'])"
   ]
  },
  {
   "cell_type": "code",
   "execution_count": 30,
   "metadata": {},
   "outputs": [
    {
     "data": {
      "text/plain": [
       "22.950000000000003"
      ]
     },
     "execution_count": 30,
     "metadata": {},
     "output_type": "execute_result"
    }
   ],
   "source": [
    "RH10"
   ]
  },
  {
   "cell_type": "code",
   "execution_count": 31,
   "metadata": {},
   "outputs": [
    {
     "data": {
      "text/plain": [
       "array([65, 66, 66, ..., 61, 59, 60], dtype=uint16)"
      ]
     },
     "execution_count": 31,
     "metadata": {},
     "output_type": "execute_result"
    }
   ],
   "source": [
    "waveform"
   ]
  },
  {
   "cell_type": "code",
   "execution_count": 32,
   "metadata": {},
   "outputs": [],
   "source": [
    "    #set the z range limits for plotting the waveform to crop the noise  \n",
    "    zmin=RH10-(ZT-RH10)/6   #sets zmin at 15% below the waveform range defined in RH10-ZT\n",
    "    zmax=ZT+(ZT-RH10)/18   #sets zmax at 5% above the waveform range defined in RH10-ZT"
   ]
  },
  {
   "cell_type": "code",
   "execution_count": 33,
   "metadata": {},
   "outputs": [],
   "source": [
    "    #crop the waveform and elevation arrays to the z range limits\n",
    "    x=zstretch>=zmin #this returns boolean True/False based on the comparison condition statement\n",
    "    y=zstretch<=zmax \n",
    "    z=(x==y) #this creates a combined boolean result from the previous two condition statements\n",
    "    waveform_crop = []\n",
    "    zstretch_crop = []\n",
    "    for i in range(0,len(waveform)):\n",
    "        if z[i]==True:\n",
    "            waveform_crop.append(waveform[i])\n",
    "            zstretch_crop.append(zstretch[i])  \n",
    "        "
   ]
  },
  {
   "cell_type": "code",
   "execution_count": 34,
   "metadata": {},
   "outputs": [
    {
     "data": {
      "image/png": "[encoded data removed]",
      "text/plain": [
       "<Figure size 1080x432 with 2 Axes>"
      ]
     },
     "metadata": {
      "needs_background": "light"
     },
     "output_type": "display_data"
    }
   ],
   "source": [
    "    #plot the waveform as matplotlib figure\n",
    "    fig = plt.figure(figsize=(15, 6))\n",
    "    figplot = fig.add_subplot(121) \n",
    "    figplot.plot(waveform,zstretch)\n",
    "    plt.ylabel('elevation(m)')\n",
    "    plt.xlabel('amplitude')\n",
    "\n",
    "    figplot = fig.add_subplot(122) \n",
    "    figplot.plot(waveform_crop,zstretch_crop)\n",
    "    figplot.hlines(ZT,min(waveform),max(waveform),lw=1,linestyle='-', color='b',label='ZT')\n",
    "    figplot.hlines(RH75,min(waveform),max(waveform),lw=1,linestyle='-', color='g',label='RH75')\n",
    "    figplot.hlines(RH50,min(waveform),max(waveform),lw=1,linestyle='-', color='y',label='RH50')\n",
    "    figplot.hlines(RH25,min(waveform),max(waveform),lw=1,linestyle='-', color='orange',label='RH25')\n",
    "    figplot.hlines(ZG,min(waveform),max(waveform),lw=1,linestyle='-', color='r',label='ZG')\n",
    "    plt.legend(bbox_to_anchor=(0., 1.02, 1., .102), loc=3, ncol=5, mode=\"expand\", borderaxespad=0.)\n",
    "    plt.ylabel('elevation(m)')\n",
    "    plt.xlabel('amplitude')\n",
    "    plt.show(block=False)"
   ]
  },
  {
   "cell_type": "code",
   "execution_count": 35,
   "metadata": {},
   "outputs": [
    {
     "data": {
      "text/plain": [
       "19.35"
      ]
     },
     "execution_count": 35,
     "metadata": {},
     "output_type": "execute_result"
    }
   ],
   "source": [
    "ZG"
   ]
  },
  {
   "cell_type": "code",
   "execution_count": 36,
   "metadata": {},
   "outputs": [],
   "source": [
    "ZG = np.array(ZG)"
   ]
  },
  {
   "cell_type": "code",
   "execution_count": 37,
   "metadata": {},
   "outputs": [
    {
     "name": "stdout",
     "output_type": "stream",
     "text": [
      "<class 'numpy.ndarray'>\n"
     ]
    }
   ],
   "source": [
    "print(type(ZG))"
   ]
  },
  {
   "cell_type": "code",
   "execution_count": 38,
   "metadata": {},
   "outputs": [
    {
     "name": "stdout",
     "output_type": "stream",
     "text": [
      "<class 'numpy.ndarray'>\n"
     ]
    }
   ],
   "source": [
    "print(type(waveform))"
   ]
  },
  {
   "cell_type": "code",
   "execution_count": 39,
   "metadata": {},
   "outputs": [],
   "source": [
    "#I don't understand why this math problem is not working. "
   ]
  },
  {
   "cell_type": "code",
   "execution_count": 40,
   "metadata": {},
   "outputs": [],
   "source": [
    "waveforma = np.subtract(waveform,ZG)"
   ]
  },
  {
   "cell_type": "code",
   "execution_count": 41,
   "metadata": {},
   "outputs": [],
   "source": [
    "#waveforma = waveform.astype(np.int16) "
   ]
  },
  {
   "cell_type": "code",
   "execution_count": 42,
   "metadata": {},
   "outputs": [
    {
     "data": {
      "text/plain": [
       "array([45.65, 46.65, 46.65, ..., 41.65, 39.65, 40.65])"
      ]
     },
     "execution_count": 42,
     "metadata": {},
     "output_type": "execute_result"
    }
   ],
   "source": [
    "waveforma"
   ]
  },
  {
   "cell_type": "code",
   "execution_count": 43,
   "metadata": {},
   "outputs": [
    {
     "name": "stdout",
     "output_type": "stream",
     "text": [
      "[45.65 46.65 46.65 ... 41.65 39.65 40.65]\n"
     ]
    }
   ],
   "source": [
    "print(waveforma)"
   ]
  },
  {
   "cell_type": "code",
   "execution_count": 44,
   "metadata": {},
   "outputs": [
    {
     "data": {
      "image/png": "[encoded data removed]",
      "text/plain": [
       "<Figure size 1080x432 with 2 Axes>"
      ]
     },
     "metadata": {
      "needs_background": "light"
     },
     "output_type": "display_data"
    }
   ],
   "source": [
    "    #plot the waveform as matplotlib figure\n",
    "    fig = plt.figure(figsize=(15, 6))\n",
    "    figplot = fig.add_subplot(121) \n",
    "    figplot.plot(waveforma,zstretch)\n",
    "    plt.ylabel('elevation(m)')\n",
    "    plt.xlabel('amplitude')\n",
    "\n",
    "    figplot = fig.add_subplot(122) \n",
    "    figplot.plot(waveform_crop,zstretch_crop)\n",
    "    figplot.hlines(ZT,min(waveforma),max(waveforma),lw=1,linestyle='-', color='b',label='ZT')\n",
    "    figplot.hlines(RH75,min(waveforma),max(waveforma),lw=1,linestyle='-', color='g',label='RH75')\n",
    "    figplot.hlines(RH50,min(waveforma),max(waveforma),lw=1,linestyle='-', color='y',label='RH50')\n",
    "    figplot.hlines(RH25,min(waveforma),max(waveforma),lw=1,linestyle='-', color='orange',label='RH25')\n",
    "    figplot.hlines(ZG,min(waveforma),max(waveforma),lw=1,linestyle='-', color='r',label='ZG')\n",
    "    plt.legend(bbox_to_anchor=(0., 1.02, 1., .102), loc=3, ncol=5, mode=\"expand\", borderaxespad=0.)\n",
    "    plt.ylabel('elevation(m)')\n",
    "    plt.xlabel('amplitude')\n",
    "    plt.show(block=False)"
   ]
  },
  {
   "cell_type": "code",
   "execution_count": 45,
   "metadata": {},
   "outputs": [],
   "source": [
    "#find the elevation difference from Z0 to Z1023 and divide into 1023 equal intervals\n",
    "zstretch = np.add(Z1023,np.multiply(range(wfrange,0,-1),((Z0-Z1023)/int(wfsize))))"
   ]
  },
  {
   "cell_type": "code",
   "execution_count": 46,
   "metadata": {},
   "outputs": [],
   "source": [
    "    #set the z range limits for plotting the waveform to crop the noise  \n",
    "    zmin=RH10-(ZT-RH10)/6   #sets zmin at 15% below the waveform range defined in RH10-ZT\n",
    "    zmax=ZT+(ZT-RH10)/18   #sets zmax at 5% above the waveform range defined in RH10-ZT"
   ]
  },
  {
   "cell_type": "code",
   "execution_count": 47,
   "metadata": {},
   "outputs": [],
   "source": [
    "    #crop the waveform and elevation arrays to the z range limits\n",
    "    x=zstretch>=zmin #this returns boolean True/False based on the comparison condition statement\n",
    "    y=zstretch<=zmax \n",
    "    z=(x==y) #this creates a combined boolean result from the previous two condition statements\n",
    "    waveform_crop = []\n",
    "    zstretch_crop = []\n",
    "    for i in range(0,len(waveform)):\n",
    "        if z[i]==True:\n",
    "            waveform_crop.append(waveforma[i])\n",
    "            zstretch_crop.append(zstretch[i])  \n",
    "        "
   ]
  },
  {
   "cell_type": "code",
   "execution_count": 48,
   "metadata": {},
   "outputs": [
    {
     "data": {
      "image/png": "[encoded data removed]",
      "text/plain": [
       "<Figure size 1080x432 with 2 Axes>"
      ]
     },
     "metadata": {
      "needs_background": "light"
     },
     "output_type": "display_data"
    }
   ],
   "source": [
    "    #plot the waveform as matplotlib figure\n",
    "    fig = plt.figure(figsize=(15, 6))\n",
    "    figplot = fig.add_subplot(121) \n",
    "    figplot.plot(waveforma,zstretch)\n",
    "    plt.ylabel('elevation(m)')\n",
    "    plt.xlabel('amplitude')\n",
    "\n",
    "    figplot = fig.add_subplot(122) \n",
    "    figplot.plot(waveform_crop,zstretch_crop)\n",
    "    figplot.hlines(ZT,min(waveforma),max(waveforma),lw=1,linestyle='-', color='b',label='ZT')\n",
    "    figplot.hlines(RH75,min(waveforma),max(waveforma),lw=1,linestyle='-', color='g',label='RH75')\n",
    "    figplot.hlines(RH50,min(waveforma),max(waveforma),lw=1,linestyle='-', color='y',label='RH50')\n",
    "    figplot.hlines(RH25,min(waveforma),max(waveforma),lw=1,linestyle='-', color='orange',label='RH25')\n",
    "    figplot.hlines(ZG,min(waveforma),max(waveforma),lw=1,linestyle='-', color='r',label='ZG')\n",
    "    plt.legend(bbox_to_anchor=(0., 1.02, 1., .102), loc=3, ncol=5, mode=\"expand\", borderaxespad=0.)\n",
    "    plt.ylabel('elevation(m)')\n",
    "    plt.xlabel('amplitude')\n",
    "    plt.show(block=False)"
   ]
  },
  {
   "cell_type": "code",
   "execution_count": null,
   "metadata": {},
   "outputs": [],
   "source": []
  },
  {
   "cell_type": "code",
   "execution_count": null,
   "metadata": {},
   "outputs": [],
   "source": []
  },
  {
   "cell_type": "code",
   "execution_count": null,
   "metadata": {},
   "outputs": [],
   "source": []
  },
  {
   "cell_type": "code",
   "execution_count": 49,
   "metadata": {},
   "outputs": [
    {
     "ename": "SyntaxError",
     "evalue": "closing parenthesis ')' does not match opening parenthesis '[' (<ipython-input-49-4a0e6b10d69c>, line 1)",
     "output_type": "error",
     "traceback": [
      "\u001b[1;36m  File \u001b[1;32m\"<ipython-input-49-4a0e6b10d69c>\"\u001b[1;36m, line \u001b[1;32m1\u001b[0m\n\u001b[1;33m    L2 = L2[L2['plot'] == 'NASA23')]\u001b[0m\n\u001b[1;37m                                  ^\u001b[0m\n\u001b[1;31mSyntaxError\u001b[0m\u001b[1;31m:\u001b[0m closing parenthesis ')' does not match opening parenthesis '['\n"
     ]
    }
   ],
   "source": [
    "L2 = L2[L2['plot'] == 'NASA23')]"
   ]
  },
  {
   "cell_type": "code",
   "execution_count": 50,
   "metadata": {},
   "outputs": [
    {
     "ename": "NameError",
     "evalue": "name 'trees_in_geo_max' is not defined",
     "output_type": "error",
     "traceback": [
      "\u001b[1;31m---------------------------------------------------------------------------\u001b[0m",
      "\u001b[1;31mNameError\u001b[0m                                 Traceback (most recent call last)",
      "\u001b[1;32m<ipython-input-50-342b3aa80550>\u001b[0m in \u001b[0;36m<module>\u001b[1;34m\u001b[0m\n\u001b[1;32m----> 1\u001b[1;33m \u001b[0mtrees_in_geo_max\u001b[0m\u001b[1;33m.\u001b[0m\u001b[0mwhere\u001b[0m\u001b[1;33m(\u001b[0m\u001b[0mmyshotnum\u001b[0m \u001b[1;33m==\u001b[0m \u001b[1;34m'SHOTNUMBER'\u001b[0m\u001b[1;33m)\u001b[0m\u001b[1;33m\u001b[0m\u001b[1;33m\u001b[0m\u001b[0m\n\u001b[0m",
      "\u001b[1;31mNameError\u001b[0m: name 'trees_in_geo_max' is not defined"
     ]
    }
   ],
   "source": [
    "trees_in_geo_max.where(myshotnum == 'SHOTNUMBER')"
   ]
  },
  {
   "cell_type": "code",
   "execution_count": null,
   "metadata": {},
   "outputs": [],
   "source": []
  }
 ],
 "metadata": {
  "kernelspec": {
   "display_name": "Python 3",
   "language": "python",
   "name": "python3"
  },
  "language_info": {
   "codemirror_mode": {
    "name": "ipython",
    "version": 3
   },
   "file_extension": ".py",
   "mimetype": "text/x-python",
   "name": "python",
   "nbconvert_exporter": "python",
   "pygments_lexer": "ipython3",
   "version": "3.8.5"
  }
 },
 "nbformat": 4,
 "nbformat_minor": 4
}
