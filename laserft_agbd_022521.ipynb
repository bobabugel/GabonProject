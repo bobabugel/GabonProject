{
 "cells": [
  {
   "cell_type": "code",
   "execution_count": 1,
   "metadata": {},
   "outputs": [],
   "source": [
    "import matplotlib.pyplot \n",
    "import numpy as np\n",
    "import pylab\n",
    "import pandas as pd\n",
    "import matplotlib.pyplot as plt\n",
    "import h5py\n",
    "import geopandas as gpd\n",
    "from shapely.geometry import *\n",
    "from geopandas.geoseries import *\n",
    "from geopandas import GeoDataFrame\n",
    "from shapely.geometry import Point\n",
    "import fiona\n",
    "import seaborn as sns\n",
    "import statsmodels.api as sm\n",
    "import pandas as pd \n",
    "import numpy as np \n",
    "#Stats \n",
    "from sklearn import linear_model \n",
    "from scipy.stats import spearmanr\n",
    "from scipy.stats import sem"
   ]
  },
  {
   "cell_type": "markdown",
   "metadata": {},
   "source": [
    "# Abstract "
   ]
  },
  {
   "cell_type": "markdown",
   "metadata": {},
   "source": [
    "__NOTE: Abstract should be short but give but give the overall idea: what was done, what was found, and wat are the main conclusions "
   ]
  },
  {
   "cell_type": "markdown",
   "metadata": {},
   "source": [
    "Keywords: LVIS, Biomass index, LIDAR, AGBD, Allometric"
   ]
  },
  {
   "cell_type": "markdown",
   "metadata": {},
   "source": [
    "# Introduction "
   ]
  },
  {
   "cell_type": "markdown",
   "metadata": {},
   "source": [
    "__NOTE: Move1: Introduce the topic and emphasize why is it important __\n"
   ]
  },
  {
   "cell_type": "markdown",
   "metadata": {},
   "source": [
    "It is important ecosystem modeling studies and the advancement of many of those processes"
   ]
  },
  {
   "cell_type": "code",
   "execution_count": null,
   "metadata": {},
   "outputs": [],
   "source": []
  },
  {
   "cell_type": "markdown",
   "metadata": {},
   "source": [
    " "
   ]
  },
  {
   "cell_type": "markdown",
   "metadata": {},
   "source": [
    "__NOTE:Move2: Relate to current knowledge \n",
    "The current way of calculating biomass is using the lidar height metrics. Talk about RH values  RH100 is the top of the canopy. "
   ]
  },
  {
   "cell_type": "markdown",
   "metadata": {},
   "source": [
    "It is important ecosystem modeling studies and the advancement of many of those processes"
   ]
  },
  {
   "cell_type": "code",
   "execution_count": null,
   "metadata": {},
   "outputs": [],
   "source": []
  },
  {
   "cell_type": "markdown",
   "metadata": {},
   "source": [
    "__NOTE:Move3: Introduce your work give the purpose and main objective \n"
   ]
  },
  {
   "cell_type": "markdown",
   "metadata": {},
   "source": [
    "Talk about the Allometric relationship ,Biomass index ,AGBD – aboveground biomass density "
   ]
  },
  {
   "cell_type": "code",
   "execution_count": null,
   "metadata": {},
   "outputs": [],
   "source": []
  },
  {
   "cell_type": "markdown",
   "metadata": {},
   "source": []
  },
  {
   "cell_type": "markdown",
   "metadata": {},
   "source": [
    "# Methodogly "
   ]
  },
  {
   "cell_type": "code",
   "execution_count": null,
   "metadata": {},
   "outputs": [],
   "source": []
  },
  {
   "cell_type": "markdown",
   "metadata": {},
   "source": [
    "## DATA "
   ]
  },
  {
   "cell_type": "markdown",
   "metadata": {},
   "source": [
    "# Start Here "
   ]
  },
  {
   "cell_type": "markdown",
   "metadata": {},
   "source": [
    "Calculating at the foot print, 0625 hec, 025 hec and hector level. "
   ]
  },
  {
   "cell_type": "code",
   "execution_count": 71,
   "metadata": {},
   "outputs": [],
   "source": [
    "# Import necessary packages\n",
    "import matplotlib.pyplot \n",
    "import numpy as np\n",
    "import pylab\n",
    "import pandas as pd\n",
    "import h5py\n",
    "\n",
    "import seaborn as sns\n",
    "import statsmodels.api as sm\n",
    "import pandas as pd \n",
    "import numpy as np \n",
    "#Stats \n",
    "from sklearn import linear_model \n",
    "from scipy.stats import spearmanr\n",
    "from scipy.stats import sem"
   ]
  },
  {
   "cell_type": "code",
   "execution_count": 72,
   "metadata": {},
   "outputs": [],
   "source": [
    "\n",
    "datadir = r'D:/Gabon_Lidar/DATA/email_122620/'\n",
    "\n",
    "tree = pd.read_csv(datadir+'Mondah_Tree_Data.csv')"
   ]
  },
  {
   "cell_type": "markdown",
   "metadata": {},
   "source": [
    "### Bring in the DATA"
   ]
  },
  {
   "cell_type": "code",
   "execution_count": 73,
   "metadata": {},
   "outputs": [],
   "source": [
    "footprint = pd.read_csv(datadir+'LVIS2_withPlots.csv')#mass of above-ground components of tree (kg) \n",
    "footprint.to_csv(datadir +'footprint.csv')\n",
    "tree = pd.read_csv(datadir+'Mondah_Tree_Data.csv')"
   ]
  },
  {
   "cell_type": "markdown",
   "metadata": {},
   "source": [
    "### Organize Plot data for trees "
   ]
  },
  {
   "cell_type": "code",
   "execution_count": 74,
   "metadata": {},
   "outputs": [],
   "source": [
    "#Creating the .25 hec plots \n",
    "tree.loc[(tree['subplot'] == 1)|(tree['subplot'] == 2)| (tree['subplot'] == 7)| (tree['subplot'] == 8), 'subplot25'] = '1.2'\n",
    "tree.loc[(tree['subplot'] == 4)|(tree['subplot'] == 5)| (tree['subplot'] == 3)| (tree['subplot'] == 6), 'subplot25'] = '1.1'\n",
    "tree.loc[(tree['subplot'] == 12)|(tree['subplot'] == 13)| (tree['subplot'] == 11)| (tree['subplot'] == 14), 'subplot25'] = '2.1'\n",
    "tree.loc[(tree['subplot'] == 9)|(tree['subplot'] == 10)| (tree['subplot'] == 15)| (tree['subplot'] == 16), 'subplot25'] = '2.2'\n",
    "#Create unqure id for subplot25 and 0625 \n",
    "tree['ID_subplot25'] = tree['plot'] + tree['subplot25']\n",
    "\n",
    "tree['subplot_0625'] =  tree['subplot']\n",
    "tree['subplot_0625'] =  tree['subplot'].astype(int)"
   ]
  },
  {
   "cell_type": "code",
   "execution_count": 75,
   "metadata": {},
   "outputs": [],
   "source": [
    "tree['subplot_0625'] =  tree['subplot']*10"
   ]
  },
  {
   "cell_type": "code",
   "execution_count": 76,
   "metadata": {},
   "outputs": [],
   "source": [
    "tree['subplot_0625'] =  tree['subplot'].astype(str)\n",
    "tree['ID_subplot_0625'] = tree['plot'] + tree['subplot_0625']\n",
    "#Filter for -9999\n",
    "tree = tree[(tree.m_agb >= 0)]\n",
    "#Create subplot tables \n",
    "tree_plot = tree \n",
    "tree_plot25 = tree \n",
    "tree_plot625 = tree"
   ]
  },
  {
   "cell_type": "markdown",
   "metadata": {},
   "source": [
    "### Organize Plot data for LIDAR"
   ]
  },
  {
   "cell_type": "markdown",
   "metadata": {},
   "source": [
    " # Field data "
   ]
  },
  {
   "cell_type": "code",
   "execution_count": 77,
   "metadata": {},
   "outputs": [],
   "source": [
    "sumstep = ['ID_subplot_0625', 'm_agb']\n",
    "trees_plot625_sum= tree_plot625[sumstep]\n",
    "trees_plot625= trees_plot625_sum.groupby(by='ID_subplot_0625').sum()/(10**3 *.0625)\n",
    "trees_plot625.to_csv(datadir +'trees_plot625.csv')\n",
    "trees_plot625 = pd.read_csv(datadir + 'trees_plot625.csv')\n",
    "\n",
    "sumstep = ['ID_subplot25', 'm_agb']\n",
    "trees_plot25_sum= tree_plot25[sumstep]\n",
    "trees_plot25= trees_plot25_sum.groupby(by='ID_subplot25').sum()/(10**3 *.25)\n",
    "trees_plot25.to_csv(datadir +'trees_plot25.csv')\n",
    "trees_plot25 = pd.read_csv(datadir + 'trees_plot25.csv')\n",
    "\n",
    "sumstep = ['plot', 'm_agb']\n",
    "trees_plot_sum= tree_plot[sumstep]\n",
    "trees_plot= trees_plot_sum.groupby(by='plot').sum()/(10**3 )\n",
    "trees_plot.to_csv(datadir +'trees_plot.csv')\n",
    "trees_plot = pd.read_csv(datadir + 'trees_plot.csv')"
   ]
  },
  {
   "cell_type": "markdown",
   "metadata": {},
   "source": [
    "# LIDAR processing"
   ]
  },
  {
   "cell_type": "code",
   "execution_count": 78,
   "metadata": {},
   "outputs": [],
   "source": [
    "L2all = pd.read_csv(datadir+'LVIS2_withPlots.csv')\n",
    "#Create unqure id for subplot25 and 0625 \n",
    "L2all['subplot025'] =   L2all['subplot025'].astype(str)\n",
    "L2all['ID_subplot25'] =L2all['plot'] + L2all['subplot025']\n",
    "\n",
    "L2all = L2all[(L2all.subplot625 >= 0)]\n",
    "L2all['subplot625'] =   L2all['subplot625'].astype(int)"
   ]
  },
  {
   "cell_type": "code",
   "execution_count": 79,
   "metadata": {},
   "outputs": [],
   "source": [
    "L2all['subplot625'] =   L2all['subplot625'].astype(str)\n",
    "L2all['ID_subplot625'] = L2all['plot'] + L2all['subplot625']\n",
    "\n",
    "\n",
    "# remove special character \n",
    "L2all.ID_subplot625 = L2all.ID_subplot625.str.replace('.', '') \n",
    "#Create subplot tables\n"
   ]
  },
  {
   "cell_type": "markdown",
   "metadata": {},
   "source": [
    "###  LIDAR filtering"
   ]
  },
  {
   "cell_type": "code",
   "execution_count": 80,
   "metadata": {},
   "outputs": [],
   "source": [
    "sub_set = ['SHOTNUMBER', 'RH10', 'RH15', 'RH20', 'RH25', 'RH30',\n",
    "       'RH35', 'RH40', 'RH45', 'RH50', 'RH55', 'RH60', 'RH65', 'RH70', 'RH75',\n",
    "       'RH80', 'RH85', 'RH90', 'RH95', 'RH96', 'RH97', 'RH98', 'RH99', 'RH100','bio_mass_index','agbd','ID_subplot625', 'plot','ID_subplot25']\n",
    "L2all = L2all[sub_set]\n",
    "\n"
   ]
  },
  {
   "cell_type": "code",
   "execution_count": null,
   "metadata": {},
   "outputs": [],
   "source": []
  },
  {
   "cell_type": "code",
   "execution_count": 81,
   "metadata": {},
   "outputs": [],
   "source": [
    "#RA - Do this for each of the plots \n",
    "#filter out unneeded columns#Remove Agbd \n",
    "L2_All_625 = L2all.groupby(by='ID_subplot625').mean()\n",
    "L2_All_625.to_csv(datadir +'L2_All_625.csv')\n",
    "L2_All_625 = pd.read_csv(datadir + 'L2_All_625.csv')\n",
    "\n",
    "L2_All_25 = L2all.groupby(by='ID_subplot25').mean()\n",
    "L2_All_25.to_csv(datadir +'L2_All_25.csv')\n",
    "L2_All_25 = pd.read_csv(datadir + 'L2_All_25.csv')\n",
    "\n",
    "L2_All_plot = L2all.groupby(by='plot').mean()\n",
    "L2_All_plot.to_csv(datadir +'L2_All_plot.csv')\n",
    "L2_All_plot = pd.read_csv(datadir + 'L2_All_plot.csv')"
   ]
  },
  {
   "cell_type": "markdown",
   "metadata": {},
   "source": [
    "# LIDAR Graphs "
   ]
  },
  {
   "cell_type": "code",
   "execution_count": 82,
   "metadata": {},
   "outputs": [
    {
     "data": {
      "text/plain": [
       "<AxesSubplot:xlabel='RH50', ylabel='bio_mass_index'>"
      ]
     },
     "execution_count": 82,
     "metadata": {},
     "output_type": "execute_result"
    },
    {
     "data": {
      "image/png": "[encoded data removed]",
      "text/plain": [
       "<Figure size 432x288 with 1 Axes>"
      ]
     },
     "metadata": {
      "needs_background": "light"
     },
     "output_type": "display_data"
    }
   ],
   "source": [
    "sns.regplot(data=L2_All_625, x='RH50', y='bio_mass_index')\n",
    "sns.regplot(data=L2_All_25, x='RH50', y='bio_mass_index')\n",
    "sns.regplot(data=L2_All_plot, x='RH50', y='bio_mass_index')"
   ]
  },
  {
   "cell_type": "code",
   "execution_count": 83,
   "metadata": {},
   "outputs": [
    {
     "data": {
      "text/plain": [
       "<AxesSubplot:xlabel='bio_mass_index', ylabel='agbd'>"
      ]
     },
     "execution_count": 83,
     "metadata": {},
     "output_type": "execute_result"
    },
    {
     "data": {
      "image/png": "[encoded data removed]",
      "text/plain": [
       "<Figure size 432x288 with 1 Axes>"
      ]
     },
     "metadata": {
      "needs_background": "light"
     },
     "output_type": "display_data"
    }
   ],
   "source": [
    "\n",
    "\n",
    "sns.regplot(data=L2_All_625, x=\"bio_mass_index\", y=\"agbd\")\n",
    "sns.regplot(data=L2_All_25, x=\"bio_mass_index\", y=\"agbd\")\n",
    "sns.regplot(data=L2_All_plot,x=\"bio_mass_index\", y=\"agbd\")\n"
   ]
  },
  {
   "cell_type": "code",
   "execution_count": 84,
   "metadata": {},
   "outputs": [
    {
     "data": {
      "text/plain": [
       "<AxesSubplot:xlabel='RH50', ylabel='agbd'>"
      ]
     },
     "execution_count": 84,
     "metadata": {},
     "output_type": "execute_result"
    },
    {
     "data": {
      "image/png": "[encoded data removed]",
      "text/plain": [
       "<Figure size 432x288 with 1 Axes>"
      ]
     },
     "metadata": {
      "needs_background": "light"
     },
     "output_type": "display_data"
    }
   ],
   "source": [
    "\n",
    "sns.regplot(data=L2_All_625, x=\"RH50\", y=\"agbd\")\n",
    "sns.regplot(data=L2_All_25, x=\"RH50\", y=\"agbd\")\n",
    "sns.regplot(data=L2_All_plot,x=\"RH50\", y=\"agbd\")\n"
   ]
  },
  {
   "cell_type": "markdown",
   "metadata": {},
   "source": [
    "# LIDAR  MLR Regression Charts "
   ]
  },
  {
   "cell_type": "code",
   "execution_count": 85,
   "metadata": {},
   "outputs": [
    {
     "data": {
      "text/plain": [
       "-2.9532592353514655"
      ]
     },
     "execution_count": 85,
     "metadata": {},
     "output_type": "execute_result"
    }
   ],
   "source": [
    "# I need to make a plot of this 022321\n",
    "L2_All_footprint = L2_All_footprint.dropna()\n",
    "df = L2_All_footprint\n",
    "\n",
    "reg = linear_model.LinearRegression()\n",
    "reg.fit(df[['RH10', 'RH15', 'RH20', 'RH25', 'RH30', 'RH35', 'RH40', 'RH45',\n",
    "       'RH50', 'RH55', 'RH60', 'RH65', 'RH70', 'RH75', 'RH80', 'RH85', 'RH90',\n",
    "       'RH95', 'RH96', 'RH97', 'RH98', 'RH99', 'RH100']],df.agbd)\n",
    "reg.coef_\n",
    "reg.intercept_"
   ]
  },
  {
   "cell_type": "code",
   "execution_count": 86,
   "metadata": {},
   "outputs": [
    {
     "data": {
      "text/plain": [
       "array([-1.39771376e+00,  1.68251735e+00,  1.27875227e+00, -2.94134473e+00,\n",
       "        6.89463495e+00, -8.14662890e+00, -4.38320371e+00,  1.21964297e+01,\n",
       "       -8.98424247e+00,  9.34040007e+00, -3.98974398e+00, -2.61636585e+00,\n",
       "        1.85637724e+00,  4.36319192e-03,  5.41138835e-01, -8.27690268e-01,\n",
       "       -3.52293835e-01,  7.35590546e-01,  2.59343694e-01,  9.52222893e-02,\n",
       "       -9.65184457e-01,  5.89472718e-01,  1.46209186e-01])"
      ]
     },
     "execution_count": 86,
     "metadata": {},
     "output_type": "execute_result"
    }
   ],
   "source": [
    "reg.coef_"
   ]
  },
  {
   "cell_type": "code",
   "execution_count": 87,
   "metadata": {},
   "outputs": [
    {
     "data": {
      "text/plain": [
       "-32.646569408376706"
      ]
     },
     "execution_count": 87,
     "metadata": {},
     "output_type": "execute_result"
    }
   ],
   "source": [
    "L2_All_footprint = L2_All_footprint.dropna()\n",
    "df = L2_All_footprint\n",
    "\n",
    "reg = linear_model.LinearRegression()\n",
    "reg.fit(df[['RH10', 'RH15', 'RH20', 'RH25', 'RH30', 'RH35', 'RH40', 'RH45',\n",
    "       'RH50', 'RH55', 'RH60', 'RH65', 'RH70', 'RH75', 'RH80', 'RH85', 'RH90',\n",
    "       'RH95', 'RH96', 'RH97', 'RH98', 'RH99', 'RH100']],df.bio_mass_index)\n",
    "reg.coef_\n",
    "reg.intercept_"
   ]
  },
  {
   "cell_type": "code",
   "execution_count": 88,
   "metadata": {},
   "outputs": [
    {
     "data": {
      "text/plain": [
       "array([-33.38257569,  67.3343523 , -28.99212792,  11.3549582 ,\n",
       "       -61.90693208,  86.1683937 , -41.54236841,  -4.13389981,\n",
       "        29.69075098, -56.43197886,  90.5247162 , -59.67124222,\n",
       "       -14.53430869,  38.18665042, -10.97855302,  12.75859295,\n",
       "        -4.89842731,  26.51918179, -54.70560827,  26.09347998,\n",
       "         5.90296118,  -5.38561374,   0.98811435])"
      ]
     },
     "execution_count": 88,
     "metadata": {},
     "output_type": "execute_result"
    }
   ],
   "source": [
    "reg.coef_"
   ]
  },
  {
   "cell_type": "code",
   "execution_count": 89,
   "metadata": {},
   "outputs": [
    {
     "data": {
      "text/plain": [
       "-32.646569408376706"
      ]
     },
     "execution_count": 89,
     "metadata": {},
     "output_type": "execute_result"
    }
   ],
   "source": [
    "reg.intercept_"
   ]
  },
  {
   "cell_type": "code",
   "execution_count": null,
   "metadata": {},
   "outputs": [],
   "source": []
  },
  {
   "cell_type": "markdown",
   "metadata": {},
   "source": [
    "# Join Tree and LIDAR DATA "
   ]
  },
  {
   "cell_type": "markdown",
   "metadata": {},
   "source": [
    "### Subplot_625  Join "
   ]
  },
  {
   "cell_type": "code",
   "execution_count": 90,
   "metadata": {},
   "outputs": [
    {
     "data": {
      "text/html": [
       "<div>\n",
       "<style scoped>\n",
       "    .dataframe tbody tr th:only-of-type {\n",
       "        vertical-align: middle;\n",
       "    }\n",
       "\n",
       "    .dataframe tbody tr th {\n",
       "        vertical-align: top;\n",
       "    }\n",
       "\n",
       "    .dataframe thead th {\n",
       "        text-align: right;\n",
       "    }\n",
       "</style>\n",
       "<table border=\"1\" class=\"dataframe\">\n",
       "  <thead>\n",
       "    <tr style=\"text-align: right;\">\n",
       "      <th></th>\n",
       "      <th>ID_subplot625</th>\n",
       "      <th>SHOTNUMBER</th>\n",
       "      <th>RH10</th>\n",
       "      <th>RH15</th>\n",
       "      <th>RH20</th>\n",
       "      <th>RH25</th>\n",
       "      <th>RH30</th>\n",
       "      <th>RH35</th>\n",
       "      <th>RH40</th>\n",
       "      <th>RH45</th>\n",
       "      <th>...</th>\n",
       "      <th>RH85</th>\n",
       "      <th>RH90</th>\n",
       "      <th>RH95</th>\n",
       "      <th>RH96</th>\n",
       "      <th>RH97</th>\n",
       "      <th>RH98</th>\n",
       "      <th>RH99</th>\n",
       "      <th>RH100</th>\n",
       "      <th>bio_mass_index</th>\n",
       "      <th>agbd</th>\n",
       "    </tr>\n",
       "  </thead>\n",
       "  <tbody>\n",
       "    <tr>\n",
       "      <th>0</th>\n",
       "      <td>NASA011</td>\n",
       "      <td>9902931.5</td>\n",
       "      <td>-0.560000</td>\n",
       "      <td>0.930000</td>\n",
       "      <td>2.095000</td>\n",
       "      <td>3.025000</td>\n",
       "      <td>3.850000</td>\n",
       "      <td>4.595000</td>\n",
       "      <td>5.270000</td>\n",
       "      <td>5.830000</td>\n",
       "      <td>...</td>\n",
       "      <td>9.645000</td>\n",
       "      <td>10.280000</td>\n",
       "      <td>11.285000</td>\n",
       "      <td>11.590000</td>\n",
       "      <td>11.960000</td>\n",
       "      <td>12.445000</td>\n",
       "      <td>13.155000</td>\n",
       "      <td>15.025000</td>\n",
       "      <td>793.077065</td>\n",
       "      <td>0.156629</td>\n",
       "    </tr>\n",
       "    <tr>\n",
       "      <th>1</th>\n",
       "      <td>NASA0116</td>\n",
       "      <td>9903715.5</td>\n",
       "      <td>-1.600000</td>\n",
       "      <td>-1.115000</td>\n",
       "      <td>-0.740000</td>\n",
       "      <td>-0.405000</td>\n",
       "      <td>-0.035000</td>\n",
       "      <td>0.265000</td>\n",
       "      <td>0.600000</td>\n",
       "      <td>1.015000</td>\n",
       "      <td>...</td>\n",
       "      <td>5.945000</td>\n",
       "      <td>7.590000</td>\n",
       "      <td>9.985000</td>\n",
       "      <td>11.145000</td>\n",
       "      <td>12.190000</td>\n",
       "      <td>13.195000</td>\n",
       "      <td>14.430000</td>\n",
       "      <td>16.070000</td>\n",
       "      <td>0.274309</td>\n",
       "      <td>4.032319</td>\n",
       "    </tr>\n",
       "    <tr>\n",
       "      <th>2</th>\n",
       "      <td>NASA018</td>\n",
       "      <td>9903155.5</td>\n",
       "      <td>-1.530000</td>\n",
       "      <td>-1.010000</td>\n",
       "      <td>-0.600000</td>\n",
       "      <td>-0.155000</td>\n",
       "      <td>0.335000</td>\n",
       "      <td>0.930000</td>\n",
       "      <td>1.605000</td>\n",
       "      <td>2.395000</td>\n",
       "      <td>...</td>\n",
       "      <td>6.875000</td>\n",
       "      <td>7.510000</td>\n",
       "      <td>8.375000</td>\n",
       "      <td>8.635000</td>\n",
       "      <td>9.005000</td>\n",
       "      <td>9.455000</td>\n",
       "      <td>10.245000</td>\n",
       "      <td>11.645000</td>\n",
       "      <td>47.272262</td>\n",
       "      <td>0.222216</td>\n",
       "    </tr>\n",
       "    <tr>\n",
       "      <th>3</th>\n",
       "      <td>NASA019</td>\n",
       "      <td>9903417.0</td>\n",
       "      <td>-1.866667</td>\n",
       "      <td>-1.546667</td>\n",
       "      <td>-1.270000</td>\n",
       "      <td>-1.023333</td>\n",
       "      <td>-0.796667</td>\n",
       "      <td>-0.623333</td>\n",
       "      <td>-0.446667</td>\n",
       "      <td>-0.273333</td>\n",
       "      <td>...</td>\n",
       "      <td>1.393333</td>\n",
       "      <td>1.770000</td>\n",
       "      <td>2.440000</td>\n",
       "      <td>2.666667</td>\n",
       "      <td>2.966667</td>\n",
       "      <td>3.436667</td>\n",
       "      <td>4.310000</td>\n",
       "      <td>6.096667</td>\n",
       "      <td>23.173004</td>\n",
       "      <td>0.137815</td>\n",
       "    </tr>\n",
       "    <tr>\n",
       "      <th>4</th>\n",
       "      <td>NASA021</td>\n",
       "      <td>9898937.5</td>\n",
       "      <td>-3.370000</td>\n",
       "      <td>-2.461250</td>\n",
       "      <td>-1.768750</td>\n",
       "      <td>-1.187500</td>\n",
       "      <td>-0.673750</td>\n",
       "      <td>-0.241250</td>\n",
       "      <td>0.180000</td>\n",
       "      <td>0.611250</td>\n",
       "      <td>...</td>\n",
       "      <td>5.425000</td>\n",
       "      <td>6.643750</td>\n",
       "      <td>8.908750</td>\n",
       "      <td>10.051250</td>\n",
       "      <td>11.408750</td>\n",
       "      <td>12.485000</td>\n",
       "      <td>13.797500</td>\n",
       "      <td>15.756250</td>\n",
       "      <td>0.428357</td>\n",
       "      <td>8.128812</td>\n",
       "    </tr>\n",
       "    <tr>\n",
       "      <th>...</th>\n",
       "      <td>...</td>\n",
       "      <td>...</td>\n",
       "      <td>...</td>\n",
       "      <td>...</td>\n",
       "      <td>...</td>\n",
       "      <td>...</td>\n",
       "      <td>...</td>\n",
       "      <td>...</td>\n",
       "      <td>...</td>\n",
       "      <td>...</td>\n",
       "      <td>...</td>\n",
       "      <td>...</td>\n",
       "      <td>...</td>\n",
       "      <td>...</td>\n",
       "      <td>...</td>\n",
       "      <td>...</td>\n",
       "      <td>...</td>\n",
       "      <td>...</td>\n",
       "      <td>...</td>\n",
       "      <td>...</td>\n",
       "      <td>...</td>\n",
       "    </tr>\n",
       "    <tr>\n",
       "      <th>137</th>\n",
       "      <td>NASA235</td>\n",
       "      <td>9896659.5</td>\n",
       "      <td>-0.861667</td>\n",
       "      <td>0.083333</td>\n",
       "      <td>0.860000</td>\n",
       "      <td>1.733333</td>\n",
       "      <td>2.870000</td>\n",
       "      <td>4.190000</td>\n",
       "      <td>5.475000</td>\n",
       "      <td>6.756667</td>\n",
       "      <td>...</td>\n",
       "      <td>17.570000</td>\n",
       "      <td>19.095000</td>\n",
       "      <td>20.940000</td>\n",
       "      <td>21.426667</td>\n",
       "      <td>22.298333</td>\n",
       "      <td>23.670000</td>\n",
       "      <td>24.816667</td>\n",
       "      <td>26.736667</td>\n",
       "      <td>150.561552</td>\n",
       "      <td>4.059288</td>\n",
       "    </tr>\n",
       "    <tr>\n",
       "      <th>138</th>\n",
       "      <td>NASA236</td>\n",
       "      <td>9896659.5</td>\n",
       "      <td>5.162500</td>\n",
       "      <td>6.827500</td>\n",
       "      <td>8.080000</td>\n",
       "      <td>9.145000</td>\n",
       "      <td>10.100000</td>\n",
       "      <td>10.940000</td>\n",
       "      <td>11.707500</td>\n",
       "      <td>12.512500</td>\n",
       "      <td>...</td>\n",
       "      <td>18.722500</td>\n",
       "      <td>20.180000</td>\n",
       "      <td>21.755000</td>\n",
       "      <td>22.147500</td>\n",
       "      <td>22.592500</td>\n",
       "      <td>23.175000</td>\n",
       "      <td>24.205000</td>\n",
       "      <td>26.972500</td>\n",
       "      <td>204.175840</td>\n",
       "      <td>9.106087</td>\n",
       "    </tr>\n",
       "    <tr>\n",
       "      <th>139</th>\n",
       "      <td>NASA237</td>\n",
       "      <td>9896659.5</td>\n",
       "      <td>1.295000</td>\n",
       "      <td>3.253333</td>\n",
       "      <td>5.121667</td>\n",
       "      <td>6.706667</td>\n",
       "      <td>8.165000</td>\n",
       "      <td>9.698333</td>\n",
       "      <td>11.068333</td>\n",
       "      <td>12.206667</td>\n",
       "      <td>...</td>\n",
       "      <td>23.473333</td>\n",
       "      <td>24.933333</td>\n",
       "      <td>26.688333</td>\n",
       "      <td>27.140000</td>\n",
       "      <td>27.661667</td>\n",
       "      <td>28.475000</td>\n",
       "      <td>29.483333</td>\n",
       "      <td>31.615000</td>\n",
       "      <td>265.905751</td>\n",
       "      <td>22.210316</td>\n",
       "    </tr>\n",
       "    <tr>\n",
       "      <th>140</th>\n",
       "      <td>NASA238</td>\n",
       "      <td>9896659.5</td>\n",
       "      <td>4.355000</td>\n",
       "      <td>7.405000</td>\n",
       "      <td>10.025000</td>\n",
       "      <td>12.602500</td>\n",
       "      <td>15.145000</td>\n",
       "      <td>17.072500</td>\n",
       "      <td>18.397500</td>\n",
       "      <td>19.517500</td>\n",
       "      <td>...</td>\n",
       "      <td>28.515000</td>\n",
       "      <td>30.550000</td>\n",
       "      <td>32.642500</td>\n",
       "      <td>33.127500</td>\n",
       "      <td>33.615000</td>\n",
       "      <td>34.195000</td>\n",
       "      <td>34.942500</td>\n",
       "      <td>36.552500</td>\n",
       "      <td>474.037408</td>\n",
       "      <td>15.506596</td>\n",
       "    </tr>\n",
       "    <tr>\n",
       "      <th>141</th>\n",
       "      <td>NASA239</td>\n",
       "      <td>9896883.5</td>\n",
       "      <td>-1.437500</td>\n",
       "      <td>-1.120000</td>\n",
       "      <td>-0.857500</td>\n",
       "      <td>-0.635000</td>\n",
       "      <td>-0.467500</td>\n",
       "      <td>-0.260000</td>\n",
       "      <td>-0.075000</td>\n",
       "      <td>0.132500</td>\n",
       "      <td>...</td>\n",
       "      <td>12.507500</td>\n",
       "      <td>17.220000</td>\n",
       "      <td>20.790000</td>\n",
       "      <td>21.202500</td>\n",
       "      <td>21.707500</td>\n",
       "      <td>22.400000</td>\n",
       "      <td>23.427500</td>\n",
       "      <td>32.245000</td>\n",
       "      <td>89.374792</td>\n",
       "      <td>8.659404</td>\n",
       "    </tr>\n",
       "  </tbody>\n",
       "</table>\n",
       "<p>142 rows × 27 columns</p>\n",
       "</div>"
      ],
      "text/plain": [
       "    ID_subplot625  SHOTNUMBER      RH10      RH15       RH20       RH25  \\\n",
       "0         NASA011   9902931.5 -0.560000  0.930000   2.095000   3.025000   \n",
       "1        NASA0116   9903715.5 -1.600000 -1.115000  -0.740000  -0.405000   \n",
       "2         NASA018   9903155.5 -1.530000 -1.010000  -0.600000  -0.155000   \n",
       "3         NASA019   9903417.0 -1.866667 -1.546667  -1.270000  -1.023333   \n",
       "4         NASA021   9898937.5 -3.370000 -2.461250  -1.768750  -1.187500   \n",
       "..            ...         ...       ...       ...        ...        ...   \n",
       "137       NASA235   9896659.5 -0.861667  0.083333   0.860000   1.733333   \n",
       "138       NASA236   9896659.5  5.162500  6.827500   8.080000   9.145000   \n",
       "139       NASA237   9896659.5  1.295000  3.253333   5.121667   6.706667   \n",
       "140       NASA238   9896659.5  4.355000  7.405000  10.025000  12.602500   \n",
       "141       NASA239   9896883.5 -1.437500 -1.120000  -0.857500  -0.635000   \n",
       "\n",
       "          RH30       RH35       RH40       RH45  ...       RH85       RH90  \\\n",
       "0     3.850000   4.595000   5.270000   5.830000  ...   9.645000  10.280000   \n",
       "1    -0.035000   0.265000   0.600000   1.015000  ...   5.945000   7.590000   \n",
       "2     0.335000   0.930000   1.605000   2.395000  ...   6.875000   7.510000   \n",
       "3    -0.796667  -0.623333  -0.446667  -0.273333  ...   1.393333   1.770000   \n",
       "4    -0.673750  -0.241250   0.180000   0.611250  ...   5.425000   6.643750   \n",
       "..         ...        ...        ...        ...  ...        ...        ...   \n",
       "137   2.870000   4.190000   5.475000   6.756667  ...  17.570000  19.095000   \n",
       "138  10.100000  10.940000  11.707500  12.512500  ...  18.722500  20.180000   \n",
       "139   8.165000   9.698333  11.068333  12.206667  ...  23.473333  24.933333   \n",
       "140  15.145000  17.072500  18.397500  19.517500  ...  28.515000  30.550000   \n",
       "141  -0.467500  -0.260000  -0.075000   0.132500  ...  12.507500  17.220000   \n",
       "\n",
       "          RH95       RH96       RH97       RH98       RH99      RH100  \\\n",
       "0    11.285000  11.590000  11.960000  12.445000  13.155000  15.025000   \n",
       "1     9.985000  11.145000  12.190000  13.195000  14.430000  16.070000   \n",
       "2     8.375000   8.635000   9.005000   9.455000  10.245000  11.645000   \n",
       "3     2.440000   2.666667   2.966667   3.436667   4.310000   6.096667   \n",
       "4     8.908750  10.051250  11.408750  12.485000  13.797500  15.756250   \n",
       "..         ...        ...        ...        ...        ...        ...   \n",
       "137  20.940000  21.426667  22.298333  23.670000  24.816667  26.736667   \n",
       "138  21.755000  22.147500  22.592500  23.175000  24.205000  26.972500   \n",
       "139  26.688333  27.140000  27.661667  28.475000  29.483333  31.615000   \n",
       "140  32.642500  33.127500  33.615000  34.195000  34.942500  36.552500   \n",
       "141  20.790000  21.202500  21.707500  22.400000  23.427500  32.245000   \n",
       "\n",
       "     bio_mass_index       agbd  \n",
       "0        793.077065   0.156629  \n",
       "1          0.274309   4.032319  \n",
       "2         47.272262   0.222216  \n",
       "3         23.173004   0.137815  \n",
       "4          0.428357   8.128812  \n",
       "..              ...        ...  \n",
       "137      150.561552   4.059288  \n",
       "138      204.175840   9.106087  \n",
       "139      265.905751  22.210316  \n",
       "140      474.037408  15.506596  \n",
       "141       89.374792   8.659404  \n",
       "\n",
       "[142 rows x 27 columns]"
      ]
     },
     "execution_count": 90,
     "metadata": {},
     "output_type": "execute_result"
    }
   ],
   "source": [
    "L2_All_625"
   ]
  },
  {
   "cell_type": "code",
   "execution_count": 93,
   "metadata": {},
   "outputs": [],
   "source": [
    "subplot625 =  L2_All_625.set_index('ID_subplot625').join(trees_plot625.set_index('ID_subplot_0625'))\n",
    "subplot25 =  L2_All_25.set_index('ID_subplot25').join(trees_plot25.set_index('ID_subplot25'))\n",
    "plot_whole =  L2_All_plot.set_index('plot').join(trees_plot.set_index('plot'))"
   ]
  },
  {
   "cell_type": "code",
   "execution_count": 94,
   "metadata": {},
   "outputs": [
    {
     "data": {
      "text/html": [
       "<div>\n",
       "<style scoped>\n",
       "    .dataframe tbody tr th:only-of-type {\n",
       "        vertical-align: middle;\n",
       "    }\n",
       "\n",
       "    .dataframe tbody tr th {\n",
       "        vertical-align: top;\n",
       "    }\n",
       "\n",
       "    .dataframe thead th {\n",
       "        text-align: right;\n",
       "    }\n",
       "</style>\n",
       "<table border=\"1\" class=\"dataframe\">\n",
       "  <thead>\n",
       "    <tr style=\"text-align: right;\">\n",
       "      <th></th>\n",
       "      <th>SHOTNUMBER</th>\n",
       "      <th>RH10</th>\n",
       "      <th>RH15</th>\n",
       "      <th>RH20</th>\n",
       "      <th>RH25</th>\n",
       "      <th>RH30</th>\n",
       "      <th>RH35</th>\n",
       "      <th>RH40</th>\n",
       "      <th>RH45</th>\n",
       "      <th>RH50</th>\n",
       "      <th>...</th>\n",
       "      <th>RH90</th>\n",
       "      <th>RH95</th>\n",
       "      <th>RH96</th>\n",
       "      <th>RH97</th>\n",
       "      <th>RH98</th>\n",
       "      <th>RH99</th>\n",
       "      <th>RH100</th>\n",
       "      <th>bio_mass_index</th>\n",
       "      <th>agbd</th>\n",
       "      <th>m_agb</th>\n",
       "    </tr>\n",
       "    <tr>\n",
       "      <th>plot</th>\n",
       "      <th></th>\n",
       "      <th></th>\n",
       "      <th></th>\n",
       "      <th></th>\n",
       "      <th></th>\n",
       "      <th></th>\n",
       "      <th></th>\n",
       "      <th></th>\n",
       "      <th></th>\n",
       "      <th></th>\n",
       "      <th></th>\n",
       "      <th></th>\n",
       "      <th></th>\n",
       "      <th></th>\n",
       "      <th></th>\n",
       "      <th></th>\n",
       "      <th></th>\n",
       "      <th></th>\n",
       "      <th></th>\n",
       "      <th></th>\n",
       "      <th></th>\n",
       "    </tr>\n",
       "  </thead>\n",
       "  <tbody>\n",
       "    <tr>\n",
       "      <th>NASA01</th>\n",
       "      <td>9.903317e+06</td>\n",
       "      <td>-1.442222</td>\n",
       "      <td>-0.781111</td>\n",
       "      <td>-0.255556</td>\n",
       "      <td>0.206667</td>\n",
       "      <td>0.656667</td>\n",
       "      <td>1.078889</td>\n",
       "      <td>1.512222</td>\n",
       "      <td>1.962222</td>\n",
       "      <td>2.410000</td>\n",
       "      <td>...</td>\n",
       "      <td>6.230000</td>\n",
       "      <td>7.401111</td>\n",
       "      <td>7.860000</td>\n",
       "      <td>8.356667</td>\n",
       "      <td>8.944444</td>\n",
       "      <td>9.843333</td>\n",
       "      <td>11.530000</td>\n",
       "      <td>194.529587</td>\n",
       "      <td>1.026197</td>\n",
       "      <td>25.86765</td>\n",
       "    </tr>\n",
       "    <tr>\n",
       "      <th>NASA02</th>\n",
       "      <td>9.899316e+06</td>\n",
       "      <td>2.966923</td>\n",
       "      <td>4.834231</td>\n",
       "      <td>6.403718</td>\n",
       "      <td>7.745000</td>\n",
       "      <td>9.008974</td>\n",
       "      <td>10.260385</td>\n",
       "      <td>11.583462</td>\n",
       "      <td>12.813974</td>\n",
       "      <td>13.886154</td>\n",
       "      <td>...</td>\n",
       "      <td>23.722308</td>\n",
       "      <td>25.963077</td>\n",
       "      <td>26.629744</td>\n",
       "      <td>27.410513</td>\n",
       "      <td>28.584615</td>\n",
       "      <td>29.747436</td>\n",
       "      <td>31.646795</td>\n",
       "      <td>335.266898</td>\n",
       "      <td>23.646090</td>\n",
       "      <td>268.65924</td>\n",
       "    </tr>\n",
       "    <tr>\n",
       "      <th>NASA03</th>\n",
       "      <td>9.905646e+06</td>\n",
       "      <td>-0.485750</td>\n",
       "      <td>0.763250</td>\n",
       "      <td>1.723500</td>\n",
       "      <td>2.531375</td>\n",
       "      <td>3.245250</td>\n",
       "      <td>3.869000</td>\n",
       "      <td>4.437500</td>\n",
       "      <td>4.994875</td>\n",
       "      <td>5.519250</td>\n",
       "      <td>...</td>\n",
       "      <td>11.363500</td>\n",
       "      <td>13.215500</td>\n",
       "      <td>13.704375</td>\n",
       "      <td>14.276125</td>\n",
       "      <td>14.967500</td>\n",
       "      <td>15.946500</td>\n",
       "      <td>17.901500</td>\n",
       "      <td>80.945616</td>\n",
       "      <td>3.668476</td>\n",
       "      <td>48.85899</td>\n",
       "    </tr>\n",
       "    <tr>\n",
       "      <th>NASA09</th>\n",
       "      <td>9.910935e+06</td>\n",
       "      <td>-2.647590</td>\n",
       "      <td>-2.113133</td>\n",
       "      <td>-1.691205</td>\n",
       "      <td>-1.326867</td>\n",
       "      <td>-1.006145</td>\n",
       "      <td>-0.696506</td>\n",
       "      <td>-0.408795</td>\n",
       "      <td>-0.130843</td>\n",
       "      <td>0.149277</td>\n",
       "      <td>...</td>\n",
       "      <td>3.091446</td>\n",
       "      <td>4.092410</td>\n",
       "      <td>4.409759</td>\n",
       "      <td>4.801928</td>\n",
       "      <td>5.345783</td>\n",
       "      <td>6.265181</td>\n",
       "      <td>8.037590</td>\n",
       "      <td>4.407012</td>\n",
       "      <td>0.289923</td>\n",
       "      <td>3.43958</td>\n",
       "    </tr>\n",
       "    <tr>\n",
       "      <th>NASA13</th>\n",
       "      <td>9.421158e+06</td>\n",
       "      <td>3.703939</td>\n",
       "      <td>5.760455</td>\n",
       "      <td>7.505303</td>\n",
       "      <td>8.952879</td>\n",
       "      <td>10.177121</td>\n",
       "      <td>11.445152</td>\n",
       "      <td>12.670909</td>\n",
       "      <td>13.818182</td>\n",
       "      <td>15.086364</td>\n",
       "      <td>...</td>\n",
       "      <td>24.221364</td>\n",
       "      <td>26.066970</td>\n",
       "      <td>26.576515</td>\n",
       "      <td>27.256667</td>\n",
       "      <td>28.006667</td>\n",
       "      <td>29.132879</td>\n",
       "      <td>31.421667</td>\n",
       "      <td>330.249723</td>\n",
       "      <td>20.495484</td>\n",
       "      <td>230.97228</td>\n",
       "    </tr>\n",
       "    <tr>\n",
       "      <th>NASA14</th>\n",
       "      <td>9.362163e+06</td>\n",
       "      <td>3.621270</td>\n",
       "      <td>5.394444</td>\n",
       "      <td>6.743651</td>\n",
       "      <td>7.866667</td>\n",
       "      <td>8.788571</td>\n",
       "      <td>9.625079</td>\n",
       "      <td>10.421429</td>\n",
       "      <td>11.189206</td>\n",
       "      <td>11.930317</td>\n",
       "      <td>...</td>\n",
       "      <td>18.757143</td>\n",
       "      <td>20.326190</td>\n",
       "      <td>20.785556</td>\n",
       "      <td>21.420952</td>\n",
       "      <td>22.118730</td>\n",
       "      <td>23.154921</td>\n",
       "      <td>24.980794</td>\n",
       "      <td>189.084187</td>\n",
       "      <td>12.572338</td>\n",
       "      <td>147.39168</td>\n",
       "    </tr>\n",
       "    <tr>\n",
       "      <th>NASA19</th>\n",
       "      <td>9.404512e+06</td>\n",
       "      <td>-1.545541</td>\n",
       "      <td>-1.197568</td>\n",
       "      <td>-0.925676</td>\n",
       "      <td>-0.687162</td>\n",
       "      <td>-0.466216</td>\n",
       "      <td>-0.257297</td>\n",
       "      <td>-0.042027</td>\n",
       "      <td>0.179865</td>\n",
       "      <td>0.428108</td>\n",
       "      <td>...</td>\n",
       "      <td>3.919865</td>\n",
       "      <td>5.213378</td>\n",
       "      <td>5.571081</td>\n",
       "      <td>5.993378</td>\n",
       "      <td>6.516351</td>\n",
       "      <td>7.260541</td>\n",
       "      <td>8.775946</td>\n",
       "      <td>6.112114</td>\n",
       "      <td>0.427551</td>\n",
       "      <td>5.25603</td>\n",
       "    </tr>\n",
       "    <tr>\n",
       "      <th>NASA20</th>\n",
       "      <td>9.411360e+06</td>\n",
       "      <td>-1.236111</td>\n",
       "      <td>-0.432778</td>\n",
       "      <td>0.285000</td>\n",
       "      <td>1.015278</td>\n",
       "      <td>1.652500</td>\n",
       "      <td>2.273611</td>\n",
       "      <td>2.913056</td>\n",
       "      <td>3.711667</td>\n",
       "      <td>4.637778</td>\n",
       "      <td>...</td>\n",
       "      <td>14.581667</td>\n",
       "      <td>17.511944</td>\n",
       "      <td>18.480278</td>\n",
       "      <td>19.598889</td>\n",
       "      <td>20.847778</td>\n",
       "      <td>22.147778</td>\n",
       "      <td>24.493056</td>\n",
       "      <td>117.034209</td>\n",
       "      <td>7.132076</td>\n",
       "      <td>73.42733</td>\n",
       "    </tr>\n",
       "    <tr>\n",
       "      <th>NASA21A</th>\n",
       "      <td>9.398714e+06</td>\n",
       "      <td>1.312468</td>\n",
       "      <td>3.038442</td>\n",
       "      <td>4.398831</td>\n",
       "      <td>5.555974</td>\n",
       "      <td>6.609610</td>\n",
       "      <td>7.412468</td>\n",
       "      <td>8.142208</td>\n",
       "      <td>8.852727</td>\n",
       "      <td>9.501169</td>\n",
       "      <td>...</td>\n",
       "      <td>15.817792</td>\n",
       "      <td>17.646494</td>\n",
       "      <td>18.139351</td>\n",
       "      <td>18.705714</td>\n",
       "      <td>19.446104</td>\n",
       "      <td>20.397662</td>\n",
       "      <td>22.202338</td>\n",
       "      <td>151.618232</td>\n",
       "      <td>10.585316</td>\n",
       "      <td>129.91120</td>\n",
       "    </tr>\n",
       "    <tr>\n",
       "      <th>NASA23</th>\n",
       "      <td>9.896769e+06</td>\n",
       "      <td>1.341282</td>\n",
       "      <td>2.722051</td>\n",
       "      <td>3.911667</td>\n",
       "      <td>4.905385</td>\n",
       "      <td>5.823718</td>\n",
       "      <td>6.747179</td>\n",
       "      <td>7.746923</td>\n",
       "      <td>8.515769</td>\n",
       "      <td>9.250641</td>\n",
       "      <td>...</td>\n",
       "      <td>17.908718</td>\n",
       "      <td>19.860256</td>\n",
       "      <td>20.409615</td>\n",
       "      <td>21.194359</td>\n",
       "      <td>22.006282</td>\n",
       "      <td>23.033077</td>\n",
       "      <td>25.436667</td>\n",
       "      <td>213.036680</td>\n",
       "      <td>10.368113</td>\n",
       "      <td>119.41919</td>\n",
       "    </tr>\n",
       "  </tbody>\n",
       "</table>\n",
       "<p>10 rows × 27 columns</p>\n",
       "</div>"
      ],
      "text/plain": [
       "           SHOTNUMBER      RH10      RH15      RH20      RH25       RH30  \\\n",
       "plot                                                                       \n",
       "NASA01   9.903317e+06 -1.442222 -0.781111 -0.255556  0.206667   0.656667   \n",
       "NASA02   9.899316e+06  2.966923  4.834231  6.403718  7.745000   9.008974   \n",
       "NASA03   9.905646e+06 -0.485750  0.763250  1.723500  2.531375   3.245250   \n",
       "NASA09   9.910935e+06 -2.647590 -2.113133 -1.691205 -1.326867  -1.006145   \n",
       "NASA13   9.421158e+06  3.703939  5.760455  7.505303  8.952879  10.177121   \n",
       "NASA14   9.362163e+06  3.621270  5.394444  6.743651  7.866667   8.788571   \n",
       "NASA19   9.404512e+06 -1.545541 -1.197568 -0.925676 -0.687162  -0.466216   \n",
       "NASA20   9.411360e+06 -1.236111 -0.432778  0.285000  1.015278   1.652500   \n",
       "NASA21A  9.398714e+06  1.312468  3.038442  4.398831  5.555974   6.609610   \n",
       "NASA23   9.896769e+06  1.341282  2.722051  3.911667  4.905385   5.823718   \n",
       "\n",
       "              RH35       RH40       RH45       RH50  ...       RH90  \\\n",
       "plot                                                 ...              \n",
       "NASA01    1.078889   1.512222   1.962222   2.410000  ...   6.230000   \n",
       "NASA02   10.260385  11.583462  12.813974  13.886154  ...  23.722308   \n",
       "NASA03    3.869000   4.437500   4.994875   5.519250  ...  11.363500   \n",
       "NASA09   -0.696506  -0.408795  -0.130843   0.149277  ...   3.091446   \n",
       "NASA13   11.445152  12.670909  13.818182  15.086364  ...  24.221364   \n",
       "NASA14    9.625079  10.421429  11.189206  11.930317  ...  18.757143   \n",
       "NASA19   -0.257297  -0.042027   0.179865   0.428108  ...   3.919865   \n",
       "NASA20    2.273611   2.913056   3.711667   4.637778  ...  14.581667   \n",
       "NASA21A   7.412468   8.142208   8.852727   9.501169  ...  15.817792   \n",
       "NASA23    6.747179   7.746923   8.515769   9.250641  ...  17.908718   \n",
       "\n",
       "              RH95       RH96       RH97       RH98       RH99      RH100  \\\n",
       "plot                                                                        \n",
       "NASA01    7.401111   7.860000   8.356667   8.944444   9.843333  11.530000   \n",
       "NASA02   25.963077  26.629744  27.410513  28.584615  29.747436  31.646795   \n",
       "NASA03   13.215500  13.704375  14.276125  14.967500  15.946500  17.901500   \n",
       "NASA09    4.092410   4.409759   4.801928   5.345783   6.265181   8.037590   \n",
       "NASA13   26.066970  26.576515  27.256667  28.006667  29.132879  31.421667   \n",
       "NASA14   20.326190  20.785556  21.420952  22.118730  23.154921  24.980794   \n",
       "NASA19    5.213378   5.571081   5.993378   6.516351   7.260541   8.775946   \n",
       "NASA20   17.511944  18.480278  19.598889  20.847778  22.147778  24.493056   \n",
       "NASA21A  17.646494  18.139351  18.705714  19.446104  20.397662  22.202338   \n",
       "NASA23   19.860256  20.409615  21.194359  22.006282  23.033077  25.436667   \n",
       "\n",
       "         bio_mass_index       agbd      m_agb  \n",
       "plot                                           \n",
       "NASA01       194.529587   1.026197   25.86765  \n",
       "NASA02       335.266898  23.646090  268.65924  \n",
       "NASA03        80.945616   3.668476   48.85899  \n",
       "NASA09         4.407012   0.289923    3.43958  \n",
       "NASA13       330.249723  20.495484  230.97228  \n",
       "NASA14       189.084187  12.572338  147.39168  \n",
       "NASA19         6.112114   0.427551    5.25603  \n",
       "NASA20       117.034209   7.132076   73.42733  \n",
       "NASA21A      151.618232  10.585316  129.91120  \n",
       "NASA23       213.036680  10.368113  119.41919  \n",
       "\n",
       "[10 rows x 27 columns]"
      ]
     },
     "execution_count": 94,
     "metadata": {},
     "output_type": "execute_result"
    }
   ],
   "source": [
    "plot_whole"
   ]
  },
  {
   "cell_type": "code",
   "execution_count": 96,
   "metadata": {},
   "outputs": [
    {
     "data": {
      "text/plain": [
       "<AxesSubplot:xlabel='bio_mass_index', ylabel='m_agb'>"
      ]
     },
     "execution_count": 96,
     "metadata": {},
     "output_type": "execute_result"
    },
    {
     "data": {
      "image/png": "[encoded data removed]",
      "text/plain": [
       "<Figure size 432x288 with 1 Axes>"
      ]
     },
     "metadata": {
      "needs_background": "light"
     },
     "output_type": "display_data"
    }
   ],
   "source": [
    "\n",
    "sns.regplot(data=subplot625, x=\"bio_mass_index\", y=\"m_agb\")\n"
   ]
  },
  {
   "cell_type": "code",
   "execution_count": 97,
   "metadata": {},
   "outputs": [
    {
     "data": {
      "text/plain": [
       "<AxesSubplot:xlabel='bio_mass_index', ylabel='m_agb'>"
      ]
     },
     "execution_count": 97,
     "metadata": {},
     "output_type": "execute_result"
    },
    {
     "data": {
      "image/png": "[encoded data removed]",
      "text/plain": [
       "<Figure size 432x288 with 1 Axes>"
      ]
     },
     "metadata": {
      "needs_background": "light"
     },
     "output_type": "display_data"
    }
   ],
   "source": [
    "sns.regplot(data=subplot25,  x=\"bio_mass_index\", y=\"m_agb\")\n"
   ]
  },
  {
   "cell_type": "code",
   "execution_count": 98,
   "metadata": {},
   "outputs": [
    {
     "data": {
      "text/plain": [
       "<AxesSubplot:xlabel='bio_mass_index', ylabel='m_agb'>"
      ]
     },
     "execution_count": 98,
     "metadata": {},
     "output_type": "execute_result"
    },
    {
     "data": {
      "image/png": "[encoded data removed]",
      "text/plain": [
       "<Figure size 432x288 with 1 Axes>"
      ]
     },
     "metadata": {
      "needs_background": "light"
     },
     "output_type": "display_data"
    }
   ],
   "source": [
    "sns.regplot(data=plot_whole, x=\"bio_mass_index\", y=\"m_agb\")"
   ]
  },
  {
   "cell_type": "code",
   "execution_count": null,
   "metadata": {},
   "outputs": [],
   "source": []
  },
  {
   "cell_type": "code",
   "execution_count": null,
   "metadata": {},
   "outputs": [],
   "source": []
  },
  {
   "cell_type": "code",
   "execution_count": null,
   "metadata": {},
   "outputs": [],
   "source": []
  },
  {
   "cell_type": "markdown",
   "metadata": {},
   "source": [
    "# Conclusion and Discussion "
   ]
  },
  {
   "cell_type": "code",
   "execution_count": null,
   "metadata": {},
   "outputs": [],
   "source": []
  },
  {
   "cell_type": "code",
   "execution_count": null,
   "metadata": {},
   "outputs": [],
   "source": [
    "__Answer research question and give summary conclusions "
   ]
  },
  {
   "cell_type": "code",
   "execution_count": null,
   "metadata": {},
   "outputs": [],
   "source": []
  },
  {
   "cell_type": "code",
   "execution_count": null,
   "metadata": {},
   "outputs": [],
   "source": [
    "Unexpected findings "
   ]
  },
  {
   "cell_type": "code",
   "execution_count": null,
   "metadata": {},
   "outputs": [],
   "source": []
  },
  {
   "cell_type": "code",
   "execution_count": null,
   "metadata": {},
   "outputs": [],
   "source": [
    "Establish newness "
   ]
  },
  {
   "cell_type": "code",
   "execution_count": null,
   "metadata": {},
   "outputs": [],
   "source": []
  },
  {
   "cell_type": "code",
   "execution_count": null,
   "metadata": {},
   "outputs": [],
   "source": [
    "Explain discrepancies "
   ]
  },
  {
   "cell_type": "code",
   "execution_count": null,
   "metadata": {},
   "outputs": [],
   "source": []
  },
  {
   "cell_type": "code",
   "execution_count": null,
   "metadata": {},
   "outputs": [],
   "source": [
    "A Good Article is the one that is read and cited "
   ]
  },
  {
   "cell_type": "code",
   "execution_count": null,
   "metadata": {},
   "outputs": [],
   "source": []
  },
  {
   "cell_type": "code",
   "execution_count": null,
   "metadata": {},
   "outputs": [],
   "source": []
  }
 ],
 "metadata": {
  "kernelspec": {
   "display_name": "Python 3",
   "language": "python",
   "name": "python3"
  },
  "language_info": {
   "codemirror_mode": {
    "name": "ipython",
    "version": 3
   },
   "file_extension": ".py",
   "mimetype": "text/x-python",
   "name": "python",
   "nbconvert_exporter": "python",
   "pygments_lexer": "ipython3",
   "version": "3.8.5"
  }
 },
 "nbformat": 4,
 "nbformat_minor": 2
}
