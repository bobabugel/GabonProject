{
 "cells": [
  {
   "cell_type": "markdown",
   "metadata": {
    "scrolled": true
   },
   "source": [
    "#geopandas "
   ]
  },
  {
   "cell_type": "markdown",
   "metadata": {},
   "source": [
    "For this project I am using my Geopandas_h5pytest environment"
   ]
  },
  {
   "cell_type": "code",
   "execution_count": null,
   "metadata": {},
   "outputs": [],
   "source": []
  },
  {
   "cell_type": "markdown",
   "metadata": {},
   "source": [
    "D:\\Gabon_Lidar\\DATA\\level2\\5000000734209-1\\138345559\\LVIS2_Gabon2016_0220_R1808_038024.txt\n",
    "    "
   ]
  },
  {
   "cell_type": "code",
   "execution_count": 3,
   "metadata": {},
   "outputs": [],
   "source": [
    "#This is the location of the file that call fall with in the study site. \n",
    "#With the last number as time those can be used to place them in plots. "
   ]
  },
  {
   "cell_type": "markdown",
   "metadata": {},
   "source": [
    "= (r'D:\\Gabon_Lidar\\DATA\\LEVEL2_0308\\LVIS2B_Gabon2016_0308_R1808_045612.txt')\n",
    "= (r'D:\\Gabon_Lidar\\DATA\\LEVEL1_0308\\LVIS1B_Gabon2016_0308_R1808_045612.h5')\n",
    "= (r'D:\\Gabon_Lidar\\DATA\\LEVEL2_0308\\LVIS2B_Gabon2016_0308_R1808_046644.txt')\n",
    "= (r'D:\\Gabon_Lidar\\DATA\\LEVEL1_0308\\LVIS1B_Gabon2016_0308_R1808_046644.h5')\n",
    "= (r'D:\\Gabon_Lidar\\DATA\\LEVEL2_0308\\LVIS2B_Gabon2016_0308_R1808_047404.txt')\n",
    "= (r'D:\\Gabon_Lidar\\DATA\\LEVEL1_0308\\LVIS1B_Gabon2016_0308_R1808_047404.h5')"
   ]
  },
  {
   "cell_type": "markdown",
   "metadata": {},
   "source": [
    "L1 = D:\\Gabon_Lidar\\DATA\\level1\\5000000734313-1\\138348937\\LVIS1B_Gabon2016_0308_R1808_049095.h5"
   ]
  },
  {
   "cell_type": "markdown",
   "metadata": {},
   "source": [
    "#https://lvis.gsfc.nasa.gov/workshop/LVIS_QGIS_Tutorial_Gabon.pdf"
   ]
  },
  {
   "cell_type": "code",
   "execution_count": 4,
   "metadata": {},
   "outputs": [],
   "source": [
    "import matplotlib.pyplot as plt\n",
    "import numpy as np\n",
    "import pylab\n",
    "import pandas as pd\n",
    "import h5py\n",
    "import geopandas as gpd\n",
    "from shapely.geometry import *\n",
    "from geopandas.geoseries import *\n",
    "import sys"
   ]
  },
  {
   "cell_type": "markdown",
   "metadata": {},
   "source": [
    "#All of of the shots are in bands \n",
    "LVIS2_Gabon2016_0308_R1808_046644_XYTableToPoint\n",
    "LVIS2_Gabon2016_0308_R1808_045612_XYTableToPoint"
   ]
  },
  {
   "cell_type": "code",
   "execution_count": 5,
   "metadata": {},
   "outputs": [],
   "source": [
    "#L1_04644 = h5py.File(r'D:\\Gabon_Lidar\\DATA\\level1\\5000000734313-2\\138349093\\LVIS1B_Gabon2016_0308_R1808_046644.h5','r')\n",
    "#L1_04644= (r'D:\\Gabon_Lidar\\DATA\\level2\\5000000734209-1\\138348893\\LVIS2_Gabon2016_0308_R1808_044165.TXT')\n"
   ]
  },
  {
   "cell_type": "code",
   "execution_count": 6,
   "metadata": {},
   "outputs": [],
   "source": [
    "#L1_045612 = h5py.File(r'D:\\Gabon_Lidar\\DATA\\level1\\5000000734313-1\\138349060\\LVIS1B_Gabon2016_0308_R1808_045612.h5','r')\n",
    "L2_045612 =(r'D:\\Gabon_Lidar\\DATA\\LEVEL2_0308\\LVIS2B_Gabon2016_0308_R1808_046644.txt')"
   ]
  },
  {
   "cell_type": "code",
   "execution_count": 7,
   "metadata": {},
   "outputs": [],
   "source": [
    "lvis = h5py.File(r'D:\\Gabon_Lidar\\DATA\\LEVEL1_0308\\LVIS1B_Gabon2016_0308_R1808_046644.h5','r')\n",
    "#get wave index from shotnumber and test if exists\n",
    "all_shotnums = np.array(lvis['SHOTNUMBER'])\n",
    "wave_idx = ''\n",
    "Zmax = ''\n",
    "wfrange = 1024\n",
    "wfsize = 1023\n"
   ]
  },
  {
   "cell_type": "code",
   "execution_count": 8,
   "metadata": {},
   "outputs": [
    {
     "name": "stdout",
     "output_type": "stream",
     "text": [
      "[10326659 10326660 10326661 ... 11087111 11087112 11087113]\n"
     ]
    }
   ],
   "source": [
    "print(all_shotnums)"
   ]
  },
  {
   "cell_type": "code",
   "execution_count": 9,
   "metadata": {},
   "outputs": [
    {
     "name": "stdout",
     "output_type": "stream",
     "text": [
      "AZIMUTH\n",
      "INCIDENTANGLE\n",
      "LAT0\n",
      "LAT1023\n",
      "LFID\n",
      "LON0\n",
      "LON1023\n",
      "RANGE\n",
      "RXWAVE\n",
      "SHOTNUMBER\n",
      "SIGMEAN\n",
      "TIME\n",
      "TXWAVE\n",
      "Z0\n",
      "Z1023\n",
      "ancillary_data/HDF5 Version\n",
      "ancillary_data/Maximum Latitude\n",
      "ancillary_data/Maximum Longitude\n",
      "ancillary_data/Minimum Latitude\n",
      "ancillary_data/Minimum Longitude\n",
      "ancillary_data/ancillary_text\n",
      "ancillary_data/reference_frame\n"
     ]
    }
   ],
   "source": [
    "#list_dataset lists the names of datasets in an hdf5 file\n",
    "def list_dataset(name,node):\n",
    "    if isinstance(node, h5py.Dataset):\n",
    "        print(name)\n",
    "\n",
    "lvis.visititems(list_dataset)"
   ]
  },
  {
   "cell_type": "code",
   "execution_count": 10,
   "metadata": {},
   "outputs": [],
   "source": [
    "#Row Labels\tCount of FID\n",
    "#Grand Total\t1231\n",
    "#10978415\t36\n",
    "#10977964\t26\n",
    "#10493192\t25\n",
    "#10492699\t24\n",
    "#10978210\t24\n",
    "#10978411\t23\n",
    "#10977961\t22\n",
    "#10978414\t21\n",
    "#10978185\t19\n",
    "#10978440\t19\n",
    "#10977765\t18\n",
    "#10978438\t18\n",
    "#10492970\t17\n",
    "#10978184\t17\n",
    "#10978189\t17\n",
    "#10978434\t17\n",
    "#10978436\t17\n",
    "#10977736\t16\n",
    "#10493378\t15\n",
    "#10977963\t15\n",
    "#10978190\t15\n",
    "#10978407\t15\n",
    "#10492700\t14\n",
    "#10492747\t14\n",
    "#10493191\t14\n",
    "#10977735\t14\n",
    "#10978209\t14\n",
    "#10978212\t14\n",
    "#10977737\t13\n",
    "#10977767\t13\n",
    "#10977769\t13\n",
    "#10977960\t13\n",
    "#10978410\t13\n",
    "#10492926\t12\n",
    "#10977763\t12\n",
    "#10977989\t12\n",
    "#10978216\t12\n",
    "#10978433\t12\n",
    "#10978439\t12\n",
    "#10493194\t11\n",
    "#10493373\t11\n",
    "#10493375\t11\n",
    "#10977738\t11\n",
    "#10977740\t11\n",
    "#10977768\t11\n",
    "#10977988\t11\n",
    "#10978186\t11\n",
    "#10978409\t11\n",
    "#10492925\t10\n",
    "#10493149\t10\n",
    "#10493150\t10\n",
    "#10493154\t10\n",
    "#10493195\t10\n",
    "#10977764\t10\n",
    "#10977959\t10\n",
    "#10978213\t10\n",
    "#10978214\t10\n",
    "#10492923\t9\n",
    "#10492969\t9\n",
    "#10493156\t9\n",
    "#10493379\t9\n",
    "#10977958\t9\n",
    "#10977991\t9\n",
    "#10978183\t9\n",
    "#10978435\t9\n",
    "#10978437\t9\n",
    "#10492968\t8\n",
    "#10493152\t8\n",
    "#10493371\t8\n",
    "#10493374\t8\n",
    "#10977739\t8\n",
    "#10977761\t8\n",
    "#10978208\t8\n",
    "#10978432\t8\n",
    "#10492967\t7\n",
    "#10493187\t7\n",
    "#10493196\t7\n",
    "#10493380\t7\n",
    "#10977992\t7\n",
    "#10977993\t7\n",
    "#10492701\t6\n",
    "#10492930\t6\n",
    "#10492966\t6\n",
    "#10493153\t6\n",
    "#10493193\t6\n",
    "#10493377\t6\n",
    "#10977762\t6\n",
    "#10977766\t6\n",
    "#10977987\t6\n",
    "#10978182\t6\n",
    "#10978188\t6\n",
    "#10978215\t6\n",
    "#10978408\t6\n",
    "#10978413\t6\n",
    "#10492924\t5\n",
    "#10493147\t5\n",
    "#10493155\t5\n",
    "#10493190\t5\n",
    "#10977734\t5\n",
    "#10977986\t5\n",
    "#10977990\t5\n",
    "#10492706\t4\n",
    "#10492741\t4\n",
    "#10492927\t4\n",
    "#10492964\t4\n",
    "#10492972\t4\n",
    "#10493189\t4\n",
    "#10977537\t4\n",
    "#10977741\t4\n",
    "#10977962\t4\n",
    "#10977985\t4\n",
    "#10492742\t3\n",
    "#10492745\t3\n",
    "#10492965\t3\n",
    "#10492971\t3\n",
    "#10978187\t3\n",
    "#10492705\t2\n",
    "#10492707\t2\n",
    "#10492708\t2\n",
    "#10492743\t2\n",
    "#10492746\t2\n",
    "#10492928\t2\n",
    "#10493372\t2\n",
    "#10493376\t2\n",
    "#10977742\t2\n",
    "#10492703\t1\n",
    "#10492929\t1\n",
    "#10492931\t1\n",
    "#10492932\t1\n",
    "#10977733\t1\n",
    "#10977770\t1\n",
    "\n"
   ]
  },
  {
   "cell_type": "code",
   "execution_count": 77,
   "metadata": {},
   "outputs": [],
   "source": [
    "myshotnum = int(10978411)"
   ]
  },
  {
   "cell_type": "code",
   "execution_count": 78,
   "metadata": {},
   "outputs": [],
   "source": [
    "wave_idx = np.where(all_shotnums==myshotnum)[0][0]"
   ]
  },
  {
   "cell_type": "code",
   "execution_count": 79,
   "metadata": {},
   "outputs": [],
   "source": [
    "#extract the single waveform and elevation attributes Z0 and Z1023;\n",
    "waveform = lvis['RXWAVE'][wave_idx]"
   ]
  },
  {
   "cell_type": "code",
   "execution_count": 80,
   "metadata": {},
   "outputs": [
    {
     "data": {
      "text/plain": [
       "array([63, 65, 63, ..., 63, 63, 63], dtype=uint16)"
      ]
     },
     "execution_count": 80,
     "metadata": {},
     "output_type": "execute_result"
    }
   ],
   "source": [
    "waveform"
   ]
  },
  {
   "cell_type": "code",
   "execution_count": null,
   "metadata": {},
   "outputs": [],
   "source": []
  },
  {
   "cell_type": "code",
   "execution_count": 81,
   "metadata": {},
   "outputs": [],
   "source": [
    "Z0 = int(lvis['Z0'][wave_idx])"
   ]
  },
  {
   "cell_type": "code",
   "execution_count": 82,
   "metadata": {},
   "outputs": [
    {
     "name": "stdout",
     "output_type": "stream",
     "text": [
      "131\n"
     ]
    }
   ],
   "source": [
    "print(Z0)"
   ]
  },
  {
   "cell_type": "code",
   "execution_count": 83,
   "metadata": {},
   "outputs": [
    {
     "name": "stdout",
     "output_type": "stream",
     "text": [
      "<class 'int'>\n"
     ]
    }
   ],
   "source": [
    "print(type(Z0))"
   ]
  },
  {
   "cell_type": "code",
   "execution_count": 84,
   "metadata": {},
   "outputs": [
    {
     "data": {
      "text/plain": [
       "-21"
      ]
     },
     "execution_count": 84,
     "metadata": {},
     "output_type": "execute_result"
    }
   ],
   "source": [
    "int(lvis['Z1023'][wave_idx])"
   ]
  },
  {
   "cell_type": "code",
   "execution_count": 85,
   "metadata": {},
   "outputs": [
    {
     "data": {
      "text/plain": [
       "131"
      ]
     },
     "execution_count": 85,
     "metadata": {},
     "output_type": "execute_result"
    }
   ],
   "source": [
    "int(lvis['Z0'][wave_idx])"
   ]
  },
  {
   "cell_type": "code",
   "execution_count": 86,
   "metadata": {},
   "outputs": [],
   "source": [
    "Z1023 = int(lvis['Z1023'][wave_idx])"
   ]
  },
  {
   "cell_type": "code",
   "execution_count": 87,
   "metadata": {},
   "outputs": [
    {
     "data": {
      "text/plain": [
       "131"
      ]
     },
     "execution_count": 87,
     "metadata": {},
     "output_type": "execute_result"
    }
   ],
   "source": [
    "int(lvis['Z0'][wave_idx])"
   ]
  },
  {
   "cell_type": "code",
   "execution_count": 88,
   "metadata": {},
   "outputs": [
    {
     "name": "stdout",
     "output_type": "stream",
     "text": [
      "-21\n"
     ]
    }
   ],
   "source": [
    "print(Z1023)"
   ]
  },
  {
   "cell_type": "code",
   "execution_count": 89,
   "metadata": {},
   "outputs": [],
   "source": [
    "x = Z0 - Z1023"
   ]
  },
  {
   "cell_type": "code",
   "execution_count": 90,
   "metadata": {},
   "outputs": [
    {
     "name": "stdout",
     "output_type": "stream",
     "text": [
      "152\n"
     ]
    }
   ],
   "source": [
    "print(x)"
   ]
  },
  {
   "cell_type": "code",
   "execution_count": 91,
   "metadata": {},
   "outputs": [],
   "source": [
    "#zstretch = np.add(Z1023,np.multiply(range(wfrange,0,-1),((Z0-Z1023)/int(1023))))"
   ]
  },
  {
   "cell_type": "code",
   "execution_count": 92,
   "metadata": {},
   "outputs": [],
   "source": [
    "#find the elevation difference from Z0 to Z1023 and divide into 1023 equal intervals\n",
    "zstretch = np.add(Z1023,np.multiply(range(wfrange,0,-1),((Z0-Z1023)/int(wfsize))))"
   ]
  },
  {
   "cell_type": "code",
   "execution_count": 93,
   "metadata": {},
   "outputs": [],
   "source": [
    "with open(r'D:\\Gabon_Lidar\\DATA\\LEVEL2_0308\\csv\\LVIS2_Gabon2016_0308_R1808_045612.csv')  as f:\n",
    "    for line in f:\n",
    "        try:\n",
    "            myshot = line.split()[0]\n",
    "            if int(myshot)==int(myshotnum):\n",
    "                ZG = float(line.split()[5])\n",
    "                ZT = float(line.split()[8])\n",
    "                RH25 = float(line.split()[12])+ZG\n",
    "                RH50 = float(line.split()[17])+ZG\n",
    "                RH75 = float(line.split()[22])+ZG\n",
    "                RH10 = float(line.split()[9])+ZG \n",
    "                break\n",
    "        except ValueError:\n",
    "            pass"
   ]
  },
  {
   "cell_type": "code",
   "execution_count": 94,
   "metadata": {},
   "outputs": [],
   "source": [
    "ZG = waveform[5]"
   ]
  },
  {
   "cell_type": "code",
   "execution_count": null,
   "metadata": {},
   "outputs": [],
   "source": []
  },
  {
   "cell_type": "code",
   "execution_count": 95,
   "metadata": {},
   "outputs": [],
   "source": [
    "ZT = waveform[8]"
   ]
  },
  {
   "cell_type": "code",
   "execution_count": 96,
   "metadata": {},
   "outputs": [],
   "source": [
    "RH25 = waveform[12]"
   ]
  },
  {
   "cell_type": "code",
   "execution_count": 97,
   "metadata": {},
   "outputs": [
    {
     "data": {
      "text/plain": [
       "65"
      ]
     },
     "execution_count": 97,
     "metadata": {},
     "output_type": "execute_result"
    }
   ],
   "source": [
    "RH25"
   ]
  },
  {
   "cell_type": "code",
   "execution_count": 98,
   "metadata": {},
   "outputs": [],
   "source": [
    "RH50 = waveform[17]"
   ]
  },
  {
   "cell_type": "code",
   "execution_count": 99,
   "metadata": {},
   "outputs": [
    {
     "data": {
      "text/plain": [
       "63"
      ]
     },
     "execution_count": 99,
     "metadata": {},
     "output_type": "execute_result"
    }
   ],
   "source": [
    "RH50"
   ]
  },
  {
   "cell_type": "code",
   "execution_count": 100,
   "metadata": {},
   "outputs": [],
   "source": [
    "RH75 = waveform[22]"
   ]
  },
  {
   "cell_type": "code",
   "execution_count": 101,
   "metadata": {},
   "outputs": [
    {
     "data": {
      "text/plain": [
       "63"
      ]
     },
     "execution_count": 101,
     "metadata": {},
     "output_type": "execute_result"
    }
   ],
   "source": [
    "RH75"
   ]
  },
  {
   "cell_type": "code",
   "execution_count": 102,
   "metadata": {},
   "outputs": [],
   "source": [
    "RH10 = waveform[9]"
   ]
  },
  {
   "cell_type": "code",
   "execution_count": 103,
   "metadata": {},
   "outputs": [
    {
     "data": {
      "text/plain": [
       "69"
      ]
     },
     "execution_count": 103,
     "metadata": {},
     "output_type": "execute_result"
    }
   ],
   "source": [
    "RH10"
   ]
  },
  {
   "cell_type": "code",
   "execution_count": 104,
   "metadata": {},
   "outputs": [
    {
     "name": "stderr",
     "output_type": "stream",
     "text": [
      "<ipython-input-104-a28cc4f5016e>:2: RuntimeWarning: overflow encountered in ushort_scalars\n",
      "  zmin=RH10-(ZT-RH10)/6   #sets zmin at 15% below the waveform range defined in RH10-ZT\n",
      "<ipython-input-104-a28cc4f5016e>:3: RuntimeWarning: overflow encountered in ushort_scalars\n",
      "  zmax=ZT+(ZT-RH10)/18   #sets zmax at 5% above the waveform range defined in RH10-ZT\n"
     ]
    }
   ],
   "source": [
    "    #set the z range limits for plotting the waveform to crop the noise  \n",
    "    zmin=RH10-(ZT-RH10)/6   #sets zmin at 15% below the waveform range defined in RH10-ZT\n",
    "    zmax=ZT+(ZT-RH10)/18   #sets zmax at 5% above the waveform range defined in RH10-ZT"
   ]
  },
  {
   "cell_type": "code",
   "execution_count": 105,
   "metadata": {},
   "outputs": [],
   "source": [
    "    #crop the waveform and elevation arrays to the z range limits\n",
    "    x=zstretch>=zmin #this returns boolean True/False based on the comparison condition statement\n",
    "    y=zstretch<=zmax \n",
    "    z=(x==y) #this creates a combined boolean result from the previous two condition statements\n",
    "    waveform_crop = []\n",
    "    zstretch_crop = []\n",
    "    for i in range(0,len(waveform)):\n",
    "        if z[i]==True:\n",
    "            waveform_crop.append(waveform[i])\n",
    "            zstretch_crop.append(zstretch[i])  \n",
    "        "
   ]
  },
  {
   "cell_type": "code",
   "execution_count": 106,
   "metadata": {
    "scrolled": true
   },
   "outputs": [
    {
     "data": {
      "image/png": "[encoded data removed]",
      "text/plain": [
       "<Figure size 1080x432 with 2 Axes>"
      ]
     },
     "metadata": {
      "needs_background": "light"
     },
     "output_type": "display_data"
    }
   ],
   "source": [
    "    #plot the waveform as matplotlib figure\n",
    "    fig = plt.figure(figsize=(15, 6))\n",
    "    figplot = fig.add_subplot(121) \n",
    "    figplot.plot(waveform,zstretch)\n",
    "    plt.ylabel('elevation(m)')\n",
    "    plt.xlabel('amplitude')\n",
    "\n",
    "    figplot = fig.add_subplot(122) \n",
    "    figplot.plot(waveform_crop,zstretch_crop)\n",
    "    figplot.hlines(ZT,min(waveform),max(waveform),lw=1,linestyle='-', color='b',label='ZT')\n",
    "    figplot.hlines(RH75,min(waveform),max(waveform),lw=1,linestyle='-', color='g',label='RH75')\n",
    "    figplot.hlines(RH50,min(waveform),max(waveform),lw=1,linestyle='-', color='y',label='RH50')\n",
    "    figplot.hlines(RH25,min(waveform),max(waveform),lw=1,linestyle='-', color='orange',label='RH25')\n",
    "    figplot.hlines(ZG,min(waveform),max(waveform),lw=1,linestyle='-', color='r',label='ZG')\n",
    "    plt.legend(bbox_to_anchor=(0., 1.02, 1., .102), loc=3, ncol=5, mode=\"expand\", borderaxespad=0.)\n",
    "    plt.ylabel('elevation(m)')\n",
    "    plt.xlabel('amplitude')\n",
    "    plt.show(block=False)"
   ]
  },
  {
   "cell_type": "markdown",
   "metadata": {},
   "source": [
    "### How to write math probelms is MD\n",
    "https://medium.com/analytics-vidhya/writing-math-equations-in-jupyter-notebook-a-naive-introduction-a5ce87b9a214"
   ]
  },
  {
   "cell_type": "markdown",
   "metadata": {},
   "source": [
    "## Biomass "
   ]
  },
  {
   "cell_type": "markdown",
   "metadata": {},
   "source": [
    "This part of the project is based off of *Validating modeled lidar waveforms in forest canopies with airborne laser\n",
    "scanning data*"
   ]
  },
  {
   "cell_type": "markdown",
   "metadata": {},
   "source": [
    "For this I copying the lvis and then going to figure out the python "
   ]
  },
  {
   "cell_type": "markdown",
   "metadata": {},
   "source": [
    "1.read LVIS -Done"
   ]
  },
  {
   "cell_type": "markdown",
   "metadata": {},
   "source": [
    "2. retrieve the matched lat and lon "
   ]
  },
  {
   "cell_type": "markdown",
   "metadata": {},
   "source": [
    "3. plot waveform (normalize and cut of wz great than rh100 and les than -10m waveform to calculate the biomass )"
   ]
  },
  {
   "cell_type": "markdown",
   "metadata": {},
   "source": [
    "calculate the biomass index from LVIS using dp*wz*wz and dp = DNi/sumDNi"
   ]
  },
  {
   "cell_type": "markdown",
   "metadata": {},
   "source": [
    "calculate wz "
   ]
  },
  {
   "cell_type": "markdown",
   "metadata": {},
   "source": [
    "z431 - for use its z1032"
   ]
  },
  {
   "cell_type": "code",
   "execution_count": null,
   "metadata": {},
   "outputs": [],
   "source": [
    "RA- Is this Just caluculating Z0 and Z431"
   ]
  },
  {
   "cell_type": "code",
   "execution_count": null,
   "metadata": {},
   "outputs": [],
   "source": [
    "RA- this is found on page 7 "
   ]
  },
  {
   "cell_type": "markdown",
   "metadata": {},
   "source": [
    "wz(*) = x(*)*((lvis.lgw(ind_min).z0-lvis.lgw(ind_min.z431/431)+lvis.lge(ind_min).z431 \n",
    "            "
   ]
  },
  {
   "cell_type": "markdown",
   "metadata": {},
   "source": [
    "Elevelation"
   ]
  },
  {
   "cell_type": "code",
   "execution_count": null,
   "metadata": {},
   "outputs": [],
   "source": [
    "wz(*) = wz(*)-lvis.lge(ind_min).zg"
   ]
  },
  {
   "cell_type": "code",
   "execution_count": null,
   "metadata": {},
   "outputs": [],
   "source": [
    "height above ground"
   ]
  },
  {
   "cell_type": "code",
   "execution_count": null,
   "metadata": {},
   "outputs": [],
   "source": [
    "Z0 first lowset endnd top-- using this one 04/10"
   ]
  },
  {
   "cell_type": "code",
   "execution_count": null,
   "metadata": {},
   "outputs": [],
   "source": [
    "wz(*) = x(*)*((lvis.lgw(ind_min).z431-lvis.lgw(ind_min).z0/431)+lvis.lgw(ind_min).z0)"
   ]
  },
  {
   "cell_type": "code",
   "execution_count": null,
   "metadata": {},
   "outputs": [],
   "source": [
    "Elevelation "
   ]
  },
  {
   "cell_type": "code",
   "execution_count": null,
   "metadata": {},
   "outputs": [],
   "source": [
    "wz(*) = wz(*)-lvis.lge(ind_min).zg"
   ]
  },
  {
   "cell_type": "code",
   "execution_count": null,
   "metadata": {},
   "outputs": [],
   "source": [
    "height above ground "
   ]
  },
  {
   "cell_type": "code",
   "execution_count": null,
   "metadata": {},
   "outputs": [],
   "source": [
    "throw away higher than top canopy part and lower than 10 m "
   ]
  },
  {
   "cell_type": "code",
   "execution_count": null,
   "metadata": {},
   "outputs": [],
   "source": [
    "part for waveform, then and calculate biomass "
   ]
  },
  {
   "cell_type": "code",
   "execution_count": null,
   "metadata": {},
   "outputs": [],
   "source": [
    "ind = where ((wz LE rh100)and (wz GE -10.00)), count)"
   ]
  },
  {
   "cell_type": "code",
   "execution_count": null,
   "metadata": {},
   "outputs": [],
   "source": [
    "print 'the index of array less than top canopy is:', "
   ]
  },
  {
   "cell_type": "code",
   "execution_count": null,
   "metadata": {},
   "outputs": [],
   "source": [
    "print, the count number less than top canopy and higher than 10 is count2 "
   ]
  },
  {
   "cell_type": "code",
   "execution_count": null,
   "metadata": {},
   "outputs": [],
   "source": [
    "if (count2 GE 1) then begin \n",
    "sub_wz = wz(ind)\n",
    "sub_cal_wave = cal_wave(ind)\n",
    "sum_count = total(sub_cal_wave)"
   ]
  },
  {
   "cell_type": "code",
   "execution_count": null,
   "metadata": {},
   "outputs": [],
   "source": [
    "print 'the sum of waveform is ' total(cal_wave)"
   ]
  },
  {
   "cell_type": "code",
   "execution_count": null,
   "metadata": {},
   "outputs": [],
   "source": [
    "print the sum throw away higher than top canopy waveform is sum_count"
   ]
  },
  {
   "cell_type": "code",
   "execution_count": null,
   "metadata": {},
   "outputs": [],
   "source": [
    "print 'the sum of throw away higher than top canopy waveform is 'sum count "
   ]
  },
  {
   "cell_type": "code",
   "execution_count": null,
   "metadata": {},
   "outputs": [],
   "source": [
    "print 'the calibrated waveform array after cut off higher top canopy in 'sub_cal_wave"
   ]
  },
  {
   "cell_type": "code",
   "execution_count": null,
   "metadata": {},
   "outputs": [],
   "source": [
    "bio=0.0"
   ]
  },
  {
   "cell_type": "code",
   "execution_count": null,
   "metadata": {},
   "outputs": [],
   "source": [
    "dp=fltarr(n_elements (sub_wz))"
   ]
  },
  {
   "cell_type": "code",
   "execution_count": null,
   "metadata": {},
   "outputs": [],
   "source": [
    "normize the waveform dp = DNi/sumDNi and calculate the biomass index for iii = OL,, n_elements(sub_wz)-1 do begin"
   ]
  },
  {
   "cell_type": "code",
   "execution_count": null,
   "metadata": {},
   "outputs": [],
   "source": [
    "calculate the biomass index "
   ]
  },
  {
   "cell_type": "code",
   "execution_count": null,
   "metadata": {},
   "outputs": [],
   "source": [
    "for iii = 0L, n_elements (sub_wz)-1 do begin"
   ]
  },
  {
   "cell_type": "code",
   "execution_count": null,
   "metadata": {},
   "outputs": [],
   "source": [
    "dp(iii) = sub_cal_wave (iii)/ sum_count"
   ]
  },
  {
   "cell_type": "code",
   "execution_count": null,
   "metadata": {},
   "outputs": [],
   "source": [
    "print the dp array is . dp(iii)"
   ]
  },
  {
   "cell_type": "code",
   "execution_count": null,
   "metadata": {},
   "outputs": [],
   "source": [
    "print the test sub_wz*sub_wz*dp(iii) is ' 'sub_wz(iiis)"
   ]
  },
  {
   "cell_type": "code",
   "execution_count": null,
   "metadata": {},
   "outputs": [],
   "source": [
    "take the wz under 0m the intergration is negative "
   ]
  },
  {
   "cell_type": "code",
   "execution_count": null,
   "metadata": {},
   "outputs": [],
   "source": [
    "if (sub_wz(iii) GT -10.00) and sub_wz(iii) LE 0.00) then begain "
   ]
  },
  {
   "cell_type": "code",
   "execution_count": null,
   "metadata": {},
   "outputs": [],
   "source": [
    "bio = bio + sub_wz(iii)*sub_wz(iii)*dp(iii)*(-1.0)"
   ]
  },
  {
   "cell_type": "code",
   "execution_count": null,
   "metadata": {},
   "outputs": [],
   "source": []
  },
  {
   "cell_type": "code",
   "execution_count": 47,
   "metadata": {},
   "outputs": [],
   "source": [
    "import matplotlib.pyplot as plt\n",
    "import numpy as np\n",
    "import pylab\n",
    "import pandas as pd\n",
    "import h5py\n",
    "import geopandas as gpd\n",
    "from shapely.geometry import *\n",
    "from geopandas.geoseries import *\n",
    "import sys"
   ]
  },
  {
   "cell_type": "code",
   "execution_count": 48,
   "metadata": {},
   "outputs": [],
   "source": [
    "#L1_045612 = h5py.File(r'D:\\Gabon_Lidar\\DATA\\level1\\5000000734313-1\\138349060\\LVIS1B_Gabon2016_0308_R1808_045612.h5','r')\n",
    "L2_045612 =(r'D:\\Gabon_Lidar\\DATA\\LEVEL2_0308\\LVIS2B_Gabon2016_0308_R1808_046644.txt')"
   ]
  },
  {
   "cell_type": "code",
   "execution_count": 49,
   "metadata": {},
   "outputs": [],
   "source": [
    "lvis = h5py.File(r'D:\\Gabon_Lidar\\DATA\\LEVEL1_0308\\LVIS1B_Gabon2016_0308_R1808_046644.h5','r')\n",
    "#get wave index from shotnumber and test if exists\n",
    "all_shotnums = np.array(lvis['SHOTNUMBER'])\n",
    "wave_idx = ''\n",
    "Zmax = ''\n",
    "wfrange = 1024\n",
    "wfsize = 1023"
   ]
  },
  {
   "cell_type": "code",
   "execution_count": 50,
   "metadata": {},
   "outputs": [
    {
     "name": "stdout",
     "output_type": "stream",
     "text": [
      "AZIMUTH\n",
      "INCIDENTANGLE\n",
      "LAT0\n",
      "LAT1023\n",
      "LFID\n",
      "LON0\n",
      "LON1023\n",
      "RANGE\n",
      "RXWAVE\n",
      "SHOTNUMBER\n",
      "SIGMEAN\n",
      "TIME\n",
      "TXWAVE\n",
      "Z0\n",
      "Z1023\n",
      "ancillary_data/HDF5 Version\n",
      "ancillary_data/Maximum Latitude\n",
      "ancillary_data/Maximum Longitude\n",
      "ancillary_data/Minimum Latitude\n",
      "ancillary_data/Minimum Longitude\n",
      "ancillary_data/ancillary_text\n",
      "ancillary_data/reference_frame\n"
     ]
    }
   ],
   "source": [
    "#list_dataset lists the names of datasets in an hdf5 file\n",
    "def list_dataset(name,node):\n",
    "    if isinstance(node, h5py.Dataset):\n",
    "        print(name)\n",
    "\n",
    "lvis.visititems(list_dataset)"
   ]
  },
  {
   "cell_type": "code",
   "execution_count": 51,
   "metadata": {},
   "outputs": [],
   "source": [
    "myshotnum = int(10978411)"
   ]
  },
  {
   "cell_type": "code",
   "execution_count": 52,
   "metadata": {},
   "outputs": [],
   "source": [
    "wave_idx = np.where(all_shotnums==myshotnum)[0][0]"
   ]
  },
  {
   "cell_type": "code",
   "execution_count": 53,
   "metadata": {},
   "outputs": [],
   "source": [
    "Z1023 = int(lvis['Z1023'][wave_idx])"
   ]
  },
  {
   "cell_type": "code",
   "execution_count": null,
   "metadata": {},
   "outputs": [],
   "source": [
    "x = 1023"
   ]
  },
  {
   "cell_type": "code",
   "execution_count": null,
   "metadata": {},
   "outputs": [],
   "source": []
  },
  {
   "cell_type": "code",
   "execution_count": 54,
   "metadata": {},
   "outputs": [
    {
     "data": {
      "text/plain": [
       "-21"
      ]
     },
     "execution_count": 54,
     "metadata": {},
     "output_type": "execute_result"
    }
   ],
   "source": [
    "Z1023"
   ]
  },
  {
   "cell_type": "code",
   "execution_count": 55,
   "metadata": {},
   "outputs": [],
   "source": [
    "Z0 = int(lvis['Z0'][wave_idx])"
   ]
  },
  {
   "cell_type": "code",
   "execution_count": 56,
   "metadata": {},
   "outputs": [
    {
     "data": {
      "text/plain": [
       "131"
      ]
     },
     "execution_count": 56,
     "metadata": {},
     "output_type": "execute_result"
    }
   ],
   "source": [
    "Z0"
   ]
  },
  {
   "cell_type": "code",
   "execution_count": 126,
   "metadata": {},
   "outputs": [],
   "source": [
    "ewz= (((Z0 - Z1023)/1023) +Z1023)"
   ]
  },
  {
   "cell_type": "markdown",
   "metadata": {},
   "source": [
    "Elevation"
   ]
  },
  {
   "cell_type": "code",
   "execution_count": 127,
   "metadata": {},
   "outputs": [
    {
     "data": {
      "text/plain": [
       "-20.851417399804497"
      ]
     },
     "execution_count": 127,
     "metadata": {},
     "output_type": "execute_result"
    }
   ],
   "source": [
    "ewz"
   ]
  },
  {
   "cell_type": "code",
   "execution_count": 128,
   "metadata": {},
   "outputs": [],
   "source": [
    "ewz =  (((Z0 - Z1023)/1023) + Z1023)"
   ]
  },
  {
   "cell_type": "code",
   "execution_count": 129,
   "metadata": {},
   "outputs": [
    {
     "data": {
      "text/plain": [
       "-20.851417399804497"
      ]
     },
     "execution_count": 129,
     "metadata": {},
     "output_type": "execute_result"
    }
   ],
   "source": [
    "ewz"
   ]
  },
  {
   "cell_type": "code",
   "execution_count": 130,
   "metadata": {},
   "outputs": [],
   "source": [
    "hawz = ewz-Z0"
   ]
  },
  {
   "cell_type": "code",
   "execution_count": 131,
   "metadata": {},
   "outputs": [
    {
     "data": {
      "text/plain": [
       "-151.8514173998045"
      ]
     },
     "execution_count": 131,
     "metadata": {},
     "output_type": "execute_result"
    }
   ],
   "source": [
    "hawz"
   ]
  },
  {
   "cell_type": "code",
   "execution_count": 132,
   "metadata": {},
   "outputs": [],
   "source": [
    "wz=  (((Z0 - Z1023)/1023) +Z1023)"
   ]
  },
  {
   "cell_type": "code",
   "execution_count": null,
   "metadata": {},
   "outputs": [],
   "source": [
    "Then I need to filter the top and the bottom "
   ]
  },
  {
   "cell_type": "code",
   "execution_count": null,
   "metadata": {},
   "outputs": [],
   "source": [
    "ind = where ((wz LE rh100) and (wz GE -10.00))"
   ]
  },
  {
   "cell_type": "code",
   "execution_count": null,
   "metadata": {},
   "outputs": [],
   "source": []
  },
  {
   "cell_type": "code",
   "execution_count": null,
   "metadata": {},
   "outputs": [],
   "source": []
  },
  {
   "cell_type": "code",
   "execution_count": null,
   "metadata": {},
   "outputs": [],
   "source": []
  },
  {
   "cell_type": "code",
   "execution_count": null,
   "metadata": {},
   "outputs": [],
   "source": []
  },
  {
   "cell_type": "code",
   "execution_count": null,
   "metadata": {},
   "outputs": [],
   "source": [
    "4. Calculate the biomass index from LVIS using dp*wz *wz and dp = DNi/Dni"
   ]
  },
  {
   "cell_type": "code",
   "execution_count": null,
   "metadata": {},
   "outputs": [],
   "source": [
    "5. plot the waveform vs wz ploting the waveform "
   ]
  }
 ],
 "metadata": {
  "kernelspec": {
   "display_name": "Python 3",
   "language": "python",
   "name": "python3"
  },
  "language_info": {
   "codemirror_mode": {
    "name": "ipython",
    "version": 3
   },
   "file_extension": ".py",
   "mimetype": "text/x-python",
   "name": "python",
   "nbconvert_exporter": "python",
   "pygments_lexer": "ipython3",
   "version": "3.8.5"
  }
 },
 "nbformat": 4,
 "nbformat_minor": 4
}
