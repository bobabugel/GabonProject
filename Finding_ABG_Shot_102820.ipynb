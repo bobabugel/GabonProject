{
 "cells": [
  {
   "cell_type": "markdown",
   "metadata": {
    "scrolled": true
   },
   "source": [
    "#geopandas "
   ]
  },
  {
   "cell_type": "markdown",
   "metadata": {},
   "source": [
    "#https://lvis.gsfc.nasa.gov/workshop/LVIS_QGIS_Tutorial_Gabon.pdf"
   ]
  },
  {
   "cell_type": "code",
   "execution_count": 1,
   "metadata": {},
   "outputs": [],
   "source": [
    "import matplotlib.pyplot \n",
    "import numpy as np\n",
    "import pylab\n",
    "import pandas as pd\n",
    "import h5py\n",
    "import geopandas as gpd\n",
    "from shapely.geometry import *\n",
    "from geopandas.geoseries import *"
   ]
  },
  {
   "cell_type": "markdown",
   "metadata": {},
   "source": [
    "Bring all the data data in "
   ]
  },
  {
   "cell_type": "code",
   "execution_count": 2,
   "metadata": {},
   "outputs": [],
   "source": [
    "# Geopandas "
   ]
  },
  {
   "cell_type": "code",
   "execution_count": 3,
   "metadata": {},
   "outputs": [],
   "source": [
    "Trees_RH = gpd.read_file(r'D:\\Gabon_Lidar\\DATA\\shp\\Trees_Closest.shp')"
   ]
  },
  {
   "cell_type": "code",
   "execution_count": 4,
   "metadata": {},
   "outputs": [],
   "source": [
    "#Changing CRS \n",
    "Trees_RH_4326= Trees_RH.to_crs(epsg=4326)"
   ]
  },
  {
   "cell_type": "code",
   "execution_count": 5,
   "metadata": {},
   "outputs": [
    {
     "data": {
      "text/plain": [
       "Index(['Join_Count', 'D_LVIS', 'TARGET_FID', 'plot', 'subplot', 'tree_date',\n",
       "       'family', 'species', 'wsg', 'tree', 'stem', 'epsg', 'x', 'y', 'status',\n",
       "       'allom_key', 'a_stem', 'h_t', 'h_t_mod', 'd_stem', 'd_stem_val', 'd_ht',\n",
       "       'm_agb', 'POINT_X', 'POINT_Y', 'LFID', 'SHOTNUMBER', 'TIME', 'GLON',\n",
       "       'GLAT', 'ZG', 'HLON', 'HLAT', 'ZH', 'TLON', 'TLAT', 'ZT', 'RH10',\n",
       "       'RH15', 'RH20', 'RH25', 'RH30', 'RH35', 'RH40', 'RH45', 'RH50', 'RH55',\n",
       "       'RH60', 'RH65', 'RH70', 'RH75', 'RH80', 'RH85', 'RH90', 'RH95', 'RH96',\n",
       "       'RH97', 'RH98', 'RH99', 'RH100', 'AZIMUTH', 'INCIDENTAN', 'RANGE',\n",
       "       'COMPLEXITY', 'CHANNEL_L1', 'CHANNEL_ZG', 'CHANNEL_RH', 'POINT_X_1',\n",
       "       'POINT_Y_1', 'geometry'],\n",
       "      dtype='object')"
      ]
     },
     "execution_count": 5,
     "metadata": {},
     "output_type": "execute_result"
    }
   ],
   "source": [
    "Trees_RH.columns"
   ]
  },
  {
   "cell_type": "code",
   "execution_count": 6,
   "metadata": {
    "scrolled": true
   },
   "outputs": [
    {
     "data": {
      "text/html": [
       "<div>\n",
       "<style scoped>\n",
       "    .dataframe tbody tr th:only-of-type {\n",
       "        vertical-align: middle;\n",
       "    }\n",
       "\n",
       "    .dataframe tbody tr th {\n",
       "        vertical-align: top;\n",
       "    }\n",
       "\n",
       "    .dataframe thead th {\n",
       "        text-align: right;\n",
       "    }\n",
       "</style>\n",
       "<table border=\"1\" class=\"dataframe\">\n",
       "  <thead>\n",
       "    <tr style=\"text-align: right;\">\n",
       "      <th></th>\n",
       "      <th>Join_Count</th>\n",
       "      <th>D_LVIS</th>\n",
       "      <th>TARGET_FID</th>\n",
       "      <th>plot</th>\n",
       "      <th>subplot</th>\n",
       "      <th>tree_date</th>\n",
       "      <th>family</th>\n",
       "      <th>species</th>\n",
       "      <th>wsg</th>\n",
       "      <th>tree</th>\n",
       "      <th>...</th>\n",
       "      <th>AZIMUTH</th>\n",
       "      <th>INCIDENTAN</th>\n",
       "      <th>RANGE</th>\n",
       "      <th>COMPLEXITY</th>\n",
       "      <th>CHANNEL_L1</th>\n",
       "      <th>CHANNEL_ZG</th>\n",
       "      <th>CHANNEL_RH</th>\n",
       "      <th>POINT_X_1</th>\n",
       "      <th>POINT_Y_1</th>\n",
       "      <th>geometry</th>\n",
       "    </tr>\n",
       "  </thead>\n",
       "  <tbody>\n",
       "    <tr>\n",
       "      <th>0</th>\n",
       "      <td>1</td>\n",
       "      <td>6.424267</td>\n",
       "      <td>1</td>\n",
       "      <td>NASA01</td>\n",
       "      <td>1</td>\n",
       "      <td>2016-02-03</td>\n",
       "      <td>Euphorbiaceae</td>\n",
       "      <td>Macaranga sp.</td>\n",
       "      <td>0.381789</td>\n",
       "      <td>6501</td>\n",
       "      <td>...</td>\n",
       "      <td>3.37</td>\n",
       "      <td>4.183</td>\n",
       "      <td>7703.11</td>\n",
       "      <td>-999</td>\n",
       "      <td>1</td>\n",
       "      <td>1</td>\n",
       "      <td>1</td>\n",
       "      <td>9.32195</td>\n",
       "      <td>0.554779</td>\n",
       "      <td>POINT (535829.680 61322.481)</td>\n",
       "    </tr>\n",
       "    <tr>\n",
       "      <th>1</th>\n",
       "      <td>1</td>\n",
       "      <td>7.669181</td>\n",
       "      <td>2</td>\n",
       "      <td>NASA01</td>\n",
       "      <td>1</td>\n",
       "      <td>2016-02-03</td>\n",
       "      <td>Euphorbiaceae</td>\n",
       "      <td>Macaranga sp.</td>\n",
       "      <td>0.381789</td>\n",
       "      <td>6502</td>\n",
       "      <td>...</td>\n",
       "      <td>3.37</td>\n",
       "      <td>4.183</td>\n",
       "      <td>7703.11</td>\n",
       "      <td>-999</td>\n",
       "      <td>1</td>\n",
       "      <td>1</td>\n",
       "      <td>1</td>\n",
       "      <td>9.32195</td>\n",
       "      <td>0.554779</td>\n",
       "      <td>POINT (535827.853 61327.054)</td>\n",
       "    </tr>\n",
       "    <tr>\n",
       "      <th>2</th>\n",
       "      <td>1</td>\n",
       "      <td>9.654939</td>\n",
       "      <td>3</td>\n",
       "      <td>NASA01</td>\n",
       "      <td>1</td>\n",
       "      <td>2016-02-03</td>\n",
       "      <td>Euphorbiaceae</td>\n",
       "      <td>Macaranga sp.</td>\n",
       "      <td>0.381789</td>\n",
       "      <td>6503</td>\n",
       "      <td>...</td>\n",
       "      <td>3.37</td>\n",
       "      <td>4.183</td>\n",
       "      <td>7703.11</td>\n",
       "      <td>-999</td>\n",
       "      <td>1</td>\n",
       "      <td>1</td>\n",
       "      <td>1</td>\n",
       "      <td>9.32195</td>\n",
       "      <td>0.554779</td>\n",
       "      <td>POINT (535829.889 61327.977)</td>\n",
       "    </tr>\n",
       "  </tbody>\n",
       "</table>\n",
       "<p>3 rows × 70 columns</p>\n",
       "</div>"
      ],
      "text/plain": [
       "   Join_Count    D_LVIS  TARGET_FID    plot  subplot   tree_date  \\\n",
       "0           1  6.424267           1  NASA01        1  2016-02-03   \n",
       "1           1  7.669181           2  NASA01        1  2016-02-03   \n",
       "2           1  9.654939           3  NASA01        1  2016-02-03   \n",
       "\n",
       "          family        species       wsg  tree  ...  AZIMUTH  INCIDENTAN  \\\n",
       "0  Euphorbiaceae  Macaranga sp.  0.381789  6501  ...     3.37       4.183   \n",
       "1  Euphorbiaceae  Macaranga sp.  0.381789  6502  ...     3.37       4.183   \n",
       "2  Euphorbiaceae  Macaranga sp.  0.381789  6503  ...     3.37       4.183   \n",
       "\n",
       "     RANGE  COMPLEXITY  CHANNEL_L1  CHANNEL_ZG  CHANNEL_RH  POINT_X_1  \\\n",
       "0  7703.11        -999           1           1           1    9.32195   \n",
       "1  7703.11        -999           1           1           1    9.32195   \n",
       "2  7703.11        -999           1           1           1    9.32195   \n",
       "\n",
       "   POINT_Y_1                      geometry  \n",
       "0   0.554779  POINT (535829.680 61322.481)  \n",
       "1   0.554779  POINT (535827.853 61327.054)  \n",
       "2   0.554779  POINT (535829.889 61327.977)  \n",
       "\n",
       "[3 rows x 70 columns]"
      ]
     },
     "execution_count": 6,
     "metadata": {},
     "output_type": "execute_result"
    }
   ],
   "source": [
    "Trees_RH.head(3)"
   ]
  },
  {
   "cell_type": "code",
   "execution_count": null,
   "metadata": {},
   "outputs": [],
   "source": [
    "subplots25 = gpd.read_file(r'D:\\Gabon_Lidar\\DATA\\shp\\Mondah_Field_Data_Plot-0_25ha.shp')"
   ]
  },
  {
   "cell_type": "code",
   "execution_count": null,
   "metadata": {},
   "outputs": [],
   "source": [
    "#Changing CRS \n",
    "subplots25_4326= subplots25.to_crs(epsg=4326)"
   ]
  },
  {
   "cell_type": "code",
   "execution_count": 47,
   "metadata": {},
   "outputs": [],
   "source": [
    "#TreesRH13_22.columns"
   ]
  },
  {
   "cell_type": "code",
   "execution_count": 48,
   "metadata": {},
   "outputs": [
    {
     "data": {
      "image/png": "[encoded data removed]",
      "text/plain": [
       "<Figure size 432x288 with 1 Axes>"
      ]
     },
     "metadata": {
      "needs_background": "light"
     },
     "output_type": "display_data"
    }
   ],
   "source": [
    "#matplotlib.pyplot.scatter(Trees_RH.m_agb,Trees_RH.ZG,color='r') \n",
    "matplotlib.pyplot.scatter(Trees_RH.m_agb,Trees_RH.RH25,color='orange') \n",
    "matplotlib.pyplot.scatter(Trees_RH.m_agb,Trees_RH.RH50,color='y')\n",
    "matplotlib.pyplot.scatter(Trees_RH.m_agb,Trees_RH.RH75,color='g')\n",
    "matplotlib.pyplot.scatter(Trees_RH.m_agb,Trees_RH.RH100,color='b')\n",
    "matplotlib.pyplot.show()"
   ]
  },
  {
   "cell_type": "code",
   "execution_count": 49,
   "metadata": {},
   "outputs": [
    {
     "data": {
      "text/plain": [
       "<matplotlib.collections.PathCollection at 0x1a61e876220>"
      ]
     },
     "execution_count": 49,
     "metadata": {},
     "output_type": "execute_result"
    },
    {
     "data": {
      "image/png": "[encoded data removed]",
      "text/plain": [
       "<Figure size 432x288 with 1 Axes>"
      ]
     },
     "metadata": {
      "needs_background": "light"
     },
     "output_type": "display_data"
    }
   ],
   "source": [
    "matplotlib.pyplot.scatter(Trees_RH.m_agb,Trees_RH.RH25,color='orange') "
   ]
  },
  {
   "cell_type": "code",
   "execution_count": 50,
   "metadata": {},
   "outputs": [
    {
     "data": {
      "text/plain": [
       "<matplotlib.collections.PathCollection at 0x1a61e8c60d0>"
      ]
     },
     "execution_count": 50,
     "metadata": {},
     "output_type": "execute_result"
    },
    {
     "data": {
      "image/png": "[encoded data removed]",
      "text/plain": [
       "<Figure size 432x288 with 1 Axes>"
      ]
     },
     "metadata": {
      "needs_background": "light"
     },
     "output_type": "display_data"
    }
   ],
   "source": [
    "matplotlib.pyplot.scatter(Trees_RH.m_agb,Trees_RH.RH50,color='y')"
   ]
  },
  {
   "cell_type": "code",
   "execution_count": 51,
   "metadata": {},
   "outputs": [
    {
     "data": {
      "text/plain": [
       "<matplotlib.collections.PathCollection at 0x1a61eb94400>"
      ]
     },
     "execution_count": 51,
     "metadata": {},
     "output_type": "execute_result"
    },
    {
     "data": {
      "image/png": "[encoded data removed]",
      "text/plain": [
       "<Figure size 432x288 with 1 Axes>"
      ]
     },
     "metadata": {
      "needs_background": "light"
     },
     "output_type": "display_data"
    }
   ],
   "source": [
    "matplotlib.pyplot.scatter(Trees_RH.m_agb,Trees_RH.RH75,color='g')"
   ]
  },
  {
   "cell_type": "code",
   "execution_count": 52,
   "metadata": {},
   "outputs": [
    {
     "data": {
      "text/plain": [
       "<matplotlib.collections.PathCollection at 0x1a61ebcdc40>"
      ]
     },
     "execution_count": 52,
     "metadata": {},
     "output_type": "execute_result"
    },
    {
     "data": {
      "image/png": "[encoded data removed]",
      "text/plain": [
       "<Figure size 432x288 with 1 Axes>"
      ]
     },
     "metadata": {
      "needs_background": "light"
     },
     "output_type": "display_data"
    }
   ],
   "source": [
    "matplotlib.pyplot.scatter(Trees_RH.m_agb,Trees_RH.RH100,color='b')"
   ]
  },
  {
   "cell_type": "code",
   "execution_count": null,
   "metadata": {},
   "outputs": [],
   "source": []
  },
  {
   "cell_type": "code",
   "execution_count": null,
   "metadata": {},
   "outputs": [],
   "source": []
  },
  {
   "cell_type": "code",
   "execution_count": null,
   "metadata": {},
   "outputs": [],
   "source": []
  }
 ],
 "metadata": {
  "kernelspec": {
   "display_name": "Python 3",
   "language": "python",
   "name": "python3"
  },
  "language_info": {
   "codemirror_mode": {
    "name": "ipython",
    "version": 3
   },
   "file_extension": ".py",
   "mimetype": "text/x-python",
   "name": "python",
   "nbconvert_exporter": "python",
   "pygments_lexer": "ipython3",
   "version": "3.8.5"
  }
 },
 "nbformat": 4,
 "nbformat_minor": 4
}
