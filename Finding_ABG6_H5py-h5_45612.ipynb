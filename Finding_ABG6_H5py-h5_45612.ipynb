{
 "cells": [
  {
   "cell_type": "markdown",
   "metadata": {
    "scrolled": true
   },
   "source": [
    "#geopandas "
   ]
  },
  {
   "cell_type": "markdown",
   "metadata": {},
   "source": [
    "For this project I am using my Geopandas_h5pytest environment"
   ]
  },
  {
   "cell_type": "code",
   "execution_count": null,
   "metadata": {},
   "outputs": [],
   "source": []
  },
  {
   "cell_type": "markdown",
   "metadata": {},
   "source": [
    "D:\\Gabon_Lidar\\DATA\\level2\\5000000734209-1\\138345559\\LVIS2_Gabon2016_0220_R1808_038024.txt\n",
    "    "
   ]
  },
  {
   "cell_type": "code",
   "execution_count": 1,
   "metadata": {},
   "outputs": [],
   "source": [
    "#This is the location of the file that call fall with in the study site. \n",
    "#With the last number as time those can be used to place them in plots. "
   ]
  },
  {
   "cell_type": "markdown",
   "metadata": {},
   "source": [
    "= (r'D:\\Gabon_Lidar\\DATA\\LEVEL2_0308\\LVIS2B_Gabon2016_0308_R1808_045612.txt')\n",
    "= (r'D:\\Gabon_Lidar\\DATA\\LEVEL1_0308\\LVIS1B_Gabon2016_0308_R1808_045612.h5')\n",
    "= (r'D:\\Gabon_Lidar\\DATA\\LEVEL2_0308\\LVIS2B_Gabon2016_0308_R1808_046644.txt')\n",
    "= (r'D:\\Gabon_Lidar\\DATA\\LEVEL1_0308\\LVIS1B_Gabon2016_0308_R1808_046644.h5')\n",
    "= (r'D:\\Gabon_Lidar\\DATA\\LEVEL2_0308\\LVIS2B_Gabon2016_0308_R1808_047404.txt')\n",
    "= (r'D:\\Gabon_Lidar\\DATA\\LEVEL1_0308\\LVIS1B_Gabon2016_0308_R1808_047404.h5')"
   ]
  },
  {
   "cell_type": "markdown",
   "metadata": {},
   "source": [
    "L1 = D:\\Gabon_Lidar\\DATA\\level1\\5000000734313-1\\138348937\\LVIS1B_Gabon2016_0308_R1808_049095.h5"
   ]
  },
  {
   "cell_type": "markdown",
   "metadata": {},
   "source": [
    "#https://lvis.gsfc.nasa.gov/workshop/LVIS_QGIS_Tutorial_Gabon.pdf"
   ]
  },
  {
   "cell_type": "code",
   "execution_count": 3,
   "metadata": {},
   "outputs": [],
   "source": [
    "import matplotlib.pyplot as plt\n",
    "import numpy as np\n",
    "import pylab\n",
    "import pandas as pd\n",
    "import h5py\n",
    "import geopandas as gpd\n",
    "from shapely.geometry import *\n",
    "from geopandas.geoseries import *\n",
    "import sys"
   ]
  },
  {
   "cell_type": "markdown",
   "metadata": {},
   "source": [
    "#All of of the shots are in bands \n",
    "LVIS2_Gabon2016_0308_R1808_046644_XYTableToPoint\n",
    "LVIS2_Gabon2016_0308_R1808_045612_XYTableToPoint"
   ]
  },
  {
   "cell_type": "code",
   "execution_count": 4,
   "metadata": {},
   "outputs": [],
   "source": [
    "#L1_04644 = h5py.File(r'D:\\Gabon_Lidar\\DATA\\level1\\5000000734313-2\\138349093\\LVIS1B_Gabon2016_0308_R1808_046644.h5','r')\n",
    "#L1_04644= (r'D:\\Gabon_Lidar\\DATA\\level2\\5000000734209-1\\138348893\\LVIS2_Gabon2016_0308_R1808_044165.TXT')\n"
   ]
  },
  {
   "cell_type": "code",
   "execution_count": 5,
   "metadata": {},
   "outputs": [],
   "source": [
    "#L1_045612 = h5py.File(r'D:\\Gabon_Lidar\\DATA\\level1\\5000000734313-1\\138349060\\LVIS1B_Gabon2016_0308_R1808_045612.h5','r')\n",
    "L2_045612 =(r'D:\\Gabon_Lidar\\DATA\\LEVEL2_0308\\LVIS2B_Gabon2016_0308_R1808_045612.txt')"
   ]
  },
  {
   "cell_type": "code",
   "execution_count": 6,
   "metadata": {},
   "outputs": [],
   "source": [
    "lvis = h5py.File(r'D:\\Gabon_Lidar\\DATA\\LEVEL1_0308\\LVIS1B_Gabon2016_0308_R1808_045612.h5','r')\n",
    "#get wave index from shotnumber and test if exists\n",
    "all_shotnums = np.array(lvis['SHOTNUMBER'])\n",
    "wave_idx = ''\n",
    "Zmax = ''\n",
    "wfrange = 1024\n",
    "wfsize = 1023\n"
   ]
  },
  {
   "cell_type": "code",
   "execution_count": 7,
   "metadata": {},
   "outputs": [
    {
     "name": "stdout",
     "output_type": "stream",
     "text": [
      "[ 9295084  9295085  9295086 ... 10326656 10326657 10326658]\n"
     ]
    }
   ],
   "source": [
    "print(all_shotnums)"
   ]
  },
  {
   "cell_type": "code",
   "execution_count": 149,
   "metadata": {},
   "outputs": [
    {
     "name": "stdout",
     "output_type": "stream",
     "text": [
      "AZIMUTH\n",
      "INCIDENTANGLE\n",
      "LAT0\n",
      "LAT1023\n",
      "LFID\n",
      "LON0\n",
      "LON1023\n",
      "RANGE\n",
      "RXWAVE\n",
      "SHOTNUMBER\n",
      "SIGMEAN\n",
      "TIME\n",
      "TXWAVE\n",
      "Z0\n",
      "Z1023\n",
      "ancillary_data/HDF5 Version\n",
      "ancillary_data/Maximum Latitude\n",
      "ancillary_data/Maximum Longitude\n",
      "ancillary_data/Minimum Latitude\n",
      "ancillary_data/Minimum Longitude\n",
      "ancillary_data/ancillary_text\n",
      "ancillary_data/reference_frame\n"
     ]
    }
   ],
   "source": [
    "#list_dataset lists the names of datasets in an hdf5 file\n",
    "def list_dataset(name,node):\n",
    "    if isinstance(node, h5py.Dataset):\n",
    "        print(name)\n",
    "\n",
    "lvis.visititems(list_dataset)"
   ]
  },
  {
   "cell_type": "code",
   "execution_count": 766,
   "metadata": {},
   "outputs": [],
   "source": [
    "#\tRow Labels\tCount of FID\n",
    "#\tGrand Total\t5286\n",
    "#\t9897113\t442\n",
    "#\t9421457\t438\n",
    "#\t9910532\t240\n",
    "#\t9903492\t51\n",
    "#\t9903044\t47\n",
    "#\t9361769\t40\n",
    "#\t9421012\t38\n",
    "#\t9911420\t34\n",
    "#\t9903268\t33\n",
    "#\t9361943\t31\n",
    "#\t9361994\t31\n",
    "#\t9421462\t28\n",
    "#\t9899269\t28\n",
    "#\t9902820\t28\n",
    "#\t9903715\t28\n",
    "#\t9420970\t27\n",
    "#\t9903716\t26\n",
    "#\t9420789\t25\n",
    "#\t9421194\t25\n",
    "#\t9421198\t25\n",
    "#\t9421418\t25\n",
    "#\t9896431\t25\n",
    "#\t9362166\t24\n",
    "#\t9398616\t24\n",
    "#\t9398794\t24\n",
    "#\t9420784\t24\n",
    "#\t9420968\t24\n",
    "#\t9421422\t24\n",
    "#\t9362163\t23\n",
    "#\t9398792\t23\n",
    "#\t9398841\t23\n",
    "#\t9420973\t23\n",
    "#\t9398339\t22\n",
    "#\t9420969\t22\n",
    "#\t9420974\t22\n",
    "#\t9421016\t22\n",
    "#\t9361938\t21\n",
    "#\t9362164\t21\n",
    "#\t9398347\t21\n",
    "#\t9896448\t21\n",
    "#\t9398341\t20\n",
    "#\t9398790\t20\n",
    "#\t9421014\t20\n",
    "#\t9899270\t20\n",
    "#\t9899426\t20\n",
    "#\t9362443\t19\n",
    "#\t9398342\t19\n",
    "#\t9398345\t19\n",
    "#\t9398396\t19\n",
    "#\t9398618\t19\n",
    "#\t9420783\t19\n",
    "#\t9420787\t19\n",
    "#\t9420790\t19\n",
    "#\t9420975\t19\n",
    "#\t9421009\t19\n",
    "#\t9903491\t19\n",
    "#\t9362441\t18\n",
    "#\t9398612\t18\n",
    "#\t9398617\t18\n",
    "#\t9398619\t18\n",
    "#\t9421420\t18\n",
    "#\t9896446\t18\n",
    "#\t9398340\t17\n",
    "#\t9420788\t17\n",
    "#\t9420972\t17\n",
    "#\t9421195\t17\n",
    "#\t9899722\t17\n",
    "#\t9903267\t17\n",
    "#\t9905899\t17\n",
    "#\t9361996\t16\n",
    "#\t9362387\t16\n",
    "#\t9362447\t16\n",
    "#\t9398620\t16\n",
    "#\t9398791\t16\n",
    "#\t9398793\t16\n",
    "#\t9421013\t16\n",
    "#\t9421197\t16\n",
    "#\t9896443\t16\n",
    "#\t9896665\t16\n",
    "#\t9906015\t16\n",
    "#\t9362167\t15\n",
    "#\t9362440\t15\n",
    "#\t9398394\t15\n",
    "#\t9398613\t15\n",
    "#\t9398839\t15\n",
    "#\t9398843\t15\n",
    "#\t9404690\t15\n",
    "#\t9896426\t15\n",
    "#\t9896430\t15\n",
    "#\t9896441\t15\n",
    "#\t9896652\t15\n",
    "#\t9899648\t15\n",
    "#\t9899720\t15\n",
    "#\t9362161\t14\n",
    "#\t9362165\t14\n",
    "#\t9362215\t14\n",
    "#\t9362392\t14\n",
    "#\t9362446\t14\n",
    "#\t9398343\t14\n",
    "#\t9404807\t14\n",
    "#\t9420967\t14\n",
    "#\t9421234\t14\n",
    "#\t9896650\t14\n",
    "#\t9896873\t14\n",
    "#\t9896874\t14\n",
    "#\t9899494\t14\n",
    "#\t9362160\t13\n",
    "#\t9398614\t13\n",
    "#\t9404915\t13\n",
    "#\t9420792\t13\n",
    "#\t9421192\t13\n",
    "#\t9421417\t13\n",
    "#\t9896669\t13\n",
    "#\t9899049\t13\n",
    "#\t9899198\t13\n",
    "#\t9899496\t13\n",
    "#\t9906120\t13\n",
    "#\t9361768\t12\n",
    "#\t9362216\t12\n",
    "#\t9398344\t12\n",
    "#\t9398392\t12\n",
    "#\t9398569\t12\n",
    "#\t9398615\t12\n",
    "#\t9404367\t12\n",
    "#\t9411583\t12\n",
    "#\t9421196\t12\n",
    "#\t9421465\t12\n",
    "#\t9896671\t12\n",
    "#\t9898974\t12\n",
    "#\t9899272\t12\n",
    "#\t9899423\t12\n",
    "#\t9899500\t12\n",
    "#\t9899650\t12\n",
    "#\t9899718\t12\n",
    "#\t9905896\t12\n",
    "#\t9361939\t11\n",
    "#\t9362162\t11\n",
    "#\t9398346\t11\n",
    "#\t9398567\t11\n",
    "#\t9404144\t11\n",
    "#\t9411361\t11\n",
    "#\t9421015\t11\n",
    "#\t9421233\t11\n",
    "#\t9421416\t11\n",
    "#\t9421419\t11\n",
    "#\t9421459\t11\n",
    "#\t9421463\t11\n",
    "#\t9896647\t11\n",
    "#\t9899053\t11\n",
    "#\t9899645\t11\n",
    "#\t9899716\t11\n",
    "#\t9906017\t11\n",
    "#\t9906018\t11\n",
    "#\t9399017\t10\n",
    "#\t9411356\t10\n",
    "#\t9411360\t10\n",
    "#\t9420791\t10\n",
    "#\t9420966\t10\n",
    "#\t9421461\t10\n",
    "#\t9896423\t10\n",
    "#\t9896666\t10\n",
    "#\t9898972\t10\n",
    "#\t9899044\t10\n",
    "#\t9899274\t10\n",
    "#\t9899275\t10\n",
    "#\t9899651\t10\n",
    "#\t9905571\t10\n",
    "#\t9905893\t10\n",
    "#\t9905898\t10\n",
    "#\t9362219\t9\n",
    "#\t9362390\t9\n",
    "#\t9362442\t9\n",
    "#\t9362448\t9\n",
    "#\t9398789\t9\n",
    "#\t9404137\t9\n",
    "#\t9404695\t9\n",
    "#\t9421011\t9\n",
    "#\t9421235\t9\n",
    "#\t9421460\t9\n",
    "#\t9421464\t9\n",
    "#\t9421466\t9\n",
    "#\t9896428\t9\n",
    "#\t9896429\t9\n",
    "#\t9896653\t9\n",
    "#\t9896670\t9\n",
    "#\t9899052\t9\n",
    "#\t9899276\t9\n",
    "#\t9899491\t9\n",
    "#\t9899499\t9\n",
    "#\t9899724\t9\n",
    "#\t9906020\t9\n",
    "#\t9910973\t9\n",
    "#\t9911015\t9\n",
    "#\t9362158\t8\n",
    "#\t9362218\t8\n",
    "#\t9362385\t8\n",
    "#\t9362444\t8\n",
    "#\t9398621\t8\n",
    "#\t9398838\t8\n",
    "#\t9404470\t8\n",
    "#\t9411579\t8\n",
    "#\t9421010\t8\n",
    "#\t9421421\t8\n",
    "#\t9421458\t8\n",
    "#\t9896425\t8\n",
    "#\t9896876\t8\n",
    "#\t9897120\t8\n",
    "#\t9899425\t8\n",
    "#\t9899492\t8\n",
    "#\t9899497\t8\n",
    "#\t9899647\t8\n",
    "#\t9899652\t8\n",
    "#\t9899715\t8\n",
    "#\t9905668\t8\n",
    "#\t9905675\t8\n",
    "#\t9362001\t7\n",
    "#\t9362217\t7\n",
    "#\t9362220\t7\n",
    "#\t9362223\t7\n",
    "#\t9362388\t7\n",
    "#\t9362389\t7\n",
    "#\t9362445\t7\n",
    "#\t9398391\t7\n",
    "#\t9398564\t7\n",
    "#\t9398571\t7\n",
    "#\t9404143\t7\n",
    "#\t9411584\t7\n",
    "#\t9421193\t7\n",
    "#\t9421239\t7\n",
    "#\t9421413\t7\n",
    "#\t9421415\t7\n",
    "#\t9896424\t7\n",
    "#\t9896667\t7\n",
    "#\t9896668\t7\n",
    "#\t9896875\t7\n",
    "#\t9899196\t7\n",
    "#\t9899197\t7\n",
    "#\t9899420\t7\n",
    "#\t9899428\t7\n",
    "#\t9899646\t7\n",
    "#\t9899649\t7\n",
    "#\t9905667\t7\n",
    "#\t9362159\t6\n",
    "#\t9362221\t6\n",
    "#\t9398389\t6\n",
    "#\t9398785\t6\n",
    "#\t9398787\t6\n",
    "#\t9398788\t6\n",
    "#\t9399063\t6\n",
    "#\t9404239\t6\n",
    "#\t9404364\t6\n",
    "#\t9404804\t6\n",
    "#\t9404812\t6\n",
    "#\t9411355\t6\n",
    "#\t9411588\t6\n",
    "#\t9421191\t6\n",
    "#\t9421237\t6\n",
    "#\t9896870\t6\n",
    "#\t9896878\t6\n",
    "#\t9898829\t6\n",
    "#\t9899047\t6\n",
    "#\t9899051\t6\n",
    "#\t9899202\t6\n",
    "#\t9899203\t6\n",
    "#\t9899273\t6\n",
    "#\t9899419\t6\n",
    "#\t9899427\t6\n",
    "#\t9899498\t6\n",
    "#\t9899644\t6\n",
    "#\t9905794\t6\n",
    "#\t9906019\t6\n",
    "#\t9910564\t6\n",
    "#\t9361773\t5\n",
    "#\t9361774\t5\n",
    "#\t9361999\t5\n",
    "#\t9404465\t5\n",
    "#\t9404691\t5\n",
    "#\t9404917\t5\n",
    "#\t9411132\t5\n",
    "#\t9411362\t5\n",
    "#\t9411364\t5\n",
    "#\t9411587\t5\n",
    "#\t9420786\t5\n",
    "#\t9421190\t5\n",
    "#\t9421414\t5\n",
    "#\t9896422\t5\n",
    "#\t9896427\t5\n",
    "#\t9896445\t5\n",
    "#\t9896674\t5\n",
    "#\t9896872\t5\n",
    "#\t9896893\t5\n",
    "#\t9898827\t5\n",
    "#\t9898971\t5\n",
    "#\t9898976\t5\n",
    "#\t9899045\t5\n",
    "#\t9899271\t5\n",
    "#\t9905226\t5\n",
    "#\t9905444\t5\n",
    "#\t9905673\t5\n",
    "#\t9905676\t5\n",
    "#\t9905787\t5\n",
    "#\t9905892\t5\n",
    "#\t9906122\t5\n",
    "#\t9910565\t5\n",
    "#\t9910752\t5\n",
    "#\t9361995\t4\n",
    "#\t9361997\t4\n",
    "#\t9362439\t4\n",
    "#\t9398846\t4\n",
    "#\t9404238\t4\n",
    "#\t9404242\t4\n",
    "#\t9404243\t4\n",
    "#\t9404588\t4\n",
    "#\t9404916\t4\n",
    "#\t9410916\t4\n",
    "#\t9411139\t4\n",
    "#\t9411357\t4\n",
    "#\t9411582\t4\n",
    "#\t9411586\t4\n",
    "#\t9421236\t4\n",
    "#\t9421238\t4\n",
    "#\t9421241\t4\n",
    "#\t9896444\t4\n",
    "#\t9896645\t4\n",
    "#\t9896648\t4\n",
    "#\t9896871\t4\n",
    "#\t9897096\t4\n",
    "#\t9898828\t4\n",
    "#\t9898973\t4\n",
    "#\t9899195\t4\n",
    "#\t9899267\t4\n",
    "#\t9899422\t4\n",
    "#\t9899424\t4\n",
    "#\t9905223\t4\n",
    "#\t9905347\t4\n",
    "#\t9905449\t4\n",
    "#\t9905568\t4\n",
    "#\t9905669\t4\n",
    "#\t9905670\t4\n",
    "#\t9905790\t4\n",
    "#\t9906012\t4\n",
    "#\t9906013\t4\n",
    "#\t9906016\t4\n",
    "#\t9910790\t4\n",
    "#\t9910981\t4\n",
    "#\t9361936\t3\n",
    "#\t9362224\t3\n",
    "#\t9398840\t3\n",
    "#\t9399069\t3\n",
    "#\t9404240\t3\n",
    "#\t9404363\t3\n",
    "#\t9404467\t3\n",
    "#\t9404468\t3\n",
    "#\t9404692\t3\n",
    "#\t9404808\t3\n",
    "#\t9411130\t3\n",
    "#\t9411131\t3\n",
    "#\t9420785\t3\n",
    "#\t9421017\t3\n",
    "#\t9896673\t3\n",
    "#\t9899046\t3\n",
    "#\t9899201\t3\n",
    "#\t9899204\t3\n",
    "#\t9899495\t3\n",
    "#\t9899643\t3\n",
    "#\t9905220\t3\n",
    "#\t9905221\t3\n",
    "#\t9905345\t3\n",
    "#\t9905448\t3\n",
    "#\t9905566\t3\n",
    "#\t9905672\t3\n",
    "#\t9905796\t3\n",
    "#\t9905891\t3\n",
    "#\t9905894\t3\n",
    "#\t9905900\t3\n",
    "#\t9906014\t3\n",
    "#\t9906123\t3\n",
    "#\t9906124\t3\n",
    "#\t9910563\t3\n",
    "#\t9910974\t3\n",
    "#\t9911011\t3\n",
    "#\t9911236\t3\n",
    "#\t9911240\t3\n",
    "#\t9911422\t3\n",
    "#\t9361934\t2\n",
    "#\t9362222\t2\n",
    "#\t9362383\t2\n",
    "#\t9398562\t2\n",
    "#\t9399013\t2\n",
    "#\t9399066\t2\n",
    "#\t9399070\t2\n",
    "#\t9399071\t2\n",
    "#\t9404139\t2\n",
    "#\t9404245\t2\n",
    "#\t9404360\t2\n",
    "#\t9404464\t2\n",
    "#\t9404587\t2\n",
    "#\t9404693\t2\n",
    "#\t9404805\t2\n",
    "#\t9404809\t2\n",
    "#\t9404918\t2\n",
    "#\t9410917\t2\n",
    "#\t9411133\t2\n",
    "#\t9411134\t2\n",
    "#\t9411359\t2\n",
    "#\t9896649\t2\n",
    "#\t9897101\t2\n",
    "#\t9898970\t2\n",
    "#\t9898975\t2\n",
    "#\t9899048\t2\n",
    "#\t9899200\t2\n",
    "#\t9899421\t2\n",
    "#\t9899493\t2\n",
    "#\t9903043\t2\n",
    "#\t9905219\t2\n",
    "#\t9905340\t2\n",
    "#\t9905341\t2\n",
    "#\t9905346\t2\n",
    "#\t9905446\t2\n",
    "#\t9905570\t2\n",
    "#\t9905671\t2\n",
    "#\t9910531\t2\n",
    "#\t9910567\t2\n",
    "#\t9910753\t2\n",
    "#\t9910979\t2\n",
    "#\t9911013\t2\n",
    "#\t9911199\t2\n",
    "#\t9911235\t2\n",
    "#\t9911237\t2\n",
    "#\t9361775\t1\n",
    "#\t9361776\t1\n",
    "#\t9362384\t1\n",
    "#\t9362386\t1\n",
    "#\t9398390\t1\n",
    "#\t9398393\t1\n",
    "#\t9398844\t1\n",
    "#\t9398845\t1\n",
    "#\t9399015\t1\n",
    "#\t9399062\t1\n",
    "#\t9399064\t1\n",
    "#\t9404141\t1\n",
    "#\t9404365\t1\n",
    "#\t9404466\t1\n",
    "#\t9404586\t1\n",
    "#\t9404589\t1\n",
    "#\t9404590\t1\n",
    "#\t9404694\t1\n",
    "#\t9404696\t1\n",
    "#\t9404697\t1\n",
    "#\t9411136\t1\n",
    "#\t9411138\t1\n",
    "#\t9411580\t1\n",
    "#\t9411807\t1\n",
    "#\t9896877\t1\n",
    "#\t9896889\t1\n",
    "#\t9899050\t1\n",
    "#\t9905222\t1\n",
    "#\t9905224\t1\n",
    "#\t9905225\t1\n",
    "#\t9905227\t1\n",
    "#\t9905339\t1\n",
    "#\t9905342\t1\n",
    "#\t9905344\t1\n",
    "#\t9905348\t1\n",
    "#\t9905443\t1\n",
    "#\t9905445\t1\n",
    "#\t9905447\t1\n",
    "#\t9905450\t1\n",
    "#\t9905451\t1\n",
    "#\t9905567\t1\n",
    "#\t9905792\t1\n",
    "#\t9905897\t1\n",
    "#\t9906121\t1\n",
    "#\t9910526\t1\n",
    "#\t9910568\t1\n",
    "#\t9910750\t1\n",
    "#\t9910755\t1\n",
    "#\t9910757\t1\n",
    "#\t9910787\t1\n",
    "#\t9910793\t1\n",
    "#\t9910794\t1\n",
    "#\t9910975\t1\n",
    "#\t9910977\t1\n",
    "#\t9911012\t1\n",
    "#\t9911016\t1\n",
    "#\t9911202\t1\n",
    "#\t9911205\t1\n",
    "#\t9911234\t1\n",
    "#\t9911238\t1\n",
    "#\t9911239\t1\n",
    "#\t9911241\t1\n",
    "#\t9911425\t1\n",
    "#\t9911426\t1\n",
    "#\t(blank)\t\n",
    "\t\t\n",
    "\t\t\n"
   ]
  },
  {
   "cell_type": "code",
   "execution_count": 738,
   "metadata": {},
   "outputs": [],
   "source": [
    "myshotnum = int(9421194)"
   ]
  },
  {
   "cell_type": "code",
   "execution_count": 739,
   "metadata": {},
   "outputs": [],
   "source": [
    "wave_idx = np.where(all_shotnums==myshotnum)[0][0]"
   ]
  },
  {
   "cell_type": "code",
   "execution_count": 740,
   "metadata": {},
   "outputs": [],
   "source": [
    "#extract the single waveform and elevation attributes Z0 and Z1023;\n",
    "waveform = lvis['RXWAVE'][wave_idx]"
   ]
  },
  {
   "cell_type": "code",
   "execution_count": 741,
   "metadata": {},
   "outputs": [
    {
     "data": {
      "text/plain": [
       "array([62, 63, 62, ..., 63, 62, 62], dtype=uint16)"
      ]
     },
     "execution_count": 741,
     "metadata": {},
     "output_type": "execute_result"
    }
   ],
   "source": [
    "waveform"
   ]
  },
  {
   "cell_type": "code",
   "execution_count": null,
   "metadata": {},
   "outputs": [],
   "source": []
  },
  {
   "cell_type": "code",
   "execution_count": 742,
   "metadata": {},
   "outputs": [],
   "source": [
    "Z0 = int(lvis['Z0'][wave_idx])"
   ]
  },
  {
   "cell_type": "code",
   "execution_count": 743,
   "metadata": {},
   "outputs": [
    {
     "name": "stdout",
     "output_type": "stream",
     "text": [
      "130\n"
     ]
    }
   ],
   "source": [
    "print(Z0)"
   ]
  },
  {
   "cell_type": "code",
   "execution_count": 744,
   "metadata": {},
   "outputs": [
    {
     "name": "stdout",
     "output_type": "stream",
     "text": [
      "<class 'int'>\n"
     ]
    }
   ],
   "source": [
    "print(type(Z0))"
   ]
  },
  {
   "cell_type": "code",
   "execution_count": 745,
   "metadata": {},
   "outputs": [],
   "source": [
    "Z1023 = int(lvis['Z1023'][wave_idx])"
   ]
  },
  {
   "cell_type": "code",
   "execution_count": 746,
   "metadata": {},
   "outputs": [
    {
     "data": {
      "text/plain": [
       "130"
      ]
     },
     "execution_count": 746,
     "metadata": {},
     "output_type": "execute_result"
    }
   ],
   "source": [
    "int(lvis['Z0'][wave_idx])"
   ]
  },
  {
   "cell_type": "code",
   "execution_count": 747,
   "metadata": {},
   "outputs": [
    {
     "name": "stdout",
     "output_type": "stream",
     "text": [
      "-22\n"
     ]
    }
   ],
   "source": [
    "print(Z1023)"
   ]
  },
  {
   "cell_type": "code",
   "execution_count": 748,
   "metadata": {},
   "outputs": [],
   "source": [
    "x = Z0 - Z1023"
   ]
  },
  {
   "cell_type": "code",
   "execution_count": 749,
   "metadata": {},
   "outputs": [
    {
     "name": "stdout",
     "output_type": "stream",
     "text": [
      "152\n"
     ]
    }
   ],
   "source": [
    "print(x)"
   ]
  },
  {
   "cell_type": "code",
   "execution_count": 750,
   "metadata": {},
   "outputs": [],
   "source": [
    "#zstretch = np.add(Z1023,np.multiply(range(wfrange,0,-1),((Z0-Z1023)/int(1023))))"
   ]
  },
  {
   "cell_type": "code",
   "execution_count": 751,
   "metadata": {},
   "outputs": [],
   "source": [
    "#find the elevation difference from Z0 to Z1023 and divide into 1023 equal intervals\n",
    "zstretch = np.add(Z1023,np.multiply(range(wfrange,0,-1),((Z0-Z1023)/int(wfsize))))"
   ]
  },
  {
   "cell_type": "code",
   "execution_count": 752,
   "metadata": {},
   "outputs": [],
   "source": [
    "with open(r'D:\\Gabon_Lidar\\DATA\\LEVEL2_0308\\csv\\LVIS2_Gabon2016_0308_R1808_045612.csv')  as f:\n",
    "    for line in f:\n",
    "        try:\n",
    "            myshot = line.split()[0]\n",
    "            if int(myshot)==int(myshotnum):\n",
    "                ZG = float(line.split()[5])\n",
    "                ZT = float(line.split()[8])\n",
    "                RH25 = float(line.split()[12])+ZG\n",
    "                RH50 = float(line.split()[17])+ZG\n",
    "                RH75 = float(line.split()[22])+ZG\n",
    "                RH10 = float(line.split()[9])+ZG \n",
    "                break\n",
    "        except ValueError:\n",
    "            pass"
   ]
  },
  {
   "cell_type": "code",
   "execution_count": 753,
   "metadata": {},
   "outputs": [],
   "source": [
    "ZG = waveform[5]"
   ]
  },
  {
   "cell_type": "code",
   "execution_count": null,
   "metadata": {},
   "outputs": [],
   "source": []
  },
  {
   "cell_type": "code",
   "execution_count": 754,
   "metadata": {},
   "outputs": [],
   "source": [
    "ZT = waveform[8]"
   ]
  },
  {
   "cell_type": "code",
   "execution_count": 755,
   "metadata": {},
   "outputs": [],
   "source": [
    "RH25 = waveform[12]"
   ]
  },
  {
   "cell_type": "code",
   "execution_count": 756,
   "metadata": {},
   "outputs": [
    {
     "data": {
      "text/plain": [
       "61"
      ]
     },
     "execution_count": 756,
     "metadata": {},
     "output_type": "execute_result"
    }
   ],
   "source": [
    "RH25"
   ]
  },
  {
   "cell_type": "code",
   "execution_count": 757,
   "metadata": {},
   "outputs": [],
   "source": [
    "RH50 = waveform[17]"
   ]
  },
  {
   "cell_type": "code",
   "execution_count": 758,
   "metadata": {},
   "outputs": [
    {
     "data": {
      "text/plain": [
       "66"
      ]
     },
     "execution_count": 758,
     "metadata": {},
     "output_type": "execute_result"
    }
   ],
   "source": [
    "RH50"
   ]
  },
  {
   "cell_type": "code",
   "execution_count": 759,
   "metadata": {},
   "outputs": [],
   "source": [
    "RH75 = waveform[22]"
   ]
  },
  {
   "cell_type": "code",
   "execution_count": 760,
   "metadata": {},
   "outputs": [
    {
     "data": {
      "text/plain": [
       "62"
      ]
     },
     "execution_count": 760,
     "metadata": {},
     "output_type": "execute_result"
    }
   ],
   "source": [
    "RH75"
   ]
  },
  {
   "cell_type": "code",
   "execution_count": 761,
   "metadata": {},
   "outputs": [],
   "source": [
    "RH10 = waveform[9]"
   ]
  },
  {
   "cell_type": "code",
   "execution_count": 762,
   "metadata": {},
   "outputs": [
    {
     "data": {
      "text/plain": [
       "63"
      ]
     },
     "execution_count": 762,
     "metadata": {},
     "output_type": "execute_result"
    }
   ],
   "source": [
    "RH10"
   ]
  },
  {
   "cell_type": "code",
   "execution_count": 763,
   "metadata": {},
   "outputs": [],
   "source": [
    "    #set the z range limits for plotting the waveform to crop the noise  \n",
    "    zmin=RH10-(ZT-RH10)/6   #sets zmin at 15% below the waveform range defined in RH10-ZT\n",
    "    zmax=ZT+(ZT-RH10)/18   #sets zmax at 5% above the waveform range defined in RH10-ZT"
   ]
  },
  {
   "cell_type": "code",
   "execution_count": 764,
   "metadata": {},
   "outputs": [],
   "source": [
    "    #crop the waveform and elevation arrays to the z range limits\n",
    "    x=zstretch>=zmin #this returns boolean True/False based on the comparison condition statement\n",
    "    y=zstretch<=zmax \n",
    "    z=(x==y) #this creates a combined boolean result from the previous two condition statements\n",
    "    waveform_crop = []\n",
    "    zstretch_crop = []\n",
    "    for i in range(0,len(waveform)):\n",
    "        if z[i]==True:\n",
    "            waveform_crop.append(waveform[i])\n",
    "            zstretch_crop.append(zstretch[i])  \n",
    "        "
   ]
  },
  {
   "cell_type": "code",
   "execution_count": 765,
   "metadata": {
    "scrolled": true
   },
   "outputs": [
    {
     "data": {
      "image/png": "[encoded data removed]",
      "text/plain": [
       "<Figure size 1080x432 with 2 Axes>"
      ]
     },
     "metadata": {
      "needs_background": "light"
     },
     "output_type": "display_data"
    }
   ],
   "source": [
    "    #plot the waveform as matplotlib figure\n",
    "    fig = plt.figure(figsize=(15, 6))\n",
    "    figplot = fig.add_subplot(121) \n",
    "    figplot.plot(waveform,zstretch)\n",
    "    plt.ylabel('elevation(m)')\n",
    "    plt.xlabel('amplitude')\n",
    "\n",
    "    figplot = fig.add_subplot(122) \n",
    "    figplot.plot(waveform_crop,zstretch_crop)\n",
    "    figplot.hlines(ZT,min(waveform),max(waveform),lw=1,linestyle='-', color='b',label='ZT')\n",
    "    figplot.hlines(RH75,min(waveform),max(waveform),lw=1,linestyle='-', color='g',label='RH75')\n",
    "    figplot.hlines(RH50,min(waveform),max(waveform),lw=1,linestyle='-', color='y',label='RH50')\n",
    "    figplot.hlines(RH25,min(waveform),max(waveform),lw=1,linestyle='-', color='orange',label='RH25')\n",
    "    figplot.hlines(ZG,min(waveform),max(waveform),lw=1,linestyle='-', color='r',label='ZG')\n",
    "    plt.legend(bbox_to_anchor=(0., 1.02, 1., .102), loc=3, ncol=5, mode=\"expand\", borderaxespad=0.)\n",
    "    plt.ylabel('elevation(m)')\n",
    "    plt.xlabel('amplitude')\n",
    "    plt.show(block=False)"
   ]
  },
  {
   "cell_type": "code",
   "execution_count": null,
   "metadata": {},
   "outputs": [],
   "source": []
  },
  {
   "cell_type": "code",
   "execution_count": null,
   "metadata": {},
   "outputs": [],
   "source": []
  },
  {
   "cell_type": "code",
   "execution_count": null,
   "metadata": {},
   "outputs": [],
   "source": []
  },
  {
   "cell_type": "code",
   "execution_count": null,
   "metadata": {},
   "outputs": [],
   "source": []
  },
  {
   "cell_type": "code",
   "execution_count": null,
   "metadata": {},
   "outputs": [],
   "source": []
  },
  {
   "cell_type": "code",
   "execution_count": null,
   "metadata": {},
   "outputs": [],
   "source": []
  },
  {
   "cell_type": "code",
   "execution_count": null,
   "metadata": {},
   "outputs": [],
   "source": []
  },
  {
   "cell_type": "markdown",
   "metadata": {},
   "source": [
    "I need to to an if than statement then a for loop "
   ]
  },
  {
   "cell_type": "code",
   "execution_count": null,
   "metadata": {},
   "outputs": [],
   "source": [
    "f = pd.read_csv(r'D:\\Gabon_Lidar\\DATA\\LEVEL2_0308\\csv\\LVIS2_Gabon2016_0308_R1808_045612.csv')\n",
    "for mu\n",
    "            if int(myshot)==int(myshotnum):\n",
    "                ZG = float(line.split()[5])\n",
    "                ZT = float(line.split()[8])\n",
    "                RH25 = float(line.split()[12])+ZG\n",
    "                RH50 = float(line.split()[17])+ZG\n",
    "                RH75 = float(line.split()[22])+ZG\n",
    "                RH10 = float(line.split()[9])+ZG \n",
    "                break\n",
    "        except ValueError:\n",
    "            pass"
   ]
  },
  {
   "cell_type": "code",
   "execution_count": null,
   "metadata": {},
   "outputs": [],
   "source": []
  },
  {
   "cell_type": "code",
   "execution_count": 24,
   "metadata": {},
   "outputs": [
    {
     "ename": "NameError",
     "evalue": "name 'RH10' is not defined",
     "output_type": "error",
     "traceback": [
      "\u001b[1;31m---------------------------------------------------------------------------\u001b[0m",
      "\u001b[1;31mNameError\u001b[0m                                 Traceback (most recent call last)",
      "\u001b[1;32m<ipython-input-24-a28cc4f5016e>\u001b[0m in \u001b[0;36m<module>\u001b[1;34m\u001b[0m\n\u001b[0;32m      1\u001b[0m \u001b[1;31m#set the z range limits for plotting the waveform to crop the noise\u001b[0m\u001b[1;33m\u001b[0m\u001b[1;33m\u001b[0m\u001b[1;33m\u001b[0m\u001b[0m\n\u001b[1;32m----> 2\u001b[1;33m \u001b[0mzmin\u001b[0m\u001b[1;33m=\u001b[0m\u001b[0mRH10\u001b[0m\u001b[1;33m-\u001b[0m\u001b[1;33m(\u001b[0m\u001b[0mZT\u001b[0m\u001b[1;33m-\u001b[0m\u001b[0mRH10\u001b[0m\u001b[1;33m)\u001b[0m\u001b[1;33m/\u001b[0m\u001b[1;36m6\u001b[0m   \u001b[1;31m#sets zmin at 15% below the waveform range defined in RH10-ZT\u001b[0m\u001b[1;33m\u001b[0m\u001b[1;33m\u001b[0m\u001b[0m\n\u001b[0m\u001b[0;32m      3\u001b[0m \u001b[0mzmax\u001b[0m\u001b[1;33m=\u001b[0m\u001b[0mZT\u001b[0m\u001b[1;33m+\u001b[0m\u001b[1;33m(\u001b[0m\u001b[0mZT\u001b[0m\u001b[1;33m-\u001b[0m\u001b[0mRH10\u001b[0m\u001b[1;33m)\u001b[0m\u001b[1;33m/\u001b[0m\u001b[1;36m18\u001b[0m   \u001b[1;31m#sets zmax at 5% above the waveform range defined in RH10-ZT\u001b[0m\u001b[1;33m\u001b[0m\u001b[1;33m\u001b[0m\u001b[0m\n",
      "\u001b[1;31mNameError\u001b[0m: name 'RH10' is not defined"
     ]
    }
   ],
   "source": [
    "    #set the z range limits for plotting the waveform to crop the noise  \n",
    "    zmin=RH10-(ZT-RH10)/6   #sets zmin at 15% below the waveform range defined in RH10-ZT\n",
    "    zmax=ZT+(ZT-RH10)/18   #sets zmax at 5% above the waveform range defined in RH10-ZT"
   ]
  },
  {
   "cell_type": "code",
   "execution_count": null,
   "metadata": {},
   "outputs": [],
   "source": [
    "print(myshot)"
   ]
  },
  {
   "cell_type": "code",
   "execution_count": null,
   "metadata": {},
   "outputs": [],
   "source": [
    "myshotnum"
   ]
  },
  {
   "cell_type": "code",
   "execution_count": null,
   "metadata": {},
   "outputs": [],
   "source": [
    "with open(r'D:\\Gabon_Lidar\\DATA\\LEVEL2_0308\\csv\\LVIS2_Gabon2016_0308_R1808_045612.csv')  as f:\n",
    "    for line in f:\n",
    "        try:\n",
    "            myshot = line.split()[1]\n",
    "            if int(myshot)==int(myshotnum):\n",
    "                ZG = float(line.split()[5])\n",
    "                ZT = float(line.split()[8])\n",
    "                RH25 = float(line.split()[12])+ZG\n",
    "                RH50 = float(line.split()[17])+ZG\n",
    "                RH75 = float(line.split()[22])+ZG\n",
    "                RH10 = float(line.split()[9])+ZG"
   ]
  },
  {
   "cell_type": "code",
   "execution_count": null,
   "metadata": {},
   "outputs": [],
   "source": [
    "print(myshot)"
   ]
  },
  {
   "cell_type": "code",
   "execution_count": null,
   "metadata": {},
   "outputs": [],
   "source": [
    "    #set the z range limits for plotting the waveform to crop the noise  \n",
    "    zmin=RH10-(ZT-RH10)/6   #sets zmin at 15% below the waveform range defined in RH10-ZT\n",
    "    zmax=ZT+(ZT-RH10)/18   #sets zmax at 5% above the waveform range defined in RH10-ZT"
   ]
  },
  {
   "cell_type": "code",
   "execution_count": null,
   "metadata": {},
   "outputs": [],
   "source": [
    "\n",
    "\n",
    "\n",
    "#search the L2 text file and extract the RH25, RH50.....RH100 values for the waveform you are querying\n",
    "with open(mytxtpath) as f:\n",
    "    for line in f:\n",
    "        try:\n",
    "            myshot = line.split()[1]\n",
    "            if int(myshot)==int(myshotnum):\n",
    "                ZG = float(line.split()[5])\n",
    "                ZT = float(line.split()[8])\n",
    "                RH25 = float(line.split()[12])+ZG\n",
    "                RH50 = float(line.split()[17])+ZG\n",
    "                RH75 = float(line.split()[22])+ZG\n",
    "                RH10 = float(line.split()[9])+ZG \n",
    "                break\n",
    "        except ValueError:\n",
    "            pass\n",
    "                \n",
    "    #set the z range limits for plotting the waveform to crop the noise  \n",
    "    zmin=RH10-(ZT-RH10)/6   #sets zmin at 15% below the waveform range defined in RH10-ZT\n",
    "    zmax=ZT+(ZT-RH10)/18   #sets zmax at 5% above the waveform range defined in RH10-ZT\n",
    "\n",
    "    #crop the waveform and elevation arrays to the z range limits\n",
    "    x=zstretch>=zmin #this returns boolean True/False based on the comparison condition statement\n",
    "    y=zstretch<=zmax \n",
    "    z=(x==y) #this creates a combined boolean result from the previous two condition statements\n",
    "    waveform_crop = []\n",
    "    zstretch_crop = []\n",
    "    for i in range(0,len(waveform)):\n",
    "        if z[i]==True:\n",
    "            waveform_crop.append(waveform[i])\n",
    "            zstretch_crop.append(zstretch[i])  \n",
    "        \n",
    "    #plot the waveform as matplotlib figure\n",
    "    fig = plt.figure(figsize=(15, 6))\n",
    "    figplot = fig.add_subplot(121) \n",
    "    figplot.plot(waveform,zstretch)\n",
    "    plt.ylabel('elevation(m)')\n",
    "    plt.xlabel('amplitude')\n",
    "\n",
    "    figplot = fig.add_subplot(122) \n",
    "    figplot.plot(waveform_crop,zstretch_crop)\n",
    "    figplot.hlines(ZT,min(waveform),max(waveform),lw=1,linestyle='-', color='b',label='ZT')\n",
    "    figplot.hlines(RH75,min(waveform),max(waveform),lw=1,linestyle='-', color='g',label='RH75')\n",
    "    figplot.hlines(RH50,min(waveform),max(waveform),lw=1,linestyle='-', color='y',label='RH50')\n",
    "    figplot.hlines(RH25,min(waveform),max(waveform),lw=1,linestyle='-', color='orange',label='RH25')\n",
    "    figplot.hlines(ZG,min(waveform),max(waveform),lw=1,linestyle='-', color='r',label='ZG')\n",
    "    plt.legend(bbox_to_anchor=(0., 1.02, 1., .102), loc=3, ncol=5, mode=\"expand\", borderaxespad=0.)\n",
    "    plt.ylabel('elevation(m)')\n",
    "    plt.xlabel('amplitude')\n",
    "    plt.show(block=False)\n"
   ]
  },
  {
   "cell_type": "code",
   "execution_count": null,
   "metadata": {},
   "outputs": [],
   "source": []
  },
  {
   "cell_type": "code",
   "execution_count": null,
   "metadata": {},
   "outputs": [],
   "source": []
  },
  {
   "cell_type": "code",
   "execution_count": 13,
   "metadata": {},
   "outputs": [
    {
     "ename": "IndentationError",
     "evalue": "unexpected indent (<ipython-input-13-2aed7dd928ca>, line 2)",
     "output_type": "error",
     "traceback": [
      "\u001b[1;36m  File \u001b[1;32m\"<ipython-input-13-2aed7dd928ca>\"\u001b[1;36m, line \u001b[1;32m2\u001b[0m\n\u001b[1;33m    for member in lvis:\u001b[0m\n\u001b[1;37m    ^\u001b[0m\n\u001b[1;31mIndentationError\u001b[0m\u001b[1;31m:\u001b[0m unexpected indent\n"
     ]
    }
   ],
   "source": [
    "# Detecting waveform size\n",
    "for member in lvis:\n",
    "        if member.startswith('Z'):\n",
    "            wfsize = member.strip('Z')\n",
    "    Zmax = ''.join(['Z',wfsize])\n",
    "    wfrange = int(wfsize) + 1\n",
    "    \n",
    "    try:\n",
    "        wave_idx = np.where(all_shotnums==myshotnum)[0][0]\n",
    "        plotWaveform()\n",
    "    except IndexError:\n",
    "        print('Shot number entered does not exist in this dataset.')"
   ]
  },
  {
   "cell_type": "code",
   "execution_count": 12,
   "metadata": {},
   "outputs": [
    {
     "ename": "NameError",
     "evalue": "name 'plotWaveform' is not defined",
     "output_type": "error",
     "traceback": [
      "\u001b[1;31m---------------------------------------------------------------------------\u001b[0m",
      "\u001b[1;31mNameError\u001b[0m                                 Traceback (most recent call last)",
      "\u001b[1;32m<ipython-input-12-75a10cf6b30a>\u001b[0m in \u001b[0;36m<module>\u001b[1;34m\u001b[0m\n\u001b[1;32m----> 1\u001b[1;33m \u001b[0mcheckIdxVal\u001b[0m\u001b[1;33m(\u001b[0m\u001b[1;33m)\u001b[0m\u001b[1;33m\u001b[0m\u001b[1;33m\u001b[0m\u001b[0m\n\u001b[0m",
      "\u001b[1;32m<ipython-input-11-634d4e8a25cc>\u001b[0m in \u001b[0;36mcheckIdxVal\u001b[1;34m()\u001b[0m\n\u001b[0;32m     13\u001b[0m     \u001b[1;32mtry\u001b[0m\u001b[1;33m:\u001b[0m\u001b[1;33m\u001b[0m\u001b[1;33m\u001b[0m\u001b[0m\n\u001b[0;32m     14\u001b[0m         \u001b[0mwave_idx\u001b[0m \u001b[1;33m=\u001b[0m \u001b[0mnp\u001b[0m\u001b[1;33m.\u001b[0m\u001b[0mwhere\u001b[0m\u001b[1;33m(\u001b[0m\u001b[0mall_shotnums\u001b[0m\u001b[1;33m==\u001b[0m\u001b[0mmyshotnum\u001b[0m\u001b[1;33m)\u001b[0m\u001b[1;33m[\u001b[0m\u001b[1;36m0\u001b[0m\u001b[1;33m]\u001b[0m\u001b[1;33m[\u001b[0m\u001b[1;36m0\u001b[0m\u001b[1;33m]\u001b[0m\u001b[1;33m\u001b[0m\u001b[1;33m\u001b[0m\u001b[0m\n\u001b[1;32m---> 15\u001b[1;33m         \u001b[0mplotWaveform\u001b[0m\u001b[1;33m(\u001b[0m\u001b[1;33m)\u001b[0m\u001b[1;33m\u001b[0m\u001b[1;33m\u001b[0m\u001b[0m\n\u001b[0m\u001b[0;32m     16\u001b[0m     \u001b[1;32mexcept\u001b[0m \u001b[0mIndexError\u001b[0m\u001b[1;33m:\u001b[0m\u001b[1;33m\u001b[0m\u001b[1;33m\u001b[0m\u001b[0m\n\u001b[0;32m     17\u001b[0m         \u001b[0mprint\u001b[0m\u001b[1;33m(\u001b[0m\u001b[1;34m'Shot number entered does not exist in this dataset.'\u001b[0m\u001b[1;33m)\u001b[0m\u001b[1;33m\u001b[0m\u001b[1;33m\u001b[0m\u001b[0m\n",
      "\u001b[1;31mNameError\u001b[0m: name 'plotWaveform' is not defined"
     ]
    }
   ],
   "source": []
  },
  {
   "cell_type": "code",
   "execution_count": null,
   "metadata": {},
   "outputs": [],
   "source": [
    "#PLOT A WAVEFORM WITH RH VALUES\n",
    "\n",
    "#print \"Usage: python py_waveplot.py <path_to_L1B_HDF5_file> <path_to_L2_txt_file> \"\n",
    "\n",
    "# Updated on 9 March 2018\n",
    "# Added ability to autodetect waveform size\n",
    "\n",
    "import sys\n",
    "import h5py\n",
    "import numpy as np\n",
    "import matplotlib.pyplot as plt\n",
    "\n",
    "mypath = sys.argv[1]\n",
    "mytxtpath = sys.argv[2]\n",
    "\n",
    "lvis = h5py.File(mypath,'r')\n",
    "#get wave index from shotnumber and test if exists\n",
    "all_shotnums = np.array(lvis['SHOTNUMBER'])\n",
    "wave_idx = ''\n",
    "Zmax = ''\n",
    "wfrange = ''\n",
    "wfsize = ''\n",
    "\n",
    "def checkIdxVal():\n",
    "    global wave_idx\n",
    "    global Zmax\n",
    "    global wfrange\n",
    "    global wfsize\n",
    "    # Detecting waveform size\n",
    "    for member in lvis:\n",
    "        if member.startswith('Z'):\n",
    "            wfsize = member.strip('Z')\n",
    "    Zmax = ''.join(['Z',wfsize])\n",
    "    wfrange = int(wfsize) + 1\n",
    "    \n",
    "    try:\n",
    "        wave_idx = np.where(all_shotnums==myshotnum)[0][0]\n",
    "        plotWaveform()\n",
    "    except IndexError:\n",
    "        print('Shot number entered does not exist in this dataset.')\n",
    "\n",
    "def plotWaveform():\n",
    "    global wave_idx\n",
    "    global Zmax\n",
    "    global wfrange\n",
    "    global wfsize\n",
    "    #extract the single waveform and elevation attributes Z0 and Z1023;\n",
    "    waveform = lvis['RXWAVE'][wave_idx]\n",
    "    Z0 = lvis['Z0'][wave_idx]\n",
    "    Z1023 = lvis[Zmax][wave_idx]\n",
    "\n",
    "    #find the elevation difference from Z0 to Z1023 and divide into 1023 equal intervals\n",
    "    zstretch = np.add(Z1023,np.multiply(range(wfrange,0,-1),((Z0-Z1023)/int(wfsize))))\n",
    "\n",
    "    #search the L2 text file and extract the RH25, RH50.....RH100 values for the waveform you are querying\n",
    "    with open(mytxtpath) as f:\n",
    "        for line in f:\n",
    "            try:\n",
    "                myshot = line.split()[1]\n",
    "                if int(myshot)==int(myshotnum):\n",
    "                    ZG = float(line.split()[5])\n",
    "                    ZT = float(line.split()[8])\n",
    "                    RH25 = float(line.split()[12])+ZG\n",
    "                    RH50 = float(line.split()[17])+ZG\n",
    "                    RH75 = float(line.split()[22])+ZG\n",
    "                    RH10 = float(line.split()[9])+ZG \n",
    "                    break\n",
    "            except ValueError:\n",
    "                pass\n",
    "                \n",
    "    #set the z range limits for plotting the waveform to crop the noise  \n",
    "    zmin=RH10-(ZT-RH10)/6   #sets zmin at 15% below the waveform range defined in RH10-ZT\n",
    "    zmax=ZT+(ZT-RH10)/18   #sets zmax at 5% above the waveform range defined in RH10-ZT\n",
    "\n",
    "    #crop the waveform and elevation arrays to the z range limits\n",
    "    x=zstretch>=zmin #this returns boolean True/False based on the comparison condition statement\n",
    "    y=zstretch<=zmax \n",
    "    z=(x==y) #this creates a combined boolean result from the previous two condition statements\n",
    "    waveform_crop = []\n",
    "    zstretch_crop = []\n",
    "    for i in range(0,len(waveform)):\n",
    "        if z[i]==True:\n",
    "            waveform_crop.append(waveform[i])\n",
    "            zstretch_crop.append(zstretch[i])  \n",
    "        \n",
    "    #plot the waveform as matplotlib figure\n",
    "    fig = plt.figure(figsize=(15, 6))\n",
    "    figplot = fig.add_subplot(121) \n",
    "    figplot.plot(waveform,zstretch)\n",
    "    plt.ylabel('elevation(m)')\n",
    "    plt.xlabel('amplitude')\n",
    "\n",
    "    figplot = fig.add_subplot(122) \n",
    "    figplot.plot(waveform_crop,zstretch_crop)\n",
    "    figplot.hlines(ZT,min(waveform),max(waveform),lw=1,linestyle='-', color='b',label='ZT')\n",
    "    figplot.hlines(RH75,min(waveform),max(waveform),lw=1,linestyle='-', color='g',label='RH75')\n",
    "    figplot.hlines(RH50,min(waveform),max(waveform),lw=1,linestyle='-', color='y',label='RH50')\n",
    "    figplot.hlines(RH25,min(waveform),max(waveform),lw=1,linestyle='-', color='orange',label='RH25')\n",
    "    figplot.hlines(ZG,min(waveform),max(waveform),lw=1,linestyle='-', color='r',label='ZG')\n",
    "    plt.legend(bbox_to_anchor=(0., 1.02, 1., .102), loc=3, ncol=5, mode=\"expand\", borderaxespad=0.)\n",
    "    plt.ylabel('elevation(m)')\n",
    "    plt.xlabel('amplitude')\n",
    "    plt.show(block=False)\n",
    "\n",
    "    "
   ]
  },
  {
   "cell_type": "code",
   "execution_count": null,
   "metadata": {},
   "outputs": [],
   "source": [
    "#PLOT A WAVEFORM WITH RH VALUES\n",
    "\n",
    "#print \"Usage: python py_waveplot.py <path_to_L1B_HDF5_file> <path_to_L2_txt_file> \"\n",
    "\n",
    "# Updated on 9 March 2018\n",
    "# Added ability to autodetect waveform size\n",
    "\n",
    "import sys\n",
    "import h5py\n",
    "import numpy as np\n",
    "import matplotlib.pyplot as plt\n",
    "\n",
    "mypath = sys.argv[1]\n",
    "mytxtpath = sys.argv[2]\n",
    "\n",
    "lvis = h5py.File(mypath,'r')\n",
    "#get wave index from shotnumber and test if exists\n",
    "all_shotnums = np.array(lvis['SHOTNUMBER'])\n",
    "wave_idx = ''\n",
    "Zmax = ''\n",
    "wfrange = ''\n",
    "wfsize = ''\n",
    "\n",
    "def checkIdxVal():\n",
    "    global wave_idx\n",
    "    global Zmax\n",
    "    global wfrange\n",
    "    global wfsize\n",
    "    # Detecting waveform size\n",
    "    for member in lvis:\n",
    "        if member.startswith('Z'):\n",
    "            wfsize = member.strip('Z')\n",
    "    Zmax = ''.join(['Z',wfsize])\n",
    "    wfrange = int(wfsize) + 1\n",
    "    \n",
    "    try:\n",
    "        wave_idx = np.where(all_shotnums==myshotnum)[0][0]\n",
    "        plotWaveform()\n",
    "    except IndexError:\n",
    "        print('Shot number entered does not exist in this dataset.')\n",
    "\n",
    "def plotWaveform():\n",
    "    global wave_idx\n",
    "    global Zmax\n",
    "    global wfrange\n",
    "    global wfsize\n",
    "    #extract the single waveform and elevation attributes Z0 and Z1023;\n",
    "    waveform = lvis['RXWAVE'][wave_idx]\n",
    "    Z0 = lvis['Z0'][wave_idx]\n",
    "    Z1023 = lvis[Zmax][wave_idx]\n",
    "\n",
    "    #find the elevation difference from Z0 to Z1023 and divide into 1023 equal intervals\n",
    "    zstretch = np.add(Z1023,np.multiply(range(wfrange,0,-1),((Z0-Z1023)/int(wfsize))))\n",
    "\n",
    "    #search the L2 text file and extract the RH25, RH50.....RH100 values for the waveform you are querying\n",
    "    with open(mytxtpath) as f:\n",
    "        for line in f:\n",
    "            try:\n",
    "                myshot = line.split()[1]\n",
    "                if int(myshot)==int(myshotnum):\n",
    "                    ZG = float(line.split()[5])\n",
    "                    ZT = float(line.split()[8])\n",
    "                    RH25 = float(line.split()[12])+ZG\n",
    "                    RH50 = float(line.split()[17])+ZG\n",
    "                    RH75 = float(line.split()[22])+ZG\n",
    "                    RH10 = float(line.split()[9])+ZG \n",
    "                    break\n",
    "            except ValueError:\n",
    "                pass\n",
    "                \n",
    "    #set the z range limits for plotting the waveform to crop the noise  \n",
    "    zmin=RH10-(ZT-RH10)/6   #sets zmin at 15% below the waveform range defined in RH10-ZT\n",
    "    zmax=ZT+(ZT-RH10)/18   #sets zmax at 5% above the waveform range defined in RH10-ZT\n",
    "\n",
    "    #crop the waveform and elevation arrays to the z range limits\n",
    "    x=zstretch>=zmin #this returns boolean True/False based on the comparison condition statement\n",
    "    y=zstretch<=zmax \n",
    "    z=(x==y) #this creates a combined boolean result from the previous two condition statements\n",
    "    waveform_crop = []\n",
    "    zstretch_crop = []\n",
    "    for i in range(0,len(waveform)):\n",
    "        if z[i]==True:\n",
    "            waveform_crop.append(waveform[i])\n",
    "            zstretch_crop.append(zstretch[i])  \n",
    "        \n",
    "    #plot the waveform as matplotlib figure\n",
    "    fig = plt.figure(figsize=(15, 6))\n",
    "    figplot = fig.add_subplot(121) \n",
    "    figplot.plot(waveform,zstretch)\n",
    "    plt.ylabel('elevation(m)')\n",
    "    plt.xlabel('amplitude')\n",
    "\n",
    "    figplot = fig.add_subplot(122) \n",
    "    figplot.plot(waveform_crop,zstretch_crop)\n",
    "    figplot.hlines(ZT,min(waveform),max(waveform),lw=1,linestyle='-', color='b',label='ZT')\n",
    "    figplot.hlines(RH75,min(waveform),max(waveform),lw=1,linestyle='-', color='g',label='RH75')\n",
    "    figplot.hlines(RH50,min(waveform),max(waveform),lw=1,linestyle='-', color='y',label='RH50')\n",
    "    figplot.hlines(RH25,min(waveform),max(waveform),lw=1,linestyle='-', color='orange',label='RH25')\n",
    "    figplot.hlines(ZG,min(waveform),max(waveform),lw=1,linestyle='-', color='r',label='ZG')\n",
    "    plt.legend(bbox_to_anchor=(0., 1.02, 1., .102), loc=3, ncol=5, mode=\"expand\", borderaxespad=0.)\n",
    "    plt.ylabel('elevation(m)')\n",
    "    plt.xlabel('amplitude')\n",
    "    plt.show(block=False)\n",
    "\n",
    "while 1:\n",
    "    available = ''.join(['\\nShot numbers available in this dataset: ',str(all_shotnums.min()),' - ',str(all_shotnums.max())])\n",
    "    print(available)\n",
    "    \n",
    "    try:\n",
    "        myshotnum = int(input(\"Please enter shot number: \"))\n",
    "        checkIdxVal()\n",
    "    except:\n",
    "        print('Must be an integer.')\n",
    "    "
   ]
  },
  {
   "cell_type": "code",
   "execution_count": null,
   "metadata": {},
   "outputs": [],
   "source": []
  },
  {
   "cell_type": "code",
   "execution_count": null,
   "metadata": {},
   "outputs": [],
   "source": []
  },
  {
   "cell_type": "code",
   "execution_count": null,
   "metadata": {},
   "outputs": [],
   "source": []
  },
  {
   "cell_type": "code",
   "execution_count": null,
   "metadata": {},
   "outputs": [],
   "source": []
  },
  {
   "cell_type": "code",
   "execution_count": null,
   "metadata": {},
   "outputs": [],
   "source": []
  },
  {
   "cell_type": "code",
   "execution_count": null,
   "metadata": {},
   "outputs": [],
   "source": []
  },
  {
   "cell_type": "code",
   "execution_count": null,
   "metadata": {},
   "outputs": [],
   "source": []
  },
  {
   "cell_type": "code",
   "execution_count": null,
   "metadata": {},
   "outputs": [],
   "source": []
  },
  {
   "cell_type": "code",
   "execution_count": null,
   "metadata": {},
   "outputs": [],
   "source": []
  },
  {
   "cell_type": "code",
   "execution_count": null,
   "metadata": {},
   "outputs": [],
   "source": []
  },
  {
   "cell_type": "code",
   "execution_count": null,
   "metadata": {},
   "outputs": [],
   "source": []
  },
  {
   "cell_type": "code",
   "execution_count": null,
   "metadata": {},
   "outputs": [],
   "source": []
  },
  {
   "cell_type": "code",
   "execution_count": null,
   "metadata": {},
   "outputs": [],
   "source": []
  },
  {
   "cell_type": "markdown",
   "metadata": {},
   "source": [
    "Bring all the data data in "
   ]
  },
  {
   "cell_type": "code",
   "execution_count": 5,
   "metadata": {},
   "outputs": [],
   "source": [
    "# Geopandas "
   ]
  },
  {
   "cell_type": "code",
   "execution_count": 7,
   "metadata": {},
   "outputs": [
    {
     "name": "stderr",
     "output_type": "stream",
     "text": [
      "C:\\Users\\17183\\anaconda3\\envs\\Geopandas_h5pytest\\lib\\site-packages\\geopandas\\array.py:166: ShapelyDeprecationWarning: The array interface is deprecated and will no longer work in Shapely 2.0. Convert the '.coords' to a numpy array instead.\n",
      "  return GeometryArray(vectorized.from_shapely(data), crs=crs)\n"
     ]
    }
   ],
   "source": [
    "Shot_RH = gpd.read_file(r'D:\\Gabon_Lidar\\DATA\\shp\\Shot_Sum_AGB_RH.shp')"
   ]
  },
  {
   "cell_type": "code",
   "execution_count": 8,
   "metadata": {},
   "outputs": [],
   "source": [
    "#Changing CRS \n",
    "Shot_RH_4326= Shot_RH.to_crs(epsg=4326)"
   ]
  },
  {
   "cell_type": "code",
   "execution_count": 9,
   "metadata": {},
   "outputs": [
    {
     "data": {
      "text/plain": [
       "Index(['SHOTNUMBER', 'MAX_SHOTNU', 'SUM_m_agb', 'MAX_TIME', 'MAX_GLON',\n",
       "       'MAX_GLAT', 'MAX_ZG', 'MAX_HLON', 'MAX_HLAT', 'MAX_ZH', 'MAX_TLON',\n",
       "       'MAX_TLAT', 'MAX_ZT', 'MAX_RH10', 'MAX_RH15', 'MAX_RH20', 'MAX_RH25',\n",
       "       'MAX_RH30', 'MAX_RH35', 'MAX_RH40', 'MAX_RH45', 'MAX_RH50', 'MAX_RH55',\n",
       "       'MAX_RH60', 'MAX_RH65', 'MAX_RH70', 'MAX_RH75', 'MAX_RH80', 'MAX_RH85',\n",
       "       'MAX_RH90', 'MAX_RH95', 'MAX_RH96', 'MAX_RH97', 'MAX_RH98', 'MAX_RH99',\n",
       "       'MAX_RH100', 'MAX_AZIMUT', 'MAX_INCIDE', 'MAX_RANGE', 'MAX_COMPLE',\n",
       "       'MAX_CHANNE', 'MAX_CHAN_1', 'MAX_CHAN_2', 'MAX_POINT_', 'MAX_POINT1',\n",
       "       'geometry'],\n",
       "      dtype='object')"
      ]
     },
     "execution_count": 9,
     "metadata": {},
     "output_type": "execute_result"
    }
   ],
   "source": [
    "Shot_RH.columns"
   ]
  },
  {
   "cell_type": "code",
   "execution_count": 10,
   "metadata": {
    "scrolled": true
   },
   "outputs": [
    {
     "data": {
      "text/html": [
       "<div>\n",
       "<style scoped>\n",
       "    .dataframe tbody tr th:only-of-type {\n",
       "        vertical-align: middle;\n",
       "    }\n",
       "\n",
       "    .dataframe tbody tr th {\n",
       "        vertical-align: top;\n",
       "    }\n",
       "\n",
       "    .dataframe thead th {\n",
       "        text-align: right;\n",
       "    }\n",
       "</style>\n",
       "<table border=\"1\" class=\"dataframe\">\n",
       "  <thead>\n",
       "    <tr style=\"text-align: right;\">\n",
       "      <th></th>\n",
       "      <th>SHOTNUMBER</th>\n",
       "      <th>MAX_SHOTNU</th>\n",
       "      <th>SUM_m_agb</th>\n",
       "      <th>MAX_TIME</th>\n",
       "      <th>MAX_GLON</th>\n",
       "      <th>MAX_GLAT</th>\n",
       "      <th>MAX_ZG</th>\n",
       "      <th>MAX_HLON</th>\n",
       "      <th>MAX_HLAT</th>\n",
       "      <th>MAX_ZH</th>\n",
       "      <th>...</th>\n",
       "      <th>MAX_AZIMUT</th>\n",
       "      <th>MAX_INCIDE</th>\n",
       "      <th>MAX_RANGE</th>\n",
       "      <th>MAX_COMPLE</th>\n",
       "      <th>MAX_CHANNE</th>\n",
       "      <th>MAX_CHAN_1</th>\n",
       "      <th>MAX_CHAN_2</th>\n",
       "      <th>MAX_POINT_</th>\n",
       "      <th>MAX_POINT1</th>\n",
       "      <th>geometry</th>\n",
       "    </tr>\n",
       "  </thead>\n",
       "  <tbody>\n",
       "    <tr>\n",
       "      <th>0</th>\n",
       "      <td>9361768</td>\n",
       "      <td>9361768</td>\n",
       "      <td>494.90</td>\n",
       "      <td>45679.155</td>\n",
       "      <td>9.422531</td>\n",
       "      <td>0.582776</td>\n",
       "      <td>20.96</td>\n",
       "      <td>-999</td>\n",
       "      <td>-999</td>\n",
       "      <td>-999</td>\n",
       "      <td>...</td>\n",
       "      <td>351.15</td>\n",
       "      <td>2.877</td>\n",
       "      <td>7713.77</td>\n",
       "      <td>-999</td>\n",
       "      <td>1</td>\n",
       "      <td>1</td>\n",
       "      <td>1</td>\n",
       "      <td>9.422531</td>\n",
       "      <td>0.582776</td>\n",
       "      <td>MULTIPOINT (547007.784 64418.388, 547007.821 6...</td>\n",
       "    </tr>\n",
       "    <tr>\n",
       "      <th>1</th>\n",
       "      <td>9361769</td>\n",
       "      <td>9361769</td>\n",
       "      <td>2857.33</td>\n",
       "      <td>45679.156</td>\n",
       "      <td>9.422529</td>\n",
       "      <td>0.582682</td>\n",
       "      <td>19.35</td>\n",
       "      <td>-999</td>\n",
       "      <td>-999</td>\n",
       "      <td>-999</td>\n",
       "      <td>...</td>\n",
       "      <td>350.90</td>\n",
       "      <td>2.800</td>\n",
       "      <td>7716.76</td>\n",
       "      <td>-999</td>\n",
       "      <td>1</td>\n",
       "      <td>1</td>\n",
       "      <td>1</td>\n",
       "      <td>9.422529</td>\n",
       "      <td>0.582682</td>\n",
       "      <td>MULTIPOINT (547003.851 64393.517, 547004.879 6...</td>\n",
       "    </tr>\n",
       "    <tr>\n",
       "      <th>2</th>\n",
       "      <td>9361773</td>\n",
       "      <td>9361773</td>\n",
       "      <td>1241.81</td>\n",
       "      <td>45679.160</td>\n",
       "      <td>9.422520</td>\n",
       "      <td>0.582305</td>\n",
       "      <td>13.10</td>\n",
       "      <td>-999</td>\n",
       "      <td>-999</td>\n",
       "      <td>-999</td>\n",
       "      <td>...</td>\n",
       "      <td>349.68</td>\n",
       "      <td>2.494</td>\n",
       "      <td>7722.14</td>\n",
       "      <td>-999</td>\n",
       "      <td>1</td>\n",
       "      <td>1</td>\n",
       "      <td>1</td>\n",
       "      <td>9.422520</td>\n",
       "      <td>0.582305</td>\n",
       "      <td>MULTIPOINT (547014.572 64359.092, 547015.721 6...</td>\n",
       "    </tr>\n",
       "  </tbody>\n",
       "</table>\n",
       "<p>3 rows × 46 columns</p>\n",
       "</div>"
      ],
      "text/plain": [
       "   SHOTNUMBER  MAX_SHOTNU  SUM_m_agb   MAX_TIME  MAX_GLON  MAX_GLAT  MAX_ZG  \\\n",
       "0     9361768     9361768     494.90  45679.155  9.422531  0.582776   20.96   \n",
       "1     9361769     9361769    2857.33  45679.156  9.422529  0.582682   19.35   \n",
       "2     9361773     9361773    1241.81  45679.160  9.422520  0.582305   13.10   \n",
       "\n",
       "   MAX_HLON  MAX_HLAT  MAX_ZH  ...  MAX_AZIMUT  MAX_INCIDE  MAX_RANGE  \\\n",
       "0      -999      -999    -999  ...      351.15       2.877    7713.77   \n",
       "1      -999      -999    -999  ...      350.90       2.800    7716.76   \n",
       "2      -999      -999    -999  ...      349.68       2.494    7722.14   \n",
       "\n",
       "   MAX_COMPLE  MAX_CHANNE  MAX_CHAN_1  MAX_CHAN_2  MAX_POINT_  MAX_POINT1  \\\n",
       "0        -999           1           1           1    9.422531    0.582776   \n",
       "1        -999           1           1           1    9.422529    0.582682   \n",
       "2        -999           1           1           1    9.422520    0.582305   \n",
       "\n",
       "                                            geometry  \n",
       "0  MULTIPOINT (547007.784 64418.388, 547007.821 6...  \n",
       "1  MULTIPOINT (547003.851 64393.517, 547004.879 6...  \n",
       "2  MULTIPOINT (547014.572 64359.092, 547015.721 6...  \n",
       "\n",
       "[3 rows x 46 columns]"
      ]
     },
     "execution_count": 10,
     "metadata": {},
     "output_type": "execute_result"
    }
   ],
   "source": [
    "Shot_RH.head(3)"
   ]
  },
  {
   "cell_type": "markdown",
   "metadata": {},
   "source": [
    "##### Finding AGB"
   ]
  },
  {
   "cell_type": "markdown",
   "metadata": {},
   "source": [
    "Aboveground Biomass(AGB) is the amount of living matter above the ground. The foumulat bellow is from \"Comparison of Small- and Large-Footprint Lidar Characterization of Tropical Forest Aboveground Structure and Biomass: A Case Study From Central Gabon (Silva, et al. 2018)\" in it they use AGB (kg) = 0.0673 × (ρ × dbh2 × ht)0.976 they which is Chave formula (Chave , et al. 2015)"
   ]
  },
  {
   "cell_type": "markdown",
   "metadata": {},
   "source": [
    "AGB (kg) = 0.0673 × (ρ × dbh^2 × ht)^0.976"
   ]
  },
  {
   "cell_type": "markdown",
   "metadata": {},
   "source": [
    "were dbh is in cm, ht is in m, and ρ is the wood density in g·cm−3.\n",
    "The total AGB at plot level was then obtained by summing\n",
    "individual stem biomass estimates and converting it to Mg·ha−1.\n"
   ]
  },
  {
   "cell_type": "markdown",
   "metadata": {},
   "source": [
    "Returning to out formula we need the find the ρ which is densentity. The can be found using the "
   ]
  },
  {
   "cell_type": "markdown",
   "metadata": {},
   "source": [
    "AGB (kg) = 0.0673 × (ρ × dbh^2 × ht)^0.976\n",
    "\n",
    "were dbh is in cm, ht is in m, and ρ is the wood density in g·cm−3. The total AGB at plot level was then obtained by summing individual stem biomass estimates and converting it to Mg·ha−1."
   ]
  },
  {
   "cell_type": "markdown",
   "metadata": {},
   "source": [
    "The wood density came from the following two papers "
   ]
  },
  {
   "cell_type": "markdown",
   "metadata": {},
   "source": [
    "\n",
    "[1] J. Chave, D. A. Coomes, S. Jansen, S. L. Lewis, N. G. Swenson,\n",
    "and A. E. Zanne, “Towards a worldwide wood economics spectrum,”\n",
    "Ecol. Lett., vol. 12, no. 4, pp. 351–366, 2009. [Online]. Available:\n",
    "https://doi.org/10.1111/j.1461-0248.2009.01285.x\n",
    "[42] A. E. Zanne et al., Data from: Towards a Worldwide Wood Economics Spectrum, Dryad Digital Repository, 2009. [Online]. Available:\n",
    "https://doi.org/10.5061/dryad.234"
   ]
  },
  {
   "cell_type": "markdown",
   "metadata": {},
   "source": [
    "This is bringing in the would density database for the ρ"
   ]
  },
  {
   "cell_type": "markdown",
   "metadata": {},
   "source": [
    "The would Density in data set is wsg field and it comes from the data set listed above "
   ]
  },
  {
   "cell_type": "markdown",
   "metadata": {},
   "source": [
    "I will be going foward with 0.228 because that is the median value "
   ]
  },
  {
   "cell_type": "markdown",
   "metadata": {},
   "source": [
    "AGB (kg) = 0.0673 × (0.228 × dbh^2 × ht)^0.976\n"
   ]
  },
  {
   "cell_type": "markdown",
   "metadata": {},
   "source": [
    "the next step is to find the hieght. to find the Height I will be using the LVIS for in read that is found next to the "
   ]
  },
  {
   "cell_type": "code",
   "execution_count": 11,
   "metadata": {},
   "outputs": [],
   "source": [
    "#LVISshot = LVIS[(LVIS.LFID == 1657455174)]"
   ]
  },
  {
   "cell_type": "code",
   "execution_count": 12,
   "metadata": {},
   "outputs": [
    {
     "data": {
      "text/html": [
       "<div>\n",
       "<style scoped>\n",
       "    .dataframe tbody tr th:only-of-type {\n",
       "        vertical-align: middle;\n",
       "    }\n",
       "\n",
       "    .dataframe tbody tr th {\n",
       "        vertical-align: top;\n",
       "    }\n",
       "\n",
       "    .dataframe thead th {\n",
       "        text-align: right;\n",
       "    }\n",
       "</style>\n",
       "<table border=\"1\" class=\"dataframe\">\n",
       "  <thead>\n",
       "    <tr style=\"text-align: right;\">\n",
       "      <th></th>\n",
       "      <th>SHOTNUMBER</th>\n",
       "      <th>MAX_SHOTNU</th>\n",
       "      <th>SUM_m_agb</th>\n",
       "      <th>MAX_TIME</th>\n",
       "      <th>MAX_GLON</th>\n",
       "      <th>MAX_GLAT</th>\n",
       "      <th>MAX_ZG</th>\n",
       "      <th>MAX_HLON</th>\n",
       "      <th>MAX_HLAT</th>\n",
       "      <th>MAX_ZH</th>\n",
       "      <th>...</th>\n",
       "      <th>MAX_AZIMUT</th>\n",
       "      <th>MAX_INCIDE</th>\n",
       "      <th>MAX_RANGE</th>\n",
       "      <th>MAX_COMPLE</th>\n",
       "      <th>MAX_CHANNE</th>\n",
       "      <th>MAX_CHAN_1</th>\n",
       "      <th>MAX_CHAN_2</th>\n",
       "      <th>MAX_POINT_</th>\n",
       "      <th>MAX_POINT1</th>\n",
       "      <th>geometry</th>\n",
       "    </tr>\n",
       "  </thead>\n",
       "  <tbody>\n",
       "    <tr>\n",
       "      <th>0</th>\n",
       "      <td>9361768</td>\n",
       "      <td>9361768</td>\n",
       "      <td>494.90</td>\n",
       "      <td>45679.155</td>\n",
       "      <td>9.422531</td>\n",
       "      <td>0.582776</td>\n",
       "      <td>20.96</td>\n",
       "      <td>-999</td>\n",
       "      <td>-999</td>\n",
       "      <td>-999</td>\n",
       "      <td>...</td>\n",
       "      <td>351.15</td>\n",
       "      <td>2.877</td>\n",
       "      <td>7713.77</td>\n",
       "      <td>-999</td>\n",
       "      <td>1</td>\n",
       "      <td>1</td>\n",
       "      <td>1</td>\n",
       "      <td>9.422531</td>\n",
       "      <td>0.582776</td>\n",
       "      <td>MULTIPOINT (547007.784 64418.388, 547007.821 6...</td>\n",
       "    </tr>\n",
       "    <tr>\n",
       "      <th>1</th>\n",
       "      <td>9361769</td>\n",
       "      <td>9361769</td>\n",
       "      <td>2857.33</td>\n",
       "      <td>45679.156</td>\n",
       "      <td>9.422529</td>\n",
       "      <td>0.582682</td>\n",
       "      <td>19.35</td>\n",
       "      <td>-999</td>\n",
       "      <td>-999</td>\n",
       "      <td>-999</td>\n",
       "      <td>...</td>\n",
       "      <td>350.90</td>\n",
       "      <td>2.800</td>\n",
       "      <td>7716.76</td>\n",
       "      <td>-999</td>\n",
       "      <td>1</td>\n",
       "      <td>1</td>\n",
       "      <td>1</td>\n",
       "      <td>9.422529</td>\n",
       "      <td>0.582682</td>\n",
       "      <td>MULTIPOINT (547003.851 64393.517, 547004.879 6...</td>\n",
       "    </tr>\n",
       "    <tr>\n",
       "      <th>2</th>\n",
       "      <td>9361773</td>\n",
       "      <td>9361773</td>\n",
       "      <td>1241.81</td>\n",
       "      <td>45679.160</td>\n",
       "      <td>9.422520</td>\n",
       "      <td>0.582305</td>\n",
       "      <td>13.10</td>\n",
       "      <td>-999</td>\n",
       "      <td>-999</td>\n",
       "      <td>-999</td>\n",
       "      <td>...</td>\n",
       "      <td>349.68</td>\n",
       "      <td>2.494</td>\n",
       "      <td>7722.14</td>\n",
       "      <td>-999</td>\n",
       "      <td>1</td>\n",
       "      <td>1</td>\n",
       "      <td>1</td>\n",
       "      <td>9.422520</td>\n",
       "      <td>0.582305</td>\n",
       "      <td>MULTIPOINT (547014.572 64359.092, 547015.721 6...</td>\n",
       "    </tr>\n",
       "    <tr>\n",
       "      <th>3</th>\n",
       "      <td>9361774</td>\n",
       "      <td>9361774</td>\n",
       "      <td>1016.30</td>\n",
       "      <td>45679.161</td>\n",
       "      <td>9.422518</td>\n",
       "      <td>0.582210</td>\n",
       "      <td>12.93</td>\n",
       "      <td>-999</td>\n",
       "      <td>-999</td>\n",
       "      <td>-999</td>\n",
       "      <td>...</td>\n",
       "      <td>349.32</td>\n",
       "      <td>2.418</td>\n",
       "      <td>7720.93</td>\n",
       "      <td>-999</td>\n",
       "      <td>1</td>\n",
       "      <td>1</td>\n",
       "      <td>1</td>\n",
       "      <td>9.422518</td>\n",
       "      <td>0.582210</td>\n",
       "      <td>MULTIPOINT (547010.463 64356.244, 547011.425 6...</td>\n",
       "    </tr>\n",
       "    <tr>\n",
       "      <th>4</th>\n",
       "      <td>9361775</td>\n",
       "      <td>9361775</td>\n",
       "      <td>95.51</td>\n",
       "      <td>45679.162</td>\n",
       "      <td>9.422515</td>\n",
       "      <td>0.582116</td>\n",
       "      <td>12.76</td>\n",
       "      <td>-999</td>\n",
       "      <td>-999</td>\n",
       "      <td>-999</td>\n",
       "      <td>...</td>\n",
       "      <td>348.94</td>\n",
       "      <td>2.342</td>\n",
       "      <td>7721.53</td>\n",
       "      <td>-999</td>\n",
       "      <td>2</td>\n",
       "      <td>2</td>\n",
       "      <td>1</td>\n",
       "      <td>9.422515</td>\n",
       "      <td>0.582116</td>\n",
       "      <td>MULTIPOINT (547008.053 64345.327)</td>\n",
       "    </tr>\n",
       "    <tr>\n",
       "      <th>...</th>\n",
       "      <td>...</td>\n",
       "      <td>...</td>\n",
       "      <td>...</td>\n",
       "      <td>...</td>\n",
       "      <td>...</td>\n",
       "      <td>...</td>\n",
       "      <td>...</td>\n",
       "      <td>...</td>\n",
       "      <td>...</td>\n",
       "      <td>...</td>\n",
       "      <td>...</td>\n",
       "      <td>...</td>\n",
       "      <td>...</td>\n",
       "      <td>...</td>\n",
       "      <td>...</td>\n",
       "      <td>...</td>\n",
       "      <td>...</td>\n",
       "      <td>...</td>\n",
       "      <td>...</td>\n",
       "      <td>...</td>\n",
       "      <td>...</td>\n",
       "    </tr>\n",
       "    <tr>\n",
       "      <th>638</th>\n",
       "      <td>11689984</td>\n",
       "      <td>11689984</td>\n",
       "      <td>38.51</td>\n",
       "      <td>48007.387</td>\n",
       "      <td>9.422303</td>\n",
       "      <td>0.617157</td>\n",
       "      <td>17.01</td>\n",
       "      <td>-999</td>\n",
       "      <td>-999</td>\n",
       "      <td>-999</td>\n",
       "      <td>...</td>\n",
       "      <td>188.60</td>\n",
       "      <td>2.377</td>\n",
       "      <td>7706.54</td>\n",
       "      <td>-999</td>\n",
       "      <td>1</td>\n",
       "      <td>1</td>\n",
       "      <td>1</td>\n",
       "      <td>9.422303</td>\n",
       "      <td>0.617157</td>\n",
       "      <td>MULTIPOINT (546986.937 68219.360)</td>\n",
       "    </tr>\n",
       "    <tr>\n",
       "      <th>639</th>\n",
       "      <td>11690158</td>\n",
       "      <td>11690158</td>\n",
       "      <td>18.06</td>\n",
       "      <td>48007.561</td>\n",
       "      <td>9.422156</td>\n",
       "      <td>0.617224</td>\n",
       "      <td>17.05</td>\n",
       "      <td>-999</td>\n",
       "      <td>-999</td>\n",
       "      <td>-999</td>\n",
       "      <td>...</td>\n",
       "      <td>187.90</td>\n",
       "      <td>2.317</td>\n",
       "      <td>7705.34</td>\n",
       "      <td>-999</td>\n",
       "      <td>1</td>\n",
       "      <td>1</td>\n",
       "      <td>1</td>\n",
       "      <td>9.422156</td>\n",
       "      <td>0.617224</td>\n",
       "      <td>MULTIPOINT (546975.945 68219.769)</td>\n",
       "    </tr>\n",
       "    <tr>\n",
       "      <th>640</th>\n",
       "      <td>11690162</td>\n",
       "      <td>11690162</td>\n",
       "      <td>311.37</td>\n",
       "      <td>48007.565</td>\n",
       "      <td>9.422153</td>\n",
       "      <td>0.616846</td>\n",
       "      <td>17.30</td>\n",
       "      <td>-999</td>\n",
       "      <td>-999</td>\n",
       "      <td>-999</td>\n",
       "      <td>...</td>\n",
       "      <td>186.95</td>\n",
       "      <td>2.625</td>\n",
       "      <td>7707.16</td>\n",
       "      <td>-999</td>\n",
       "      <td>1</td>\n",
       "      <td>1</td>\n",
       "      <td>1</td>\n",
       "      <td>9.422153</td>\n",
       "      <td>0.616846</td>\n",
       "      <td>MULTIPOINT (546972.094 68170.128, 546982.031 6...</td>\n",
       "    </tr>\n",
       "    <tr>\n",
       "      <th>641</th>\n",
       "      <td>11690205</td>\n",
       "      <td>11690205</td>\n",
       "      <td>635.25</td>\n",
       "      <td>48007.608</td>\n",
       "      <td>9.422062</td>\n",
       "      <td>0.616841</td>\n",
       "      <td>17.33</td>\n",
       "      <td>-999</td>\n",
       "      <td>-999</td>\n",
       "      <td>-999</td>\n",
       "      <td>...</td>\n",
       "      <td>187.71</td>\n",
       "      <td>2.633</td>\n",
       "      <td>7705.96</td>\n",
       "      <td>-999</td>\n",
       "      <td>1</td>\n",
       "      <td>1</td>\n",
       "      <td>1</td>\n",
       "      <td>9.422062</td>\n",
       "      <td>0.616841</td>\n",
       "      <td>MULTIPOINT (546961.378 68164.523, 546961.974 6...</td>\n",
       "    </tr>\n",
       "    <tr>\n",
       "      <th>642</th>\n",
       "      <td>11690206</td>\n",
       "      <td>11690206</td>\n",
       "      <td>148.91</td>\n",
       "      <td>48007.609</td>\n",
       "      <td>9.422062</td>\n",
       "      <td>0.616935</td>\n",
       "      <td>17.27</td>\n",
       "      <td>-999</td>\n",
       "      <td>-999</td>\n",
       "      <td>-999</td>\n",
       "      <td>...</td>\n",
       "      <td>187.93</td>\n",
       "      <td>2.557</td>\n",
       "      <td>7707.15</td>\n",
       "      <td>-999</td>\n",
       "      <td>1</td>\n",
       "      <td>1</td>\n",
       "      <td>1</td>\n",
       "      <td>9.422062</td>\n",
       "      <td>0.616935</td>\n",
       "      <td>MULTIPOINT (546962.569 68196.501, 546963.483 6...</td>\n",
       "    </tr>\n",
       "  </tbody>\n",
       "</table>\n",
       "<p>643 rows × 46 columns</p>\n",
       "</div>"
      ],
      "text/plain": [
       "     SHOTNUMBER  MAX_SHOTNU  SUM_m_agb   MAX_TIME  MAX_GLON  MAX_GLAT  MAX_ZG  \\\n",
       "0       9361768     9361768     494.90  45679.155  9.422531  0.582776   20.96   \n",
       "1       9361769     9361769    2857.33  45679.156  9.422529  0.582682   19.35   \n",
       "2       9361773     9361773    1241.81  45679.160  9.422520  0.582305   13.10   \n",
       "3       9361774     9361774    1016.30  45679.161  9.422518  0.582210   12.93   \n",
       "4       9361775     9361775      95.51  45679.162  9.422515  0.582116   12.76   \n",
       "..          ...         ...        ...        ...       ...       ...     ...   \n",
       "638    11689984    11689984      38.51  48007.387  9.422303  0.617157   17.01   \n",
       "639    11690158    11690158      18.06  48007.561  9.422156  0.617224   17.05   \n",
       "640    11690162    11690162     311.37  48007.565  9.422153  0.616846   17.30   \n",
       "641    11690205    11690205     635.25  48007.608  9.422062  0.616841   17.33   \n",
       "642    11690206    11690206     148.91  48007.609  9.422062  0.616935   17.27   \n",
       "\n",
       "     MAX_HLON  MAX_HLAT  MAX_ZH  ...  MAX_AZIMUT  MAX_INCIDE  MAX_RANGE  \\\n",
       "0        -999      -999    -999  ...      351.15       2.877    7713.77   \n",
       "1        -999      -999    -999  ...      350.90       2.800    7716.76   \n",
       "2        -999      -999    -999  ...      349.68       2.494    7722.14   \n",
       "3        -999      -999    -999  ...      349.32       2.418    7720.93   \n",
       "4        -999      -999    -999  ...      348.94       2.342    7721.53   \n",
       "..        ...       ...     ...  ...         ...         ...        ...   \n",
       "638      -999      -999    -999  ...      188.60       2.377    7706.54   \n",
       "639      -999      -999    -999  ...      187.90       2.317    7705.34   \n",
       "640      -999      -999    -999  ...      186.95       2.625    7707.16   \n",
       "641      -999      -999    -999  ...      187.71       2.633    7705.96   \n",
       "642      -999      -999    -999  ...      187.93       2.557    7707.15   \n",
       "\n",
       "     MAX_COMPLE  MAX_CHANNE  MAX_CHAN_1  MAX_CHAN_2  MAX_POINT_  MAX_POINT1  \\\n",
       "0          -999           1           1           1    9.422531    0.582776   \n",
       "1          -999           1           1           1    9.422529    0.582682   \n",
       "2          -999           1           1           1    9.422520    0.582305   \n",
       "3          -999           1           1           1    9.422518    0.582210   \n",
       "4          -999           2           2           1    9.422515    0.582116   \n",
       "..          ...         ...         ...         ...         ...         ...   \n",
       "638        -999           1           1           1    9.422303    0.617157   \n",
       "639        -999           1           1           1    9.422156    0.617224   \n",
       "640        -999           1           1           1    9.422153    0.616846   \n",
       "641        -999           1           1           1    9.422062    0.616841   \n",
       "642        -999           1           1           1    9.422062    0.616935   \n",
       "\n",
       "                                              geometry  \n",
       "0    MULTIPOINT (547007.784 64418.388, 547007.821 6...  \n",
       "1    MULTIPOINT (547003.851 64393.517, 547004.879 6...  \n",
       "2    MULTIPOINT (547014.572 64359.092, 547015.721 6...  \n",
       "3    MULTIPOINT (547010.463 64356.244, 547011.425 6...  \n",
       "4                    MULTIPOINT (547008.053 64345.327)  \n",
       "..                                                 ...  \n",
       "638                  MULTIPOINT (546986.937 68219.360)  \n",
       "639                  MULTIPOINT (546975.945 68219.769)  \n",
       "640  MULTIPOINT (546972.094 68170.128, 546982.031 6...  \n",
       "641  MULTIPOINT (546961.378 68164.523, 546961.974 6...  \n",
       "642  MULTIPOINT (546962.569 68196.501, 546963.483 6...  \n",
       "\n",
       "[643 rows x 46 columns]"
      ]
     },
     "execution_count": 12,
     "metadata": {},
     "output_type": "execute_result"
    }
   ],
   "source": [
    "Shot_RH"
   ]
  },
  {
   "cell_type": "markdown",
   "metadata": {},
   "source": [
    "#matplotlib.pyplot.scatter(LVIS_in_subplots13_22.GLON,LVIS_in_subplots13_22.ZG,color='r') \n",
    "matplotlib.pyplot.scatter(LVIS_in_subplots13_22.GLON,LVIS_in_subplots13_22.RH25,color='orange') \n",
    "matplotlib.pyplot.scatter(LVIS_in_subplots13_22.GLON,LVIS_in_subplots13_22.RH50,color='y')\n",
    "matplotlib.pyplot.scatter(LVIS_in_subplots13_22.GLON,LVIS_in_subplots13_22.RH75,color='g')\n",
    "#matplotlib.pyplot.scatter(LVIS_in_subplots13_22.GLON,LVIS_in_subplots13_22.ZT,color='b')\n",
    "matplotlib.pyplot.show()"
   ]
  },
  {
   "cell_type": "markdown",
   "metadata": {},
   "source": [
    "AGB (kg) = 0.0673 × (ρ × dbh^2 × ht)^0.976"
   ]
  },
  {
   "cell_type": "code",
   "execution_count": 37,
   "metadata": {},
   "outputs": [],
   "source": [
    "#https://automating-gis-processes.github.io/2017/lessons/L3/nearest-neighbour.html"
   ]
  },
  {
   "cell_type": "code",
   "execution_count": 38,
   "metadata": {},
   "outputs": [],
   "source": [
    "#Trees_in_subplots13_22csv = Trees_in_subplots13_22.to_csv(r'D:\\Gabon_Lidar\\DATA\\pandas_csv\\Trees_in_subplots13_22.csv')"
   ]
  },
  {
   "cell_type": "code",
   "execution_count": 39,
   "metadata": {},
   "outputs": [],
   "source": [
    "#LVIS_in_subplots13_22csv = LVIS_in_subplots13_22.to_csv(r'D:\\Gabon_Lidar\\DATA\\pandas_csv\\LVIS_in_subplots13_22.csv')"
   ]
  },
  {
   "cell_type": "code",
   "execution_count": 40,
   "metadata": {},
   "outputs": [],
   "source": [
    "#Trees_in_subplots13_22 = pd.read_csv (r'D:\\Gabon_Lidar\\DATA\\pandas_csv\\Trees_in_subplots13_22.csv')"
   ]
  },
  {
   "cell_type": "code",
   "execution_count": 41,
   "metadata": {},
   "outputs": [],
   "source": [
    "#LVIS_in_subplots13_22 = pd.read_csv (r'D:\\Gabon_Lidar\\DATA\\pandas_csv\\LVIS_in_subplots13_22.csv')"
   ]
  },
  {
   "cell_type": "code",
   "execution_count": 44,
   "metadata": {},
   "outputs": [],
   "source": [
    "#https://www.listendata.com/2019/07/how-to-filter-pandas-dataframe.html#:~:text=%20Filter%20pandas%20dataframe%20by%20column%20value%20,same%20output.%20It%27s%20just%20a%20different...%20More%20"
   ]
  },
  {
   "cell_type": "code",
   "execution_count": 13,
   "metadata": {},
   "outputs": [
    {
     "data": {
      "text/plain": [
       "Index(['SHOTNUMBER', 'MAX_SHOTNU', 'SUM_m_agb', 'MAX_TIME', 'MAX_GLON',\n",
       "       'MAX_GLAT', 'MAX_ZG', 'MAX_HLON', 'MAX_HLAT', 'MAX_ZH', 'MAX_TLON',\n",
       "       'MAX_TLAT', 'MAX_ZT', 'MAX_RH10', 'MAX_RH15', 'MAX_RH20', 'MAX_RH25',\n",
       "       'MAX_RH30', 'MAX_RH35', 'MAX_RH40', 'MAX_RH45', 'MAX_RH50', 'MAX_RH55',\n",
       "       'MAX_RH60', 'MAX_RH65', 'MAX_RH70', 'MAX_RH75', 'MAX_RH80', 'MAX_RH85',\n",
       "       'MAX_RH90', 'MAX_RH95', 'MAX_RH96', 'MAX_RH97', 'MAX_RH98', 'MAX_RH99',\n",
       "       'MAX_RH100', 'MAX_AZIMUT', 'MAX_INCIDE', 'MAX_RANGE', 'MAX_COMPLE',\n",
       "       'MAX_CHANNE', 'MAX_CHAN_1', 'MAX_CHAN_2', 'MAX_POINT_', 'MAX_POINT1',\n",
       "       'geometry'],\n",
       "      dtype='object')"
      ]
     },
     "execution_count": 13,
     "metadata": {},
     "output_type": "execute_result"
    }
   ],
   "source": [
    "Shot_RH.columns"
   ]
  },
  {
   "cell_type": "code",
   "execution_count": 47,
   "metadata": {},
   "outputs": [],
   "source": [
    "#TreesRH13_22.columns"
   ]
  },
  {
   "cell_type": "code",
   "execution_count": 14,
   "metadata": {},
   "outputs": [
    {
     "data": {
      "image/png": "[encoded data removed]",
      "text/plain": [
       "<Figure size 432x288 with 1 Axes>"
      ]
     },
     "metadata": {
      "needs_background": "light"
     },
     "output_type": "display_data"
    }
   ],
   "source": [
    "#matplotlib.pyplot.scatter(Trees_RH.m_agb,Trees_RH.ZG,color='r') \n",
    "matplotlib.pyplot.scatter(Shot_RH.SUM_m_agb,Shot_RH.MAX_RH25,color='orange') \n",
    "matplotlib.pyplot.scatter(Shot_RH.SUM_m_agb,Shot_RH.MAX_RH50,color='y')\n",
    "matplotlib.pyplot.scatter(Shot_RH.SUM_m_agb,Shot_RH.MAX_RH75,color='g')\n",
    "matplotlib.pyplot.scatter(Shot_RH.SUM_m_agb,Shot_RH.MAX_RH100,color='b')\n",
    "matplotlib.pyplot.show()"
   ]
  },
  {
   "cell_type": "code",
   "execution_count": 15,
   "metadata": {},
   "outputs": [
    {
     "data": {
      "text/plain": [
       "<matplotlib.collections.PathCollection at 0x1c767bbd0d0>"
      ]
     },
     "execution_count": 15,
     "metadata": {},
     "output_type": "execute_result"
    },
    {
     "data": {
      "image/png": "[encoded data removed]",
      "text/plain": [
       "<Figure size 432x288 with 1 Axes>"
      ]
     },
     "metadata": {
      "needs_background": "light"
     },
     "output_type": "display_data"
    }
   ],
   "source": [
    "matplotlib.pyplot.scatter(Shot_RH.SUM_m_agb,Shot_RH.MAX_RH25,color='orange') "
   ]
  },
  {
   "cell_type": "code",
   "execution_count": 18,
   "metadata": {},
   "outputs": [
    {
     "data": {
      "text/plain": [
       "<matplotlib.collections.PathCollection at 0x1c767c24430>"
      ]
     },
     "execution_count": 18,
     "metadata": {},
     "output_type": "execute_result"
    },
    {
     "data": {
      "image/png": "[encoded data removed]",
      "text/plain": [
       "<Figure size 432x288 with 1 Axes>"
      ]
     },
     "metadata": {
      "needs_background": "light"
     },
     "output_type": "display_data"
    }
   ],
   "source": [
    "matplotlib.pyplot.scatter(Shot_RH.SUM_m_agb,Shot_RH.MAX_RH50,color='y')"
   ]
  },
  {
   "cell_type": "code",
   "execution_count": 19,
   "metadata": {},
   "outputs": [
    {
     "data": {
      "text/plain": [
       "<matplotlib.collections.PathCollection at 0x1c767c574c0>"
      ]
     },
     "execution_count": 19,
     "metadata": {},
     "output_type": "execute_result"
    },
    {
     "data": {
      "image/png": "[encoded data removed]",
      "text/plain": [
       "<Figure size 432x288 with 1 Axes>"
      ]
     },
     "metadata": {
      "needs_background": "light"
     },
     "output_type": "display_data"
    }
   ],
   "source": [
    "matplotlib.pyplot.scatter(Shot_RH.SUM_m_agb,Shot_RH.MAX_RH75,color='g')"
   ]
  },
  {
   "cell_type": "code",
   "execution_count": 20,
   "metadata": {},
   "outputs": [
    {
     "data": {
      "text/plain": [
       "<matplotlib.collections.PathCollection at 0x1c767c8a5e0>"
      ]
     },
     "execution_count": 20,
     "metadata": {},
     "output_type": "execute_result"
    },
    {
     "data": {
      "image/png": "[encoded data removed]",
      "text/plain": [
       "<Figure size 432x288 with 1 Axes>"
      ]
     },
     "metadata": {
      "needs_background": "light"
     },
     "output_type": "display_data"
    }
   ],
   "source": [
    "matplotlib.pyplot.scatter(Shot_RH.SUM_m_agb,Shot_RH.MAX_RH100,color='b')"
   ]
  },
  {
   "cell_type": "code",
   "execution_count": null,
   "metadata": {},
   "outputs": [],
   "source": []
  },
  {
   "cell_type": "code",
   "execution_count": null,
   "metadata": {},
   "outputs": [],
   "source": []
  },
  {
   "cell_type": "code",
   "execution_count": null,
   "metadata": {},
   "outputs": [],
   "source": []
  }
 ],
 "metadata": {
  "kernelspec": {
   "display_name": "Python 3",
   "language": "python",
   "name": "python3"
  },
  "language_info": {
   "codemirror_mode": {
    "name": "ipython",
    "version": 3
   },
   "file_extension": ".py",
   "mimetype": "text/x-python",
   "name": "python",
   "nbconvert_exporter": "python",
   "pygments_lexer": "ipython3",
   "version": "3.8.5"
  }
 },
 "nbformat": 4,
 "nbformat_minor": 4
}
