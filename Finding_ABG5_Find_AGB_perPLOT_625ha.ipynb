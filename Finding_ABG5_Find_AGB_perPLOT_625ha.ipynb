{
 "cells": [
  {
   "cell_type": "markdown",
   "metadata": {
    "scrolled": true
   },
   "source": [
    "#geopandas "
   ]
  },
  {
   "cell_type": "markdown",
   "metadata": {},
   "source": [
    "## Goals "
   ]
  },
  {
   "cell_type": "markdown",
   "metadata": {},
   "source": [
    "The goal of this is to compare Above ground biomass(abg) and the RH Values from LVIS.Then for they are grouped by subplot 625 to get the data at the subplot 625 level. The ABG data come tree measurement. Then RH come from the LVIS L1 product. The is join in GIS use a spatail Join. Then they are join with the plot level data. After they are joined they are grouped Plot. The ABG is Summed if there are multiple trees. Each of the RH values are average by plot. This provieds a sum of agb and avg RH value per plot. "
   ]
  },
  {
   "cell_type": "markdown",
   "metadata": {},
   "source": [
    "#https://lvis.gsfc.nasa.gov/workshop/LVIS_QGIS_Tutorial_Gabon.pdf"
   ]
  },
  {
   "cell_type": "code",
   "execution_count": 21,
   "metadata": {},
   "outputs": [],
   "source": [
    "import matplotlib.pyplot \n",
    "import numpy as np\n",
    "import pylab\n",
    "import pandas as pd\n",
    "import h5py\n",
    "import geopandas as gpd\n",
    "from shapely.geometry import *\n",
    "from geopandas.geoseries import *"
   ]
  },
  {
   "cell_type": "markdown",
   "metadata": {},
   "source": [
    "Bring all the data data in "
   ]
  },
  {
   "cell_type": "code",
   "execution_count": 22,
   "metadata": {},
   "outputs": [],
   "source": [
    "# Geopandas "
   ]
  },
  {
   "cell_type": "code",
   "execution_count": 23,
   "metadata": {},
   "outputs": [],
   "source": [
    "PLOT_RH = pd.read_csv(r'D:\\Gabon_Lidar\\DATA\\pandas_csv\\PLOT625_AGB_RH.csv')"
   ]
  },
  {
   "cell_type": "code",
   "execution_count": null,
   "metadata": {},
   "outputs": [],
   "source": []
  },
  {
   "cell_type": "code",
   "execution_count": 24,
   "metadata": {},
   "outputs": [
    {
     "data": {
      "text/plain": [
       "Index(['Subplot_0625', 'AGB', 'RH10', 'RH15', 'RH20', 'RH25', 'RH30', 'RH35',\n",
       "       'RH40', 'RH45', 'RH50', 'RH55', 'RH60', 'RH65', 'RH70', 'RH75', 'RH80',\n",
       "       'RH85', 'RH90', 'RH95', 'RH96', 'RH97', 'RH98', 'RH99', 'RH100'],\n",
       "      dtype='object')"
      ]
     },
     "execution_count": 24,
     "metadata": {},
     "output_type": "execute_result"
    }
   ],
   "source": [
    "PLOT_RH.columns"
   ]
  },
  {
   "cell_type": "code",
   "execution_count": 25,
   "metadata": {
    "scrolled": true
   },
   "outputs": [
    {
     "data": {
      "text/html": [
       "<div>\n",
       "<style scoped>\n",
       "    .dataframe tbody tr th:only-of-type {\n",
       "        vertical-align: middle;\n",
       "    }\n",
       "\n",
       "    .dataframe tbody tr th {\n",
       "        vertical-align: top;\n",
       "    }\n",
       "\n",
       "    .dataframe thead th {\n",
       "        text-align: right;\n",
       "    }\n",
       "</style>\n",
       "<table border=\"1\" class=\"dataframe\">\n",
       "  <thead>\n",
       "    <tr style=\"text-align: right;\">\n",
       "      <th></th>\n",
       "      <th>Subplot_0625</th>\n",
       "      <th>AGB</th>\n",
       "      <th>RH10</th>\n",
       "      <th>RH15</th>\n",
       "      <th>RH20</th>\n",
       "      <th>RH25</th>\n",
       "      <th>RH30</th>\n",
       "      <th>RH35</th>\n",
       "      <th>RH40</th>\n",
       "      <th>RH45</th>\n",
       "      <th>...</th>\n",
       "      <th>RH75</th>\n",
       "      <th>RH80</th>\n",
       "      <th>RH85</th>\n",
       "      <th>RH90</th>\n",
       "      <th>RH95</th>\n",
       "      <th>RH96</th>\n",
       "      <th>RH97</th>\n",
       "      <th>RH98</th>\n",
       "      <th>RH99</th>\n",
       "      <th>RH100</th>\n",
       "    </tr>\n",
       "  </thead>\n",
       "  <tbody>\n",
       "    <tr>\n",
       "      <th>0</th>\n",
       "      <td>NASA02_10</td>\n",
       "      <td>73180.52</td>\n",
       "      <td>10.669714</td>\n",
       "      <td>12.885143</td>\n",
       "      <td>15.028857</td>\n",
       "      <td>17.380571</td>\n",
       "      <td>19.592286</td>\n",
       "      <td>21.694000</td>\n",
       "      <td>25.176857</td>\n",
       "      <td>27.624000</td>\n",
       "      <td>...</td>\n",
       "      <td>36.408857</td>\n",
       "      <td>38.135429</td>\n",
       "      <td>39.296000</td>\n",
       "      <td>41.640571</td>\n",
       "      <td>44.707714</td>\n",
       "      <td>45.291714</td>\n",
       "      <td>46.010000</td>\n",
       "      <td>46.690857</td>\n",
       "      <td>47.410286</td>\n",
       "      <td>48.751714</td>\n",
       "    </tr>\n",
       "    <tr>\n",
       "      <th>1</th>\n",
       "      <td>NASA02_15</td>\n",
       "      <td>49437.86</td>\n",
       "      <td>10.271667</td>\n",
       "      <td>13.250278</td>\n",
       "      <td>15.753611</td>\n",
       "      <td>18.311667</td>\n",
       "      <td>20.871389</td>\n",
       "      <td>23.843889</td>\n",
       "      <td>26.708611</td>\n",
       "      <td>28.999167</td>\n",
       "      <td>...</td>\n",
       "      <td>36.140000</td>\n",
       "      <td>37.247222</td>\n",
       "      <td>38.179444</td>\n",
       "      <td>39.132222</td>\n",
       "      <td>40.380833</td>\n",
       "      <td>40.806667</td>\n",
       "      <td>41.348611</td>\n",
       "      <td>42.160833</td>\n",
       "      <td>43.181111</td>\n",
       "      <td>44.807500</td>\n",
       "    </tr>\n",
       "    <tr>\n",
       "      <th>2</th>\n",
       "      <td>NASA22_12</td>\n",
       "      <td>39844.73</td>\n",
       "      <td>12.979535</td>\n",
       "      <td>16.778372</td>\n",
       "      <td>19.506512</td>\n",
       "      <td>20.949302</td>\n",
       "      <td>22.121163</td>\n",
       "      <td>23.001860</td>\n",
       "      <td>23.693256</td>\n",
       "      <td>24.370930</td>\n",
       "      <td>...</td>\n",
       "      <td>28.031163</td>\n",
       "      <td>28.750000</td>\n",
       "      <td>29.473721</td>\n",
       "      <td>30.240930</td>\n",
       "      <td>31.160233</td>\n",
       "      <td>31.412558</td>\n",
       "      <td>31.707442</td>\n",
       "      <td>32.056279</td>\n",
       "      <td>32.561163</td>\n",
       "      <td>33.811395</td>\n",
       "    </tr>\n",
       "  </tbody>\n",
       "</table>\n",
       "<p>3 rows × 25 columns</p>\n",
       "</div>"
      ],
      "text/plain": [
       "  Subplot_0625       AGB       RH10       RH15       RH20       RH25  \\\n",
       "0    NASA02_10  73180.52  10.669714  12.885143  15.028857  17.380571   \n",
       "1    NASA02_15  49437.86  10.271667  13.250278  15.753611  18.311667   \n",
       "2    NASA22_12  39844.73  12.979535  16.778372  19.506512  20.949302   \n",
       "\n",
       "        RH30       RH35       RH40       RH45  ...       RH75       RH80  \\\n",
       "0  19.592286  21.694000  25.176857  27.624000  ...  36.408857  38.135429   \n",
       "1  20.871389  23.843889  26.708611  28.999167  ...  36.140000  37.247222   \n",
       "2  22.121163  23.001860  23.693256  24.370930  ...  28.031163  28.750000   \n",
       "\n",
       "        RH85       RH90       RH95       RH96       RH97       RH98  \\\n",
       "0  39.296000  41.640571  44.707714  45.291714  46.010000  46.690857   \n",
       "1  38.179444  39.132222  40.380833  40.806667  41.348611  42.160833   \n",
       "2  29.473721  30.240930  31.160233  31.412558  31.707442  32.056279   \n",
       "\n",
       "        RH99      RH100  \n",
       "0  47.410286  48.751714  \n",
       "1  43.181111  44.807500  \n",
       "2  32.561163  33.811395  \n",
       "\n",
       "[3 rows x 25 columns]"
      ]
     },
     "execution_count": 25,
     "metadata": {},
     "output_type": "execute_result"
    }
   ],
   "source": [
    "PLOT_RH.head(3)"
   ]
  },
  {
   "cell_type": "markdown",
   "metadata": {},
   "source": [
    "##### Finding AGB"
   ]
  },
  {
   "cell_type": "markdown",
   "metadata": {},
   "source": [
    "Aboveground Biomass(AGB) is the amount of living matter above the ground. The foumulat bellow is from \"Comparison of Small- and Large-Footprint Lidar Characterization of Tropical Forest Aboveground Structure and Biomass: A Case Study From Central Gabon (Silva, et al. 2018)\" in it they use AGB (kg) = 0.0673 × (ρ × dbh2 × ht)0.976 they which is Chave formula (Chave , et al. 2015)"
   ]
  },
  {
   "cell_type": "markdown",
   "metadata": {},
   "source": [
    "AGB (kg) = 0.0673 × (ρ × dbh^2 × ht)^0.976"
   ]
  },
  {
   "cell_type": "markdown",
   "metadata": {},
   "source": [
    "were dbh is in cm, ht is in m, and ρ is the wood density in g·cm−3.\n",
    "The total AGB at plot level was then obtained by summing\n",
    "individual stem biomass estimates and converting it to Mg·ha−1.\n"
   ]
  },
  {
   "cell_type": "markdown",
   "metadata": {},
   "source": [
    "Returning to out formula we need the find the ρ which is densentity. The can be found using the "
   ]
  },
  {
   "cell_type": "markdown",
   "metadata": {},
   "source": [
    "AGB (kg) = 0.0673 × (ρ × dbh^2 × ht)^0.976\n",
    "\n",
    "were dbh is in cm, ht is in m, and ρ is the wood density in g·cm−3. The total AGB at plot level was then obtained by summing individual stem biomass estimates and converting it to Mg·ha−1."
   ]
  },
  {
   "cell_type": "markdown",
   "metadata": {},
   "source": [
    "The wood density came from the following two papers "
   ]
  },
  {
   "cell_type": "markdown",
   "metadata": {},
   "source": [
    "\n",
    "[1] J. Chave, D. A. Coomes, S. Jansen, S. L. Lewis, N. G. Swenson,\n",
    "and A. E. Zanne, “Towards a worldwide wood economics spectrum,”\n",
    "Ecol. Lett., vol. 12, no. 4, pp. 351–366, 2009. [Online]. Available:\n",
    "https://doi.org/10.1111/j.1461-0248.2009.01285.x\n",
    "[42] A. E. Zanne et al., Data from: Towards a Worldwide Wood Economics Spectrum, Dryad Digital Repository, 2009. [Online]. Available:\n",
    "https://doi.org/10.5061/dryad.234"
   ]
  },
  {
   "cell_type": "markdown",
   "metadata": {},
   "source": [
    "This is bringing in the would density database for the ρ"
   ]
  },
  {
   "cell_type": "markdown",
   "metadata": {},
   "source": [
    "The would Density in data set is wsg field and it comes from the data set listed above "
   ]
  },
  {
   "cell_type": "markdown",
   "metadata": {},
   "source": [
    "I will be going foward with 0.228 because that is the median value "
   ]
  },
  {
   "cell_type": "markdown",
   "metadata": {},
   "source": [
    "AGB (kg) = 0.0673 × (0.228 × dbh^2 × ht)^0.976\n"
   ]
  },
  {
   "cell_type": "markdown",
   "metadata": {},
   "source": [
    "the next step is to find the hieght. to find the Height I will be using the LVIS for in read that is found next to the "
   ]
  },
  {
   "cell_type": "code",
   "execution_count": 26,
   "metadata": {},
   "outputs": [],
   "source": [
    "#LVISshot = LVIS[(LVIS.LFID == 1657455174)]"
   ]
  },
  {
   "cell_type": "code",
   "execution_count": 27,
   "metadata": {},
   "outputs": [
    {
     "data": {
      "text/html": [
       "<div>\n",
       "<style scoped>\n",
       "    .dataframe tbody tr th:only-of-type {\n",
       "        vertical-align: middle;\n",
       "    }\n",
       "\n",
       "    .dataframe tbody tr th {\n",
       "        vertical-align: top;\n",
       "    }\n",
       "\n",
       "    .dataframe thead th {\n",
       "        text-align: right;\n",
       "    }\n",
       "</style>\n",
       "<table border=\"1\" class=\"dataframe\">\n",
       "  <thead>\n",
       "    <tr style=\"text-align: right;\">\n",
       "      <th></th>\n",
       "      <th>Subplot_0625</th>\n",
       "      <th>AGB</th>\n",
       "      <th>RH10</th>\n",
       "      <th>RH15</th>\n",
       "      <th>RH20</th>\n",
       "      <th>RH25</th>\n",
       "      <th>RH30</th>\n",
       "      <th>RH35</th>\n",
       "      <th>RH40</th>\n",
       "      <th>RH45</th>\n",
       "      <th>...</th>\n",
       "      <th>RH75</th>\n",
       "      <th>RH80</th>\n",
       "      <th>RH85</th>\n",
       "      <th>RH90</th>\n",
       "      <th>RH95</th>\n",
       "      <th>RH96</th>\n",
       "      <th>RH97</th>\n",
       "      <th>RH98</th>\n",
       "      <th>RH99</th>\n",
       "      <th>RH100</th>\n",
       "    </tr>\n",
       "  </thead>\n",
       "  <tbody>\n",
       "    <tr>\n",
       "      <th>0</th>\n",
       "      <td>NASA02_10</td>\n",
       "      <td>73180.52</td>\n",
       "      <td>10.669714</td>\n",
       "      <td>12.885143</td>\n",
       "      <td>15.028857</td>\n",
       "      <td>17.380571</td>\n",
       "      <td>19.592286</td>\n",
       "      <td>21.694000</td>\n",
       "      <td>25.176857</td>\n",
       "      <td>27.624000</td>\n",
       "      <td>...</td>\n",
       "      <td>36.408857</td>\n",
       "      <td>38.135429</td>\n",
       "      <td>39.296000</td>\n",
       "      <td>41.640571</td>\n",
       "      <td>44.707714</td>\n",
       "      <td>45.291714</td>\n",
       "      <td>46.010000</td>\n",
       "      <td>46.690857</td>\n",
       "      <td>47.410286</td>\n",
       "      <td>48.751714</td>\n",
       "    </tr>\n",
       "    <tr>\n",
       "      <th>1</th>\n",
       "      <td>NASA02_15</td>\n",
       "      <td>49437.86</td>\n",
       "      <td>10.271667</td>\n",
       "      <td>13.250278</td>\n",
       "      <td>15.753611</td>\n",
       "      <td>18.311667</td>\n",
       "      <td>20.871389</td>\n",
       "      <td>23.843889</td>\n",
       "      <td>26.708611</td>\n",
       "      <td>28.999167</td>\n",
       "      <td>...</td>\n",
       "      <td>36.140000</td>\n",
       "      <td>37.247222</td>\n",
       "      <td>38.179444</td>\n",
       "      <td>39.132222</td>\n",
       "      <td>40.380833</td>\n",
       "      <td>40.806667</td>\n",
       "      <td>41.348611</td>\n",
       "      <td>42.160833</td>\n",
       "      <td>43.181111</td>\n",
       "      <td>44.807500</td>\n",
       "    </tr>\n",
       "    <tr>\n",
       "      <th>2</th>\n",
       "      <td>NASA22_12</td>\n",
       "      <td>39844.73</td>\n",
       "      <td>12.979535</td>\n",
       "      <td>16.778372</td>\n",
       "      <td>19.506512</td>\n",
       "      <td>20.949302</td>\n",
       "      <td>22.121163</td>\n",
       "      <td>23.001860</td>\n",
       "      <td>23.693256</td>\n",
       "      <td>24.370930</td>\n",
       "      <td>...</td>\n",
       "      <td>28.031163</td>\n",
       "      <td>28.750000</td>\n",
       "      <td>29.473721</td>\n",
       "      <td>30.240930</td>\n",
       "      <td>31.160233</td>\n",
       "      <td>31.412558</td>\n",
       "      <td>31.707442</td>\n",
       "      <td>32.056279</td>\n",
       "      <td>32.561163</td>\n",
       "      <td>33.811395</td>\n",
       "    </tr>\n",
       "    <tr>\n",
       "      <th>3</th>\n",
       "      <td>NASA13_11</td>\n",
       "      <td>35977.02</td>\n",
       "      <td>3.587654</td>\n",
       "      <td>6.428025</td>\n",
       "      <td>8.385802</td>\n",
       "      <td>9.706296</td>\n",
       "      <td>10.793951</td>\n",
       "      <td>11.911852</td>\n",
       "      <td>13.031728</td>\n",
       "      <td>13.990741</td>\n",
       "      <td>...</td>\n",
       "      <td>22.583580</td>\n",
       "      <td>23.883704</td>\n",
       "      <td>25.020370</td>\n",
       "      <td>26.238272</td>\n",
       "      <td>28.086296</td>\n",
       "      <td>28.773086</td>\n",
       "      <td>29.480864</td>\n",
       "      <td>30.159259</td>\n",
       "      <td>31.189259</td>\n",
       "      <td>34.175062</td>\n",
       "    </tr>\n",
       "    <tr>\n",
       "      <th>4</th>\n",
       "      <td>NASA22_13</td>\n",
       "      <td>33673.58</td>\n",
       "      <td>15.487885</td>\n",
       "      <td>19.410385</td>\n",
       "      <td>22.474231</td>\n",
       "      <td>24.306923</td>\n",
       "      <td>25.938269</td>\n",
       "      <td>27.030769</td>\n",
       "      <td>27.845000</td>\n",
       "      <td>28.526154</td>\n",
       "      <td>...</td>\n",
       "      <td>31.411538</td>\n",
       "      <td>31.875962</td>\n",
       "      <td>32.339423</td>\n",
       "      <td>32.896538</td>\n",
       "      <td>33.535769</td>\n",
       "      <td>33.720000</td>\n",
       "      <td>33.927692</td>\n",
       "      <td>34.216538</td>\n",
       "      <td>34.626154</td>\n",
       "      <td>35.708462</td>\n",
       "    </tr>\n",
       "    <tr>\n",
       "      <th>...</th>\n",
       "      <td>...</td>\n",
       "      <td>...</td>\n",
       "      <td>...</td>\n",
       "      <td>...</td>\n",
       "      <td>...</td>\n",
       "      <td>...</td>\n",
       "      <td>...</td>\n",
       "      <td>...</td>\n",
       "      <td>...</td>\n",
       "      <td>...</td>\n",
       "      <td>...</td>\n",
       "      <td>...</td>\n",
       "      <td>...</td>\n",
       "      <td>...</td>\n",
       "      <td>...</td>\n",
       "      <td>...</td>\n",
       "      <td>...</td>\n",
       "      <td>...</td>\n",
       "      <td>...</td>\n",
       "      <td>...</td>\n",
       "      <td>...</td>\n",
       "    </tr>\n",
       "    <tr>\n",
       "      <th>224</th>\n",
       "      <td>NASA21_7</td>\n",
       "      <td>10.46</td>\n",
       "      <td>-1.800000</td>\n",
       "      <td>-1.350000</td>\n",
       "      <td>-1.050000</td>\n",
       "      <td>-0.750000</td>\n",
       "      <td>-0.450000</td>\n",
       "      <td>-0.230000</td>\n",
       "      <td>0.070000</td>\n",
       "      <td>0.290000</td>\n",
       "      <td>...</td>\n",
       "      <td>2.320000</td>\n",
       "      <td>2.770000</td>\n",
       "      <td>3.220000</td>\n",
       "      <td>3.810000</td>\n",
       "      <td>4.490000</td>\n",
       "      <td>4.710000</td>\n",
       "      <td>4.940000</td>\n",
       "      <td>5.160000</td>\n",
       "      <td>5.460000</td>\n",
       "      <td>5.910000</td>\n",
       "    </tr>\n",
       "    <tr>\n",
       "      <th>225</th>\n",
       "      <td>NASA01_3</td>\n",
       "      <td>10.41</td>\n",
       "      <td>-0.220000</td>\n",
       "      <td>0.670000</td>\n",
       "      <td>1.500000</td>\n",
       "      <td>2.240000</td>\n",
       "      <td>2.920000</td>\n",
       "      <td>3.590000</td>\n",
       "      <td>4.190000</td>\n",
       "      <td>4.790000</td>\n",
       "      <td>...</td>\n",
       "      <td>7.780000</td>\n",
       "      <td>8.220000</td>\n",
       "      <td>8.750000</td>\n",
       "      <td>9.350000</td>\n",
       "      <td>10.390000</td>\n",
       "      <td>10.770000</td>\n",
       "      <td>11.140000</td>\n",
       "      <td>11.740000</td>\n",
       "      <td>12.560000</td>\n",
       "      <td>14.580000</td>\n",
       "    </tr>\n",
       "    <tr>\n",
       "      <th>226</th>\n",
       "      <td>NASA09_4</td>\n",
       "      <td>8.71</td>\n",
       "      <td>-3.900000</td>\n",
       "      <td>-3.300000</td>\n",
       "      <td>-2.780000</td>\n",
       "      <td>-2.400000</td>\n",
       "      <td>-2.030000</td>\n",
       "      <td>-1.650000</td>\n",
       "      <td>-1.350000</td>\n",
       "      <td>-1.050000</td>\n",
       "      <td>...</td>\n",
       "      <td>0.890000</td>\n",
       "      <td>1.190000</td>\n",
       "      <td>1.640000</td>\n",
       "      <td>2.090000</td>\n",
       "      <td>2.910000</td>\n",
       "      <td>3.210000</td>\n",
       "      <td>3.660000</td>\n",
       "      <td>4.560000</td>\n",
       "      <td>6.210000</td>\n",
       "      <td>8.010000</td>\n",
       "    </tr>\n",
       "    <tr>\n",
       "      <th>227</th>\n",
       "      <td>NASA11_15</td>\n",
       "      <td>6.41</td>\n",
       "      <td>0.670000</td>\n",
       "      <td>5.380000</td>\n",
       "      <td>15.400000</td>\n",
       "      <td>19.440000</td>\n",
       "      <td>21.080000</td>\n",
       "      <td>22.580000</td>\n",
       "      <td>23.850000</td>\n",
       "      <td>24.970000</td>\n",
       "      <td>...</td>\n",
       "      <td>28.930000</td>\n",
       "      <td>29.460000</td>\n",
       "      <td>29.980000</td>\n",
       "      <td>30.650000</td>\n",
       "      <td>31.480000</td>\n",
       "      <td>31.700000</td>\n",
       "      <td>32.080000</td>\n",
       "      <td>32.520000</td>\n",
       "      <td>33.270000</td>\n",
       "      <td>34.920000</td>\n",
       "    </tr>\n",
       "    <tr>\n",
       "      <th>228</th>\n",
       "      <td>(blank)</td>\n",
       "      <td>NaN</td>\n",
       "      <td>NaN</td>\n",
       "      <td>NaN</td>\n",
       "      <td>NaN</td>\n",
       "      <td>NaN</td>\n",
       "      <td>NaN</td>\n",
       "      <td>NaN</td>\n",
       "      <td>NaN</td>\n",
       "      <td>NaN</td>\n",
       "      <td>...</td>\n",
       "      <td>NaN</td>\n",
       "      <td>NaN</td>\n",
       "      <td>NaN</td>\n",
       "      <td>NaN</td>\n",
       "      <td>NaN</td>\n",
       "      <td>NaN</td>\n",
       "      <td>NaN</td>\n",
       "      <td>NaN</td>\n",
       "      <td>NaN</td>\n",
       "      <td>NaN</td>\n",
       "    </tr>\n",
       "  </tbody>\n",
       "</table>\n",
       "<p>229 rows × 25 columns</p>\n",
       "</div>"
      ],
      "text/plain": [
       "    Subplot_0625       AGB       RH10       RH15       RH20       RH25  \\\n",
       "0      NASA02_10  73180.52  10.669714  12.885143  15.028857  17.380571   \n",
       "1      NASA02_15  49437.86  10.271667  13.250278  15.753611  18.311667   \n",
       "2      NASA22_12  39844.73  12.979535  16.778372  19.506512  20.949302   \n",
       "3      NASA13_11  35977.02   3.587654   6.428025   8.385802   9.706296   \n",
       "4      NASA22_13  33673.58  15.487885  19.410385  22.474231  24.306923   \n",
       "..           ...       ...        ...        ...        ...        ...   \n",
       "224     NASA21_7     10.46  -1.800000  -1.350000  -1.050000  -0.750000   \n",
       "225     NASA01_3     10.41  -0.220000   0.670000   1.500000   2.240000   \n",
       "226     NASA09_4      8.71  -3.900000  -3.300000  -2.780000  -2.400000   \n",
       "227    NASA11_15      6.41   0.670000   5.380000  15.400000  19.440000   \n",
       "228      (blank)       NaN        NaN        NaN        NaN        NaN   \n",
       "\n",
       "          RH30       RH35       RH40       RH45  ...       RH75       RH80  \\\n",
       "0    19.592286  21.694000  25.176857  27.624000  ...  36.408857  38.135429   \n",
       "1    20.871389  23.843889  26.708611  28.999167  ...  36.140000  37.247222   \n",
       "2    22.121163  23.001860  23.693256  24.370930  ...  28.031163  28.750000   \n",
       "3    10.793951  11.911852  13.031728  13.990741  ...  22.583580  23.883704   \n",
       "4    25.938269  27.030769  27.845000  28.526154  ...  31.411538  31.875962   \n",
       "..         ...        ...        ...        ...  ...        ...        ...   \n",
       "224  -0.450000  -0.230000   0.070000   0.290000  ...   2.320000   2.770000   \n",
       "225   2.920000   3.590000   4.190000   4.790000  ...   7.780000   8.220000   \n",
       "226  -2.030000  -1.650000  -1.350000  -1.050000  ...   0.890000   1.190000   \n",
       "227  21.080000  22.580000  23.850000  24.970000  ...  28.930000  29.460000   \n",
       "228        NaN        NaN        NaN        NaN  ...        NaN        NaN   \n",
       "\n",
       "          RH85       RH90       RH95       RH96       RH97       RH98  \\\n",
       "0    39.296000  41.640571  44.707714  45.291714  46.010000  46.690857   \n",
       "1    38.179444  39.132222  40.380833  40.806667  41.348611  42.160833   \n",
       "2    29.473721  30.240930  31.160233  31.412558  31.707442  32.056279   \n",
       "3    25.020370  26.238272  28.086296  28.773086  29.480864  30.159259   \n",
       "4    32.339423  32.896538  33.535769  33.720000  33.927692  34.216538   \n",
       "..         ...        ...        ...        ...        ...        ...   \n",
       "224   3.220000   3.810000   4.490000   4.710000   4.940000   5.160000   \n",
       "225   8.750000   9.350000  10.390000  10.770000  11.140000  11.740000   \n",
       "226   1.640000   2.090000   2.910000   3.210000   3.660000   4.560000   \n",
       "227  29.980000  30.650000  31.480000  31.700000  32.080000  32.520000   \n",
       "228        NaN        NaN        NaN        NaN        NaN        NaN   \n",
       "\n",
       "          RH99      RH100  \n",
       "0    47.410286  48.751714  \n",
       "1    43.181111  44.807500  \n",
       "2    32.561163  33.811395  \n",
       "3    31.189259  34.175062  \n",
       "4    34.626154  35.708462  \n",
       "..         ...        ...  \n",
       "224   5.460000   5.910000  \n",
       "225  12.560000  14.580000  \n",
       "226   6.210000   8.010000  \n",
       "227  33.270000  34.920000  \n",
       "228        NaN        NaN  \n",
       "\n",
       "[229 rows x 25 columns]"
      ]
     },
     "execution_count": 27,
     "metadata": {},
     "output_type": "execute_result"
    }
   ],
   "source": [
    "PLOT_RH"
   ]
  },
  {
   "cell_type": "markdown",
   "metadata": {},
   "source": [
    "#matplotlib.pyplot.scatter(LVIS_in_subplots13_22.GLON,LVIS_in_subplots13_22.ZG,color='r') \n",
    "matplotlib.pyplot.scatter(LVIS_in_subplots13_22.GLON,LVIS_in_subplots13_22.RH25,color='orange') \n",
    "matplotlib.pyplot.scatter(LVIS_in_subplots13_22.GLON,LVIS_in_subplots13_22.RH50,color='y')\n",
    "matplotlib.pyplot.scatter(LVIS_in_subplots13_22.GLON,LVIS_in_subplots13_22.RH75,color='g')\n",
    "#matplotlib.pyplot.scatter(LVIS_in_subplots13_22.GLON,LVIS_in_subplots13_22.ZT,color='b')\n",
    "matplotlib.pyplot.show()"
   ]
  },
  {
   "cell_type": "markdown",
   "metadata": {},
   "source": [
    "AGB (kg) = 0.0673 × (ρ × dbh^2 × ht)^0.976"
   ]
  },
  {
   "cell_type": "code",
   "execution_count": 28,
   "metadata": {},
   "outputs": [],
   "source": [
    "#https://automating-gis-processes.github.io/2017/lessons/L3/nearest-neighbour.html"
   ]
  },
  {
   "cell_type": "code",
   "execution_count": 29,
   "metadata": {},
   "outputs": [],
   "source": [
    "#Trees_in_subplots13_22csv = Trees_in_subplots13_22.to_csv(r'D:\\Gabon_Lidar\\DATA\\pandas_csv\\Trees_in_subplots13_22.csv')"
   ]
  },
  {
   "cell_type": "code",
   "execution_count": 30,
   "metadata": {},
   "outputs": [],
   "source": [
    "#LVIS_in_subplots13_22csv = LVIS_in_subplots13_22.to_csv(r'D:\\Gabon_Lidar\\DATA\\pandas_csv\\LVIS_in_subplots13_22.csv')"
   ]
  },
  {
   "cell_type": "code",
   "execution_count": 31,
   "metadata": {},
   "outputs": [],
   "source": [
    "#Trees_in_subplots13_22 = pd.read_csv (r'D:\\Gabon_Lidar\\DATA\\pandas_csv\\Trees_in_subplots13_22.csv')"
   ]
  },
  {
   "cell_type": "code",
   "execution_count": 32,
   "metadata": {},
   "outputs": [],
   "source": [
    "#LVIS_in_subplots13_22 = pd.read_csv (r'D:\\Gabon_Lidar\\DATA\\pandas_csv\\LVIS_in_subplots13_22.csv')"
   ]
  },
  {
   "cell_type": "code",
   "execution_count": 33,
   "metadata": {},
   "outputs": [],
   "source": [
    "#https://www.listendata.com/2019/07/how-to-filter-pandas-dataframe.html#:~:text=%20Filter%20pandas%20dataframe%20by%20column%20value%20,same%20output.%20It%27s%20just%20a%20different...%20More%20"
   ]
  },
  {
   "cell_type": "code",
   "execution_count": 34,
   "metadata": {},
   "outputs": [
    {
     "data": {
      "text/plain": [
       "Index(['Subplot_0625', 'AGB', 'RH10', 'RH15', 'RH20', 'RH25', 'RH30', 'RH35',\n",
       "       'RH40', 'RH45', 'RH50', 'RH55', 'RH60', 'RH65', 'RH70', 'RH75', 'RH80',\n",
       "       'RH85', 'RH90', 'RH95', 'RH96', 'RH97', 'RH98', 'RH99', 'RH100'],\n",
       "      dtype='object')"
      ]
     },
     "execution_count": 34,
     "metadata": {},
     "output_type": "execute_result"
    }
   ],
   "source": [
    "PLOT_RH.columns"
   ]
  },
  {
   "cell_type": "code",
   "execution_count": 35,
   "metadata": {},
   "outputs": [],
   "source": [
    "#TreesRH13_22.columns"
   ]
  },
  {
   "cell_type": "code",
   "execution_count": 36,
   "metadata": {},
   "outputs": [
    {
     "data": {
      "image/png": "[encoded data removed]",
      "text/plain": [
       "<Figure size 432x288 with 1 Axes>"
      ]
     },
     "metadata": {
      "needs_background": "light"
     },
     "output_type": "display_data"
    }
   ],
   "source": [
    "#matplotlib.pyplot.scatter(Trees_RH.m_agb,Trees_RH.ZG,color='r') \n",
    "matplotlib.pyplot.scatter(PLOT_RH.AGB,PLOT_RH.RH25,color='orange') \n",
    "matplotlib.pyplot.scatter(PLOT_RH.AGB,PLOT_RH.RH50,color='y')\n",
    "matplotlib.pyplot.scatter(PLOT_RH.AGB,PLOT_RH.RH75,color='g')\n",
    "matplotlib.pyplot.scatter(PLOT_RH.AGB,PLOT_RH.RH100,color='b')\n",
    "matplotlib.pyplot.show()"
   ]
  },
  {
   "cell_type": "code",
   "execution_count": 37,
   "metadata": {},
   "outputs": [
    {
     "data": {
      "text/plain": [
       "<matplotlib.collections.PathCollection at 0x2019d71b9d0>"
      ]
     },
     "execution_count": 37,
     "metadata": {},
     "output_type": "execute_result"
    },
    {
     "data": {
      "image/png": "[encoded data removed]",
      "text/plain": [
       "<Figure size 432x288 with 1 Axes>"
      ]
     },
     "metadata": {
      "needs_background": "light"
     },
     "output_type": "display_data"
    }
   ],
   "source": [
    "matplotlib.pyplot.scatter(PLOT_RH.AGB,PLOT_RH.RH25,color='orange') "
   ]
  },
  {
   "cell_type": "code",
   "execution_count": 38,
   "metadata": {},
   "outputs": [
    {
     "data": {
      "text/plain": [
       "<matplotlib.collections.PathCollection at 0x2019d7738b0>"
      ]
     },
     "execution_count": 38,
     "metadata": {},
     "output_type": "execute_result"
    },
    {
     "data": {
      "image/png": "[encoded data removed]",
      "text/plain": [
       "<Figure size 432x288 with 1 Axes>"
      ]
     },
     "metadata": {
      "needs_background": "light"
     },
     "output_type": "display_data"
    }
   ],
   "source": [
    "matplotlib.pyplot.scatter(PLOT_RH.AGB,PLOT_RH.RH50,color='y')"
   ]
  },
  {
   "cell_type": "code",
   "execution_count": 39,
   "metadata": {},
   "outputs": [
    {
     "data": {
      "text/plain": [
       "<matplotlib.collections.PathCollection at 0x2019d7d71f0>"
      ]
     },
     "execution_count": 39,
     "metadata": {},
     "output_type": "execute_result"
    },
    {
     "data": {
      "image/png": "[encoded data removed]",
      "text/plain": [
       "<Figure size 432x288 with 1 Axes>"
      ]
     },
     "metadata": {
      "needs_background": "light"
     },
     "output_type": "display_data"
    }
   ],
   "source": [
    "matplotlib.pyplot.scatter(PLOT_RH.AGB,PLOT_RH.RH75,color='g')"
   ]
  },
  {
   "cell_type": "code",
   "execution_count": 40,
   "metadata": {},
   "outputs": [
    {
     "data": {
      "text/plain": [
       "<matplotlib.collections.PathCollection at 0x2019d82cd90>"
      ]
     },
     "execution_count": 40,
     "metadata": {},
     "output_type": "execute_result"
    },
    {
     "data": {
      "image/png": "[encoded data removed]",
      "text/plain": [
       "<Figure size 432x288 with 1 Axes>"
      ]
     },
     "metadata": {
      "needs_background": "light"
     },
     "output_type": "display_data"
    }
   ],
   "source": [
    "matplotlib.pyplot.scatter(PLOT_RH.AGB,PLOT_RH.RH100,color='b')"
   ]
  },
  {
   "cell_type": "code",
   "execution_count": null,
   "metadata": {},
   "outputs": [],
   "source": []
  },
  {
   "cell_type": "code",
   "execution_count": null,
   "metadata": {},
   "outputs": [],
   "source": []
  },
  {
   "cell_type": "code",
   "execution_count": null,
   "metadata": {},
   "outputs": [],
   "source": []
  },
  {
   "cell_type": "code",
   "execution_count": null,
   "metadata": {},
   "outputs": [],
   "source": []
  }
 ],
 "metadata": {
  "kernelspec": {
   "display_name": "Python 3",
   "language": "python",
   "name": "python3"
  },
  "language_info": {
   "codemirror_mode": {
    "name": "ipython",
    "version": 3
   },
   "file_extension": ".py",
   "mimetype": "text/x-python",
   "name": "python",
   "nbconvert_exporter": "python",
   "pygments_lexer": "ipython3",
   "version": "3.8.5"
  }
 },
 "nbformat": 4,
 "nbformat_minor": 4
}
